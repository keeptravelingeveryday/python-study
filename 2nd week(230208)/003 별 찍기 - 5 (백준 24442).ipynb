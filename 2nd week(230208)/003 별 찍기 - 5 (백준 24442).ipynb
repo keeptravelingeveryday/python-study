{
 "cells": [
  {
   "cell_type": "markdown",
   "id": "0557e86e",
   "metadata": {},
   "source": [
    "# 별찍기 -5 (백준 2442)\n",
    "- https://www.acmicpc.net/problem/2442"
   ]
  },
  {
   "cell_type": "markdown",
   "id": "30784f63",
   "metadata": {
    "ExecuteTime": {
     "end_time": "2023-02-06T04:39:13.786399Z",
     "start_time": "2023-02-06T04:39:13.766438Z"
    }
   },
   "source": [
    "**[문제]**\n",
    "첫째 줄에는 별 1개, 둘째 줄에는 별 3개, ..., N번째 줄에는 별 2×N-1개를 찍는 문제\n",
    "\n",
    "별은 가운데를 기준으로 대칭이어야 한다.\n",
    "\n",
    "**[입력]**\n",
    "첫째 줄에 N(1 ≤ N ≤ 100)이 주어진다.\n",
    "\n",
    "**[출력]**\n",
    "첫째 줄부터 N번째 줄까지 차례대로 별을 출력한다."
   ]
  },
  {
   "cell_type": "code",
   "execution_count": null,
   "id": "e0c1390e",
   "metadata": {},
   "outputs": [],
   "source": [
    "[예제 출력 1 ]\n",
    "\n",
    "    *\n",
    "   ***\n",
    "  *****\n",
    " *******\n",
    "*********"
   ]
  },
  {
   "cell_type": "code",
   "execution_count": 9,
   "id": "1aa6213f",
   "metadata": {
    "ExecuteTime": {
     "end_time": "2023-02-06T04:47:41.236744Z",
     "start_time": "2023-02-06T04:47:40.000877Z"
    }
   },
   "outputs": [
    {
     "name": "stdout",
     "output_type": "stream",
     "text": [
      "5\n",
      "    *\n",
      "   ***\n",
      "  *****\n",
      " *******\n",
      "*********\n"
     ]
    }
   ],
   "source": [
    "n = int(input())\n",
    "for i in range(1, int(n+1)):\n",
    "    print(' '*(n-i)+'*'*(2*i-1))"
   ]
  }
 ],
 "metadata": {
  "kernelspec": {
   "display_name": "Python 3 (ipykernel)",
   "language": "python",
   "name": "python3"
  },
  "language_info": {
   "codemirror_mode": {
    "name": "ipython",
    "version": 3
   },
   "file_extension": ".py",
   "mimetype": "text/x-python",
   "name": "python",
   "nbconvert_exporter": "python",
   "pygments_lexer": "ipython3",
   "version": "3.9.15"
  },
  "toc": {
   "base_numbering": 1,
   "nav_menu": {},
   "number_sections": true,
   "sideBar": true,
   "skip_h1_title": false,
   "title_cell": "Table of Contents",
   "title_sidebar": "Contents",
   "toc_cell": false,
   "toc_position": {},
   "toc_section_display": true,
   "toc_window_display": false
  },
  "varInspector": {
   "cols": {
    "lenName": 16,
    "lenType": 16,
    "lenVar": 40
   },
   "kernels_config": {
    "python": {
     "delete_cmd_postfix": "",
     "delete_cmd_prefix": "del ",
     "library": "var_list.py",
     "varRefreshCmd": "print(var_dic_list())"
    },
    "r": {
     "delete_cmd_postfix": ") ",
     "delete_cmd_prefix": "rm(",
     "library": "var_list.r",
     "varRefreshCmd": "cat(var_dic_list()) "
    }
   },
   "types_to_exclude": [
    "module",
    "function",
    "builtin_function_or_method",
    "instance",
    "_Feature"
   ],
   "window_display": false
  }
 },
 "nbformat": 4,
 "nbformat_minor": 5
}
