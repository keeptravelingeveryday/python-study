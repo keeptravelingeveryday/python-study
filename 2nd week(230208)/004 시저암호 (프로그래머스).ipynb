{
 "cells": [
  {
   "cell_type": "markdown",
   "id": "36109374",
   "metadata": {},
   "source": [
    "# 시저암호 (프로그래머스)\n",
    "- https://school.programmers.co.kr/learn/courses/30/lessons/12926"
   ]
  },
  {
   "cell_type": "markdown",
   "id": "d3689c1d",
   "metadata": {},
   "source": [
    "**[문제 설명]**\n",
    "\n",
    "어떤 문장의 각 알파벳을 일정한 거리만큼 밀어서 다른 알파벳으로 바꾸는 암호화 방식을 시저 암호라고 합니다. 예를 들어 \"AB\"는 1만큼 밀면 \"BC\"가 되고, 3만큼 밀면 \"DE\"가 됩니다. \"z\"는 1만큼 밀면 \"a\"가 됩니다. 문자열 s와 거리 n을 입력받아 s를 n만큼 민 암호문을 만드는 함수, solution을 완성해 보세요.\n",
    "\n",
    "**[제한 조건]**\n",
    "\n",
    "공백은 아무리 밀어도 공백입니다.\n",
    "s는 알파벳 소문자, 대문자, 공백으로만 이루어져 있습니다.\n",
    "s의 길이는 8000이하입니다.\n",
    "n은 1 이상, 25이하인 자연수입니다.\n",
    "\n",
    "**[입출력 예]**\n",
    "\n",
    "|s|\tn|\tresult|\n",
    "|-|-|-----|\n",
    "|\"AB\"|\t1\t|\"BC\"|\n",
    "|\"z\"|\t1\t|\"a\"|\n",
    "|\"a B z\"|\t4|\t\"e F d\"|"
   ]
  },
  {
   "cell_type": "code",
   "execution_count": 151,
   "id": "7369d9da",
   "metadata": {
    "ExecuteTime": {
     "end_time": "2023-02-07T04:39:34.491806Z",
     "start_time": "2023-02-07T04:39:34.470278Z"
    },
    "code_folding": []
   },
   "outputs": [],
   "source": [
    "def solution(s, n):\n",
    "    lst = []\n",
    "    for i in s:\n",
    "        a = ord(i)+n\n",
    "        if i == ' ':\n",
    "            lst.append(i)\n",
    "        elif a > 90 and ord(i) < 97: #Z를 넘어가면 A부터 거리는 n-(ord('Z')-i+1) = 65 +n-(90-i+1)\n",
    "            lst.append(chr(a-26)) #ord('a')=97이라 97을 넘지 않는 대문자를 설정  \n",
    "        elif a > 122: #z를 넘을 경우\n",
    "            lst.append(chr(a-26))\n",
    "        else:\n",
    "            lst.append(chr(a)) #n을 더해도 a~z, A~Z 사이에 있을 경우\n",
    "    return ''.join(lst)"
   ]
  },
  {
   "cell_type": "code",
   "execution_count": 160,
   "id": "64e3f3e0",
   "metadata": {
    "ExecuteTime": {
     "end_time": "2023-02-07T05:02:20.101818Z",
     "start_time": "2023-02-07T05:02:20.084829Z"
    }
   },
   "outputs": [
    {
     "data": {
      "text/plain": [
       "'e F d'"
      ]
     },
     "execution_count": 160,
     "metadata": {},
     "output_type": "execute_result"
    }
   ],
   "source": [
    "solution(\"a B z\", 4)"
   ]
  },
  {
   "cell_type": "code",
   "execution_count": 157,
   "id": "dcfbe9a1",
   "metadata": {
    "ExecuteTime": {
     "end_time": "2023-02-07T04:49:33.823216Z",
     "start_time": "2023-02-07T04:49:33.803270Z"
    }
   },
   "outputs": [
    {
     "data": {
      "text/plain": [
       "(65, 90)"
      ]
     },
     "execution_count": 157,
     "metadata": {},
     "output_type": "execute_result"
    }
   ],
   "source": [
    "ord('A'), ord('Z')"
   ]
  },
  {
   "cell_type": "code",
   "execution_count": 144,
   "id": "db7ce7e6",
   "metadata": {
    "ExecuteTime": {
     "end_time": "2023-02-07T04:35:13.025013Z",
     "start_time": "2023-02-07T04:35:13.005074Z"
    }
   },
   "outputs": [
    {
     "data": {
      "text/plain": [
       "(97, 122)"
      ]
     },
     "execution_count": 144,
     "metadata": {},
     "output_type": "execute_result"
    }
   ],
   "source": [
    "ord('a'), ord('z')"
   ]
  },
  {
   "cell_type": "code",
   "execution_count": 159,
   "id": "64f10924",
   "metadata": {
    "ExecuteTime": {
     "end_time": "2023-02-07T04:52:04.912756Z",
     "start_time": "2023-02-07T04:52:04.902785Z"
    }
   },
   "outputs": [
    {
     "data": {
      "text/plain": [
       "26"
      ]
     },
     "execution_count": 159,
     "metadata": {},
     "output_type": "execute_result"
    }
   ],
   "source": [
    "len(range(65,91))"
   ]
  }
 ],
 "metadata": {
  "kernelspec": {
   "display_name": "Python 3 (ipykernel)",
   "language": "python",
   "name": "python3"
  },
  "language_info": {
   "codemirror_mode": {
    "name": "ipython",
    "version": 3
   },
   "file_extension": ".py",
   "mimetype": "text/x-python",
   "name": "python",
   "nbconvert_exporter": "python",
   "pygments_lexer": "ipython3",
   "version": "3.9.15"
  },
  "toc": {
   "base_numbering": 1,
   "nav_menu": {},
   "number_sections": true,
   "sideBar": true,
   "skip_h1_title": false,
   "title_cell": "Table of Contents",
   "title_sidebar": "Contents",
   "toc_cell": false,
   "toc_position": {},
   "toc_section_display": true,
   "toc_window_display": false
  },
  "varInspector": {
   "cols": {
    "lenName": 16,
    "lenType": 16,
    "lenVar": 40
   },
   "kernels_config": {
    "python": {
     "delete_cmd_postfix": "",
     "delete_cmd_prefix": "del ",
     "library": "var_list.py",
     "varRefreshCmd": "print(var_dic_list())"
    },
    "r": {
     "delete_cmd_postfix": ") ",
     "delete_cmd_prefix": "rm(",
     "library": "var_list.r",
     "varRefreshCmd": "cat(var_dic_list()) "
    }
   },
   "types_to_exclude": [
    "module",
    "function",
    "builtin_function_or_method",
    "instance",
    "_Feature"
   ],
   "window_display": false
  }
 },
 "nbformat": 4,
 "nbformat_minor": 5
}
