{
 "cells": [
  {
   "cell_type": "markdown",
   "id": "fe1ca1d2",
   "metadata": {},
   "source": [
    "# 비밀지도 (프로그래머스)\n",
    "- https://school.programmers.co.kr/learn/courses/30/lessons/17681 "
   ]
  },
  {
   "cell_type": "markdown",
   "id": "b10929a0",
   "metadata": {},
   "source": [
    "**[문제 설명]**\n",
    "\n",
    "비밀지도\n",
    "네오는 평소 프로도가 비상금을 숨겨놓는 장소를 알려줄 비밀지도를 손에 넣었다. 그런데 이 비밀지도는 숫자로 암호화되어 있어 위치를 확인하기 위해서는 암호를 해독해야 한다. 다행히 지도 암호를 해독할 방법을 적어놓은 메모도 함께 발견했다.\n",
    "\n",
    "지도는 한 변의 길이가 n인 정사각형 배열 형태로, 각 칸은 \"공백\"(\" \") 또는 \"벽\"(\"#\") 두 종류로 이루어져 있다.\n",
    "전체 지도는 두 장의 지도를 겹쳐서 얻을 수 있다. 각각 \"지도 1\"과 \"지도 2\"라고 하자. 지도 1 또는 지도 2 중 어느 하나라도 벽인 부분은 전체 지도에서도 벽이다. 지도 1과 지도 2에서 모두 공백인 부분은 전체 지도에서도 공백이다.\n",
    "\"지도 1\"과 \"지도 2\"는 각각 정수 배열로 암호화되어 있다.\n",
    "암호화된 배열은 지도의 각 가로줄에서 벽 부분을 1, 공백 부분을 0으로 부호화했을 때 얻어지는 이진수에 해당하는 값의 배열이다.\n",
    "secret map\n",
    "\n",
    "네오가 프로도의 비상금을 손에 넣을 수 있도록, 비밀지도의 암호를 해독하는 작업을 도와줄 프로그램을 작성하라.\n",
    "\n",
    "**[입력 형식]**\n",
    "\n",
    "입력으로 지도의 한 변 크기 n 과 2개의 정수 배열 arr1, arr2가 들어온다.\n",
    "\n",
    "1 ≦ n ≦ 16\n",
    "arr1, arr2는 길이 n인 정수 배열로 주어진다.\n",
    "정수 배열의 각 원소 x를 이진수로 변환했을 때의 길이는 n 이하이다. 즉, 0 ≦ x ≦ 2n - 1을 만족한다.\n",
    "\n",
    "**[출력 형식]**\n",
    "\n",
    "원래의 비밀지도를 해독하여 '#', 공백으로 구성된 문자열 배열로 출력하라.\n",
    "\n",
    "**[입출력 예제]**\n",
    "\n",
    "|매개변수|\t값|\n",
    "|----|--|\n",
    "|n|\t5|\n",
    "|arr1|\t[9, 20, 28, 18, 11]|\n",
    "|arr2|\t[30, 1, 21, 17, 28]|\n",
    "|출력|\t[\"#####\",\"# # #\", \"### #\", \"# ##\", \"#####\"]|"
   ]
  },
  {
   "cell_type": "code",
   "execution_count": null,
   "id": "cbca2994",
   "metadata": {},
   "outputs": [],
   "source": [
    "#내풀이\n",
    "def solution(n, arr1, arr2):\n",
    "    lst=[]\n",
    "    lst2=[]\n",
    "    for a, b in zip(arr1, arr2):\n",
    "        print(a,b)\n",
    "        \n",
    "        for idx, (a1, b1) in enumerate(zip('0'*(n-len(format(a, 'b')))+format(a, 'b'),\n",
    "                                           '0'*(n-len(format(b, 'b')))+format(b, 'b'))):\n",
    "            print(idx, a1, b1)\n",
    "            if int(a1) + int(b1) == 0: #둘다 0이면 공백\n",
    "                lst.append(' ')\n",
    "            if int(a1) + int(b1) >= 1: #더해서 1이상이면 '#'\n",
    "                lst.append('#')\n",
    "    for num in range(1,n+1):\n",
    "        lst2.append(''.join(lst[n*(num-1):n*num])) #lst의 n개씩의 문자열 간격으로 통합해서 새로운 리스트에 추가.\n",
    "    return lst2"
   ]
  },
  {
   "cell_type": "code",
   "execution_count": 90,
   "id": "1d3bcec4",
   "metadata": {
    "ExecuteTime": {
     "end_time": "2023-02-07T15:44:07.005194Z",
     "start_time": "2023-02-07T15:44:06.992983Z"
    },
    "code_folding": [],
    "scrolled": true
   },
   "outputs": [
    {
     "name": "stdout",
     "output_type": "stream",
     "text": [
      "9 30\n",
      "0 0 1\n",
      "1 1 1\n",
      "2 0 1\n",
      "3 0 1\n",
      "4 1 0\n",
      "20 1\n",
      "0 1 0\n",
      "1 0 0\n",
      "2 1 0\n",
      "3 0 0\n",
      "4 0 1\n",
      "28 21\n",
      "0 1 1\n",
      "1 1 0\n",
      "2 1 1\n",
      "3 0 0\n",
      "4 0 1\n",
      "18 17\n",
      "0 1 1\n",
      "1 0 0\n",
      "2 0 0\n",
      "3 1 0\n",
      "4 0 1\n",
      "11 28\n",
      "0 0 1\n",
      "1 1 1\n",
      "2 0 1\n",
      "3 1 0\n",
      "4 1 0\n",
      "['#', '#', '#', '#', '#', '#', ' ', '#', ' ', '#', '#', '#', '#', ' ', '#', '#', ' ', ' ', '#', '#', '#', '#', '#', '#', '#']\n",
      "['#####', '# # #', '### #', '#  ##', '#####']\n"
     ]
    }
   ],
   "source": [
    "n=5 \n",
    "arr1 = [9, 20, 28, 18, 11] #배열 안에 문자열이 있는 2차원배열\n",
    "arr2 = [30, 1, 21, 17, 28]\n",
    "lst=[]\n",
    "lst2=[]\n",
    "for a, b in zip(arr1, arr2):\n",
    "    print(a,b)\n",
    "    \n",
    "    for idx, (a1, b1) in enumerate(zip('0'*(n-len(format(a, 'b')))+format(a, 'b'),\n",
    "                                       '0'*(n-len(format(b, 'b')))+format(b, 'b'))):\n",
    "        print(idx, a1, b1)\n",
    "        if int(a1) + int(b1) == 0: #둘다 0이면 공백\n",
    "            lst.append(' ')\n",
    "        if int(a1) + int(b1) >= 1: #더해서 1이상이면 '#'\n",
    "            lst.append('#')\n",
    "print(lst)\n",
    "for num in range(1,n+1):\n",
    "    lst2.append(''.join(lst[n*(num-1):n*num])) #lst의 n개씩의 문자열 간격으로 통합해서 새로운 리스트에 추가.\n",
    "print(lst2)"
   ]
  },
  {
   "cell_type": "code",
   "execution_count": null,
   "id": "fe1d954e",
   "metadata": {},
   "outputs": [],
   "source": [
    "#모범답안\n",
    "def solution(n, arr1, arr2):\n",
    "    answer = []\n",
    "    for i,j in zip(arr1,arr2):\n",
    "        a12 = bin(i|j)[2:] #|합집합 연산자 앞에 두글자 제외하고  \n",
    "        a12=a12.rjust(n,'0') #오른쪽 정렬 후 (자릿수, 공백을 채울 문자)\n",
    "        a12=a12.replace('1','#') #각 자리 별로 문자 변경해줌\n",
    "        a12=a12.replace('0',' ')\n",
    "        answer.append(a12)\n",
    "    return answer"
   ]
  },
  {
   "cell_type": "code",
   "execution_count": 94,
   "id": "c3ce2b1a",
   "metadata": {
    "ExecuteTime": {
     "end_time": "2023-02-07T15:52:35.466153Z",
     "start_time": "2023-02-07T15:52:35.457678Z"
    }
   },
   "outputs": [
    {
     "data": {
      "text/plain": [
       "'11111'"
      ]
     },
     "execution_count": 94,
     "metadata": {},
     "output_type": "execute_result"
    }
   ],
   "source": [
    "bin(9|30)[2:]"
   ]
  },
  {
   "cell_type": "code",
   "execution_count": 95,
   "id": "8d44fdca",
   "metadata": {
    "ExecuteTime": {
     "end_time": "2023-02-07T15:52:42.760878Z",
     "start_time": "2023-02-07T15:52:42.744951Z"
    }
   },
   "outputs": [
    {
     "data": {
      "text/plain": [
       "31"
      ]
     },
     "execution_count": 95,
     "metadata": {},
     "output_type": "execute_result"
    }
   ],
   "source": [
    "9|30"
   ]
  },
  {
   "cell_type": "code",
   "execution_count": 88,
   "id": "72dc6ad3",
   "metadata": {
    "ExecuteTime": {
     "end_time": "2023-02-07T15:26:35.125733Z",
     "start_time": "2023-02-07T15:26:35.114163Z"
    }
   },
   "outputs": [
    {
     "data": {
      "text/plain": [
       "('0b1001', '0b11110')"
      ]
     },
     "execution_count": 88,
     "metadata": {},
     "output_type": "execute_result"
    }
   ],
   "source": [
    "bin(9), bin(30)"
   ]
  },
  {
   "cell_type": "code",
   "execution_count": 40,
   "id": "952de8be",
   "metadata": {
    "ExecuteTime": {
     "end_time": "2023-02-07T10:22:34.719585Z",
     "start_time": "2023-02-07T10:22:34.711669Z"
    }
   },
   "outputs": [
    {
     "data": {
      "text/plain": [
       "'10100'"
      ]
     },
     "execution_count": 40,
     "metadata": {},
     "output_type": "execute_result"
    }
   ],
   "source": [
    "n=5\n",
    "'0'*((n)-len(format(20, 'b')))+format(20, 'b')"
   ]
  },
  {
   "cell_type": "code",
   "execution_count": 73,
   "id": "5a5c98e4",
   "metadata": {
    "ExecuteTime": {
     "end_time": "2023-02-07T11:07:19.978538Z",
     "start_time": "2023-02-07T11:07:19.963004Z"
    }
   },
   "outputs": [
    {
     "data": {
      "text/plain": [
       "('10010', '10001')"
      ]
     },
     "execution_count": 73,
     "metadata": {},
     "output_type": "execute_result"
    }
   ],
   "source": [
    "format(18, 'b'),format(17, 'b')"
   ]
  }
 ],
 "metadata": {
  "kernelspec": {
   "display_name": "Python 3 (ipykernel)",
   "language": "python",
   "name": "python3"
  },
  "language_info": {
   "codemirror_mode": {
    "name": "ipython",
    "version": 3
   },
   "file_extension": ".py",
   "mimetype": "text/x-python",
   "name": "python",
   "nbconvert_exporter": "python",
   "pygments_lexer": "ipython3",
   "version": "3.9.13"
  },
  "toc": {
   "base_numbering": 1,
   "nav_menu": {},
   "number_sections": true,
   "sideBar": true,
   "skip_h1_title": false,
   "title_cell": "Table of Contents",
   "title_sidebar": "Contents",
   "toc_cell": false,
   "toc_position": {},
   "toc_section_display": true,
   "toc_window_display": false
  },
  "varInspector": {
   "cols": {
    "lenName": 16,
    "lenType": 16,
    "lenVar": 40
   },
   "kernels_config": {
    "python": {
     "delete_cmd_postfix": "",
     "delete_cmd_prefix": "del ",
     "library": "var_list.py",
     "varRefreshCmd": "print(var_dic_list())"
    },
    "r": {
     "delete_cmd_postfix": ") ",
     "delete_cmd_prefix": "rm(",
     "library": "var_list.r",
     "varRefreshCmd": "cat(var_dic_list()) "
    }
   },
   "types_to_exclude": [
    "module",
    "function",
    "builtin_function_or_method",
    "instance",
    "_Feature"
   ],
   "window_display": false
  }
 },
 "nbformat": 4,
 "nbformat_minor": 5
}
