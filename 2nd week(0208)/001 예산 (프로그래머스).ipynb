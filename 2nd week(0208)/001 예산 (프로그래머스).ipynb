{
 "cells": [
  {
   "cell_type": "markdown",
   "id": "6f45c218",
   "metadata": {},
   "source": [
    "# 예산\n",
    "\n",
    "- https://school.programmers.co.kr/learn/courses/30/lessons/12982"
   ]
  },
  {
   "cell_type": "markdown",
   "id": "d299f213",
   "metadata": {},
   "source": [
    "**[문제 설명]**\n",
    "S사에서는 각 부서에 필요한 물품을 지원해 주기 위해 부서별로 물품을 구매하는데 필요한 금액을 조사했습니다. 그러나, 전체 예산이 정해져 있기 때문에 모든 부서의 물품을 구매해 줄 수는 없습니다. 그래서 최대한 많은 부서의 물품을 구매해 줄 수 있도록 하려고 합니다.\n",
    "\n",
    "물품을 구매해 줄 때는 각 부서가 신청한 금액만큼을 모두 지원해 줘야 합니다. 예를 들어 1,000원을 신청한 부서에는 정확히 1,000원을 지원해야 하며, 1,000원보다 적은 금액을 지원해 줄 수는 없습니다.\n",
    "\n",
    "부서별로 신청한 금액이 들어있는 배열 d와 예산 budget이 매개변수로 주어질 때, 최대 몇 개의 부서에 물품을 지원할 수 있는지 return 하도록 solution 함수를 완성해주세요.\n",
    "\n",
    "**[제한사항]**\n",
    "d는 부서별로 신청한 금액이 들어있는 배열이며, 길이(전체 부서의 개수)는 1 이상 100 이하입니다.\n",
    "d의 각 원소는 부서별로 신청한 금액을 나타내며, 부서별 신청 금액은 1 이상 100,000 이하의 자연수입니다.\n",
    "budget은 예산을 나타내며, 1 이상 10,000,000 이하의 자연수입니다.\n",
    "\n",
    "**[입출력 예]**\n",
    "\n",
    "|d\t|budget\t|result|\n",
    "|---|-------|------|\n",
    "|[1,3,2,5,4]\t|9|\t3|\n",
    "|[2,2,3,3]\t|10|4|"
   ]
  },
  {
   "cell_type": "code",
   "execution_count": 11,
   "id": "057289fe",
   "metadata": {
    "ExecuteTime": {
     "end_time": "2023-02-06T01:00:30.928769Z",
     "start_time": "2023-02-06T01:00:30.913809Z"
    }
   },
   "outputs": [],
   "source": [
    "def solution(d, budget): #d의 총 합이 9보다는 작고 개수는 최대인 리스트\n",
    "    d = sorted(d)\n",
    "    lst = []\n",
    "    for i in d:\n",
    "        budget = budget - i \n",
    "        if budget >= 0:\n",
    "            lst.append(i)\n",
    "    return len(lst)"
   ]
  }
 ],
 "metadata": {
  "kernelspec": {
   "display_name": "Python 3 (ipykernel)",
   "language": "python",
   "name": "python3"
  },
  "language_info": {
   "codemirror_mode": {
    "name": "ipython",
    "version": 3
   },
   "file_extension": ".py",
   "mimetype": "text/x-python",
   "name": "python",
   "nbconvert_exporter": "python",
   "pygments_lexer": "ipython3",
   "version": "3.9.15"
  },
  "toc": {
   "base_numbering": 1,
   "nav_menu": {},
   "number_sections": true,
   "sideBar": true,
   "skip_h1_title": false,
   "title_cell": "Table of Contents",
   "title_sidebar": "Contents",
   "toc_cell": false,
   "toc_position": {},
   "toc_section_display": true,
   "toc_window_display": false
  },
  "varInspector": {
   "cols": {
    "lenName": 16,
    "lenType": 16,
    "lenVar": 40
   },
   "kernels_config": {
    "python": {
     "delete_cmd_postfix": "",
     "delete_cmd_prefix": "del ",
     "library": "var_list.py",
     "varRefreshCmd": "print(var_dic_list())"
    },
    "r": {
     "delete_cmd_postfix": ") ",
     "delete_cmd_prefix": "rm(",
     "library": "var_list.r",
     "varRefreshCmd": "cat(var_dic_list()) "
    }
   },
   "types_to_exclude": [
    "module",
    "function",
    "builtin_function_or_method",
    "instance",
    "_Feature"
   ],
   "window_display": false
  }
 },
 "nbformat": 4,
 "nbformat_minor": 5
}
