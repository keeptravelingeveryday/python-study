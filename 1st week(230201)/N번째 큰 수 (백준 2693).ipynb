{
 "cells": [
  {
   "cell_type": "markdown",
   "id": "ccb0c8d1",
   "metadata": {},
   "source": [
    "# N번째 큰 수(백준 2693)\n",
    "- https://www.acmicpc.net/problem/2693"
   ]
  },
  {
   "cell_type": "markdown",
   "id": "5e2c3afc",
   "metadata": {},
   "source": [
    "**[문제]**\n",
    "배열 A가 주어졌을 때, N번째 큰 값을 출력하는 프로그램을 작성하시오.\n",
    "\n",
    "배열 A의 크기는 항상 10이고, 자연수만 가지고 있다. N은 항상 3이다.\n",
    "\n",
    "**[입력]**\n",
    "첫째 줄에 테스트 케이스의 개수 T(1 ≤ T ≤ 1,000)가 주어진다. 각 테스트 케이스는 한 줄로 이루어져 있고, 배열 A의 원소 10개가 공백으로 구분되어 주어진다. 이 원소는 1보다 크거나 같고, 1,000보다 작거나 같은 자연수이다.\n",
    "\n",
    "**[출력]**\n",
    "각 테스트 케이스에 대해 한 줄에 하나씩 배열 A에서 3번째 큰 값을 출력한다."
   ]
  },
  {
   "cell_type": "code",
   "execution_count": null,
   "id": "a161d444",
   "metadata": {},
   "outputs": [],
   "source": [
    "# # 예제 입력값\n",
    "# # 4\n",
    "# # 1 2 3 4 5 6 7 8 9 1000\n",
    "# # 338 304 619 95 343 496 489 116 98 127\n",
    "# # 931 240 986 894 826 640 965 833 136 138\n",
    "# # 940 955 364 188 133 254 501 122 768 408\n",
    "\n",
    "# 8\n",
    "# 489\n",
    "# 931\n",
    "# 768"
   ]
  },
  {
   "cell_type": "code",
   "execution_count": 80,
   "id": "019ce0e7",
   "metadata": {
    "ExecuteTime": {
     "end_time": "2023-02-01T08:39:22.762661Z",
     "start_time": "2023-02-01T08:39:05.220381Z"
    },
    "scrolled": true
   },
   "outputs": [
    {
     "name": "stdout",
     "output_type": "stream",
     "text": [
      "2\n",
      "1 2 3 4 5 6 7 8 9 1000\n",
      "8\n",
      "338 304 619 95 343 496 489 116 98 127\n",
      "489\n"
     ]
    }
   ],
   "source": [
    "#배열 A가 입력될 때 10개에 한 줄씩 띄어서 입력됨. \n",
    "\n",
    "T = int(str(input())) #T는 반복 횟수로 먼저 입력 받음.\n",
    "N=3\n",
    "if T >= 1 and T <= 1000: \n",
    "    for i in range(T): #반복 횟수를 for문 속 range로 설정\n",
    "        A = str(input()).split() #인풋값을 string타입으로 변경해 공백을 기준으로 A를 설정\n",
    "        print(sorted(map(int, A))[-(N) % 10]) #map함수로 A를 오름차순배열로 만들어주고 10개로 끊어서 인덱싱을 한다."
   ]
  },
  {
   "cell_type": "code",
   "execution_count": 75,
   "id": "4205dcd6",
   "metadata": {
    "ExecuteTime": {
     "end_time": "2023-02-01T08:33:04.103210Z",
     "start_time": "2023-02-01T08:32:57.994691Z"
    }
   },
   "outputs": [
    {
     "name": "stdout",
     "output_type": "stream",
     "text": [
      "338 304 619 95 343 496 489 116 98 127\n",
      "['1', '1000', '2', '3', '4', '5', '6', '7', '8', '9']\n",
      "489\n"
     ]
    }
   ],
   "source": [
    "A = str(input()).split()\n",
    "# print(type(A))\n",
    "# a = [x for x in A]\n",
    "print(sorted(a))\n",
    "b = sorted(map(int, A))[-3 % 10]\n",
    "print(b)\n",
    "# print(list(map(int, sorted(a)))[-2 % 10])"
   ]
  }
 ],
 "metadata": {
  "kernelspec": {
   "display_name": "Python 3 (ipykernel)",
   "language": "python",
   "name": "python3"
  },
  "language_info": {
   "codemirror_mode": {
    "name": "ipython",
    "version": 3
   },
   "file_extension": ".py",
   "mimetype": "text/x-python",
   "name": "python",
   "nbconvert_exporter": "python",
   "pygments_lexer": "ipython3",
   "version": "3.9.15"
  },
  "toc": {
   "base_numbering": 1,
   "nav_menu": {},
   "number_sections": true,
   "sideBar": true,
   "skip_h1_title": false,
   "title_cell": "Table of Contents",
   "title_sidebar": "Contents",
   "toc_cell": false,
   "toc_position": {},
   "toc_section_display": true,
   "toc_window_display": false
  },
  "varInspector": {
   "cols": {
    "lenName": 16,
    "lenType": 16,
    "lenVar": 40
   },
   "kernels_config": {
    "python": {
     "delete_cmd_postfix": "",
     "delete_cmd_prefix": "del ",
     "library": "var_list.py",
     "varRefreshCmd": "print(var_dic_list())"
    },
    "r": {
     "delete_cmd_postfix": ") ",
     "delete_cmd_prefix": "rm(",
     "library": "var_list.r",
     "varRefreshCmd": "cat(var_dic_list()) "
    }
   },
   "types_to_exclude": [
    "module",
    "function",
    "builtin_function_or_method",
    "instance",
    "_Feature"
   ],
   "window_display": false
  }
 },
 "nbformat": 4,
 "nbformat_minor": 5
}
