{
 "cells": [
  {
   "cell_type": "markdown",
   "id": "a497f42c",
   "metadata": {},
   "source": [
    "# 2016년 (프로그래머스 lv1)\n",
    "- https://school.programmers.co.kr/learn/courses/30/lessons/12901"
   ]
  },
  {
   "cell_type": "markdown",
   "id": "992e3223",
   "metadata": {},
   "source": [
    "**[문제 설명]**\n",
    "\n",
    "2016년 1월 1일은 금요일입니다. 2016년 a월 b일은 무슨 요일일까요? 두 수 a ,b를 입력받아 2016년 a월 b일이 무슨 요일인지 리턴하는 함수, solution을 완성하세요. 요일의 이름은 일요일부터 토요일까지 각각 SUN,MON,TUE,WED,THU,FRI,SAT입니다. 예를 들어 a=5, b=24라면 5월 24일은 화요일이므로 문자열 \"TUE\"를 반환하세요.\n",
    "\n",
    "**[제한 조건]**\n",
    "\n",
    "2016년은 윤년입니다.\n",
    "2016년 a월 b일은 실제로 있는 날입니다. (13월 26일이나 2월 45일같은 날짜는 주어지지 않습니다)"
   ]
  },
  {
   "cell_type": "markdown",
   "id": "fce42d70",
   "metadata": {},
   "source": [
    "[내풀이]"
   ]
  },
  {
   "cell_type": "code",
   "execution_count": null,
   "id": "b8079315",
   "metadata": {},
   "outputs": [],
   "source": [
    "# a-1월 전월의 마지막날 요일 의 다음 날이 1일의 요일 a-1월의 전체 일수를 더해서 2월 1일 경우 (31+ 1) % 7 = 4 \n",
    "#  weekdays[(b % 7) -1] #b일의 요일\n",
    "\n",
    "def solution(a, b):\n",
    "    weekdays = [\"FRI\",\"SAT\",\"SUN\",\"MON\",\"TUE\",\"WED\",\"THU\"]\n",
    "    days_31 = [1,3,5,7,8,10,12]\n",
    "    days_30 = [4,6,9,11]\n",
    "    days=0\n",
    "    for i in range(1,a): #1부터 a월의 전월까지 반복\n",
    "        if i in days_31:\n",
    "            days+=31\n",
    "        elif i in days_30:\n",
    "            days+=30\n",
    "        else:\n",
    "            days+=29\n",
    "    return weekdays[int((days + b) % 7 -1)]           \n",
    "\n",
    "solution(5,24)"
   ]
  }
 ],
 "metadata": {
  "kernelspec": {
   "display_name": "Python 3 (ipykernel)",
   "language": "python",
   "name": "python3"
  },
  "language_info": {
   "codemirror_mode": {
    "name": "ipython",
    "version": 3
   },
   "file_extension": ".py",
   "mimetype": "text/x-python",
   "name": "python",
   "nbconvert_exporter": "python",
   "pygments_lexer": "ipython3",
   "version": "3.9.13"
  },
  "toc": {
   "base_numbering": 1,
   "nav_menu": {},
   "number_sections": true,
   "sideBar": true,
   "skip_h1_title": false,
   "title_cell": "Table of Contents",
   "title_sidebar": "Contents",
   "toc_cell": false,
   "toc_position": {},
   "toc_section_display": true,
   "toc_window_display": false
  },
  "varInspector": {
   "cols": {
    "lenName": 16,
    "lenType": 16,
    "lenVar": 40
   },
   "kernels_config": {
    "python": {
     "delete_cmd_postfix": "",
     "delete_cmd_prefix": "del ",
     "library": "var_list.py",
     "varRefreshCmd": "print(var_dic_list())"
    },
    "r": {
     "delete_cmd_postfix": ") ",
     "delete_cmd_prefix": "rm(",
     "library": "var_list.r",
     "varRefreshCmd": "cat(var_dic_list()) "
    }
   },
   "types_to_exclude": [
    "module",
    "function",
    "builtin_function_or_method",
    "instance",
    "_Feature"
   ],
   "window_display": false
  }
 },
 "nbformat": 4,
 "nbformat_minor": 5
}
