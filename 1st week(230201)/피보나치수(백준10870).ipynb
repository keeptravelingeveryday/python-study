{
 "cells": [
  {
   "cell_type": "markdown",
   "id": "9d57014f",
   "metadata": {},
   "source": [
    "# 피보나치 수 (백준 10870)\n",
    "- https://www.acmicpc.net/problem/10870"
   ]
  },
  {
   "cell_type": "markdown",
   "id": "352e122e",
   "metadata": {
    "ExecuteTime": {
     "end_time": "2023-02-01T00:14:00.417942Z",
     "start_time": "2023-02-01T00:14:00.396000Z"
    }
   },
   "source": [
    "피보나치 수는 0과 1로 시작한다. 0번째 피보나치 수는 0이고, 1번째 피보나치 수는 1이다. 그 다음 2번째 부터는 바로 앞 두 피보나치 수의 합이 된다.\n",
    "\n",
    "이를 식으로 써보면 Fn = Fn-1 + Fn-2 (n ≥ 2)가 된다.\n",
    "\n",
    "n=17일때 까지 피보나치 수를 써보면 다음과 같다.\n",
    "\n",
    "0, 1, 1, 2, 3, 5, 8, 13, 21, 34, 55, 89, 144, 233, 377, 610, 987, 1597\n",
    "\n",
    "n이 주어졌을 때, n번째 피보나치 수를 구하는 프로그램을 작성하시오."
   ]
  },
  {
   "cell_type": "code",
   "execution_count": null,
   "id": "0c68df61",
   "metadata": {},
   "outputs": [],
   "source": [
    "# n번째 수까지의 합 = n+2번째 수 - 1\n",
    "sum()=F_{n+2}-1\n",
    "x = 1\n",
    "for n in range(1,n):\n",
    "    n+=n\n",
    "    print(n)\n"
   ]
  },
  {
   "cell_type": "code",
   "execution_count": 37,
   "id": "1e167ec9",
   "metadata": {
    "ExecuteTime": {
     "end_time": "2023-02-01T03:12:55.666227Z",
     "start_time": "2023-02-01T03:12:54.682234Z"
    }
   },
   "outputs": [
    {
     "name": "stdout",
     "output_type": "stream",
     "text": [
      "10\n",
      "55\n"
     ]
    }
   ],
   "source": [
    "# 0, 1, 1, 2, 3, 5, 8, 13, 21, 34, 55, 89, 144, 233, 377, 610, 987, 1597\n",
    "def fibo(n):\n",
    "    p = [0, 1] \n",
    "    for i in range(2,n+1): #n=0일 때 n번째 피보나치수는 0을 표현해야함. \n",
    "        a = p[i-1] + p[i-2]\n",
    "        p.append(a)\n",
    "    return(p[-1] if n != 0 else p[0])\n",
    "\n",
    "n = int(input())\n",
    "print(fibo(n))"
   ]
  }
 ],
 "metadata": {
  "kernelspec": {
   "display_name": "Python 3 (ipykernel)",
   "language": "python",
   "name": "python3"
  },
  "language_info": {
   "codemirror_mode": {
    "name": "ipython",
    "version": 3
   },
   "file_extension": ".py",
   "mimetype": "text/x-python",
   "name": "python",
   "nbconvert_exporter": "python",
   "pygments_lexer": "ipython3",
   "version": "3.9.15"
  },
  "toc": {
   "base_numbering": 1,
   "nav_menu": {},
   "number_sections": true,
   "sideBar": true,
   "skip_h1_title": false,
   "title_cell": "Table of Contents",
   "title_sidebar": "Contents",
   "toc_cell": false,
   "toc_position": {},
   "toc_section_display": true,
   "toc_window_display": false
  },
  "varInspector": {
   "cols": {
    "lenName": 16,
    "lenType": 16,
    "lenVar": 40
   },
   "kernels_config": {
    "python": {
     "delete_cmd_postfix": "",
     "delete_cmd_prefix": "del ",
     "library": "var_list.py",
     "varRefreshCmd": "print(var_dic_list())"
    },
    "r": {
     "delete_cmd_postfix": ") ",
     "delete_cmd_prefix": "rm(",
     "library": "var_list.r",
     "varRefreshCmd": "cat(var_dic_list()) "
    }
   },
   "types_to_exclude": [
    "module",
    "function",
    "builtin_function_or_method",
    "instance",
    "_Feature"
   ],
   "window_display": false
  }
 },
 "nbformat": 4,
 "nbformat_minor": 5
}
