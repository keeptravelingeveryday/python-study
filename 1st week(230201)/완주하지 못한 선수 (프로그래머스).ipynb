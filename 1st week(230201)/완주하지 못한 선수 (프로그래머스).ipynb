{
 "cells": [
  {
   "cell_type": "markdown",
   "id": "4f5ba4d6",
   "metadata": {},
   "source": [
    "## 완주하지 못한 선수 (프로그래머스 lv1)\n",
    "- https://school.programmers.co.kr/learn/courses/30/lessons/42576"
   ]
  },
  {
   "cell_type": "markdown",
   "id": "43018b2d",
   "metadata": {
    "ExecuteTime": {
     "end_time": "2023-01-31T18:45:23.608442Z",
     "start_time": "2023-01-31T18:45:23.600806Z"
    }
   },
   "source": [
    "**[문제 설명]**\n",
    "\n",
    "수많은 마라톤 선수들이 마라톤에 참여하였습니다. 단 한 명의 선수를 제외하고는 모든 선수가 마라톤을 완주하였습니다.\n",
    "\n",
    "마라톤에 참여한 선수들의 이름이 담긴 배열 participant와 완주한 선수들의 이름이 담긴 배열 completion이 주어질 때, 완주하지 못한 선수의 이름을 return 하도록 solution 함수를 작성해주세요.\n",
    "\n",
    "**[제한 사항]**\n",
    "\n",
    "마라톤 경기에 참여한 선수의 수는 1명 이상 100,000명 이하입니다.\n",
    "completion의 길이는 participant의 길이보다 1 작습니다.\n",
    "참가자의 이름은 1개 이상 20개 이하의 알파벳 소문자로 이루어져 있습니다.\n",
    "참가자 중에는 동명이인이 있을 수 있습니다."
   ]
  },
  {
   "cell_type": "code",
   "execution_count": 3,
   "id": "6ce89ba2",
   "metadata": {
    "ExecuteTime": {
     "end_time": "2023-01-31T18:54:31.155758Z",
     "start_time": "2023-01-31T18:54:31.133521Z"
    }
   },
   "outputs": [],
   "source": [
    "def solution(P, C):\n",
    "    answer = ''\n",
    "    from collections import Counter #카운터함수로 참가자와 완주자 각각 명수를 구한다\n",
    "    p = Counter(P)\n",
    "    c = Counter(C)\n",
    "\n",
    "    for key in p:\n",
    "        if p[key] != c[key]: #참가자와 완주자의 명수가 같지 않으면 완주 못한사람이 된다.\n",
    "            answer = key\n",
    "\n",
    "    return answer"
   ]
  },
  {
   "cell_type": "code",
   "execution_count": 4,
   "id": "0b63df01",
   "metadata": {
    "ExecuteTime": {
     "end_time": "2023-01-31T18:54:32.984872Z",
     "start_time": "2023-01-31T18:54:32.967890Z"
    }
   },
   "outputs": [
    {
     "data": {
      "text/plain": [
       "'mislav'"
      ]
     },
     "execution_count": 4,
     "metadata": {},
     "output_type": "execute_result"
    }
   ],
   "source": [
    "solution([\"mislav\", \"stanko\", \"mislav\", \"ana\"],[\"stanko\", \"ana\", \"mislav\"])"
   ]
  }
 ],
 "metadata": {
  "kernelspec": {
   "display_name": "Python 3 (ipykernel)",
   "language": "python",
   "name": "python3"
  },
  "language_info": {
   "codemirror_mode": {
    "name": "ipython",
    "version": 3
   },
   "file_extension": ".py",
   "mimetype": "text/x-python",
   "name": "python",
   "nbconvert_exporter": "python",
   "pygments_lexer": "ipython3",
   "version": "3.9.13"
  },
  "toc": {
   "base_numbering": 1,
   "nav_menu": {},
   "number_sections": true,
   "sideBar": true,
   "skip_h1_title": false,
   "title_cell": "Table of Contents",
   "title_sidebar": "Contents",
   "toc_cell": false,
   "toc_position": {},
   "toc_section_display": true,
   "toc_window_display": false
  },
  "varInspector": {
   "cols": {
    "lenName": 16,
    "lenType": 16,
    "lenVar": 40
   },
   "kernels_config": {
    "python": {
     "delete_cmd_postfix": "",
     "delete_cmd_prefix": "del ",
     "library": "var_list.py",
     "varRefreshCmd": "print(var_dic_list())"
    },
    "r": {
     "delete_cmd_postfix": ") ",
     "delete_cmd_prefix": "rm(",
     "library": "var_list.r",
     "varRefreshCmd": "cat(var_dic_list()) "
    }
   },
   "types_to_exclude": [
    "module",
    "function",
    "builtin_function_or_method",
    "instance",
    "_Feature"
   ],
   "window_display": false
  }
 },
 "nbformat": 4,
 "nbformat_minor": 5
}
