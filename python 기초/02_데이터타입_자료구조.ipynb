{
 "cells": [
  {
   "cell_type": "markdown",
   "metadata": {
    "slideshow": {
     "slide_type": "slide"
    }
   },
   "source": [
    "# 변수와 함수/연산자"
   ]
  },
  {
   "cell_type": "markdown",
   "metadata": {
    "slideshow": {
     "slide_type": "fragment"
    }
   },
   "source": [
    "<strong style='color:red;font-size:1.5em'>프로그램이 하는 일</strong>\n",
    "<p>\n",
    "<span style=\"font-size:1.2em\">- 정보(데이터)를 처리한다.</span>  \n",
    "    "
   ]
  },
  {
   "cell_type": "markdown",
   "metadata": {
    "slideshow": {
     "slide_type": "fragment"
    }
   },
   "source": [
    "- <b style='font-size:1.2em'>정보(데이터)</b>: **변수(Variable)와 값(Value)** 로 프로그램에 표현한다.\n",
    "- <b style='font-size:1.2em'>처리한다</b>: **연산자(Operator)와 함수(Function)** 으로 프로그램에 표현한다.\n",
    "    \n",
    "> 표현(Expression): 어떤 것을 코드에 작성하는 방법을 표현(Expression)이라고 한다.  \n",
    "> 예를 들어 프로그램에 숫자 십을 표현할 때 `10` 이라고 한다. 이런 것을 정수의 표현/표현식 이라고 한다."
   ]
  },
  {
   "cell_type": "code",
   "execution_count": 1,
   "metadata": {},
   "outputs": [
    {
     "name": "stdout",
     "output_type": "stream",
     "text": [
      "Collecting jupyter_contrib_nbextensions\n",
      "  Downloading jupyter_contrib_nbextensions-0.7.0.tar.gz (23.5 MB)\n",
      "\u001b[2K     \u001b[90m━━━━━━━━━━━━━━━━━━━━━━━━━━━━━━━━━━━━━━━━\u001b[0m \u001b[32m23.5/23.5 MB\u001b[0m \u001b[31m9.5 MB/s\u001b[0m eta \u001b[36m0:00:00\u001b[0m:00:01\u001b[0m00:01\u001b[0m\n",
      "\u001b[?25h  Preparing metadata (setup.py) ... \u001b[?25ldone\n",
      "\u001b[?25hRequirement already satisfied: ipython_genutils in /Users/sejoon/opt/anaconda3/lib/python3.9/site-packages (from jupyter_contrib_nbextensions) (0.2.0)\n",
      "Collecting jupyter_contrib_core>=0.3.3\n",
      "  Downloading jupyter_contrib_core-0.4.2.tar.gz (17 kB)\n",
      "  Preparing metadata (setup.py) ... \u001b[?25ldone\n",
      "\u001b[?25hRequirement already satisfied: jupyter_core in /Users/sejoon/opt/anaconda3/lib/python3.9/site-packages (from jupyter_contrib_nbextensions) (4.11.1)\n",
      "Collecting jupyter_highlight_selected_word>=0.1.1\n",
      "  Downloading jupyter_highlight_selected_word-0.2.0-py2.py3-none-any.whl (11 kB)\n",
      "Collecting jupyter_nbextensions_configurator>=0.4.0\n",
      "  Downloading jupyter_nbextensions_configurator-0.6.1.tar.gz (481 kB)\n",
      "\u001b[2K     \u001b[90m━━━━━━━━━━━━━━━━━━━━━━━━━━━━━━━━━━━━━━\u001b[0m \u001b[32m481.7/481.7 kB\u001b[0m \u001b[31m14.3 MB/s\u001b[0m eta \u001b[36m0:00:00\u001b[0m\n",
      "\u001b[?25h  Preparing metadata (setup.py) ... \u001b[?25ldone\n",
      "\u001b[?25hRequirement already satisfied: nbconvert>=6.0 in /Users/sejoon/opt/anaconda3/lib/python3.9/site-packages (from jupyter_contrib_nbextensions) (6.4.4)\n",
      "Requirement already satisfied: notebook>=6.0 in /Users/sejoon/opt/anaconda3/lib/python3.9/site-packages (from jupyter_contrib_nbextensions) (6.4.12)\n",
      "Requirement already satisfied: tornado in /Users/sejoon/opt/anaconda3/lib/python3.9/site-packages (from jupyter_contrib_nbextensions) (6.1)\n",
      "Requirement already satisfied: traitlets>=4.1 in /Users/sejoon/opt/anaconda3/lib/python3.9/site-packages (from jupyter_contrib_nbextensions) (5.1.1)\n",
      "Requirement already satisfied: lxml in /Users/sejoon/opt/anaconda3/lib/python3.9/site-packages (from jupyter_contrib_nbextensions) (4.9.1)\n",
      "Requirement already satisfied: setuptools in /Users/sejoon/opt/anaconda3/lib/python3.9/site-packages (from jupyter_contrib_core>=0.3.3->jupyter_contrib_nbextensions) (63.4.1)\n",
      "Requirement already satisfied: pyyaml in /Users/sejoon/opt/anaconda3/lib/python3.9/site-packages (from jupyter_nbextensions_configurator>=0.4.0->jupyter_contrib_nbextensions) (6.0)\n",
      "Requirement already satisfied: mistune<2,>=0.8.1 in /Users/sejoon/opt/anaconda3/lib/python3.9/site-packages (from nbconvert>=6.0->jupyter_contrib_nbextensions) (0.8.4)\n",
      "Requirement already satisfied: entrypoints>=0.2.2 in /Users/sejoon/opt/anaconda3/lib/python3.9/site-packages (from nbconvert>=6.0->jupyter_contrib_nbextensions) (0.4)\n",
      "Requirement already satisfied: bleach in /Users/sejoon/opt/anaconda3/lib/python3.9/site-packages (from nbconvert>=6.0->jupyter_contrib_nbextensions) (4.1.0)\n",
      "Requirement already satisfied: nbformat>=4.4 in /Users/sejoon/opt/anaconda3/lib/python3.9/site-packages (from nbconvert>=6.0->jupyter_contrib_nbextensions) (5.5.0)\n",
      "Requirement already satisfied: pandocfilters>=1.4.1 in /Users/sejoon/opt/anaconda3/lib/python3.9/site-packages (from nbconvert>=6.0->jupyter_contrib_nbextensions) (1.5.0)\n",
      "Requirement already satisfied: testpath in /Users/sejoon/opt/anaconda3/lib/python3.9/site-packages (from nbconvert>=6.0->jupyter_contrib_nbextensions) (0.6.0)\n",
      "Requirement already satisfied: jinja2>=2.4 in /Users/sejoon/opt/anaconda3/lib/python3.9/site-packages (from nbconvert>=6.0->jupyter_contrib_nbextensions) (2.11.3)\n",
      "Requirement already satisfied: beautifulsoup4 in /Users/sejoon/opt/anaconda3/lib/python3.9/site-packages (from nbconvert>=6.0->jupyter_contrib_nbextensions) (4.11.1)\n",
      "Requirement already satisfied: pygments>=2.4.1 in /Users/sejoon/opt/anaconda3/lib/python3.9/site-packages (from nbconvert>=6.0->jupyter_contrib_nbextensions) (2.11.2)\n",
      "Requirement already satisfied: jupyterlab-pygments in /Users/sejoon/opt/anaconda3/lib/python3.9/site-packages (from nbconvert>=6.0->jupyter_contrib_nbextensions) (0.1.2)\n",
      "Requirement already satisfied: defusedxml in /Users/sejoon/opt/anaconda3/lib/python3.9/site-packages (from nbconvert>=6.0->jupyter_contrib_nbextensions) (0.7.1)\n",
      "Requirement already satisfied: nbclient<0.6.0,>=0.5.0 in /Users/sejoon/opt/anaconda3/lib/python3.9/site-packages (from nbconvert>=6.0->jupyter_contrib_nbextensions) (0.5.13)\n",
      "Requirement already satisfied: terminado>=0.8.3 in /Users/sejoon/opt/anaconda3/lib/python3.9/site-packages (from notebook>=6.0->jupyter_contrib_nbextensions) (0.13.1)\n",
      "Requirement already satisfied: Send2Trash>=1.8.0 in /Users/sejoon/opt/anaconda3/lib/python3.9/site-packages (from notebook>=6.0->jupyter_contrib_nbextensions) (1.8.0)\n",
      "Requirement already satisfied: nest-asyncio>=1.5 in /Users/sejoon/opt/anaconda3/lib/python3.9/site-packages (from notebook>=6.0->jupyter_contrib_nbextensions) (1.5.5)\n",
      "Requirement already satisfied: ipykernel in /Users/sejoon/opt/anaconda3/lib/python3.9/site-packages (from notebook>=6.0->jupyter_contrib_nbextensions) (6.15.2)\n",
      "Requirement already satisfied: pyzmq>=17 in /Users/sejoon/opt/anaconda3/lib/python3.9/site-packages (from notebook>=6.0->jupyter_contrib_nbextensions) (23.2.0)\n",
      "Requirement already satisfied: jupyter-client>=5.3.4 in /Users/sejoon/opt/anaconda3/lib/python3.9/site-packages (from notebook>=6.0->jupyter_contrib_nbextensions) (7.3.4)\n",
      "Requirement already satisfied: argon2-cffi in /Users/sejoon/opt/anaconda3/lib/python3.9/site-packages (from notebook>=6.0->jupyter_contrib_nbextensions) (21.3.0)\n",
      "Requirement already satisfied: prometheus-client in /Users/sejoon/opt/anaconda3/lib/python3.9/site-packages (from notebook>=6.0->jupyter_contrib_nbextensions) (0.14.1)\n",
      "Requirement already satisfied: MarkupSafe>=0.23 in /Users/sejoon/opt/anaconda3/lib/python3.9/site-packages (from jinja2>=2.4->nbconvert>=6.0->jupyter_contrib_nbextensions) (2.0.1)\n",
      "Requirement already satisfied: python-dateutil>=2.8.2 in /Users/sejoon/opt/anaconda3/lib/python3.9/site-packages (from jupyter-client>=5.3.4->notebook>=6.0->jupyter_contrib_nbextensions) (2.8.2)\n",
      "Requirement already satisfied: jsonschema>=2.6 in /Users/sejoon/opt/anaconda3/lib/python3.9/site-packages (from nbformat>=4.4->nbconvert>=6.0->jupyter_contrib_nbextensions) (4.16.0)\n",
      "Requirement already satisfied: fastjsonschema in /Users/sejoon/opt/anaconda3/lib/python3.9/site-packages (from nbformat>=4.4->nbconvert>=6.0->jupyter_contrib_nbextensions) (2.16.2)\n",
      "Requirement already satisfied: ptyprocess in /Users/sejoon/opt/anaconda3/lib/python3.9/site-packages (from terminado>=0.8.3->notebook>=6.0->jupyter_contrib_nbextensions) (0.7.0)\n",
      "Requirement already satisfied: argon2-cffi-bindings in /Users/sejoon/opt/anaconda3/lib/python3.9/site-packages (from argon2-cffi->notebook>=6.0->jupyter_contrib_nbextensions) (21.2.0)\n",
      "Requirement already satisfied: soupsieve>1.2 in /Users/sejoon/opt/anaconda3/lib/python3.9/site-packages (from beautifulsoup4->nbconvert>=6.0->jupyter_contrib_nbextensions) (2.3.1)\n",
      "Requirement already satisfied: webencodings in /Users/sejoon/opt/anaconda3/lib/python3.9/site-packages (from bleach->nbconvert>=6.0->jupyter_contrib_nbextensions) (0.5.1)\n",
      "Requirement already satisfied: packaging in /Users/sejoon/opt/anaconda3/lib/python3.9/site-packages (from bleach->nbconvert>=6.0->jupyter_contrib_nbextensions) (21.3)\n",
      "Requirement already satisfied: six>=1.9.0 in /Users/sejoon/opt/anaconda3/lib/python3.9/site-packages (from bleach->nbconvert>=6.0->jupyter_contrib_nbextensions) (1.16.0)\n",
      "Requirement already satisfied: debugpy>=1.0 in /Users/sejoon/opt/anaconda3/lib/python3.9/site-packages (from ipykernel->notebook>=6.0->jupyter_contrib_nbextensions) (1.5.1)\n",
      "Requirement already satisfied: appnope in /Users/sejoon/opt/anaconda3/lib/python3.9/site-packages (from ipykernel->notebook>=6.0->jupyter_contrib_nbextensions) (0.1.2)\n",
      "Requirement already satisfied: matplotlib-inline>=0.1 in /Users/sejoon/opt/anaconda3/lib/python3.9/site-packages (from ipykernel->notebook>=6.0->jupyter_contrib_nbextensions) (0.1.6)\n",
      "Requirement already satisfied: ipython>=7.23.1 in /Users/sejoon/opt/anaconda3/lib/python3.9/site-packages (from ipykernel->notebook>=6.0->jupyter_contrib_nbextensions) (7.31.1)\n",
      "Requirement already satisfied: psutil in /Users/sejoon/opt/anaconda3/lib/python3.9/site-packages (from ipykernel->notebook>=6.0->jupyter_contrib_nbextensions) (5.9.0)\n"
     ]
    },
    {
     "name": "stdout",
     "output_type": "stream",
     "text": [
      "Requirement already satisfied: decorator in /Users/sejoon/opt/anaconda3/lib/python3.9/site-packages (from ipython>=7.23.1->ipykernel->notebook>=6.0->jupyter_contrib_nbextensions) (5.1.1)\n",
      "Requirement already satisfied: pickleshare in /Users/sejoon/opt/anaconda3/lib/python3.9/site-packages (from ipython>=7.23.1->ipykernel->notebook>=6.0->jupyter_contrib_nbextensions) (0.7.5)\n",
      "Requirement already satisfied: jedi>=0.16 in /Users/sejoon/opt/anaconda3/lib/python3.9/site-packages (from ipython>=7.23.1->ipykernel->notebook>=6.0->jupyter_contrib_nbextensions) (0.18.1)\n",
      "Requirement already satisfied: prompt-toolkit!=3.0.0,!=3.0.1,<3.1.0,>=2.0.0 in /Users/sejoon/opt/anaconda3/lib/python3.9/site-packages (from ipython>=7.23.1->ipykernel->notebook>=6.0->jupyter_contrib_nbextensions) (3.0.20)\n",
      "Requirement already satisfied: pexpect>4.3 in /Users/sejoon/opt/anaconda3/lib/python3.9/site-packages (from ipython>=7.23.1->ipykernel->notebook>=6.0->jupyter_contrib_nbextensions) (4.8.0)\n",
      "Requirement already satisfied: backcall in /Users/sejoon/opt/anaconda3/lib/python3.9/site-packages (from ipython>=7.23.1->ipykernel->notebook>=6.0->jupyter_contrib_nbextensions) (0.2.0)\n",
      "Requirement already satisfied: pyrsistent!=0.17.0,!=0.17.1,!=0.17.2,>=0.14.0 in /Users/sejoon/opt/anaconda3/lib/python3.9/site-packages (from jsonschema>=2.6->nbformat>=4.4->nbconvert>=6.0->jupyter_contrib_nbextensions) (0.18.0)\n",
      "Requirement already satisfied: attrs>=17.4.0 in /Users/sejoon/opt/anaconda3/lib/python3.9/site-packages (from jsonschema>=2.6->nbformat>=4.4->nbconvert>=6.0->jupyter_contrib_nbextensions) (21.4.0)\n",
      "Requirement already satisfied: cffi>=1.0.1 in /Users/sejoon/opt/anaconda3/lib/python3.9/site-packages (from argon2-cffi-bindings->argon2-cffi->notebook>=6.0->jupyter_contrib_nbextensions) (1.15.1)\n",
      "Requirement already satisfied: pyparsing!=3.0.5,>=2.0.2 in /Users/sejoon/opt/anaconda3/lib/python3.9/site-packages (from packaging->bleach->nbconvert>=6.0->jupyter_contrib_nbextensions) (3.0.9)\n",
      "Requirement already satisfied: pycparser in /Users/sejoon/opt/anaconda3/lib/python3.9/site-packages (from cffi>=1.0.1->argon2-cffi-bindings->argon2-cffi->notebook>=6.0->jupyter_contrib_nbextensions) (2.21)\n",
      "Requirement already satisfied: parso<0.9.0,>=0.8.0 in /Users/sejoon/opt/anaconda3/lib/python3.9/site-packages (from jedi>=0.16->ipython>=7.23.1->ipykernel->notebook>=6.0->jupyter_contrib_nbextensions) (0.8.3)\n",
      "Requirement already satisfied: wcwidth in /Users/sejoon/opt/anaconda3/lib/python3.9/site-packages (from prompt-toolkit!=3.0.0,!=3.0.1,<3.1.0,>=2.0.0->ipython>=7.23.1->ipykernel->notebook>=6.0->jupyter_contrib_nbextensions) (0.2.5)\n",
      "Building wheels for collected packages: jupyter_contrib_nbextensions, jupyter_contrib_core, jupyter_nbextensions_configurator\n",
      "  Building wheel for jupyter_contrib_nbextensions (setup.py) ... \u001b[?25ldone\n",
      "\u001b[?25h  Created wheel for jupyter_contrib_nbextensions: filename=jupyter_contrib_nbextensions-0.7.0-py2.py3-none-any.whl size=23428784 sha256=b82edb767ad7d57cfd46eb4c54afce817bfa919bee201cad49353d852f4c088a\n",
      "  Stored in directory: /Users/sejoon/Library/Caches/pip/wheels/e7/99/91/7f24a075786a6760f3ac32ab5fa92e1d1a90e0d2cd8958adfd\n",
      "  Building wheel for jupyter_contrib_core (setup.py) ... \u001b[?25ldone\n",
      "\u001b[?25h  Created wheel for jupyter_contrib_core: filename=jupyter_contrib_core-0.4.2-py2.py3-none-any.whl size=17484 sha256=0102e18345942da7822adab9214bf48cd5904d3076cad94775bc7d2b510bbd69\n",
      "  Stored in directory: /Users/sejoon/Library/Caches/pip/wheels/57/9f/80/32c07b8a950a45f6cf8cd5980c22a27ce514c27b795250e497\n",
      "  Building wheel for jupyter_nbextensions_configurator (setup.py) ... \u001b[?25ldone\n",
      "\u001b[?25h  Created wheel for jupyter_nbextensions_configurator: filename=jupyter_nbextensions_configurator-0.6.1-py2.py3-none-any.whl size=466845 sha256=c165c21c0d47f730c4164df1bfe997f4c3d0debe9931c64b406005892bfd9169\n",
      "  Stored in directory: /Users/sejoon/Library/Caches/pip/wheels/3f/ff/3a/e4e62d46795a2e60f421a9bcbec234b2d8dd40067edcf43986\n",
      "Successfully built jupyter_contrib_nbextensions jupyter_contrib_core jupyter_nbextensions_configurator\n",
      "Installing collected packages: jupyter_highlight_selected_word, jupyter_contrib_core, jupyter_nbextensions_configurator, jupyter_contrib_nbextensions\n",
      "Successfully installed jupyter_contrib_core-0.4.2 jupyter_contrib_nbextensions-0.7.0 jupyter_highlight_selected_word-0.2.0 jupyter_nbextensions_configurator-0.6.1\n"
     ]
    }
   ],
   "source": [
    "!pip install jupyter_contrib_nbextensions"
   ]
  },
  {
   "cell_type": "code",
   "execution_count": 2,
   "metadata": {},
   "outputs": [
    {
     "name": "stdout",
     "output_type": "stream",
     "text": [
      "\u001b[32m[I 08:32:52 InstallContribNbextensionsApp]\u001b[m jupyter contrib nbextension install --user\n",
      "\u001b[32m[I 08:32:52 InstallContribNbextensionsApp]\u001b[m Installing jupyter_contrib_nbextensions nbextension files to jupyter data directory\n",
      "\u001b[32m[I 08:32:53 InstallContribNbextensionsApp]\u001b[m Installing /Users/sejoon/opt/anaconda3/lib/python3.9/site-packages/jupyter_contrib_nbextensions/nbextensions/rubberband -> rubberband\n",
      "\u001b[32m[I 08:32:53 InstallContribNbextensionsApp]\u001b[m Making directory: /Users/sejoon/Library/Jupyter/nbextensions/rubberband/\n",
      "\u001b[32m[I 08:32:53 InstallContribNbextensionsApp]\u001b[m Copying: /Users/sejoon/opt/anaconda3/lib/python3.9/site-packages/jupyter_contrib_nbextensions/nbextensions/rubberband/icon.png -> /Users/sejoon/Library/Jupyter/nbextensions/rubberband/icon.png\n",
      "\u001b[32m[I 08:32:53 InstallContribNbextensionsApp]\u001b[m Copying: /Users/sejoon/opt/anaconda3/lib/python3.9/site-packages/jupyter_contrib_nbextensions/nbextensions/rubberband/main.css -> /Users/sejoon/Library/Jupyter/nbextensions/rubberband/main.css\n",
      "\u001b[32m[I 08:32:53 InstallContribNbextensionsApp]\u001b[m Copying: /Users/sejoon/opt/anaconda3/lib/python3.9/site-packages/jupyter_contrib_nbextensions/nbextensions/rubberband/readme.md -> /Users/sejoon/Library/Jupyter/nbextensions/rubberband/readme.md\n",
      "\u001b[32m[I 08:32:53 InstallContribNbextensionsApp]\u001b[m Copying: /Users/sejoon/opt/anaconda3/lib/python3.9/site-packages/jupyter_contrib_nbextensions/nbextensions/rubberband/main.js -> /Users/sejoon/Library/Jupyter/nbextensions/rubberband/main.js\n",
      "\u001b[32m[I 08:32:53 InstallContribNbextensionsApp]\u001b[m Copying: /Users/sejoon/opt/anaconda3/lib/python3.9/site-packages/jupyter_contrib_nbextensions/nbextensions/rubberband/rubberband.yaml -> /Users/sejoon/Library/Jupyter/nbextensions/rubberband/rubberband.yaml\n",
      "\u001b[32m[I 08:32:53 InstallContribNbextensionsApp]\u001b[m - Validating: \u001b[32mOK\u001b[0m\n",
      "\u001b[32m[I 08:32:53 InstallContribNbextensionsApp]\u001b[m Installing /Users/sejoon/opt/anaconda3/lib/python3.9/site-packages/jupyter_contrib_nbextensions/nbextensions/scroll_down -> scroll_down\n",
      "\u001b[32m[I 08:32:53 InstallContribNbextensionsApp]\u001b[m Making directory: /Users/sejoon/Library/Jupyter/nbextensions/scroll_down/\n",
      "\u001b[32m[I 08:32:53 InstallContribNbextensionsApp]\u001b[m Copying: /Users/sejoon/opt/anaconda3/lib/python3.9/site-packages/jupyter_contrib_nbextensions/nbextensions/scroll_down/icon.png -> /Users/sejoon/Library/Jupyter/nbextensions/scroll_down/icon.png\n",
      "\u001b[32m[I 08:32:53 InstallContribNbextensionsApp]\u001b[m Copying: /Users/sejoon/opt/anaconda3/lib/python3.9/site-packages/jupyter_contrib_nbextensions/nbextensions/scroll_down/config.yaml -> /Users/sejoon/Library/Jupyter/nbextensions/scroll_down/config.yaml\n",
      "\u001b[32m[I 08:32:53 InstallContribNbextensionsApp]\u001b[m Copying: /Users/sejoon/opt/anaconda3/lib/python3.9/site-packages/jupyter_contrib_nbextensions/nbextensions/scroll_down/readme.md -> /Users/sejoon/Library/Jupyter/nbextensions/scroll_down/readme.md\n",
      "\u001b[32m[I 08:32:53 InstallContribNbextensionsApp]\u001b[m Copying: /Users/sejoon/opt/anaconda3/lib/python3.9/site-packages/jupyter_contrib_nbextensions/nbextensions/scroll_down/main.js -> /Users/sejoon/Library/Jupyter/nbextensions/scroll_down/main.js\n",
      "\u001b[32m[I 08:32:53 InstallContribNbextensionsApp]\u001b[m - Validating: \u001b[32mOK\u001b[0m\n",
      "\u001b[32m[I 08:32:53 InstallContribNbextensionsApp]\u001b[m Installing /Users/sejoon/opt/anaconda3/lib/python3.9/site-packages/jupyter_contrib_nbextensions/nbextensions/hinterland -> hinterland\n",
      "\u001b[32m[I 08:32:53 InstallContribNbextensionsApp]\u001b[m Making directory: /Users/sejoon/Library/Jupyter/nbextensions/hinterland/\n",
      "\u001b[32m[I 08:32:53 InstallContribNbextensionsApp]\u001b[m Copying: /Users/sejoon/opt/anaconda3/lib/python3.9/site-packages/jupyter_contrib_nbextensions/nbextensions/hinterland/hinterland.yaml -> /Users/sejoon/Library/Jupyter/nbextensions/hinterland/hinterland.yaml\n",
      "\u001b[32m[I 08:32:53 InstallContribNbextensionsApp]\u001b[m Copying: /Users/sejoon/opt/anaconda3/lib/python3.9/site-packages/jupyter_contrib_nbextensions/nbextensions/hinterland/hinterland.js -> /Users/sejoon/Library/Jupyter/nbextensions/hinterland/hinterland.js\n",
      "\u001b[32m[I 08:32:53 InstallContribNbextensionsApp]\u001b[m Copying: /Users/sejoon/opt/anaconda3/lib/python3.9/site-packages/jupyter_contrib_nbextensions/nbextensions/hinterland/README.md -> /Users/sejoon/Library/Jupyter/nbextensions/hinterland/README.md\n",
      "\u001b[32m[I 08:32:53 InstallContribNbextensionsApp]\u001b[m - Validating: \u001b[32mOK\u001b[0m\n",
      "\u001b[32m[I 08:32:53 InstallContribNbextensionsApp]\u001b[m Installing /Users/sejoon/opt/anaconda3/lib/python3.9/site-packages/jupyter_contrib_nbextensions/nbextensions/snippets -> snippets\n",
      "\u001b[32m[I 08:32:53 InstallContribNbextensionsApp]\u001b[m Making directory: /Users/sejoon/Library/Jupyter/nbextensions/snippets/\n",
      "\u001b[32m[I 08:32:53 InstallContribNbextensionsApp]\u001b[m Copying: /Users/sejoon/opt/anaconda3/lib/python3.9/site-packages/jupyter_contrib_nbextensions/nbextensions/snippets/snippets.yaml -> /Users/sejoon/Library/Jupyter/nbextensions/snippets/snippets.yaml\n",
      "\u001b[32m[I 08:32:53 InstallContribNbextensionsApp]\u001b[m Copying: /Users/sejoon/opt/anaconda3/lib/python3.9/site-packages/jupyter_contrib_nbextensions/nbextensions/snippets/snippets.json -> /Users/sejoon/Library/Jupyter/nbextensions/snippets/snippets.json\n",
      "\u001b[32m[I 08:32:53 InstallContribNbextensionsApp]\u001b[m Copying: /Users/sejoon/opt/anaconda3/lib/python3.9/site-packages/jupyter_contrib_nbextensions/nbextensions/snippets/README.md -> /Users/sejoon/Library/Jupyter/nbextensions/snippets/README.md\n",
      "\u001b[32m[I 08:32:53 InstallContribNbextensionsApp]\u001b[m Copying: /Users/sejoon/opt/anaconda3/lib/python3.9/site-packages/jupyter_contrib_nbextensions/nbextensions/snippets/main.js -> /Users/sejoon/Library/Jupyter/nbextensions/snippets/main.js\n",
      "\u001b[32m[I 08:32:53 InstallContribNbextensionsApp]\u001b[m Copying: /Users/sejoon/opt/anaconda3/lib/python3.9/site-packages/jupyter_contrib_nbextensions/nbextensions/snippets/snippets-demo.gif -> /Users/sejoon/Library/Jupyter/nbextensions/snippets/snippets-demo.gif\n",
      "\u001b[32m[I 08:32:53 InstallContribNbextensionsApp]\u001b[m - Validating: \u001b[32mOK\u001b[0m\n",
      "\u001b[32m[I 08:32:53 InstallContribNbextensionsApp]\u001b[m Installing /Users/sejoon/opt/anaconda3/lib/python3.9/site-packages/jupyter_contrib_nbextensions/nbextensions/toggle_all_line_numbers -> toggle_all_line_numbers\n",
      "\u001b[32m[I 08:32:53 InstallContribNbextensionsApp]\u001b[m Making directory: /Users/sejoon/Library/Jupyter/nbextensions/toggle_all_line_numbers/\n",
      "\u001b[32m[I 08:32:53 InstallContribNbextensionsApp]\u001b[m Copying: /Users/sejoon/opt/anaconda3/lib/python3.9/site-packages/jupyter_contrib_nbextensions/nbextensions/toggle_all_line_numbers/icon.png -> /Users/sejoon/Library/Jupyter/nbextensions/toggle_all_line_numbers/icon.png\n",
      "\u001b[32m[I 08:32:53 InstallContribNbextensionsApp]\u001b[m Copying: /Users/sejoon/opt/anaconda3/lib/python3.9/site-packages/jupyter_contrib_nbextensions/nbextensions/toggle_all_line_numbers/main.yaml -> /Users/sejoon/Library/Jupyter/nbextensions/toggle_all_line_numbers/main.yaml\n",
      "\u001b[32m[I 08:32:53 InstallContribNbextensionsApp]\u001b[m Copying: /Users/sejoon/opt/anaconda3/lib/python3.9/site-packages/jupyter_contrib_nbextensions/nbextensions/toggle_all_line_numbers/readme.md -> /Users/sejoon/Library/Jupyter/nbextensions/toggle_all_line_numbers/readme.md\n",
      "\u001b[32m[I 08:32:53 InstallContribNbextensionsApp]\u001b[m Copying: /Users/sejoon/opt/anaconda3/lib/python3.9/site-packages/jupyter_contrib_nbextensions/nbextensions/toggle_all_line_numbers/main.js -> /Users/sejoon/Library/Jupyter/nbextensions/toggle_all_line_numbers/main.js\n",
      "\u001b[32m[I 08:32:53 InstallContribNbextensionsApp]\u001b[m - Validating: \u001b[32mOK\u001b[0m\n",
      "\u001b[32m[I 08:32:53 InstallContribNbextensionsApp]\u001b[m Installing /Users/sejoon/opt/anaconda3/lib/python3.9/site-packages/jupyter_contrib_nbextensions/nbextensions/notify -> notify\n",
      "\u001b[32m[I 08:32:53 InstallContribNbextensionsApp]\u001b[m Making directory: /Users/sejoon/Library/Jupyter/nbextensions/notify/\n",
      "\u001b[32m[I 08:32:53 InstallContribNbextensionsApp]\u001b[m Copying: /Users/sejoon/opt/anaconda3/lib/python3.9/site-packages/jupyter_contrib_nbextensions/nbextensions/notify/notify.js -> /Users/sejoon/Library/Jupyter/nbextensions/notify/notify.js\n",
      "\u001b[32m[I 08:32:53 InstallContribNbextensionsApp]\u001b[m Copying: /Users/sejoon/opt/anaconda3/lib/python3.9/site-packages/jupyter_contrib_nbextensions/nbextensions/notify/notify.mp3 -> /Users/sejoon/Library/Jupyter/nbextensions/notify/notify.mp3\n",
      "\u001b[32m[I 08:32:53 InstallContribNbextensionsApp]\u001b[m Copying: /Users/sejoon/opt/anaconda3/lib/python3.9/site-packages/jupyter_contrib_nbextensions/nbextensions/notify/readme.md -> /Users/sejoon/Library/Jupyter/nbextensions/notify/readme.md\n",
      "\u001b[32m[I 08:32:53 InstallContribNbextensionsApp]\u001b[m Copying: /Users/sejoon/opt/anaconda3/lib/python3.9/site-packages/jupyter_contrib_nbextensions/nbextensions/notify/notify.yaml -> /Users/sejoon/Library/Jupyter/nbextensions/notify/notify.yaml\n",
      "\u001b[32m[I 08:32:53 InstallContribNbextensionsApp]\u001b[m Copying: /Users/sejoon/opt/anaconda3/lib/python3.9/site-packages/jupyter_contrib_nbextensions/nbextensions/notify/notification.png -> /Users/sejoon/Library/Jupyter/nbextensions/notify/notification.png\n",
      "\u001b[32m[I 08:32:53 InstallContribNbextensionsApp]\u001b[m - Validating: \u001b[32mOK\u001b[0m\n",
      "\u001b[32m[I 08:32:53 InstallContribNbextensionsApp]\u001b[m Installing /Users/sejoon/opt/anaconda3/lib/python3.9/site-packages/jupyter_contrib_nbextensions/nbextensions/runtools -> runtools\n",
      "\u001b[32m[I 08:32:53 InstallContribNbextensionsApp]\u001b[m Making directory: /Users/sejoon/Library/Jupyter/nbextensions/runtools/\n",
      "\u001b[32m[I 08:32:53 InstallContribNbextensionsApp]\u001b[m Copying: /Users/sejoon/opt/anaconda3/lib/python3.9/site-packages/jupyter_contrib_nbextensions/nbextensions/runtools/cellstate.js -> /Users/sejoon/Library/Jupyter/nbextensions/runtools/cellstate.js\n",
      "\u001b[32m[I 08:32:53 InstallContribNbextensionsApp]\u001b[m Copying: /Users/sejoon/opt/anaconda3/lib/python3.9/site-packages/jupyter_contrib_nbextensions/nbextensions/runtools/icon.png -> /Users/sejoon/Library/Jupyter/nbextensions/runtools/icon.png\n",
      "\u001b[32m[I 08:32:53 InstallContribNbextensionsApp]\u001b[m Copying: /Users/sejoon/opt/anaconda3/lib/python3.9/site-packages/jupyter_contrib_nbextensions/nbextensions/runtools/runtools_execute.png -> /Users/sejoon/Library/Jupyter/nbextensions/runtools/runtools_execute.png\n",
      "\u001b[32m[I 08:32:53 InstallContribNbextensionsApp]\u001b[m Copying: /Users/sejoon/opt/anaconda3/lib/python3.9/site-packages/jupyter_contrib_nbextensions/nbextensions/runtools/annotations.odg -> /Users/sejoon/Library/Jupyter/nbextensions/runtools/annotations.odg\n",
      "\u001b[32m[I 08:32:53 InstallContribNbextensionsApp]\u001b[m Copying: /Users/sejoon/opt/anaconda3/lib/python3.9/site-packages/jupyter_contrib_nbextensions/nbextensions/runtools/runtools.yaml -> /Users/sejoon/Library/Jupyter/nbextensions/runtools/runtools.yaml\n",
      "\u001b[32m[I 08:32:53 InstallContribNbextensionsApp]\u001b[m Copying: /Users/sejoon/opt/anaconda3/lib/python3.9/site-packages/jupyter_contrib_nbextensions/nbextensions/runtools/main.css -> /Users/sejoon/Library/Jupyter/nbextensions/runtools/main.css\n",
      "\u001b[32m[I 08:32:53 InstallContribNbextensionsApp]\u001b[m Copying: /Users/sejoon/opt/anaconda3/lib/python3.9/site-packages/jupyter_contrib_nbextensions/nbextensions/runtools/runtools_nb.png -> /Users/sejoon/Library/Jupyter/nbextensions/runtools/runtools_nb.png\n",
      "\u001b[32m[I 08:32:53 InstallContribNbextensionsApp]\u001b[m Copying: /Users/sejoon/opt/anaconda3/lib/python3.9/site-packages/jupyter_contrib_nbextensions/nbextensions/runtools/readme.md -> /Users/sejoon/Library/Jupyter/nbextensions/runtools/readme.md\n",
      "\u001b[32m[I 08:32:53 InstallContribNbextensionsApp]\u001b[m Copying: /Users/sejoon/opt/anaconda3/lib/python3.9/site-packages/jupyter_contrib_nbextensions/nbextensions/runtools/runtools_marker.png -> /Users/sejoon/Library/Jupyter/nbextensions/runtools/runtools_marker.png\n",
      "\u001b[32m[I 08:32:53 InstallContribNbextensionsApp]\u001b[m Copying: /Users/sejoon/opt/anaconda3/lib/python3.9/site-packages/jupyter_contrib_nbextensions/nbextensions/runtools/main.js -> /Users/sejoon/Library/Jupyter/nbextensions/runtools/main.js\n",
      "\u001b[32m[I 08:32:53 InstallContribNbextensionsApp]\u001b[m Copying: /Users/sejoon/opt/anaconda3/lib/python3.9/site-packages/jupyter_contrib_nbextensions/nbextensions/runtools/runtools_show_hide.png -> /Users/sejoon/Library/Jupyter/nbextensions/runtools/runtools_show_hide.png\n",
      "\u001b[32m[I 08:32:53 InstallContribNbextensionsApp]\u001b[m Copying: /Users/sejoon/opt/anaconda3/lib/python3.9/site-packages/jupyter_contrib_nbextensions/nbextensions/runtools/runtools_lock.png -> /Users/sejoon/Library/Jupyter/nbextensions/runtools/runtools_lock.png\n",
      "\u001b[32m[I 08:32:53 InstallContribNbextensionsApp]\u001b[m Copying: /Users/sejoon/opt/anaconda3/lib/python3.9/site-packages/jupyter_contrib_nbextensions/nbextensions/runtools/demo.gif -> /Users/sejoon/Library/Jupyter/nbextensions/runtools/demo.gif\n",
      "\u001b[32m[I 08:32:53 InstallContribNbextensionsApp]\u001b[m Copying: /Users/sejoon/opt/anaconda3/lib/python3.9/site-packages/jupyter_contrib_nbextensions/nbextensions/runtools/gutter.css -> /Users/sejoon/Library/Jupyter/nbextensions/runtools/gutter.css\n",
      "\u001b[32m[I 08:32:53 InstallContribNbextensionsApp]\u001b[m - Validating: \u001b[32mOK\u001b[0m\n",
      "\u001b[32m[I 08:32:53 InstallContribNbextensionsApp]\u001b[m Installing /Users/sejoon/opt/anaconda3/lib/python3.9/site-packages/jupyter_contrib_nbextensions/nbextensions/tree-filter -> tree-filter\n",
      "\u001b[32m[I 08:32:53 InstallContribNbextensionsApp]\u001b[m Making directory: /Users/sejoon/Library/Jupyter/nbextensions/tree-filter/\n",
      "\u001b[32m[I 08:32:53 InstallContribNbextensionsApp]\u001b[m Copying: /Users/sejoon/opt/anaconda3/lib/python3.9/site-packages/jupyter_contrib_nbextensions/nbextensions/tree-filter/tree-filter.yaml -> /Users/sejoon/Library/Jupyter/nbextensions/tree-filter/tree-filter.yaml\n"
     ]
    },
    {
     "name": "stdout",
     "output_type": "stream",
     "text": [
      "\u001b[32m[I 08:32:53 InstallContribNbextensionsApp]\u001b[m Copying: /Users/sejoon/opt/anaconda3/lib/python3.9/site-packages/jupyter_contrib_nbextensions/nbextensions/tree-filter/index.js -> /Users/sejoon/Library/Jupyter/nbextensions/tree-filter/index.js\r\n",
      "\u001b[32m[I 08:32:53 InstallContribNbextensionsApp]\u001b[m Copying: /Users/sejoon/opt/anaconda3/lib/python3.9/site-packages/jupyter_contrib_nbextensions/nbextensions/tree-filter/readme.md -> /Users/sejoon/Library/Jupyter/nbextensions/tree-filter/readme.md\r\n",
      "\u001b[32m[I 08:32:53 InstallContribNbextensionsApp]\u001b[m Copying: /Users/sejoon/opt/anaconda3/lib/python3.9/site-packages/jupyter_contrib_nbextensions/nbextensions/tree-filter/demo.gif -> /Users/sejoon/Library/Jupyter/nbextensions/tree-filter/demo.gif\r\n",
      "\u001b[32m[I 08:32:53 InstallContribNbextensionsApp]\u001b[m - Validating: \u001b[32mOK\u001b[0m\r\n",
      "\u001b[32m[I 08:32:53 InstallContribNbextensionsApp]\u001b[m Installing /Users/sejoon/opt/anaconda3/lib/python3.9/site-packages/jupyter_contrib_nbextensions/nbextensions/table_beautifier -> table_beautifier\r\n",
      "\u001b[32m[I 08:32:53 InstallContribNbextensionsApp]\u001b[m Making directory: /Users/sejoon/Library/Jupyter/nbextensions/table_beautifier/\r\n",
      "\u001b[32m[I 08:32:53 InstallContribNbextensionsApp]\u001b[m Copying: /Users/sejoon/opt/anaconda3/lib/python3.9/site-packages/jupyter_contrib_nbextensions/nbextensions/table_beautifier/main.css -> /Users/sejoon/Library/Jupyter/nbextensions/table_beautifier/main.css\r\n",
      "\u001b[32m[I 08:32:53 InstallContribNbextensionsApp]\u001b[m Copying: /Users/sejoon/opt/anaconda3/lib/python3.9/site-packages/jupyter_contrib_nbextensions/nbextensions/table_beautifier/README.md -> /Users/sejoon/Library/Jupyter/nbextensions/table_beautifier/README.md\r\n",
      "\u001b[32m[I 08:32:53 InstallContribNbextensionsApp]\u001b[m Copying: /Users/sejoon/opt/anaconda3/lib/python3.9/site-packages/jupyter_contrib_nbextensions/nbextensions/table_beautifier/main.js -> /Users/sejoon/Library/Jupyter/nbextensions/table_beautifier/main.js\r\n",
      "\u001b[32m[I 08:32:53 InstallContribNbextensionsApp]\u001b[m Copying: /Users/sejoon/opt/anaconda3/lib/python3.9/site-packages/jupyter_contrib_nbextensions/nbextensions/table_beautifier/table_beautifier.yaml -> /Users/sejoon/Library/Jupyter/nbextensions/table_beautifier/table_beautifier.yaml\r\n",
      "\u001b[32m[I 08:32:53 InstallContribNbextensionsApp]\u001b[m - Validating: \u001b[32mOK\u001b[0m\r\n",
      "\u001b[32m[I 08:32:53 InstallContribNbextensionsApp]\u001b[m Installing /Users/sejoon/opt/anaconda3/lib/python3.9/site-packages/jupyter_contrib_nbextensions/nbextensions/freeze -> freeze\r\n",
      "\u001b[32m[I 08:32:53 InstallContribNbextensionsApp]\u001b[m Making directory: /Users/sejoon/Library/Jupyter/nbextensions/freeze/\r\n",
      "\u001b[32m[I 08:32:53 InstallContribNbextensionsApp]\u001b[m Copying: /Users/sejoon/opt/anaconda3/lib/python3.9/site-packages/jupyter_contrib_nbextensions/nbextensions/freeze/icon.png -> /Users/sejoon/Library/Jupyter/nbextensions/freeze/icon.png\r\n",
      "\u001b[32m[I 08:32:53 InstallContribNbextensionsApp]\u001b[m Copying: /Users/sejoon/opt/anaconda3/lib/python3.9/site-packages/jupyter_contrib_nbextensions/nbextensions/freeze/config.yaml -> /Users/sejoon/Library/Jupyter/nbextensions/freeze/config.yaml\r\n",
      "\u001b[32m[I 08:32:53 InstallContribNbextensionsApp]\u001b[m Copying: /Users/sejoon/opt/anaconda3/lib/python3.9/site-packages/jupyter_contrib_nbextensions/nbextensions/freeze/readme.md -> /Users/sejoon/Library/Jupyter/nbextensions/freeze/readme.md\r\n",
      "\u001b[32m[I 08:32:53 InstallContribNbextensionsApp]\u001b[m Copying: /Users/sejoon/opt/anaconda3/lib/python3.9/site-packages/jupyter_contrib_nbextensions/nbextensions/freeze/main.js -> /Users/sejoon/Library/Jupyter/nbextensions/freeze/main.js\r\n",
      "\u001b[32m[I 08:32:53 InstallContribNbextensionsApp]\u001b[m - Validating: \u001b[32mOK\u001b[0m\r\n",
      "\u001b[32m[I 08:32:53 InstallContribNbextensionsApp]\u001b[m Installing /Users/sejoon/opt/anaconda3/lib/python3.9/site-packages/jupyter_contrib_nbextensions/nbextensions/exercise2 -> exercise2\r\n",
      "\u001b[32m[I 08:32:53 InstallContribNbextensionsApp]\u001b[m Making directory: /Users/sejoon/Library/Jupyter/nbextensions/exercise2/\r\n",
      "\u001b[32m[I 08:32:53 InstallContribNbextensionsApp]\u001b[m Copying: /Users/sejoon/opt/anaconda3/lib/python3.9/site-packages/jupyter_contrib_nbextensions/nbextensions/exercise2/icon.png -> /Users/sejoon/Library/Jupyter/nbextensions/exercise2/icon.png\r\n",
      "\u001b[32m[I 08:32:53 InstallContribNbextensionsApp]\u001b[m Copying: /Users/sejoon/opt/anaconda3/lib/python3.9/site-packages/jupyter_contrib_nbextensions/nbextensions/exercise2/exercise2.yaml -> /Users/sejoon/Library/Jupyter/nbextensions/exercise2/exercise2.yaml\r\n",
      "\u001b[32m[I 08:32:53 InstallContribNbextensionsApp]\u001b[m Copying: /Users/sejoon/opt/anaconda3/lib/python3.9/site-packages/jupyter_contrib_nbextensions/nbextensions/exercise2/main.css -> /Users/sejoon/Library/Jupyter/nbextensions/exercise2/main.css\r\n",
      "\u001b[32m[I 08:32:53 InstallContribNbextensionsApp]\u001b[m Copying: /Users/sejoon/opt/anaconda3/lib/python3.9/site-packages/jupyter_contrib_nbextensions/nbextensions/exercise2/image.gif -> /Users/sejoon/Library/Jupyter/nbextensions/exercise2/image.gif\r\n",
      "\u001b[32m[I 08:32:53 InstallContribNbextensionsApp]\u001b[m Copying: /Users/sejoon/opt/anaconda3/lib/python3.9/site-packages/jupyter_contrib_nbextensions/nbextensions/exercise2/readme.md -> /Users/sejoon/Library/Jupyter/nbextensions/exercise2/readme.md\r\n",
      "\u001b[32m[I 08:32:53 InstallContribNbextensionsApp]\u001b[m Copying: /Users/sejoon/opt/anaconda3/lib/python3.9/site-packages/jupyter_contrib_nbextensions/nbextensions/exercise2/main.js -> /Users/sejoon/Library/Jupyter/nbextensions/exercise2/main.js\r\n",
      "\u001b[32m[I 08:32:53 InstallContribNbextensionsApp]\u001b[m - Validating: \u001b[32mOK\u001b[0m\r\n",
      "\u001b[32m[I 08:32:53 InstallContribNbextensionsApp]\u001b[m Installing /Users/sejoon/opt/anaconda3/lib/python3.9/site-packages/jupyter_contrib_nbextensions/nbextensions/execution_dependencies -> execution_dependencies\r\n",
      "\u001b[32m[I 08:32:53 InstallContribNbextensionsApp]\u001b[m Making directory: /Users/sejoon/Library/Jupyter/nbextensions/execution_dependencies/\r\n",
      "\u001b[32m[I 08:32:53 InstallContribNbextensionsApp]\u001b[m Copying: /Users/sejoon/opt/anaconda3/lib/python3.9/site-packages/jupyter_contrib_nbextensions/nbextensions/execution_dependencies/execution_dependencies.yml -> /Users/sejoon/Library/Jupyter/nbextensions/execution_dependencies/execution_dependencies.yml\r\n",
      "\u001b[32m[I 08:32:53 InstallContribNbextensionsApp]\u001b[m Copying: /Users/sejoon/opt/anaconda3/lib/python3.9/site-packages/jupyter_contrib_nbextensions/nbextensions/execution_dependencies/README.md -> /Users/sejoon/Library/Jupyter/nbextensions/execution_dependencies/README.md\r\n",
      "\u001b[32m[I 08:32:53 InstallContribNbextensionsApp]\u001b[m Copying: /Users/sejoon/opt/anaconda3/lib/python3.9/site-packages/jupyter_contrib_nbextensions/nbextensions/execution_dependencies/execution_dependencies.js -> /Users/sejoon/Library/Jupyter/nbextensions/execution_dependencies/execution_dependencies.js\r\n",
      "\u001b[32m[I 08:32:53 InstallContribNbextensionsApp]\u001b[m - Validating: \u001b[32mOK\u001b[0m\r\n",
      "\u001b[32m[I 08:32:53 InstallContribNbextensionsApp]\u001b[m Installing /Users/sejoon/opt/anaconda3/lib/python3.9/site-packages/jupyter_contrib_nbextensions/nbextensions/skill -> skill\r\n",
      "\u001b[32m[I 08:32:53 InstallContribNbextensionsApp]\u001b[m Making directory: /Users/sejoon/Library/Jupyter/nbextensions/skill/\r\n",
      "\u001b[32m[I 08:32:53 InstallContribNbextensionsApp]\u001b[m Copying: /Users/sejoon/opt/anaconda3/lib/python3.9/site-packages/jupyter_contrib_nbextensions/nbextensions/skill/skill.js -> /Users/sejoon/Library/Jupyter/nbextensions/skill/skill.js\r\n",
      "\u001b[32m[I 08:32:53 InstallContribNbextensionsApp]\u001b[m Copying: /Users/sejoon/opt/anaconda3/lib/python3.9/site-packages/jupyter_contrib_nbextensions/nbextensions/skill/README.md -> /Users/sejoon/Library/Jupyter/nbextensions/skill/README.md\r\n",
      "\u001b[32m[I 08:32:53 InstallContribNbextensionsApp]\u001b[m Copying: /Users/sejoon/opt/anaconda3/lib/python3.9/site-packages/jupyter_contrib_nbextensions/nbextensions/skill/main.js -> /Users/sejoon/Library/Jupyter/nbextensions/skill/main.js\r\n",
      "\u001b[32m[I 08:32:53 InstallContribNbextensionsApp]\u001b[m Copying: /Users/sejoon/opt/anaconda3/lib/python3.9/site-packages/jupyter_contrib_nbextensions/nbextensions/skill/skill.yaml -> /Users/sejoon/Library/Jupyter/nbextensions/skill/skill.yaml\r\n",
      "\u001b[32m[I 08:32:53 InstallContribNbextensionsApp]\u001b[m - Validating: \u001b[32mOK\u001b[0m\r\n",
      "\u001b[32m[I 08:32:53 InstallContribNbextensionsApp]\u001b[m Installing /Users/sejoon/opt/anaconda3/lib/python3.9/site-packages/jupyter_contrib_nbextensions/nbextensions/splitcell -> splitcell\r\n",
      "\u001b[32m[I 08:32:53 InstallContribNbextensionsApp]\u001b[m Making directory: /Users/sejoon/Library/Jupyter/nbextensions/splitcell/\r\n",
      "\u001b[32m[I 08:32:53 InstallContribNbextensionsApp]\u001b[m Copying: /Users/sejoon/opt/anaconda3/lib/python3.9/site-packages/jupyter_contrib_nbextensions/nbextensions/splitcell/icon.png -> /Users/sejoon/Library/Jupyter/nbextensions/splitcell/icon.png\r\n",
      "\u001b[32m[I 08:32:53 InstallContribNbextensionsApp]\u001b[m Copying: /Users/sejoon/opt/anaconda3/lib/python3.9/site-packages/jupyter_contrib_nbextensions/nbextensions/splitcell/readme.md -> /Users/sejoon/Library/Jupyter/nbextensions/splitcell/readme.md\r\n"
     ]
    },
    {
     "name": "stdout",
     "output_type": "stream",
     "text": [
      "\u001b[32m[I 08:32:53 InstallContribNbextensionsApp]\u001b[m Copying: /Users/sejoon/opt/anaconda3/lib/python3.9/site-packages/jupyter_contrib_nbextensions/nbextensions/splitcell/splitcell.yaml -> /Users/sejoon/Library/Jupyter/nbextensions/splitcell/splitcell.yaml\r\n",
      "\u001b[32m[I 08:32:53 InstallContribNbextensionsApp]\u001b[m Copying: /Users/sejoon/opt/anaconda3/lib/python3.9/site-packages/jupyter_contrib_nbextensions/nbextensions/splitcell/splitcell.js -> /Users/sejoon/Library/Jupyter/nbextensions/splitcell/splitcell.js\r\n",
      "\u001b[32m[I 08:32:53 InstallContribNbextensionsApp]\u001b[m - Validating: \u001b[32mOK\u001b[0m\r\n",
      "\u001b[32m[I 08:32:53 InstallContribNbextensionsApp]\u001b[m Installing /Users/sejoon/opt/anaconda3/lib/python3.9/site-packages/jupyter_contrib_nbextensions/nbextensions/autosavetime -> autosavetime\r\n",
      "\u001b[32m[I 08:32:53 InstallContribNbextensionsApp]\u001b[m Making directory: /Users/sejoon/Library/Jupyter/nbextensions/autosavetime/\r\n",
      "\u001b[32m[I 08:32:53 InstallContribNbextensionsApp]\u001b[m Copying: /Users/sejoon/opt/anaconda3/lib/python3.9/site-packages/jupyter_contrib_nbextensions/nbextensions/autosavetime/icon.png -> /Users/sejoon/Library/Jupyter/nbextensions/autosavetime/icon.png\r\n",
      "\u001b[32m[I 08:32:53 InstallContribNbextensionsApp]\u001b[m Copying: /Users/sejoon/opt/anaconda3/lib/python3.9/site-packages/jupyter_contrib_nbextensions/nbextensions/autosavetime/README.md -> /Users/sejoon/Library/Jupyter/nbextensions/autosavetime/README.md\r\n",
      "\u001b[32m[I 08:32:53 InstallContribNbextensionsApp]\u001b[m Copying: /Users/sejoon/opt/anaconda3/lib/python3.9/site-packages/jupyter_contrib_nbextensions/nbextensions/autosavetime/autosavetime.yaml -> /Users/sejoon/Library/Jupyter/nbextensions/autosavetime/autosavetime.yaml\r\n",
      "\u001b[32m[I 08:32:53 InstallContribNbextensionsApp]\u001b[m Copying: /Users/sejoon/opt/anaconda3/lib/python3.9/site-packages/jupyter_contrib_nbextensions/nbextensions/autosavetime/main.js -> /Users/sejoon/Library/Jupyter/nbextensions/autosavetime/main.js\r\n",
      "\u001b[32m[I 08:32:53 InstallContribNbextensionsApp]\u001b[m - Validating: \u001b[32mOK\u001b[0m\r\n",
      "\u001b[32m[I 08:32:53 InstallContribNbextensionsApp]\u001b[m Installing /Users/sejoon/opt/anaconda3/lib/python3.9/site-packages/jupyter_contrib_nbextensions/nbextensions/select_keymap -> select_keymap\r\n",
      "\u001b[32m[I 08:32:53 InstallContribNbextensionsApp]\u001b[m Making directory: /Users/sejoon/Library/Jupyter/nbextensions/select_keymap/\r\n",
      "\u001b[32m[I 08:32:53 InstallContribNbextensionsApp]\u001b[m Copying: /Users/sejoon/opt/anaconda3/lib/python3.9/site-packages/jupyter_contrib_nbextensions/nbextensions/select_keymap/select_keymap.png -> /Users/sejoon/Library/Jupyter/nbextensions/select_keymap/select_keymap.png\r\n",
      "\u001b[32m[I 08:32:53 InstallContribNbextensionsApp]\u001b[m Copying: /Users/sejoon/opt/anaconda3/lib/python3.9/site-packages/jupyter_contrib_nbextensions/nbextensions/select_keymap/README.md -> /Users/sejoon/Library/Jupyter/nbextensions/select_keymap/README.md\r\n",
      "\u001b[32m[I 08:32:53 InstallContribNbextensionsApp]\u001b[m Copying: /Users/sejoon/opt/anaconda3/lib/python3.9/site-packages/jupyter_contrib_nbextensions/nbextensions/select_keymap/main.js -> /Users/sejoon/Library/Jupyter/nbextensions/select_keymap/main.js\r\n",
      "\u001b[32m[I 08:32:53 InstallContribNbextensionsApp]\u001b[m Copying: /Users/sejoon/opt/anaconda3/lib/python3.9/site-packages/jupyter_contrib_nbextensions/nbextensions/select_keymap/select_keymap.yaml -> /Users/sejoon/Library/Jupyter/nbextensions/select_keymap/select_keymap.yaml\r\n",
      "\u001b[32m[I 08:32:53 InstallContribNbextensionsApp]\u001b[m - Validating: \u001b[32mOK\u001b[0m\r\n",
      "\u001b[32m[I 08:32:53 InstallContribNbextensionsApp]\u001b[m Installing /Users/sejoon/opt/anaconda3/lib/python3.9/site-packages/jupyter_contrib_nbextensions/nbextensions/livemdpreview -> livemdpreview\r\n",
      "\u001b[32m[I 08:32:53 InstallContribNbextensionsApp]\u001b[m Making directory: /Users/sejoon/Library/Jupyter/nbextensions/livemdpreview/\r\n",
      "\u001b[32m[I 08:32:53 InstallContribNbextensionsApp]\u001b[m Copying: /Users/sejoon/opt/anaconda3/lib/python3.9/site-packages/jupyter_contrib_nbextensions/nbextensions/livemdpreview/livemdpreview.yml -> /Users/sejoon/Library/Jupyter/nbextensions/livemdpreview/livemdpreview.yml\r\n",
      "\u001b[32m[I 08:32:53 InstallContribNbextensionsApp]\u001b[m Copying: /Users/sejoon/opt/anaconda3/lib/python3.9/site-packages/jupyter_contrib_nbextensions/nbextensions/livemdpreview/livemdpreview.js -> /Users/sejoon/Library/Jupyter/nbextensions/livemdpreview/livemdpreview.js\r\n",
      "\u001b[32m[I 08:32:53 InstallContribNbextensionsApp]\u001b[m - Validating: \u001b[32mOK\u001b[0m\r\n",
      "\u001b[32m[I 08:32:53 InstallContribNbextensionsApp]\u001b[m Installing /Users/sejoon/opt/anaconda3/lib/python3.9/site-packages/jupyter_contrib_nbextensions/nbextensions/gist_it -> gist_it\r\n",
      "\u001b[32m[I 08:32:53 InstallContribNbextensionsApp]\u001b[m Making directory: /Users/sejoon/Library/Jupyter/nbextensions/gist_it/\r\n",
      "\u001b[32m[I 08:32:53 InstallContribNbextensionsApp]\u001b[m Copying: /Users/sejoon/opt/anaconda3/lib/python3.9/site-packages/jupyter_contrib_nbextensions/nbextensions/gist_it/icon.png -> /Users/sejoon/Library/Jupyter/nbextensions/gist_it/icon.png\r\n",
      "\u001b[32m[I 08:32:53 InstallContribNbextensionsApp]\u001b[m Copying: /Users/sejoon/opt/anaconda3/lib/python3.9/site-packages/jupyter_contrib_nbextensions/nbextensions/gist_it/gist_it.yaml -> /Users/sejoon/Library/Jupyter/nbextensions/gist_it/gist_it.yaml\r\n",
      "\u001b[32m[I 08:32:53 InstallContribNbextensionsApp]\u001b[m Copying: /Users/sejoon/opt/anaconda3/lib/python3.9/site-packages/jupyter_contrib_nbextensions/nbextensions/gist_it/readme.md -> /Users/sejoon/Library/Jupyter/nbextensions/gist_it/readme.md\r\n",
      "\u001b[32m[I 08:32:53 InstallContribNbextensionsApp]\u001b[m Copying: /Users/sejoon/opt/anaconda3/lib/python3.9/site-packages/jupyter_contrib_nbextensions/nbextensions/gist_it/main.js -> /Users/sejoon/Library/Jupyter/nbextensions/gist_it/main.js\r\n",
      "\u001b[32m[I 08:32:53 InstallContribNbextensionsApp]\u001b[m - Validating: \u001b[32mOK\u001b[0m\r\n",
      "\u001b[32m[I 08:32:53 InstallContribNbextensionsApp]\u001b[m Installing /Users/sejoon/opt/anaconda3/lib/python3.9/site-packages/jupyter_contrib_nbextensions/nbextensions/cell_filter -> cell_filter\r\n",
      "\u001b[32m[I 08:32:53 InstallContribNbextensionsApp]\u001b[m Making directory: /Users/sejoon/Library/Jupyter/nbextensions/cell_filter/\r\n",
      "\u001b[32m[I 08:32:53 InstallContribNbextensionsApp]\u001b[m Copying: /Users/sejoon/opt/anaconda3/lib/python3.9/site-packages/jupyter_contrib_nbextensions/nbextensions/cell_filter/cell_filter.yml -> /Users/sejoon/Library/Jupyter/nbextensions/cell_filter/cell_filter.yml\r\n",
      "\u001b[32m[I 08:32:53 InstallContribNbextensionsApp]\u001b[m Copying: /Users/sejoon/opt/anaconda3/lib/python3.9/site-packages/jupyter_contrib_nbextensions/nbextensions/cell_filter/cell_filter.js -> /Users/sejoon/Library/Jupyter/nbextensions/cell_filter/cell_filter.js\r\n",
      "\u001b[32m[I 08:32:53 InstallContribNbextensionsApp]\u001b[m Copying: /Users/sejoon/opt/anaconda3/lib/python3.9/site-packages/jupyter_contrib_nbextensions/nbextensions/cell_filter/README.md -> /Users/sejoon/Library/Jupyter/nbextensions/cell_filter/README.md\r\n",
      "\u001b[32m[I 08:32:53 InstallContribNbextensionsApp]\u001b[m - Validating: \u001b[32mOK\u001b[0m\r\n",
      "\u001b[32m[I 08:32:53 InstallContribNbextensionsApp]\u001b[m Installing /Users/sejoon/opt/anaconda3/lib/python3.9/site-packages/jupyter_contrib_nbextensions/nbextensions/scratchpad -> scratchpad\r\n",
      "\u001b[32m[I 08:32:53 InstallContribNbextensionsApp]\u001b[m Making directory: /Users/sejoon/Library/Jupyter/nbextensions/scratchpad/\r\n",
      "\u001b[32m[I 08:32:53 InstallContribNbextensionsApp]\u001b[m Copying: /Users/sejoon/opt/anaconda3/lib/python3.9/site-packages/jupyter_contrib_nbextensions/nbextensions/scratchpad/LICENSE -> /Users/sejoon/Library/Jupyter/nbextensions/scratchpad/LICENSE\r\n",
      "\u001b[32m[I 08:32:53 InstallContribNbextensionsApp]\u001b[m Copying: /Users/sejoon/opt/anaconda3/lib/python3.9/site-packages/jupyter_contrib_nbextensions/nbextensions/scratchpad/scratchpad.yaml -> /Users/sejoon/Library/Jupyter/nbextensions/scratchpad/scratchpad.yaml\r\n",
      "\u001b[32m[I 08:32:53 InstallContribNbextensionsApp]\u001b[m Copying: /Users/sejoon/opt/anaconda3/lib/python3.9/site-packages/jupyter_contrib_nbextensions/nbextensions/scratchpad/README.md -> /Users/sejoon/Library/Jupyter/nbextensions/scratchpad/README.md\r\n",
      "\u001b[32m[I 08:32:53 InstallContribNbextensionsApp]\u001b[m Copying: /Users/sejoon/opt/anaconda3/lib/python3.9/site-packages/jupyter_contrib_nbextensions/nbextensions/scratchpad/main.js -> /Users/sejoon/Library/Jupyter/nbextensions/scratchpad/main.js\r\n",
      "\u001b[32m[I 08:32:53 InstallContribNbextensionsApp]\u001b[m Copying: /Users/sejoon/opt/anaconda3/lib/python3.9/site-packages/jupyter_contrib_nbextensions/nbextensions/scratchpad/scratchpad.css -> /Users/sejoon/Library/Jupyter/nbextensions/scratchpad/scratchpad.css\r\n",
      "\u001b[32m[I 08:32:53 InstallContribNbextensionsApp]\u001b[m Copying: /Users/sejoon/opt/anaconda3/lib/python3.9/site-packages/jupyter_contrib_nbextensions/nbextensions/scratchpad/demo.gif -> /Users/sejoon/Library/Jupyter/nbextensions/scratchpad/demo.gif\r\n",
      "\u001b[32m[I 08:32:53 InstallContribNbextensionsApp]\u001b[m - Validating: \u001b[32mOK\u001b[0m\r\n",
      "\u001b[32m[I 08:32:53 InstallContribNbextensionsApp]\u001b[m Installing /Users/sejoon/opt/anaconda3/lib/python3.9/site-packages/jupyter_contrib_nbextensions/nbextensions/toc2 -> toc2\r\n",
      "\u001b[32m[I 08:32:53 InstallContribNbextensionsApp]\u001b[m Making directory: /Users/sejoon/Library/Jupyter/nbextensions/toc2/\r\n",
      "\u001b[32m[I 08:32:53 InstallContribNbextensionsApp]\u001b[m Copying: /Users/sejoon/opt/anaconda3/lib/python3.9/site-packages/jupyter_contrib_nbextensions/nbextensions/toc2/toc2.yaml -> /Users/sejoon/Library/Jupyter/nbextensions/toc2/toc2.yaml\r\n",
      "\u001b[32m[I 08:32:53 InstallContribNbextensionsApp]\u001b[m Copying: /Users/sejoon/opt/anaconda3/lib/python3.9/site-packages/jupyter_contrib_nbextensions/nbextensions/toc2/icon.png -> /Users/sejoon/Library/Jupyter/nbextensions/toc2/icon.png\r\n",
      "\u001b[32m[I 08:32:53 InstallContribNbextensionsApp]\u001b[m Copying: /Users/sejoon/opt/anaconda3/lib/python3.9/site-packages/jupyter_contrib_nbextensions/nbextensions/toc2/demo_dark.png -> /Users/sejoon/Library/Jupyter/nbextensions/toc2/demo_dark.png\r\n",
      "\u001b[32m[I 08:32:53 InstallContribNbextensionsApp]\u001b[m Copying: /Users/sejoon/opt/anaconda3/lib/python3.9/site-packages/jupyter_contrib_nbextensions/nbextensions/toc2/main.css -> /Users/sejoon/Library/Jupyter/nbextensions/toc2/main.css\r\n",
      "\u001b[32m[I 08:32:53 InstallContribNbextensionsApp]\u001b[m Copying: /Users/sejoon/opt/anaconda3/lib/python3.9/site-packages/jupyter_contrib_nbextensions/nbextensions/toc2/README.md -> /Users/sejoon/Library/Jupyter/nbextensions/toc2/README.md\r\n",
      "\u001b[32m[I 08:32:53 InstallContribNbextensionsApp]\u001b[m Copying: /Users/sejoon/opt/anaconda3/lib/python3.9/site-packages/jupyter_contrib_nbextensions/nbextensions/toc2/main.js -> /Users/sejoon/Library/Jupyter/nbextensions/toc2/main.js\r\n",
      "\u001b[32m[I 08:32:53 InstallContribNbextensionsApp]\u001b[m Copying: /Users/sejoon/opt/anaconda3/lib/python3.9/site-packages/jupyter_contrib_nbextensions/nbextensions/toc2/demo3.gif -> /Users/sejoon/Library/Jupyter/nbextensions/toc2/demo3.gif\r\n",
      "\u001b[32m[I 08:32:53 InstallContribNbextensionsApp]\u001b[m Copying: /Users/sejoon/opt/anaconda3/lib/python3.9/site-packages/jupyter_contrib_nbextensions/nbextensions/toc2/demo2.gif -> /Users/sejoon/Library/Jupyter/nbextensions/toc2/demo2.gif\r\n",
      "\u001b[32m[I 08:32:53 InstallContribNbextensionsApp]\u001b[m Copying: /Users/sejoon/opt/anaconda3/lib/python3.9/site-packages/jupyter_contrib_nbextensions/nbextensions/toc2/toc2.js -> /Users/sejoon/Library/Jupyter/nbextensions/toc2/toc2.js\r\n",
      "\u001b[32m[I 08:32:53 InstallContribNbextensionsApp]\u001b[m Copying: /Users/sejoon/opt/anaconda3/lib/python3.9/site-packages/jupyter_contrib_nbextensions/nbextensions/toc2/demo.gif -> /Users/sejoon/Library/Jupyter/nbextensions/toc2/demo.gif\r\n",
      "\u001b[32m[I 08:32:53 InstallContribNbextensionsApp]\u001b[m Copying: /Users/sejoon/opt/anaconda3/lib/python3.9/site-packages/jupyter_contrib_nbextensions/nbextensions/toc2/image.png -> /Users/sejoon/Library/Jupyter/nbextensions/toc2/image.png\r\n",
      "\u001b[32m[I 08:32:53 InstallContribNbextensionsApp]\u001b[m - Validating: \u001b[32mOK\u001b[0m\r\n",
      "\u001b[32m[I 08:32:53 InstallContribNbextensionsApp]\u001b[m Installing /Users/sejoon/opt/anaconda3/lib/python3.9/site-packages/jupyter_contrib_nbextensions/nbextensions/nbTranslate -> nbTranslate\r\n",
      "\u001b[32m[I 08:32:53 InstallContribNbextensionsApp]\u001b[m Making directory: /Users/sejoon/Library/Jupyter/nbextensions/nbTranslate/\r\n",
      "\u001b[32m[I 08:32:53 InstallContribNbextensionsApp]\u001b[m Copying: /Users/sejoon/opt/anaconda3/lib/python3.9/site-packages/jupyter_contrib_nbextensions/nbextensions/nbTranslate/nbTranslate.yaml -> /Users/sejoon/Library/Jupyter/nbextensions/nbTranslate/nbTranslate.yaml\r\n",
      "\u001b[32m[I 08:32:53 InstallContribNbextensionsApp]\u001b[m Copying: /Users/sejoon/opt/anaconda3/lib/python3.9/site-packages/jupyter_contrib_nbextensions/nbextensions/nbTranslate/nbTranslate.js -> /Users/sejoon/Library/Jupyter/nbextensions/nbTranslate/nbTranslate.js\r\n",
      "\u001b[32m[I 08:32:53 InstallContribNbextensionsApp]\u001b[m Copying: /Users/sejoon/opt/anaconda3/lib/python3.9/site-packages/jupyter_contrib_nbextensions/nbextensions/nbTranslate/README.md -> /Users/sejoon/Library/Jupyter/nbextensions/nbTranslate/README.md\r\n",
      "\u001b[32m[I 08:32:53 InstallContribNbextensionsApp]\u001b[m Copying: /Users/sejoon/opt/anaconda3/lib/python3.9/site-packages/jupyter_contrib_nbextensions/nbextensions/nbTranslate/main.js -> /Users/sejoon/Library/Jupyter/nbextensions/nbTranslate/main.js\r\n",
      "\u001b[32m[I 08:32:53 InstallContribNbextensionsApp]\u001b[m Copying: /Users/sejoon/opt/anaconda3/lib/python3.9/site-packages/jupyter_contrib_nbextensions/nbextensions/nbTranslate/demo1.gif -> /Users/sejoon/Library/Jupyter/nbextensions/nbTranslate/demo1.gif\r\n"
     ]
    },
    {
     "name": "stdout",
     "output_type": "stream",
     "text": [
      "\u001b[32m[I 08:32:53 InstallContribNbextensionsApp]\u001b[m Copying: /Users/sejoon/opt/anaconda3/lib/python3.9/site-packages/jupyter_contrib_nbextensions/nbextensions/nbTranslate/demo2.gif -> /Users/sejoon/Library/Jupyter/nbextensions/nbTranslate/demo2.gif\r\n",
      "\u001b[32m[I 08:32:53 InstallContribNbextensionsApp]\u001b[m Copying: /Users/sejoon/opt/anaconda3/lib/python3.9/site-packages/jupyter_contrib_nbextensions/nbextensions/nbTranslate/languages.js -> /Users/sejoon/Library/Jupyter/nbextensions/nbTranslate/languages.js\r\n",
      "\u001b[32m[I 08:32:53 InstallContribNbextensionsApp]\u001b[m Copying: /Users/sejoon/opt/anaconda3/lib/python3.9/site-packages/jupyter_contrib_nbextensions/nbextensions/nbTranslate/mutils.js -> /Users/sejoon/Library/Jupyter/nbextensions/nbTranslate/mutils.js\r\n",
      "\u001b[32m[I 08:32:53 InstallContribNbextensionsApp]\u001b[m - Validating: \u001b[32mOK\u001b[0m\r\n",
      "\u001b[32m[I 08:32:53 InstallContribNbextensionsApp]\u001b[m Installing /Users/sejoon/opt/anaconda3/lib/python3.9/site-packages/jupyter_contrib_nbextensions/nbextensions/equation-numbering -> equation-numbering\r\n",
      "\u001b[32m[I 08:32:53 InstallContribNbextensionsApp]\u001b[m Making directory: /Users/sejoon/Library/Jupyter/nbextensions/equation-numbering/\r\n",
      "\u001b[32m[I 08:32:53 InstallContribNbextensionsApp]\u001b[m Copying: /Users/sejoon/opt/anaconda3/lib/python3.9/site-packages/jupyter_contrib_nbextensions/nbextensions/equation-numbering/icon.png -> /Users/sejoon/Library/Jupyter/nbextensions/equation-numbering/icon.png\r\n",
      "\u001b[32m[I 08:32:53 InstallContribNbextensionsApp]\u001b[m Copying: /Users/sejoon/opt/anaconda3/lib/python3.9/site-packages/jupyter_contrib_nbextensions/nbextensions/equation-numbering/readme.md -> /Users/sejoon/Library/Jupyter/nbextensions/equation-numbering/readme.md\r\n",
      "\u001b[32m[I 08:32:53 InstallContribNbextensionsApp]\u001b[m Copying: /Users/sejoon/opt/anaconda3/lib/python3.9/site-packages/jupyter_contrib_nbextensions/nbextensions/equation-numbering/main.js -> /Users/sejoon/Library/Jupyter/nbextensions/equation-numbering/main.js\r\n",
      "\u001b[32m[I 08:32:53 InstallContribNbextensionsApp]\u001b[m Copying: /Users/sejoon/opt/anaconda3/lib/python3.9/site-packages/jupyter_contrib_nbextensions/nbextensions/equation-numbering/info.yaml -> /Users/sejoon/Library/Jupyter/nbextensions/equation-numbering/info.yaml\r\n",
      "\u001b[32m[I 08:32:53 InstallContribNbextensionsApp]\u001b[m Copying: /Users/sejoon/opt/anaconda3/lib/python3.9/site-packages/jupyter_contrib_nbextensions/nbextensions/equation-numbering/button.png -> /Users/sejoon/Library/Jupyter/nbextensions/equation-numbering/button.png\r\n",
      "\u001b[32m[I 08:32:53 InstallContribNbextensionsApp]\u001b[m - Validating: \u001b[32mOK\u001b[0m\r\n",
      "\u001b[32m[I 08:32:53 InstallContribNbextensionsApp]\u001b[m Installing /Users/sejoon/opt/anaconda3/lib/python3.9/site-packages/jupyter_contrib_nbextensions/nbextensions/navigation-hotkeys -> navigation-hotkeys\r\n",
      "\u001b[32m[I 08:32:53 InstallContribNbextensionsApp]\u001b[m Making directory: /Users/sejoon/Library/Jupyter/nbextensions/navigation-hotkeys/\r\n",
      "\u001b[32m[I 08:32:53 InstallContribNbextensionsApp]\u001b[m Copying: /Users/sejoon/opt/anaconda3/lib/python3.9/site-packages/jupyter_contrib_nbextensions/nbextensions/navigation-hotkeys/icon.png -> /Users/sejoon/Library/Jupyter/nbextensions/navigation-hotkeys/icon.png\r\n",
      "\u001b[32m[I 08:32:53 InstallContribNbextensionsApp]\u001b[m Copying: /Users/sejoon/opt/anaconda3/lib/python3.9/site-packages/jupyter_contrib_nbextensions/nbextensions/navigation-hotkeys/readme.md -> /Users/sejoon/Library/Jupyter/nbextensions/navigation-hotkeys/readme.md\r\n",
      "\u001b[32m[I 08:32:53 InstallContribNbextensionsApp]\u001b[m Copying: /Users/sejoon/opt/anaconda3/lib/python3.9/site-packages/jupyter_contrib_nbextensions/nbextensions/navigation-hotkeys/main.js -> /Users/sejoon/Library/Jupyter/nbextensions/navigation-hotkeys/main.js\r\n",
      "\u001b[32m[I 08:32:53 InstallContribNbextensionsApp]\u001b[m Copying: /Users/sejoon/opt/anaconda3/lib/python3.9/site-packages/jupyter_contrib_nbextensions/nbextensions/navigation-hotkeys/hotkeys.yaml -> /Users/sejoon/Library/Jupyter/nbextensions/navigation-hotkeys/hotkeys.yaml\r\n",
      "\u001b[32m[I 08:32:53 InstallContribNbextensionsApp]\u001b[m - Validating: \u001b[32mOK\u001b[0m\r\n",
      "\u001b[32m[I 08:32:53 InstallContribNbextensionsApp]\u001b[m Installing /Users/sejoon/opt/anaconda3/lib/python3.9/site-packages/jupyter_contrib_nbextensions/nbextensions/snippets_menu -> snippets_menu\r\n",
      "\u001b[32m[I 08:32:53 InstallContribNbextensionsApp]\u001b[m Making directory: /Users/sejoon/Library/Jupyter/nbextensions/snippets_menu/\r\n",
      "\u001b[32m[I 08:32:53 InstallContribNbextensionsApp]\u001b[m Copying: /Users/sejoon/opt/anaconda3/lib/python3.9/site-packages/jupyter_contrib_nbextensions/nbextensions/snippets_menu/snippets_menu.css -> /Users/sejoon/Library/Jupyter/nbextensions/snippets_menu/snippets_menu.css\r\n",
      "\u001b[32m[I 08:32:53 InstallContribNbextensionsApp]\u001b[m Copying: /Users/sejoon/opt/anaconda3/lib/python3.9/site-packages/jupyter_contrib_nbextensions/nbextensions/snippets_menu/snippets_submenu_python.js -> /Users/sejoon/Library/Jupyter/nbextensions/snippets_menu/snippets_submenu_python.js\r\n",
      "\u001b[32m[I 08:32:53 InstallContribNbextensionsApp]\u001b[m Copying: /Users/sejoon/opt/anaconda3/lib/python3.9/site-packages/jupyter_contrib_nbextensions/nbextensions/snippets_menu/config.yaml -> /Users/sejoon/Library/Jupyter/nbextensions/snippets_menu/config.yaml\r\n",
      "\u001b[32m[I 08:32:53 InstallContribNbextensionsApp]\u001b[m Copying: /Users/sejoon/opt/anaconda3/lib/python3.9/site-packages/jupyter_contrib_nbextensions/nbextensions/snippets_menu/readme.md -> /Users/sejoon/Library/Jupyter/nbextensions/snippets_menu/readme.md\r\n",
      "\u001b[32m[I 08:32:53 InstallContribNbextensionsApp]\u001b[m Copying: /Users/sejoon/opt/anaconda3/lib/python3.9/site-packages/jupyter_contrib_nbextensions/nbextensions/snippets_menu/main.js -> /Users/sejoon/Library/Jupyter/nbextensions/snippets_menu/main.js\r\n",
      "\u001b[32m[I 08:32:53 InstallContribNbextensionsApp]\u001b[m Copying: /Users/sejoon/opt/anaconda3/lib/python3.9/site-packages/jupyter_contrib_nbextensions/nbextensions/snippets_menu/snippets_submenu_markdown.js -> /Users/sejoon/Library/Jupyter/nbextensions/snippets_menu/snippets_submenu_markdown.js\r\n",
      "\u001b[32m[I 08:32:53 InstallContribNbextensionsApp]\u001b[m Copying: /Users/sejoon/opt/anaconda3/lib/python3.9/site-packages/jupyter_contrib_nbextensions/nbextensions/snippets_menu/thumbnail.png -> /Users/sejoon/Library/Jupyter/nbextensions/snippets_menu/thumbnail.png\r\n",
      "\u001b[32m[I 08:32:53 InstallContribNbextensionsApp]\u001b[m Copying: /Users/sejoon/opt/anaconda3/lib/python3.9/site-packages/jupyter_contrib_nbextensions/nbextensions/snippets_menu/screenshot1.png -> /Users/sejoon/Library/Jupyter/nbextensions/snippets_menu/screenshot1.png\r\n",
      "\u001b[32m[I 08:32:53 InstallContribNbextensionsApp]\u001b[m Copying: /Users/sejoon/opt/anaconda3/lib/python3.9/site-packages/jupyter_contrib_nbextensions/nbextensions/snippets_menu/screenshot2.png -> /Users/sejoon/Library/Jupyter/nbextensions/snippets_menu/screenshot2.png\r\n",
      "\u001b[32m[I 08:32:53 InstallContribNbextensionsApp]\u001b[m Copying: /Users/sejoon/opt/anaconda3/lib/python3.9/site-packages/jupyter_contrib_nbextensions/nbextensions/snippets_menu/screenshot3.png -> /Users/sejoon/Library/Jupyter/nbextensions/snippets_menu/screenshot3.png\r\n",
      "\u001b[32m[I 08:32:53 InstallContribNbextensionsApp]\u001b[m Copying: /Users/sejoon/opt/anaconda3/lib/python3.9/site-packages/jupyter_contrib_nbextensions/nbextensions/snippets_menu/examples_for_custom.js -> /Users/sejoon/Library/Jupyter/nbextensions/snippets_menu/examples_for_custom.js\r\n",
      "\u001b[32m[I 08:32:53 InstallContribNbextensionsApp]\u001b[m Making directory: /Users/sejoon/Library/Jupyter/nbextensions/snippets_menu/snippets_submenus_python\r\n",
      "\u001b[32m[I 08:32:53 InstallContribNbextensionsApp]\u001b[m Copying: /Users/sejoon/opt/anaconda3/lib/python3.9/site-packages/jupyter_contrib_nbextensions/nbextensions/snippets_menu/snippets_submenus_python/numpy_ufuncs.js -> /Users/sejoon/Library/Jupyter/nbextensions/snippets_menu/snippets_submenus_python/numpy_ufuncs.js\r\n",
      "\u001b[32m[I 08:32:53 InstallContribNbextensionsApp]\u001b[m Copying: /Users/sejoon/opt/anaconda3/lib/python3.9/site-packages/jupyter_contrib_nbextensions/nbextensions/snippets_menu/snippets_submenus_python/numba.js -> /Users/sejoon/Library/Jupyter/nbextensions/snippets_menu/snippets_submenus_python/numba.js\r\n",
      "\u001b[32m[I 08:32:53 InstallContribNbextensionsApp]\u001b[m Copying: /Users/sejoon/opt/anaconda3/lib/python3.9/site-packages/jupyter_contrib_nbextensions/nbextensions/snippets_menu/snippets_submenus_python/sympy_assumptions.js -> /Users/sejoon/Library/Jupyter/nbextensions/snippets_menu/snippets_submenus_python/sympy_assumptions.js\r\n",
      "\u001b[32m[I 08:32:53 InstallContribNbextensionsApp]\u001b[m Copying: /Users/sejoon/opt/anaconda3/lib/python3.9/site-packages/jupyter_contrib_nbextensions/nbextensions/snippets_menu/snippets_submenus_python/sympy.js -> /Users/sejoon/Library/Jupyter/nbextensions/snippets_menu/snippets_submenus_python/sympy.js\r\n",
      "\u001b[32m[I 08:32:53 InstallContribNbextensionsApp]\u001b[m Copying: /Users/sejoon/opt/anaconda3/lib/python3.9/site-packages/jupyter_contrib_nbextensions/nbextensions/snippets_menu/snippets_submenus_python/numpy.js -> /Users/sejoon/Library/Jupyter/nbextensions/snippets_menu/snippets_submenus_python/numpy.js\r\n"
     ]
    },
    {
     "name": "stdout",
     "output_type": "stream",
     "text": [
      "\u001b[32m[I 08:32:53 InstallContribNbextensionsApp]\u001b[m Copying: /Users/sejoon/opt/anaconda3/lib/python3.9/site-packages/jupyter_contrib_nbextensions/nbextensions/snippets_menu/snippets_submenus_python/astropy.js -> /Users/sejoon/Library/Jupyter/nbextensions/snippets_menu/snippets_submenus_python/astropy.js\r\n",
      "\u001b[32m[I 08:32:53 InstallContribNbextensionsApp]\u001b[m Copying: /Users/sejoon/opt/anaconda3/lib/python3.9/site-packages/jupyter_contrib_nbextensions/nbextensions/snippets_menu/snippets_submenus_python/pandas.js -> /Users/sejoon/Library/Jupyter/nbextensions/snippets_menu/snippets_submenus_python/pandas.js\r\n",
      "\u001b[32m[I 08:32:53 InstallContribNbextensionsApp]\u001b[m Copying: /Users/sejoon/opt/anaconda3/lib/python3.9/site-packages/jupyter_contrib_nbextensions/nbextensions/snippets_menu/snippets_submenus_python/numpy_polynomial.js -> /Users/sejoon/Library/Jupyter/nbextensions/snippets_menu/snippets_submenus_python/numpy_polynomial.js\r\n",
      "\u001b[32m[I 08:32:53 InstallContribNbextensionsApp]\u001b[m Copying: /Users/sejoon/opt/anaconda3/lib/python3.9/site-packages/jupyter_contrib_nbextensions/nbextensions/snippets_menu/snippets_submenus_python/scipy_constants.js -> /Users/sejoon/Library/Jupyter/nbextensions/snippets_menu/snippets_submenus_python/scipy_constants.js\r\n",
      "\u001b[32m[I 08:32:53 InstallContribNbextensionsApp]\u001b[m Copying: /Users/sejoon/opt/anaconda3/lib/python3.9/site-packages/jupyter_contrib_nbextensions/nbextensions/snippets_menu/snippets_submenus_python/matplotlib.js -> /Users/sejoon/Library/Jupyter/nbextensions/snippets_menu/snippets_submenus_python/matplotlib.js\r\n",
      "\u001b[32m[I 08:32:53 InstallContribNbextensionsApp]\u001b[m Copying: /Users/sejoon/opt/anaconda3/lib/python3.9/site-packages/jupyter_contrib_nbextensions/nbextensions/snippets_menu/snippets_submenus_python/sympy_functions.js -> /Users/sejoon/Library/Jupyter/nbextensions/snippets_menu/snippets_submenus_python/sympy_functions.js\r\n",
      "\u001b[32m[I 08:32:53 InstallContribNbextensionsApp]\u001b[m Copying: /Users/sejoon/opt/anaconda3/lib/python3.9/site-packages/jupyter_contrib_nbextensions/nbextensions/snippets_menu/snippets_submenus_python/h5py.js -> /Users/sejoon/Library/Jupyter/nbextensions/snippets_menu/snippets_submenus_python/h5py.js\r\n",
      "\u001b[32m[I 08:32:53 InstallContribNbextensionsApp]\u001b[m Copying: /Users/sejoon/opt/anaconda3/lib/python3.9/site-packages/jupyter_contrib_nbextensions/nbextensions/snippets_menu/snippets_submenus_python/scipy_special.js -> /Users/sejoon/Library/Jupyter/nbextensions/snippets_menu/snippets_submenus_python/scipy_special.js\r\n",
      "\u001b[32m[I 08:32:53 InstallContribNbextensionsApp]\u001b[m Copying: /Users/sejoon/opt/anaconda3/lib/python3.9/site-packages/jupyter_contrib_nbextensions/nbextensions/snippets_menu/snippets_submenus_python/python_regex.js -> /Users/sejoon/Library/Jupyter/nbextensions/snippets_menu/snippets_submenus_python/python_regex.js\r\n",
      "\u001b[32m[I 08:32:53 InstallContribNbextensionsApp]\u001b[m Copying: /Users/sejoon/opt/anaconda3/lib/python3.9/site-packages/jupyter_contrib_nbextensions/nbextensions/snippets_menu/snippets_submenus_python/python.js -> /Users/sejoon/Library/Jupyter/nbextensions/snippets_menu/snippets_submenus_python/python.js\r\n",
      "\u001b[32m[I 08:32:53 InstallContribNbextensionsApp]\u001b[m Copying: /Users/sejoon/opt/anaconda3/lib/python3.9/site-packages/jupyter_contrib_nbextensions/nbextensions/snippets_menu/snippets_submenus_python/scipy.js -> /Users/sejoon/Library/Jupyter/nbextensions/snippets_menu/snippets_submenus_python/scipy.js\r\n",
      "\u001b[32m[I 08:32:53 InstallContribNbextensionsApp]\u001b[m - Validating: \u001b[32mOK\u001b[0m\r\n",
      "\u001b[32m[I 08:32:53 InstallContribNbextensionsApp]\u001b[m Installing /Users/sejoon/opt/anaconda3/lib/python3.9/site-packages/jupyter_contrib_nbextensions/nbextensions/printview -> printview\r\n",
      "\u001b[32m[I 08:32:53 InstallContribNbextensionsApp]\u001b[m Making directory: /Users/sejoon/Library/Jupyter/nbextensions/printview/\r\n",
      "\u001b[32m[I 08:32:53 InstallContribNbextensionsApp]\u001b[m Copying: /Users/sejoon/opt/anaconda3/lib/python3.9/site-packages/jupyter_contrib_nbextensions/nbextensions/printview/icon.png -> /Users/sejoon/Library/Jupyter/nbextensions/printview/icon.png\r\n",
      "\u001b[32m[I 08:32:53 InstallContribNbextensionsApp]\u001b[m Copying: /Users/sejoon/opt/anaconda3/lib/python3.9/site-packages/jupyter_contrib_nbextensions/nbextensions/printview/printview-button.png -> /Users/sejoon/Library/Jupyter/nbextensions/printview/printview-button.png\r\n",
      "\u001b[32m[I 08:32:53 InstallContribNbextensionsApp]\u001b[m Copying: /Users/sejoon/opt/anaconda3/lib/python3.9/site-packages/jupyter_contrib_nbextensions/nbextensions/printview/readme.md -> /Users/sejoon/Library/Jupyter/nbextensions/printview/readme.md\r\n",
      "\u001b[32m[I 08:32:53 InstallContribNbextensionsApp]\u001b[m Copying: /Users/sejoon/opt/anaconda3/lib/python3.9/site-packages/jupyter_contrib_nbextensions/nbextensions/printview/main.js -> /Users/sejoon/Library/Jupyter/nbextensions/printview/main.js\r\n",
      "\u001b[32m[I 08:32:53 InstallContribNbextensionsApp]\u001b[m Copying: /Users/sejoon/opt/anaconda3/lib/python3.9/site-packages/jupyter_contrib_nbextensions/nbextensions/printview/printview.yaml -> /Users/sejoon/Library/Jupyter/nbextensions/printview/printview.yaml\r\n",
      "\u001b[32m[I 08:32:53 InstallContribNbextensionsApp]\u001b[m - Validating: \u001b[32mOK\u001b[0m\r\n",
      "\u001b[32m[I 08:32:53 InstallContribNbextensionsApp]\u001b[m Installing /Users/sejoon/opt/anaconda3/lib/python3.9/site-packages/jupyter_contrib_nbextensions/nbextensions/export_embedded -> export_embedded\r\n",
      "\u001b[32m[I 08:32:53 InstallContribNbextensionsApp]\u001b[m Making directory: /Users/sejoon/Library/Jupyter/nbextensions/export_embedded/\r\n",
      "\u001b[32m[I 08:32:53 InstallContribNbextensionsApp]\u001b[m Copying: /Users/sejoon/opt/anaconda3/lib/python3.9/site-packages/jupyter_contrib_nbextensions/nbextensions/export_embedded/export_embedded.yaml -> /Users/sejoon/Library/Jupyter/nbextensions/export_embedded/export_embedded.yaml\r\n",
      "\u001b[32m[I 08:32:53 InstallContribNbextensionsApp]\u001b[m Copying: /Users/sejoon/opt/anaconda3/lib/python3.9/site-packages/jupyter_contrib_nbextensions/nbextensions/export_embedded/icon.png -> /Users/sejoon/Library/Jupyter/nbextensions/export_embedded/icon.png\r\n",
      "\u001b[32m[I 08:32:53 InstallContribNbextensionsApp]\u001b[m Copying: /Users/sejoon/opt/anaconda3/lib/python3.9/site-packages/jupyter_contrib_nbextensions/nbextensions/export_embedded/readme.md -> /Users/sejoon/Library/Jupyter/nbextensions/export_embedded/readme.md\r\n",
      "\u001b[32m[I 08:32:53 InstallContribNbextensionsApp]\u001b[m Copying: /Users/sejoon/opt/anaconda3/lib/python3.9/site-packages/jupyter_contrib_nbextensions/nbextensions/export_embedded/main.js -> /Users/sejoon/Library/Jupyter/nbextensions/export_embedded/main.js\r\n",
      "\u001b[32m[I 08:32:53 InstallContribNbextensionsApp]\u001b[m - Validating: \u001b[32mOK\u001b[0m\r\n",
      "\u001b[32m[I 08:32:53 InstallContribNbextensionsApp]\u001b[m Installing /Users/sejoon/opt/anaconda3/lib/python3.9/site-packages/jupyter_contrib_nbextensions/nbextensions/autoscroll -> autoscroll\r\n",
      "\u001b[32m[I 08:32:53 InstallContribNbextensionsApp]\u001b[m Making directory: /Users/sejoon/Library/Jupyter/nbextensions/autoscroll/\r\n",
      "\u001b[32m[I 08:32:53 InstallContribNbextensionsApp]\u001b[m Copying: /Users/sejoon/opt/anaconda3/lib/python3.9/site-packages/jupyter_contrib_nbextensions/nbextensions/autoscroll/icon.png -> /Users/sejoon/Library/Jupyter/nbextensions/autoscroll/icon.png\r\n",
      "\u001b[32m[I 08:32:53 InstallContribNbextensionsApp]\u001b[m Copying: /Users/sejoon/opt/anaconda3/lib/python3.9/site-packages/jupyter_contrib_nbextensions/nbextensions/autoscroll/autoscroll.yaml -> /Users/sejoon/Library/Jupyter/nbextensions/autoscroll/autoscroll.yaml\r\n",
      "\u001b[32m[I 08:32:53 InstallContribNbextensionsApp]\u001b[m Copying: /Users/sejoon/opt/anaconda3/lib/python3.9/site-packages/jupyter_contrib_nbextensions/nbextensions/autoscroll/README.md -> /Users/sejoon/Library/Jupyter/nbextensions/autoscroll/README.md\r\n",
      "\u001b[32m[I 08:32:53 InstallContribNbextensionsApp]\u001b[m Copying: /Users/sejoon/opt/anaconda3/lib/python3.9/site-packages/jupyter_contrib_nbextensions/nbextensions/autoscroll/main.js -> /Users/sejoon/Library/Jupyter/nbextensions/autoscroll/main.js\r\n",
      "\u001b[32m[I 08:32:53 InstallContribNbextensionsApp]\u001b[m - Validating: \u001b[32mOK\u001b[0m\r\n",
      "\u001b[32m[I 08:32:53 InstallContribNbextensionsApp]\u001b[m Installing /Users/sejoon/opt/anaconda3/lib/python3.9/site-packages/jupyter_contrib_nbextensions/nbextensions/hide_input -> hide_input\r\n",
      "\u001b[32m[I 08:32:53 InstallContribNbextensionsApp]\u001b[m Making directory: /Users/sejoon/Library/Jupyter/nbextensions/hide_input/\r\n",
      "\u001b[32m[I 08:32:53 InstallContribNbextensionsApp]\u001b[m Copying: /Users/sejoon/opt/anaconda3/lib/python3.9/site-packages/jupyter_contrib_nbextensions/nbextensions/hide_input/icon.png -> /Users/sejoon/Library/Jupyter/nbextensions/hide_input/icon.png\r\n",
      "\u001b[32m[I 08:32:53 InstallContribNbextensionsApp]\u001b[m Copying: /Users/sejoon/opt/anaconda3/lib/python3.9/site-packages/jupyter_contrib_nbextensions/nbextensions/hide_input/readme.md -> /Users/sejoon/Library/Jupyter/nbextensions/hide_input/readme.md\r\n",
      "\u001b[32m[I 08:32:53 InstallContribNbextensionsApp]\u001b[m Copying: /Users/sejoon/opt/anaconda3/lib/python3.9/site-packages/jupyter_contrib_nbextensions/nbextensions/hide_input/main.js -> /Users/sejoon/Library/Jupyter/nbextensions/hide_input/main.js\r\n",
      "\u001b[32m[I 08:32:53 InstallContribNbextensionsApp]\u001b[m Copying: /Users/sejoon/opt/anaconda3/lib/python3.9/site-packages/jupyter_contrib_nbextensions/nbextensions/hide_input/hide-input.yaml -> /Users/sejoon/Library/Jupyter/nbextensions/hide_input/hide-input.yaml\r\n",
      "\u001b[32m[I 08:32:53 InstallContribNbextensionsApp]\u001b[m - Validating: \u001b[32mOK\u001b[0m\r\n",
      "\u001b[32m[I 08:32:53 InstallContribNbextensionsApp]\u001b[m Installing /Users/sejoon/opt/anaconda3/lib/python3.9/site-packages/jupyter_contrib_nbextensions/nbextensions/hide_input_all -> hide_input_all\r\n",
      "\u001b[32m[I 08:32:53 InstallContribNbextensionsApp]\u001b[m Making directory: /Users/sejoon/Library/Jupyter/nbextensions/hide_input_all/\r\n",
      "\u001b[32m[I 08:32:53 InstallContribNbextensionsApp]\u001b[m Copying: /Users/sejoon/opt/anaconda3/lib/python3.9/site-packages/jupyter_contrib_nbextensions/nbextensions/hide_input_all/icon.png -> /Users/sejoon/Library/Jupyter/nbextensions/hide_input_all/icon.png\r\n",
      "\u001b[32m[I 08:32:53 InstallContribNbextensionsApp]\u001b[m Copying: /Users/sejoon/opt/anaconda3/lib/python3.9/site-packages/jupyter_contrib_nbextensions/nbextensions/hide_input_all/hide_input_all.yaml -> /Users/sejoon/Library/Jupyter/nbextensions/hide_input_all/hide_input_all.yaml\r\n",
      "\u001b[32m[I 08:32:53 InstallContribNbextensionsApp]\u001b[m Copying: /Users/sejoon/opt/anaconda3/lib/python3.9/site-packages/jupyter_contrib_nbextensions/nbextensions/hide_input_all/hide_input_all_show.png -> /Users/sejoon/Library/Jupyter/nbextensions/hide_input_all/hide_input_all_show.png\r\n",
      "\u001b[32m[I 08:32:53 InstallContribNbextensionsApp]\u001b[m Copying: /Users/sejoon/opt/anaconda3/lib/python3.9/site-packages/jupyter_contrib_nbextensions/nbextensions/hide_input_all/readme.md -> /Users/sejoon/Library/Jupyter/nbextensions/hide_input_all/readme.md\r\n",
      "\u001b[32m[I 08:32:53 InstallContribNbextensionsApp]\u001b[m Copying: /Users/sejoon/opt/anaconda3/lib/python3.9/site-packages/jupyter_contrib_nbextensions/nbextensions/hide_input_all/main.js -> /Users/sejoon/Library/Jupyter/nbextensions/hide_input_all/main.js\r\n",
      "\u001b[32m[I 08:32:53 InstallContribNbextensionsApp]\u001b[m Copying: /Users/sejoon/opt/anaconda3/lib/python3.9/site-packages/jupyter_contrib_nbextensions/nbextensions/hide_input_all/hide_input_all_hide.png -> /Users/sejoon/Library/Jupyter/nbextensions/hide_input_all/hide_input_all_hide.png\r\n",
      "\u001b[32m[I 08:32:53 InstallContribNbextensionsApp]\u001b[m - Validating: \u001b[32mOK\u001b[0m\r\n",
      "\u001b[32m[I 08:32:53 InstallContribNbextensionsApp]\u001b[m Installing /Users/sejoon/opt/anaconda3/lib/python3.9/site-packages/jupyter_contrib_nbextensions/nbextensions/keyboard_shortcut_editor -> keyboard_shortcut_editor\r\n",
      "\u001b[32m[I 08:32:53 InstallContribNbextensionsApp]\u001b[m Making directory: /Users/sejoon/Library/Jupyter/nbextensions/keyboard_shortcut_editor/\r\n",
      "\u001b[32m[I 08:32:53 InstallContribNbextensionsApp]\u001b[m Copying: /Users/sejoon/opt/anaconda3/lib/python3.9/site-packages/jupyter_contrib_nbextensions/nbextensions/keyboard_shortcut_editor/keyboard_shortcut_editor.yaml -> /Users/sejoon/Library/Jupyter/nbextensions/keyboard_shortcut_editor/keyboard_shortcut_editor.yaml\r\n",
      "\u001b[32m[I 08:32:53 InstallContribNbextensionsApp]\u001b[m Copying: /Users/sejoon/opt/anaconda3/lib/python3.9/site-packages/jupyter_contrib_nbextensions/nbextensions/keyboard_shortcut_editor/icon.png -> /Users/sejoon/Library/Jupyter/nbextensions/keyboard_shortcut_editor/icon.png\r\n",
      "\u001b[32m[I 08:32:53 InstallContribNbextensionsApp]\u001b[m Copying: /Users/sejoon/opt/anaconda3/lib/python3.9/site-packages/jupyter_contrib_nbextensions/nbextensions/keyboard_shortcut_editor/readme_comma.png -> /Users/sejoon/Library/Jupyter/nbextensions/keyboard_shortcut_editor/readme_comma.png\r\n",
      "\u001b[32m[I 08:32:53 InstallContribNbextensionsApp]\u001b[m Copying: /Users/sejoon/opt/anaconda3/lib/python3.9/site-packages/jupyter_contrib_nbextensions/nbextensions/keyboard_shortcut_editor/readme_shortcut_editor_blank.png -> /Users/sejoon/Library/Jupyter/nbextensions/keyboard_shortcut_editor/readme_shortcut_editor_blank.png\r\n",
      "\u001b[32m[I 08:32:53 InstallContribNbextensionsApp]\u001b[m Copying: /Users/sejoon/opt/anaconda3/lib/python3.9/site-packages/jupyter_contrib_nbextensions/nbextensions/keyboard_shortcut_editor/readme_shortcut_editor_success.png -> /Users/sejoon/Library/Jupyter/nbextensions/keyboard_shortcut_editor/readme_shortcut_editor_success.png\r\n",
      "\u001b[32m[I 08:32:53 InstallContribNbextensionsApp]\u001b[m Copying: /Users/sejoon/opt/anaconda3/lib/python3.9/site-packages/jupyter_contrib_nbextensions/nbextensions/keyboard_shortcut_editor/main.css -> /Users/sejoon/Library/Jupyter/nbextensions/keyboard_shortcut_editor/main.css\r\n",
      "\u001b[32m[I 08:32:53 InstallContribNbextensionsApp]\u001b[m Copying: /Users/sejoon/opt/anaconda3/lib/python3.9/site-packages/jupyter_contrib_nbextensions/nbextensions/keyboard_shortcut_editor/README.md -> /Users/sejoon/Library/Jupyter/nbextensions/keyboard_shortcut_editor/README.md\r\n",
      "\u001b[32m[I 08:32:53 InstallContribNbextensionsApp]\u001b[m Copying: /Users/sejoon/opt/anaconda3/lib/python3.9/site-packages/jupyter_contrib_nbextensions/nbextensions/keyboard_shortcut_editor/readme_reset_disabled.png -> /Users/sejoon/Library/Jupyter/nbextensions/keyboard_shortcut_editor/readme_reset_disabled.png\r\n",
      "\u001b[32m[I 08:32:53 InstallContribNbextensionsApp]\u001b[m Copying: /Users/sejoon/opt/anaconda3/lib/python3.9/site-packages/jupyter_contrib_nbextensions/nbextensions/keyboard_shortcut_editor/readme_add_new_link.png -> /Users/sejoon/Library/Jupyter/nbextensions/keyboard_shortcut_editor/readme_add_new_link.png\r\n",
      "\u001b[32m[I 08:32:53 InstallContribNbextensionsApp]\u001b[m Copying: /Users/sejoon/opt/anaconda3/lib/python3.9/site-packages/jupyter_contrib_nbextensions/nbextensions/keyboard_shortcut_editor/main.js -> /Users/sejoon/Library/Jupyter/nbextensions/keyboard_shortcut_editor/main.js\r\n",
      "\u001b[32m[I 08:32:53 InstallContribNbextensionsApp]\u001b[m Copying: /Users/sejoon/opt/anaconda3/lib/python3.9/site-packages/jupyter_contrib_nbextensions/nbextensions/keyboard_shortcut_editor/readme_dropdown.png -> /Users/sejoon/Library/Jupyter/nbextensions/keyboard_shortcut_editor/readme_dropdown.png\r\n"
     ]
    },
    {
     "name": "stdout",
     "output_type": "stream",
     "text": [
      "\u001b[32m[I 08:32:53 InstallContribNbextensionsApp]\u001b[m Copying: /Users/sejoon/opt/anaconda3/lib/python3.9/site-packages/jupyter_contrib_nbextensions/nbextensions/keyboard_shortcut_editor/quickhelp_shim.js -> /Users/sejoon/Library/Jupyter/nbextensions/keyboard_shortcut_editor/quickhelp_shim.js\r\n",
      "\u001b[32m[I 08:32:53 InstallContribNbextensionsApp]\u001b[m Copying: /Users/sejoon/opt/anaconda3/lib/python3.9/site-packages/jupyter_contrib_nbextensions/nbextensions/keyboard_shortcut_editor/readme_add_new_select_action.png -> /Users/sejoon/Library/Jupyter/nbextensions/keyboard_shortcut_editor/readme_add_new_select_action.png\r\n",
      "\u001b[32m[I 08:32:53 InstallContribNbextensionsApp]\u001b[m Copying: /Users/sejoon/opt/anaconda3/lib/python3.9/site-packages/jupyter_contrib_nbextensions/nbextensions/keyboard_shortcut_editor/kse_components.js -> /Users/sejoon/Library/Jupyter/nbextensions/keyboard_shortcut_editor/kse_components.js\r\n",
      "\u001b[32m[I 08:32:53 InstallContribNbextensionsApp]\u001b[m Copying: /Users/sejoon/opt/anaconda3/lib/python3.9/site-packages/jupyter_contrib_nbextensions/nbextensions/keyboard_shortcut_editor/readme_undefined_key.png -> /Users/sejoon/Library/Jupyter/nbextensions/keyboard_shortcut_editor/readme_undefined_key.png\r\n",
      "\u001b[32m[I 08:32:53 InstallContribNbextensionsApp]\u001b[m Copying: /Users/sejoon/opt/anaconda3/lib/python3.9/site-packages/jupyter_contrib_nbextensions/nbextensions/keyboard_shortcut_editor/readme_conflict.png -> /Users/sejoon/Library/Jupyter/nbextensions/keyboard_shortcut_editor/readme_conflict.png\r\n",
      "\u001b[32m[I 08:32:53 InstallContribNbextensionsApp]\u001b[m Copying: /Users/sejoon/opt/anaconda3/lib/python3.9/site-packages/jupyter_contrib_nbextensions/nbextensions/keyboard_shortcut_editor/readme_menu_item.png -> /Users/sejoon/Library/Jupyter/nbextensions/keyboard_shortcut_editor/readme_menu_item.png\r\n",
      "\u001b[32m[I 08:32:53 InstallContribNbextensionsApp]\u001b[m - Validating: \u001b[32mOK\u001b[0m\r\n",
      "\u001b[32m[I 08:32:53 InstallContribNbextensionsApp]\u001b[m Installing /Users/sejoon/opt/anaconda3/lib/python3.9/site-packages/jupyter_contrib_nbextensions/nbextensions/help_panel -> help_panel\r\n",
      "\u001b[32m[I 08:32:53 InstallContribNbextensionsApp]\u001b[m Making directory: /Users/sejoon/Library/Jupyter/nbextensions/help_panel/\r\n",
      "\u001b[32m[I 08:32:53 InstallContribNbextensionsApp]\u001b[m Copying: /Users/sejoon/opt/anaconda3/lib/python3.9/site-packages/jupyter_contrib_nbextensions/nbextensions/help_panel/icon.png -> /Users/sejoon/Library/Jupyter/nbextensions/help_panel/icon.png\r\n",
      "\u001b[32m[I 08:32:53 InstallContribNbextensionsApp]\u001b[m Copying: /Users/sejoon/opt/anaconda3/lib/python3.9/site-packages/jupyter_contrib_nbextensions/nbextensions/help_panel/help_panel_ext.png -> /Users/sejoon/Library/Jupyter/nbextensions/help_panel/help_panel_ext.png\r\n",
      "\u001b[32m[I 08:32:53 InstallContribNbextensionsApp]\u001b[m Copying: /Users/sejoon/opt/anaconda3/lib/python3.9/site-packages/jupyter_contrib_nbextensions/nbextensions/help_panel/readme.md -> /Users/sejoon/Library/Jupyter/nbextensions/help_panel/readme.md\r\n",
      "\u001b[32m[I 08:32:53 InstallContribNbextensionsApp]\u001b[m Copying: /Users/sejoon/opt/anaconda3/lib/python3.9/site-packages/jupyter_contrib_nbextensions/nbextensions/help_panel/help_panel_ext_fullscreen.png -> /Users/sejoon/Library/Jupyter/nbextensions/help_panel/help_panel_ext_fullscreen.png\r\n",
      "\u001b[32m[I 08:32:53 InstallContribNbextensionsApp]\u001b[m Copying: /Users/sejoon/opt/anaconda3/lib/python3.9/site-packages/jupyter_contrib_nbextensions/nbextensions/help_panel/help_panel.yaml -> /Users/sejoon/Library/Jupyter/nbextensions/help_panel/help_panel.yaml\r\n",
      "\u001b[32m[I 08:32:53 InstallContribNbextensionsApp]\u001b[m Copying: /Users/sejoon/opt/anaconda3/lib/python3.9/site-packages/jupyter_contrib_nbextensions/nbextensions/help_panel/help_panel.css -> /Users/sejoon/Library/Jupyter/nbextensions/help_panel/help_panel.css\r\n",
      "\u001b[32m[I 08:32:53 InstallContribNbextensionsApp]\u001b[m Copying: /Users/sejoon/opt/anaconda3/lib/python3.9/site-packages/jupyter_contrib_nbextensions/nbextensions/help_panel/help_panel.js -> /Users/sejoon/Library/Jupyter/nbextensions/help_panel/help_panel.js\r\n",
      "\u001b[32m[I 08:32:53 InstallContribNbextensionsApp]\u001b[m Making directory: /Users/sejoon/Library/Jupyter/nbextensions/help_panel/img\r\n",
      "\u001b[32m[I 08:32:53 InstallContribNbextensionsApp]\u001b[m Copying: /Users/sejoon/opt/anaconda3/lib/python3.9/site-packages/jupyter_contrib_nbextensions/nbextensions/help_panel/img/handle-v.png -> /Users/sejoon/Library/Jupyter/nbextensions/help_panel/img/handle-v.png\r\n",
      "\u001b[32m[I 08:32:53 InstallContribNbextensionsApp]\u001b[m - Validating: \u001b[32mOK\u001b[0m\r\n",
      "\u001b[32m[I 08:32:53 InstallContribNbextensionsApp]\u001b[m Installing /Users/sejoon/opt/anaconda3/lib/python3.9/site-packages/jupyter_contrib_nbextensions/nbextensions/move_selected_cells -> move_selected_cells\r\n",
      "\u001b[32m[I 08:32:53 InstallContribNbextensionsApp]\u001b[m Making directory: /Users/sejoon/Library/Jupyter/nbextensions/move_selected_cells/\r\n",
      "\u001b[32m[I 08:32:53 InstallContribNbextensionsApp]\u001b[m Copying: /Users/sejoon/opt/anaconda3/lib/python3.9/site-packages/jupyter_contrib_nbextensions/nbextensions/move_selected_cells/README.md -> /Users/sejoon/Library/Jupyter/nbextensions/move_selected_cells/README.md\r\n",
      "\u001b[32m[I 08:32:53 InstallContribNbextensionsApp]\u001b[m Copying: /Users/sejoon/opt/anaconda3/lib/python3.9/site-packages/jupyter_contrib_nbextensions/nbextensions/move_selected_cells/main.js -> /Users/sejoon/Library/Jupyter/nbextensions/move_selected_cells/main.js\r\n",
      "\u001b[32m[I 08:32:53 InstallContribNbextensionsApp]\u001b[m Copying: /Users/sejoon/opt/anaconda3/lib/python3.9/site-packages/jupyter_contrib_nbextensions/nbextensions/move_selected_cells/move_selected_cells.yaml -> /Users/sejoon/Library/Jupyter/nbextensions/move_selected_cells/move_selected_cells.yaml\r\n",
      "\u001b[32m[I 08:32:53 InstallContribNbextensionsApp]\u001b[m - Validating: \u001b[32mOK\u001b[0m\r\n",
      "\u001b[32m[I 08:32:53 InstallContribNbextensionsApp]\u001b[m Installing /Users/sejoon/opt/anaconda3/lib/python3.9/site-packages/jupyter_contrib_nbextensions/nbextensions/zenmode -> zenmode\r\n",
      "\u001b[32m[I 08:32:53 InstallContribNbextensionsApp]\u001b[m Making directory: /Users/sejoon/Library/Jupyter/nbextensions/zenmode/\r\n",
      "\u001b[32m[I 08:32:53 InstallContribNbextensionsApp]\u001b[m Copying: /Users/sejoon/opt/anaconda3/lib/python3.9/site-packages/jupyter_contrib_nbextensions/nbextensions/zenmode/main.css -> /Users/sejoon/Library/Jupyter/nbextensions/zenmode/main.css\r\n",
      "\u001b[32m[I 08:32:53 InstallContribNbextensionsApp]\u001b[m Copying: /Users/sejoon/opt/anaconda3/lib/python3.9/site-packages/jupyter_contrib_nbextensions/nbextensions/zenmode/README.md -> /Users/sejoon/Library/Jupyter/nbextensions/zenmode/README.md\r\n",
      "\u001b[32m[I 08:32:53 InstallContribNbextensionsApp]\u001b[m Copying: /Users/sejoon/opt/anaconda3/lib/python3.9/site-packages/jupyter_contrib_nbextensions/nbextensions/zenmode/main.js -> /Users/sejoon/Library/Jupyter/nbextensions/zenmode/main.js\r\n",
      "\u001b[32m[I 08:32:53 InstallContribNbextensionsApp]\u001b[m Copying: /Users/sejoon/opt/anaconda3/lib/python3.9/site-packages/jupyter_contrib_nbextensions/nbextensions/zenmode/zenmode.yaml -> /Users/sejoon/Library/Jupyter/nbextensions/zenmode/zenmode.yaml\r\n",
      "\u001b[32m[I 08:32:53 InstallContribNbextensionsApp]\u001b[m Making directory: /Users/sejoon/Library/Jupyter/nbextensions/zenmode/images\r\n",
      "\u001b[32m[I 08:32:53 InstallContribNbextensionsApp]\u001b[m Copying: /Users/sejoon/opt/anaconda3/lib/python3.9/site-packages/jupyter_contrib_nbextensions/nbextensions/zenmode/images/back12.jpg -> /Users/sejoon/Library/Jupyter/nbextensions/zenmode/images/back12.jpg\r\n",
      "\u001b[32m[I 08:32:53 InstallContribNbextensionsApp]\u001b[m Copying: /Users/sejoon/opt/anaconda3/lib/python3.9/site-packages/jupyter_contrib_nbextensions/nbextensions/zenmode/images/back11.jpg -> /Users/sejoon/Library/Jupyter/nbextensions/zenmode/images/back11.jpg\r\n",
      "\u001b[32m[I 08:32:53 InstallContribNbextensionsApp]\u001b[m Copying: /Users/sejoon/opt/anaconda3/lib/python3.9/site-packages/jupyter_contrib_nbextensions/nbextensions/zenmode/images/back2.jpg -> /Users/sejoon/Library/Jupyter/nbextensions/zenmode/images/back2.jpg\r\n",
      "\u001b[32m[I 08:32:53 InstallContribNbextensionsApp]\u001b[m Copying: /Users/sejoon/opt/anaconda3/lib/python3.9/site-packages/jupyter_contrib_nbextensions/nbextensions/zenmode/images/back3.jpg -> /Users/sejoon/Library/Jupyter/nbextensions/zenmode/images/back3.jpg\r\n",
      "\u001b[32m[I 08:32:53 InstallContribNbextensionsApp]\u001b[m Copying: /Users/sejoon/opt/anaconda3/lib/python3.9/site-packages/jupyter_contrib_nbextensions/nbextensions/zenmode/images/back1.jpg -> /Users/sejoon/Library/Jupyter/nbextensions/zenmode/images/back1.jpg\r\n",
      "\u001b[32m[I 08:32:53 InstallContribNbextensionsApp]\u001b[m Copying: /Users/sejoon/opt/anaconda3/lib/python3.9/site-packages/jupyter_contrib_nbextensions/nbextensions/zenmode/images/ipynblogo1.png -> /Users/sejoon/Library/Jupyter/nbextensions/zenmode/images/ipynblogo1.png\r\n",
      "\u001b[32m[I 08:32:53 InstallContribNbextensionsApp]\u001b[m Copying: /Users/sejoon/opt/anaconda3/lib/python3.9/site-packages/jupyter_contrib_nbextensions/nbextensions/zenmode/images/ipynblogo0.png -> /Users/sejoon/Library/Jupyter/nbextensions/zenmode/images/ipynblogo0.png\r\n",
      "\u001b[32m[I 08:32:53 InstallContribNbextensionsApp]\u001b[m Copying: /Users/sejoon/opt/anaconda3/lib/python3.9/site-packages/jupyter_contrib_nbextensions/nbextensions/zenmode/images/back21.jpg -> /Users/sejoon/Library/Jupyter/nbextensions/zenmode/images/back21.jpg\r\n",
      "\u001b[32m[I 08:32:53 InstallContribNbextensionsApp]\u001b[m Copying: /Users/sejoon/opt/anaconda3/lib/python3.9/site-packages/jupyter_contrib_nbextensions/nbextensions/zenmode/images/back22.jpg -> /Users/sejoon/Library/Jupyter/nbextensions/zenmode/images/back22.jpg\r\n",
      "\u001b[32m[I 08:32:53 InstallContribNbextensionsApp]\u001b[m - Validating: \u001b[32mOK\u001b[0m\r\n",
      "\u001b[32m[I 08:32:53 InstallContribNbextensionsApp]\u001b[m Installing /Users/sejoon/opt/anaconda3/lib/python3.9/site-packages/jupyter_contrib_nbextensions/nbextensions/skip-traceback -> skip-traceback\r\n",
      "\u001b[32m[I 08:32:53 InstallContribNbextensionsApp]\u001b[m Making directory: /Users/sejoon/Library/Jupyter/nbextensions/skip-traceback/\r\n",
      "\u001b[32m[I 08:32:53 InstallContribNbextensionsApp]\u001b[m Copying: /Users/sejoon/opt/anaconda3/lib/python3.9/site-packages/jupyter_contrib_nbextensions/nbextensions/skip-traceback/icon.png -> /Users/sejoon/Library/Jupyter/nbextensions/skip-traceback/icon.png\r\n"
     ]
    },
    {
     "name": "stdout",
     "output_type": "stream",
     "text": [
      "\u001b[32m[I 08:32:53 InstallContribNbextensionsApp]\u001b[m Copying: /Users/sejoon/opt/anaconda3/lib/python3.9/site-packages/jupyter_contrib_nbextensions/nbextensions/skip-traceback/traceback.png -> /Users/sejoon/Library/Jupyter/nbextensions/skip-traceback/traceback.png\r\n",
      "\u001b[32m[I 08:32:53 InstallContribNbextensionsApp]\u001b[m Copying: /Users/sejoon/opt/anaconda3/lib/python3.9/site-packages/jupyter_contrib_nbextensions/nbextensions/skip-traceback/readme.md -> /Users/sejoon/Library/Jupyter/nbextensions/skip-traceback/readme.md\r\n",
      "\u001b[32m[I 08:32:53 InstallContribNbextensionsApp]\u001b[m Copying: /Users/sejoon/opt/anaconda3/lib/python3.9/site-packages/jupyter_contrib_nbextensions/nbextensions/skip-traceback/main.js -> /Users/sejoon/Library/Jupyter/nbextensions/skip-traceback/main.js\r\n",
      "\u001b[32m[I 08:32:53 InstallContribNbextensionsApp]\u001b[m Copying: /Users/sejoon/opt/anaconda3/lib/python3.9/site-packages/jupyter_contrib_nbextensions/nbextensions/skip-traceback/skip-traceback.yaml -> /Users/sejoon/Library/Jupyter/nbextensions/skip-traceback/skip-traceback.yaml\r\n",
      "\u001b[32m[I 08:32:53 InstallContribNbextensionsApp]\u001b[m Copying: /Users/sejoon/opt/anaconda3/lib/python3.9/site-packages/jupyter_contrib_nbextensions/nbextensions/skip-traceback/skip-traceback.png -> /Users/sejoon/Library/Jupyter/nbextensions/skip-traceback/skip-traceback.png\r\n",
      "\u001b[32m[I 08:32:53 InstallContribNbextensionsApp]\u001b[m - Validating: \u001b[32mOK\u001b[0m\r\n",
      "\u001b[32m[I 08:32:53 InstallContribNbextensionsApp]\u001b[m Installing /Users/sejoon/opt/anaconda3/lib/python3.9/site-packages/jupyter_contrib_nbextensions/nbextensions/python-markdown -> python-markdown\r\n",
      "\u001b[32m[I 08:32:53 InstallContribNbextensionsApp]\u001b[m Making directory: /Users/sejoon/Library/Jupyter/nbextensions/python-markdown/\r\n",
      "\u001b[32m[I 08:32:53 InstallContribNbextensionsApp]\u001b[m Copying: /Users/sejoon/opt/anaconda3/lib/python3.9/site-packages/jupyter_contrib_nbextensions/nbextensions/python-markdown/untrusted.png -> /Users/sejoon/Library/Jupyter/nbextensions/python-markdown/untrusted.png\r\n",
      "\u001b[32m[I 08:32:53 InstallContribNbextensionsApp]\u001b[m Copying: /Users/sejoon/opt/anaconda3/lib/python3.9/site-packages/jupyter_contrib_nbextensions/nbextensions/python-markdown/python-markdown-pre.png -> /Users/sejoon/Library/Jupyter/nbextensions/python-markdown/python-markdown-pre.png\r\n",
      "\u001b[32m[I 08:32:53 InstallContribNbextensionsApp]\u001b[m Copying: /Users/sejoon/opt/anaconda3/lib/python3.9/site-packages/jupyter_contrib_nbextensions/nbextensions/python-markdown/main.css -> /Users/sejoon/Library/Jupyter/nbextensions/python-markdown/main.css\r\n",
      "\u001b[32m[I 08:32:53 InstallContribNbextensionsApp]\u001b[m Copying: /Users/sejoon/opt/anaconda3/lib/python3.9/site-packages/jupyter_contrib_nbextensions/nbextensions/python-markdown/readme.md -> /Users/sejoon/Library/Jupyter/nbextensions/python-markdown/readme.md\r\n",
      "\u001b[32m[I 08:32:53 InstallContribNbextensionsApp]\u001b[m Copying: /Users/sejoon/opt/anaconda3/lib/python3.9/site-packages/jupyter_contrib_nbextensions/nbextensions/python-markdown/main.js -> /Users/sejoon/Library/Jupyter/nbextensions/python-markdown/main.js\r\n",
      "\u001b[32m[I 08:32:53 InstallContribNbextensionsApp]\u001b[m Copying: /Users/sejoon/opt/anaconda3/lib/python3.9/site-packages/jupyter_contrib_nbextensions/nbextensions/python-markdown/python-markdown.png -> /Users/sejoon/Library/Jupyter/nbextensions/python-markdown/python-markdown.png\r\n",
      "\u001b[32m[I 08:32:53 InstallContribNbextensionsApp]\u001b[m Copying: /Users/sejoon/opt/anaconda3/lib/python3.9/site-packages/jupyter_contrib_nbextensions/nbextensions/python-markdown/trusted.png -> /Users/sejoon/Library/Jupyter/nbextensions/python-markdown/trusted.png\r\n",
      "\u001b[32m[I 08:32:53 InstallContribNbextensionsApp]\u001b[m Copying: /Users/sejoon/opt/anaconda3/lib/python3.9/site-packages/jupyter_contrib_nbextensions/nbextensions/python-markdown/python-markdown.yaml -> /Users/sejoon/Library/Jupyter/nbextensions/python-markdown/python-markdown.yaml\r\n",
      "\u001b[32m[I 08:32:53 InstallContribNbextensionsApp]\u001b[m Copying: /Users/sejoon/opt/anaconda3/lib/python3.9/site-packages/jupyter_contrib_nbextensions/nbextensions/python-markdown/python-markdown-post.png -> /Users/sejoon/Library/Jupyter/nbextensions/python-markdown/python-markdown-post.png\r\n",
      "\u001b[32m[I 08:32:53 InstallContribNbextensionsApp]\u001b[m - Validating: \u001b[32mOK\u001b[0m\r\n",
      "\u001b[32m[I 08:32:53 InstallContribNbextensionsApp]\u001b[m Installing /Users/sejoon/opt/anaconda3/lib/python3.9/site-packages/jupyter_contrib_nbextensions/nbextensions/codefolding -> codefolding\r\n",
      "\u001b[32m[I 08:32:53 InstallContribNbextensionsApp]\u001b[m Making directory: /Users/sejoon/Library/Jupyter/nbextensions/codefolding/\r\n",
      "\u001b[32m[I 08:32:53 InstallContribNbextensionsApp]\u001b[m Copying: /Users/sejoon/opt/anaconda3/lib/python3.9/site-packages/jupyter_contrib_nbextensions/nbextensions/codefolding/codefolding_editor.yaml -> /Users/sejoon/Library/Jupyter/nbextensions/codefolding/codefolding_editor.yaml\r\n",
      "\u001b[32m[I 08:32:53 InstallContribNbextensionsApp]\u001b[m Copying: /Users/sejoon/opt/anaconda3/lib/python3.9/site-packages/jupyter_contrib_nbextensions/nbextensions/codefolding/icon.png -> /Users/sejoon/Library/Jupyter/nbextensions/codefolding/icon.png\r\n",
      "\u001b[32m[I 08:32:53 InstallContribNbextensionsApp]\u001b[m Copying: /Users/sejoon/opt/anaconda3/lib/python3.9/site-packages/jupyter_contrib_nbextensions/nbextensions/codefolding/codefolding_firstline_folded.png -> /Users/sejoon/Library/Jupyter/nbextensions/codefolding/codefolding_firstline_folded.png\r\n",
      "\u001b[32m[I 08:32:53 InstallContribNbextensionsApp]\u001b[m Copying: /Users/sejoon/opt/anaconda3/lib/python3.9/site-packages/jupyter_contrib_nbextensions/nbextensions/codefolding/codefolding_indent_folded_2.png -> /Users/sejoon/Library/Jupyter/nbextensions/codefolding/codefolding_indent_folded_2.png\r\n",
      "\u001b[32m[I 08:32:53 InstallContribNbextensionsApp]\u001b[m Copying: /Users/sejoon/opt/anaconda3/lib/python3.9/site-packages/jupyter_contrib_nbextensions/nbextensions/codefolding/codefolding_indent_folded_1.png -> /Users/sejoon/Library/Jupyter/nbextensions/codefolding/codefolding_indent_folded_1.png\r\n",
      "\u001b[32m[I 08:32:53 InstallContribNbextensionsApp]\u001b[m Copying: /Users/sejoon/opt/anaconda3/lib/python3.9/site-packages/jupyter_contrib_nbextensions/nbextensions/codefolding/edit.js -> /Users/sejoon/Library/Jupyter/nbextensions/codefolding/edit.js\r\n",
      "\u001b[32m[I 08:32:53 InstallContribNbextensionsApp]\u001b[m Copying: /Users/sejoon/opt/anaconda3/lib/python3.9/site-packages/jupyter_contrib_nbextensions/nbextensions/codefolding/magic-fold.js -> /Users/sejoon/Library/Jupyter/nbextensions/codefolding/magic-fold.js\r\n",
      "\u001b[32m[I 08:32:53 InstallContribNbextensionsApp]\u001b[m Copying: /Users/sejoon/opt/anaconda3/lib/python3.9/site-packages/jupyter_contrib_nbextensions/nbextensions/codefolding/firstline-fold.js -> /Users/sejoon/Library/Jupyter/nbextensions/codefolding/firstline-fold.js\r\n",
      "\u001b[32m[I 08:32:53 InstallContribNbextensionsApp]\u001b[m Copying: /Users/sejoon/opt/anaconda3/lib/python3.9/site-packages/jupyter_contrib_nbextensions/nbextensions/codefolding/codefolding_firstline_unfolded.png -> /Users/sejoon/Library/Jupyter/nbextensions/codefolding/codefolding_firstline_unfolded.png\r\n",
      "\u001b[32m[I 08:32:53 InstallContribNbextensionsApp]\u001b[m Copying: /Users/sejoon/opt/anaconda3/lib/python3.9/site-packages/jupyter_contrib_nbextensions/nbextensions/codefolding/readme.md -> /Users/sejoon/Library/Jupyter/nbextensions/codefolding/readme.md\r\n",
      "\u001b[32m[I 08:32:53 InstallContribNbextensionsApp]\u001b[m Copying: /Users/sejoon/opt/anaconda3/lib/python3.9/site-packages/jupyter_contrib_nbextensions/nbextensions/codefolding/main.js -> /Users/sejoon/Library/Jupyter/nbextensions/codefolding/main.js\r\n",
      "\u001b[32m[I 08:32:53 InstallContribNbextensionsApp]\u001b[m Copying: /Users/sejoon/opt/anaconda3/lib/python3.9/site-packages/jupyter_contrib_nbextensions/nbextensions/codefolding/magic-unfolded.png -> /Users/sejoon/Library/Jupyter/nbextensions/codefolding/magic-unfolded.png\r\n",
      "\u001b[32m[I 08:32:53 InstallContribNbextensionsApp]\u001b[m Copying: /Users/sejoon/opt/anaconda3/lib/python3.9/site-packages/jupyter_contrib_nbextensions/nbextensions/codefolding/foldgutter.css -> /Users/sejoon/Library/Jupyter/nbextensions/codefolding/foldgutter.css\r\n",
      "\u001b[32m[I 08:32:53 InstallContribNbextensionsApp]\u001b[m Copying: /Users/sejoon/opt/anaconda3/lib/python3.9/site-packages/jupyter_contrib_nbextensions/nbextensions/codefolding/magic-folded.png -> /Users/sejoon/Library/Jupyter/nbextensions/codefolding/magic-folded.png\r\n",
      "\u001b[32m[I 08:32:53 InstallContribNbextensionsApp]\u001b[m Copying: /Users/sejoon/opt/anaconda3/lib/python3.9/site-packages/jupyter_contrib_nbextensions/nbextensions/codefolding/codefolding.yaml -> /Users/sejoon/Library/Jupyter/nbextensions/codefolding/codefolding.yaml\r\n",
      "\u001b[32m[I 08:32:53 InstallContribNbextensionsApp]\u001b[m Copying: /Users/sejoon/opt/anaconda3/lib/python3.9/site-packages/jupyter_contrib_nbextensions/nbextensions/codefolding/codefolding_editor.png -> /Users/sejoon/Library/Jupyter/nbextensions/codefolding/codefolding_editor.png\r\n",
      "\u001b[32m[I 08:32:53 InstallContribNbextensionsApp]\u001b[m Copying: /Users/sejoon/opt/anaconda3/lib/python3.9/site-packages/jupyter_contrib_nbextensions/nbextensions/codefolding/codefolding_indent_unfolded.png -> /Users/sejoon/Library/Jupyter/nbextensions/codefolding/codefolding_indent_unfolded.png\r\n",
      "\u001b[32m[I 08:32:53 InstallContribNbextensionsApp]\u001b[m Copying: /Users/sejoon/opt/anaconda3/lib/python3.9/site-packages/jupyter_contrib_nbextensions/nbextensions/codefolding/blockcomment-fold.js -> /Users/sejoon/Library/Jupyter/nbextensions/codefolding/blockcomment-fold.js\r\n",
      "\u001b[32m[I 08:32:53 InstallContribNbextensionsApp]\u001b[m - Validating: \u001b[32mOK\u001b[0m\r\n",
      "\u001b[32m[I 08:32:53 InstallContribNbextensionsApp]\u001b[m Installing /Users/sejoon/opt/anaconda3/lib/python3.9/site-packages/jupyter_contrib_nbextensions/nbextensions/codefolding -> codefolding\r\n",
      "\u001b[32m[I 08:32:53 InstallContribNbextensionsApp]\u001b[m Up to date: /Users/sejoon/Library/Jupyter/nbextensions/codefolding/codefolding_editor.yaml\r\n",
      "\u001b[32m[I 08:32:53 InstallContribNbextensionsApp]\u001b[m Up to date: /Users/sejoon/Library/Jupyter/nbextensions/codefolding/icon.png\r\n",
      "\u001b[32m[I 08:32:53 InstallContribNbextensionsApp]\u001b[m Up to date: /Users/sejoon/Library/Jupyter/nbextensions/codefolding/codefolding_firstline_folded.png\r\n",
      "\u001b[32m[I 08:32:53 InstallContribNbextensionsApp]\u001b[m Up to date: /Users/sejoon/Library/Jupyter/nbextensions/codefolding/codefolding_indent_folded_2.png\r\n",
      "\u001b[32m[I 08:32:53 InstallContribNbextensionsApp]\u001b[m Up to date: /Users/sejoon/Library/Jupyter/nbextensions/codefolding/codefolding_indent_folded_1.png\r\n",
      "\u001b[32m[I 08:32:53 InstallContribNbextensionsApp]\u001b[m Up to date: /Users/sejoon/Library/Jupyter/nbextensions/codefolding/edit.js\r\n",
      "\u001b[32m[I 08:32:53 InstallContribNbextensionsApp]\u001b[m Up to date: /Users/sejoon/Library/Jupyter/nbextensions/codefolding/magic-fold.js\r\n",
      "\u001b[32m[I 08:32:53 InstallContribNbextensionsApp]\u001b[m Up to date: /Users/sejoon/Library/Jupyter/nbextensions/codefolding/firstline-fold.js\r\n",
      "\u001b[32m[I 08:32:53 InstallContribNbextensionsApp]\u001b[m Up to date: /Users/sejoon/Library/Jupyter/nbextensions/codefolding/codefolding_firstline_unfolded.png\r\n",
      "\u001b[32m[I 08:32:53 InstallContribNbextensionsApp]\u001b[m Up to date: /Users/sejoon/Library/Jupyter/nbextensions/codefolding/readme.md\r\n",
      "\u001b[32m[I 08:32:53 InstallContribNbextensionsApp]\u001b[m Up to date: /Users/sejoon/Library/Jupyter/nbextensions/codefolding/main.js\r\n",
      "\u001b[32m[I 08:32:53 InstallContribNbextensionsApp]\u001b[m Up to date: /Users/sejoon/Library/Jupyter/nbextensions/codefolding/magic-unfolded.png\r\n",
      "\u001b[32m[I 08:32:53 InstallContribNbextensionsApp]\u001b[m Up to date: /Users/sejoon/Library/Jupyter/nbextensions/codefolding/foldgutter.css\r\n",
      "\u001b[32m[I 08:32:53 InstallContribNbextensionsApp]\u001b[m Up to date: /Users/sejoon/Library/Jupyter/nbextensions/codefolding/magic-folded.png\r\n",
      "\u001b[32m[I 08:32:53 InstallContribNbextensionsApp]\u001b[m Up to date: /Users/sejoon/Library/Jupyter/nbextensions/codefolding/codefolding.yaml\r\n",
      "\u001b[32m[I 08:32:53 InstallContribNbextensionsApp]\u001b[m Up to date: /Users/sejoon/Library/Jupyter/nbextensions/codefolding/codefolding_editor.png\r\n",
      "\u001b[32m[I 08:32:53 InstallContribNbextensionsApp]\u001b[m Up to date: /Users/sejoon/Library/Jupyter/nbextensions/codefolding/codefolding_indent_unfolded.png\r\n",
      "\u001b[32m[I 08:32:53 InstallContribNbextensionsApp]\u001b[m Up to date: /Users/sejoon/Library/Jupyter/nbextensions/codefolding/blockcomment-fold.js\r\n",
      "\u001b[32m[I 08:32:53 InstallContribNbextensionsApp]\u001b[m - Validating: \u001b[32mOK\u001b[0m\r\n",
      "\u001b[32m[I 08:32:53 InstallContribNbextensionsApp]\u001b[m Installing /Users/sejoon/opt/anaconda3/lib/python3.9/site-packages/jupyter_contrib_nbextensions/nbextensions/collapsible_headings -> collapsible_headings\r\n",
      "\u001b[32m[I 08:32:53 InstallContribNbextensionsApp]\u001b[m Making directory: /Users/sejoon/Library/Jupyter/nbextensions/collapsible_headings/\r\n",
      "\u001b[32m[I 08:32:53 InstallContribNbextensionsApp]\u001b[m Copying: /Users/sejoon/opt/anaconda3/lib/python3.9/site-packages/jupyter_contrib_nbextensions/nbextensions/collapsible_headings/icon.png -> /Users/sejoon/Library/Jupyter/nbextensions/collapsible_headings/icon.png\r\n",
      "\u001b[32m[I 08:32:53 InstallContribNbextensionsApp]\u001b[m Copying: /Users/sejoon/opt/anaconda3/lib/python3.9/site-packages/jupyter_contrib_nbextensions/nbextensions/collapsible_headings/screenshot.png -> /Users/sejoon/Library/Jupyter/nbextensions/collapsible_headings/screenshot.png\r\n",
      "\u001b[32m[I 08:32:53 InstallContribNbextensionsApp]\u001b[m Copying: /Users/sejoon/opt/anaconda3/lib/python3.9/site-packages/jupyter_contrib_nbextensions/nbextensions/collapsible_headings/main.css -> /Users/sejoon/Library/Jupyter/nbextensions/collapsible_headings/main.css\r\n",
      "\u001b[32m[I 08:32:53 InstallContribNbextensionsApp]\u001b[m Copying: /Users/sejoon/opt/anaconda3/lib/python3.9/site-packages/jupyter_contrib_nbextensions/nbextensions/collapsible_headings/readme.md -> /Users/sejoon/Library/Jupyter/nbextensions/collapsible_headings/readme.md\r\n",
      "\u001b[32m[I 08:32:53 InstallContribNbextensionsApp]\u001b[m Copying: /Users/sejoon/opt/anaconda3/lib/python3.9/site-packages/jupyter_contrib_nbextensions/nbextensions/collapsible_headings/main.js -> /Users/sejoon/Library/Jupyter/nbextensions/collapsible_headings/main.js\r\n",
      "\u001b[32m[I 08:32:53 InstallContribNbextensionsApp]\u001b[m Copying: /Users/sejoon/opt/anaconda3/lib/python3.9/site-packages/jupyter_contrib_nbextensions/nbextensions/collapsible_headings/collapsible_headings.yaml -> /Users/sejoon/Library/Jupyter/nbextensions/collapsible_headings/collapsible_headings.yaml\r\n",
      "\u001b[32m[I 08:32:53 InstallContribNbextensionsApp]\u001b[m - Validating: \u001b[32mOK\u001b[0m\r\n",
      "\u001b[32m[I 08:32:53 InstallContribNbextensionsApp]\u001b[m Installing /Users/sejoon/opt/anaconda3/lib/python3.9/site-packages/jupyter_contrib_nbextensions/nbextensions/exercise -> exercise\r\n",
      "\u001b[32m[I 08:32:53 InstallContribNbextensionsApp]\u001b[m Making directory: /Users/sejoon/Library/Jupyter/nbextensions/exercise/\r\n",
      "\u001b[32m[I 08:32:53 InstallContribNbextensionsApp]\u001b[m Copying: /Users/sejoon/opt/anaconda3/lib/python3.9/site-packages/jupyter_contrib_nbextensions/nbextensions/exercise/icon.png -> /Users/sejoon/Library/Jupyter/nbextensions/exercise/icon.png\r\n",
      "\u001b[32m[I 08:32:53 InstallContribNbextensionsApp]\u001b[m Copying: /Users/sejoon/opt/anaconda3/lib/python3.9/site-packages/jupyter_contrib_nbextensions/nbextensions/exercise/history.md -> /Users/sejoon/Library/Jupyter/nbextensions/exercise/history.md\r\n",
      "\u001b[32m[I 08:32:53 InstallContribNbextensionsApp]\u001b[m Copying: /Users/sejoon/opt/anaconda3/lib/python3.9/site-packages/jupyter_contrib_nbextensions/nbextensions/exercise/main.css -> /Users/sejoon/Library/Jupyter/nbextensions/exercise/main.css\r\n",
      "\u001b[32m[I 08:32:53 InstallContribNbextensionsApp]\u001b[m Copying: /Users/sejoon/opt/anaconda3/lib/python3.9/site-packages/jupyter_contrib_nbextensions/nbextensions/exercise/image.gif -> /Users/sejoon/Library/Jupyter/nbextensions/exercise/image.gif\r\n",
      "\u001b[32m[I 08:32:53 InstallContribNbextensionsApp]\u001b[m Copying: /Users/sejoon/opt/anaconda3/lib/python3.9/site-packages/jupyter_contrib_nbextensions/nbextensions/exercise/readme.md -> /Users/sejoon/Library/Jupyter/nbextensions/exercise/readme.md\r\n",
      "\u001b[32m[I 08:32:53 InstallContribNbextensionsApp]\u001b[m Copying: /Users/sejoon/opt/anaconda3/lib/python3.9/site-packages/jupyter_contrib_nbextensions/nbextensions/exercise/main.js -> /Users/sejoon/Library/Jupyter/nbextensions/exercise/main.js\r\n",
      "\u001b[32m[I 08:32:53 InstallContribNbextensionsApp]\u001b[m Copying: /Users/sejoon/opt/anaconda3/lib/python3.9/site-packages/jupyter_contrib_nbextensions/nbextensions/exercise/exercise.yaml -> /Users/sejoon/Library/Jupyter/nbextensions/exercise/exercise.yaml\r\n",
      "\u001b[32m[I 08:32:53 InstallContribNbextensionsApp]\u001b[m - Validating: \u001b[32mOK\u001b[0m\r\n",
      "\u001b[32m[I 08:32:53 InstallContribNbextensionsApp]\u001b[m Installing /Users/sejoon/opt/anaconda3/lib/python3.9/site-packages/jupyter_contrib_nbextensions/nbextensions/codemirror_mode_extensions -> codemirror_mode_extensions\r\n",
      "\u001b[32m[I 08:32:53 InstallContribNbextensionsApp]\u001b[m Making directory: /Users/sejoon/Library/Jupyter/nbextensions/codemirror_mode_extensions/\r\n",
      "\u001b[32m[I 08:32:53 InstallContribNbextensionsApp]\u001b[m Copying: /Users/sejoon/opt/anaconda3/lib/python3.9/site-packages/jupyter_contrib_nbextensions/nbextensions/codemirror_mode_extensions/codemirror_mode_extensions.yaml -> /Users/sejoon/Library/Jupyter/nbextensions/codemirror_mode_extensions/codemirror_mode_extensions.yaml\r\n",
      "\u001b[32m[I 08:32:53 InstallContribNbextensionsApp]\u001b[m Copying: /Users/sejoon/opt/anaconda3/lib/python3.9/site-packages/jupyter_contrib_nbextensions/nbextensions/codemirror_mode_extensions/main.js -> /Users/sejoon/Library/Jupyter/nbextensions/codemirror_mode_extensions/main.js\r\n",
      "\u001b[32m[I 08:32:53 InstallContribNbextensionsApp]\u001b[m - Validating: \u001b[32mOK\u001b[0m\r\n",
      "\u001b[32m[I 08:32:53 InstallContribNbextensionsApp]\u001b[m Installing /Users/sejoon/opt/anaconda3/lib/python3.9/site-packages/jupyter_contrib_nbextensions/nbextensions/ruler -> ruler\r\n",
      "\u001b[32m[I 08:32:53 InstallContribNbextensionsApp]\u001b[m Making directory: /Users/sejoon/Library/Jupyter/nbextensions/ruler/\r\n",
      "\u001b[32m[I 08:32:53 InstallContribNbextensionsApp]\u001b[m Copying: /Users/sejoon/opt/anaconda3/lib/python3.9/site-packages/jupyter_contrib_nbextensions/nbextensions/ruler/icon.png -> /Users/sejoon/Library/Jupyter/nbextensions/ruler/icon.png\r\n",
      "\u001b[32m[I 08:32:53 InstallContribNbextensionsApp]\u001b[m Copying: /Users/sejoon/opt/anaconda3/lib/python3.9/site-packages/jupyter_contrib_nbextensions/nbextensions/ruler/edit.js -> /Users/sejoon/Library/Jupyter/nbextensions/ruler/edit.js\r\n",
      "\u001b[32m[I 08:32:53 InstallContribNbextensionsApp]\u001b[m Copying: /Users/sejoon/opt/anaconda3/lib/python3.9/site-packages/jupyter_contrib_nbextensions/nbextensions/ruler/ruler_editor.yaml -> /Users/sejoon/Library/Jupyter/nbextensions/ruler/ruler_editor.yaml\r\n",
      "\u001b[32m[I 08:32:53 InstallContribNbextensionsApp]\u001b[m Copying: /Users/sejoon/opt/anaconda3/lib/python3.9/site-packages/jupyter_contrib_nbextensions/nbextensions/ruler/readme.md -> /Users/sejoon/Library/Jupyter/nbextensions/ruler/readme.md\r\n"
     ]
    },
    {
     "name": "stdout",
     "output_type": "stream",
     "text": [
      "\u001b[32m[I 08:32:53 InstallContribNbextensionsApp]\u001b[m Copying: /Users/sejoon/opt/anaconda3/lib/python3.9/site-packages/jupyter_contrib_nbextensions/nbextensions/ruler/main.js -> /Users/sejoon/Library/Jupyter/nbextensions/ruler/main.js\r\n",
      "\u001b[32m[I 08:32:53 InstallContribNbextensionsApp]\u001b[m Copying: /Users/sejoon/opt/anaconda3/lib/python3.9/site-packages/jupyter_contrib_nbextensions/nbextensions/ruler/ruler.yaml -> /Users/sejoon/Library/Jupyter/nbextensions/ruler/ruler.yaml\r\n",
      "\u001b[32m[I 08:32:53 InstallContribNbextensionsApp]\u001b[m - Validating: \u001b[32mOK\u001b[0m\r\n",
      "\u001b[32m[I 08:32:53 InstallContribNbextensionsApp]\u001b[m Installing /Users/sejoon/opt/anaconda3/lib/python3.9/site-packages/jupyter_contrib_nbextensions/nbextensions/ruler -> ruler\r\n",
      "\u001b[32m[I 08:32:53 InstallContribNbextensionsApp]\u001b[m Up to date: /Users/sejoon/Library/Jupyter/nbextensions/ruler/icon.png\r\n",
      "\u001b[32m[I 08:32:53 InstallContribNbextensionsApp]\u001b[m Up to date: /Users/sejoon/Library/Jupyter/nbextensions/ruler/edit.js\r\n",
      "\u001b[32m[I 08:32:53 InstallContribNbextensionsApp]\u001b[m Up to date: /Users/sejoon/Library/Jupyter/nbextensions/ruler/ruler_editor.yaml\r\n",
      "\u001b[32m[I 08:32:53 InstallContribNbextensionsApp]\u001b[m Up to date: /Users/sejoon/Library/Jupyter/nbextensions/ruler/readme.md\r\n",
      "\u001b[32m[I 08:32:53 InstallContribNbextensionsApp]\u001b[m Up to date: /Users/sejoon/Library/Jupyter/nbextensions/ruler/main.js\r\n",
      "\u001b[32m[I 08:32:53 InstallContribNbextensionsApp]\u001b[m Up to date: /Users/sejoon/Library/Jupyter/nbextensions/ruler/ruler.yaml\r\n",
      "\u001b[32m[I 08:32:53 InstallContribNbextensionsApp]\u001b[m - Validating: \u001b[32mOK\u001b[0m\r\n",
      "\u001b[32m[I 08:32:53 InstallContribNbextensionsApp]\u001b[m Installing /Users/sejoon/opt/anaconda3/lib/python3.9/site-packages/jupyter_contrib_nbextensions/nbextensions/contrib_nbextensions_help_item -> contrib_nbextensions_help_item\r\n",
      "\u001b[32m[I 08:32:53 InstallContribNbextensionsApp]\u001b[m Making directory: /Users/sejoon/Library/Jupyter/nbextensions/contrib_nbextensions_help_item/\r\n",
      "\u001b[32m[I 08:32:53 InstallContribNbextensionsApp]\u001b[m Copying: /Users/sejoon/opt/anaconda3/lib/python3.9/site-packages/jupyter_contrib_nbextensions/nbextensions/contrib_nbextensions_help_item/README.md -> /Users/sejoon/Library/Jupyter/nbextensions/contrib_nbextensions_help_item/README.md\r\n",
      "\u001b[32m[I 08:32:53 InstallContribNbextensionsApp]\u001b[m Copying: /Users/sejoon/opt/anaconda3/lib/python3.9/site-packages/jupyter_contrib_nbextensions/nbextensions/contrib_nbextensions_help_item/main.js -> /Users/sejoon/Library/Jupyter/nbextensions/contrib_nbextensions_help_item/main.js\r\n",
      "\u001b[32m[I 08:32:53 InstallContribNbextensionsApp]\u001b[m Copying: /Users/sejoon/opt/anaconda3/lib/python3.9/site-packages/jupyter_contrib_nbextensions/nbextensions/contrib_nbextensions_help_item/contrib_nbextensions_help_item.yaml -> /Users/sejoon/Library/Jupyter/nbextensions/contrib_nbextensions_help_item/contrib_nbextensions_help_item.yaml\r\n",
      "\u001b[32m[I 08:32:53 InstallContribNbextensionsApp]\u001b[m - Validating: \u001b[32mOK\u001b[0m\r\n",
      "\u001b[32m[I 08:32:53 InstallContribNbextensionsApp]\u001b[m Installing /Users/sejoon/opt/anaconda3/lib/python3.9/site-packages/jupyter_contrib_nbextensions/nbextensions/datestamper -> datestamper\r\n",
      "\u001b[32m[I 08:32:53 InstallContribNbextensionsApp]\u001b[m Making directory: /Users/sejoon/Library/Jupyter/nbextensions/datestamper/\r\n",
      "\u001b[32m[I 08:32:53 InstallContribNbextensionsApp]\u001b[m Copying: /Users/sejoon/opt/anaconda3/lib/python3.9/site-packages/jupyter_contrib_nbextensions/nbextensions/datestamper/icon.png -> /Users/sejoon/Library/Jupyter/nbextensions/datestamper/icon.png\r\n",
      "\u001b[32m[I 08:32:53 InstallContribNbextensionsApp]\u001b[m Copying: /Users/sejoon/opt/anaconda3/lib/python3.9/site-packages/jupyter_contrib_nbextensions/nbextensions/datestamper/main.yaml -> /Users/sejoon/Library/Jupyter/nbextensions/datestamper/main.yaml\r\n",
      "\u001b[32m[I 08:32:53 InstallContribNbextensionsApp]\u001b[m Copying: /Users/sejoon/opt/anaconda3/lib/python3.9/site-packages/jupyter_contrib_nbextensions/nbextensions/datestamper/readme.md -> /Users/sejoon/Library/Jupyter/nbextensions/datestamper/readme.md\r\n",
      "\u001b[32m[I 08:32:53 InstallContribNbextensionsApp]\u001b[m Copying: /Users/sejoon/opt/anaconda3/lib/python3.9/site-packages/jupyter_contrib_nbextensions/nbextensions/datestamper/main.js -> /Users/sejoon/Library/Jupyter/nbextensions/datestamper/main.js\r\n",
      "\u001b[32m[I 08:32:53 InstallContribNbextensionsApp]\u001b[m - Validating: \u001b[32mOK\u001b[0m\r\n",
      "\u001b[32m[I 08:32:53 InstallContribNbextensionsApp]\u001b[m Installing /Users/sejoon/opt/anaconda3/lib/python3.9/site-packages/jupyter_contrib_nbextensions/nbextensions/go_to_current_running_cell -> go_to_current_running_cell\r\n",
      "\u001b[32m[I 08:32:53 InstallContribNbextensionsApp]\u001b[m Making directory: /Users/sejoon/Library/Jupyter/nbextensions/go_to_current_running_cell/\r\n",
      "\u001b[32m[I 08:32:53 InstallContribNbextensionsApp]\u001b[m Copying: /Users/sejoon/opt/anaconda3/lib/python3.9/site-packages/jupyter_contrib_nbextensions/nbextensions/go_to_current_running_cell/jump_to_cell.gif -> /Users/sejoon/Library/Jupyter/nbextensions/go_to_current_running_cell/jump_to_cell.gif\r\n",
      "\u001b[32m[I 08:32:53 InstallContribNbextensionsApp]\u001b[m Copying: /Users/sejoon/opt/anaconda3/lib/python3.9/site-packages/jupyter_contrib_nbextensions/nbextensions/go_to_current_running_cell/README.md -> /Users/sejoon/Library/Jupyter/nbextensions/go_to_current_running_cell/README.md\r\n",
      "\u001b[32m[I 08:32:53 InstallContribNbextensionsApp]\u001b[m Copying: /Users/sejoon/opt/anaconda3/lib/python3.9/site-packages/jupyter_contrib_nbextensions/nbextensions/go_to_current_running_cell/main.js -> /Users/sejoon/Library/Jupyter/nbextensions/go_to_current_running_cell/main.js\r\n",
      "\u001b[32m[I 08:32:53 InstallContribNbextensionsApp]\u001b[m Copying: /Users/sejoon/opt/anaconda3/lib/python3.9/site-packages/jupyter_contrib_nbextensions/nbextensions/go_to_current_running_cell/go_to_current_running_cell.yaml -> /Users/sejoon/Library/Jupyter/nbextensions/go_to_current_running_cell/go_to_current_running_cell.yaml\r\n",
      "\u001b[32m[I 08:32:53 InstallContribNbextensionsApp]\u001b[m Copying: /Users/sejoon/opt/anaconda3/lib/python3.9/site-packages/jupyter_contrib_nbextensions/nbextensions/go_to_current_running_cell/auto_focus.gif -> /Users/sejoon/Library/Jupyter/nbextensions/go_to_current_running_cell/auto_focus.gif\r\n",
      "\u001b[32m[I 08:32:53 InstallContribNbextensionsApp]\u001b[m Copying: /Users/sejoon/opt/anaconda3/lib/python3.9/site-packages/jupyter_contrib_nbextensions/nbextensions/go_to_current_running_cell/eye.png -> /Users/sejoon/Library/Jupyter/nbextensions/go_to_current_running_cell/eye.png\r\n",
      "\u001b[32m[I 08:32:53 InstallContribNbextensionsApp]\u001b[m Copying: /Users/sejoon/opt/anaconda3/lib/python3.9/site-packages/jupyter_contrib_nbextensions/nbextensions/go_to_current_running_cell/anchor.png -> /Users/sejoon/Library/Jupyter/nbextensions/go_to_current_running_cell/anchor.png\r\n",
      "\u001b[32m[I 08:32:53 InstallContribNbextensionsApp]\u001b[m - Validating: \u001b[32mOK\u001b[0m\r\n",
      "\u001b[32m[I 08:32:53 InstallContribNbextensionsApp]\u001b[m Installing /Users/sejoon/opt/anaconda3/lib/python3.9/site-packages/jupyter_contrib_nbextensions/nbextensions/init_cell -> init_cell\r\n",
      "\u001b[32m[I 08:32:53 InstallContribNbextensionsApp]\u001b[m Making directory: /Users/sejoon/Library/Jupyter/nbextensions/init_cell/\r\n",
      "\u001b[32m[I 08:32:53 InstallContribNbextensionsApp]\u001b[m Copying: /Users/sejoon/opt/anaconda3/lib/python3.9/site-packages/jupyter_contrib_nbextensions/nbextensions/init_cell/init_cell.yaml -> /Users/sejoon/Library/Jupyter/nbextensions/init_cell/init_cell.yaml\r\n",
      "\u001b[32m[I 08:32:53 InstallContribNbextensionsApp]\u001b[m Copying: /Users/sejoon/opt/anaconda3/lib/python3.9/site-packages/jupyter_contrib_nbextensions/nbextensions/init_cell/icon.png -> /Users/sejoon/Library/Jupyter/nbextensions/init_cell/icon.png\r\n",
      "\u001b[32m[I 08:32:53 InstallContribNbextensionsApp]\u001b[m Copying: /Users/sejoon/opt/anaconda3/lib/python3.9/site-packages/jupyter_contrib_nbextensions/nbextensions/init_cell/README.md -> /Users/sejoon/Library/Jupyter/nbextensions/init_cell/README.md\r\n",
      "\u001b[32m[I 08:32:53 InstallContribNbextensionsApp]\u001b[m Copying: /Users/sejoon/opt/anaconda3/lib/python3.9/site-packages/jupyter_contrib_nbextensions/nbextensions/init_cell/main.js -> /Users/sejoon/Library/Jupyter/nbextensions/init_cell/main.js\r\n",
      "\u001b[32m[I 08:32:53 InstallContribNbextensionsApp]\u001b[m Copying: /Users/sejoon/opt/anaconda3/lib/python3.9/site-packages/jupyter_contrib_nbextensions/nbextensions/init_cell/cell_toolbar_menu.png -> /Users/sejoon/Library/Jupyter/nbextensions/init_cell/cell_toolbar_menu.png\r\n",
      "\u001b[32m[I 08:32:53 InstallContribNbextensionsApp]\u001b[m - Validating: \u001b[32mOK\u001b[0m\r\n",
      "\u001b[32m[I 08:32:53 InstallContribNbextensionsApp]\u001b[m Installing /Users/sejoon/opt/anaconda3/lib/python3.9/site-packages/jupyter_contrib_nbextensions/nbextensions/limit_output -> limit_output\r\n",
      "\u001b[32m[I 08:32:53 InstallContribNbextensionsApp]\u001b[m Making directory: /Users/sejoon/Library/Jupyter/nbextensions/limit_output/\r\n",
      "\u001b[32m[I 08:32:53 InstallContribNbextensionsApp]\u001b[m Copying: /Users/sejoon/opt/anaconda3/lib/python3.9/site-packages/jupyter_contrib_nbextensions/nbextensions/limit_output/icon.png -> /Users/sejoon/Library/Jupyter/nbextensions/limit_output/icon.png\r\n",
      "\u001b[32m[I 08:32:53 InstallContribNbextensionsApp]\u001b[m Copying: /Users/sejoon/opt/anaconda3/lib/python3.9/site-packages/jupyter_contrib_nbextensions/nbextensions/limit_output/readme.md -> /Users/sejoon/Library/Jupyter/nbextensions/limit_output/readme.md\r\n",
      "\u001b[32m[I 08:32:53 InstallContribNbextensionsApp]\u001b[m Copying: /Users/sejoon/opt/anaconda3/lib/python3.9/site-packages/jupyter_contrib_nbextensions/nbextensions/limit_output/main.js -> /Users/sejoon/Library/Jupyter/nbextensions/limit_output/main.js\r\n",
      "\u001b[32m[I 08:32:53 InstallContribNbextensionsApp]\u001b[m Copying: /Users/sejoon/opt/anaconda3/lib/python3.9/site-packages/jupyter_contrib_nbextensions/nbextensions/limit_output/limit-output.yaml -> /Users/sejoon/Library/Jupyter/nbextensions/limit_output/limit-output.yaml\r\n",
      "\u001b[32m[I 08:32:53 InstallContribNbextensionsApp]\u001b[m - Validating: \u001b[32mOK\u001b[0m\r\n",
      "\u001b[32m[I 08:32:53 InstallContribNbextensionsApp]\u001b[m Installing /Users/sejoon/opt/anaconda3/lib/python3.9/site-packages/jupyter_contrib_nbextensions/nbextensions/qtconsole -> qtconsole\r\n",
      "\u001b[32m[I 08:32:53 InstallContribNbextensionsApp]\u001b[m Making directory: /Users/sejoon/Library/Jupyter/nbextensions/qtconsole/\r\n",
      "\u001b[32m[I 08:32:53 InstallContribNbextensionsApp]\u001b[m Copying: /Users/sejoon/opt/anaconda3/lib/python3.9/site-packages/jupyter_contrib_nbextensions/nbextensions/qtconsole/qtconsole.js -> /Users/sejoon/Library/Jupyter/nbextensions/qtconsole/qtconsole.js\r\n",
      "\u001b[32m[I 08:32:53 InstallContribNbextensionsApp]\u001b[m Copying: /Users/sejoon/opt/anaconda3/lib/python3.9/site-packages/jupyter_contrib_nbextensions/nbextensions/qtconsole/qtconsole.yaml -> /Users/sejoon/Library/Jupyter/nbextensions/qtconsole/qtconsole.yaml\r\n",
      "\u001b[32m[I 08:32:53 InstallContribNbextensionsApp]\u001b[m Copying: /Users/sejoon/opt/anaconda3/lib/python3.9/site-packages/jupyter_contrib_nbextensions/nbextensions/qtconsole/README.md -> /Users/sejoon/Library/Jupyter/nbextensions/qtconsole/README.md\r\n",
      "\u001b[32m[I 08:32:53 InstallContribNbextensionsApp]\u001b[m - Validating: \u001b[32mOK\u001b[0m\r\n",
      "\u001b[32m[I 08:32:53 InstallContribNbextensionsApp]\u001b[m Installing /Users/sejoon/opt/anaconda3/lib/python3.9/site-packages/jupyter_contrib_nbextensions/nbextensions/addbefore -> addbefore\r\n",
      "\u001b[32m[I 08:32:53 InstallContribNbextensionsApp]\u001b[m Making directory: /Users/sejoon/Library/Jupyter/nbextensions/addbefore/\r\n",
      "\u001b[32m[I 08:32:53 InstallContribNbextensionsApp]\u001b[m Copying: /Users/sejoon/opt/anaconda3/lib/python3.9/site-packages/jupyter_contrib_nbextensions/nbextensions/addbefore/icon.png -> /Users/sejoon/Library/Jupyter/nbextensions/addbefore/icon.png\r\n",
      "\u001b[32m[I 08:32:53 InstallContribNbextensionsApp]\u001b[m Copying: /Users/sejoon/opt/anaconda3/lib/python3.9/site-packages/jupyter_contrib_nbextensions/nbextensions/addbefore/readme.md -> /Users/sejoon/Library/Jupyter/nbextensions/addbefore/readme.md\r\n",
      "\u001b[32m[I 08:32:53 InstallContribNbextensionsApp]\u001b[m Copying: /Users/sejoon/opt/anaconda3/lib/python3.9/site-packages/jupyter_contrib_nbextensions/nbextensions/addbefore/main.js -> /Users/sejoon/Library/Jupyter/nbextensions/addbefore/main.js\r\n",
      "\u001b[32m[I 08:32:53 InstallContribNbextensionsApp]\u001b[m Copying: /Users/sejoon/opt/anaconda3/lib/python3.9/site-packages/jupyter_contrib_nbextensions/nbextensions/addbefore/addbefore.yaml -> /Users/sejoon/Library/Jupyter/nbextensions/addbefore/addbefore.yaml\r\n",
      "\u001b[32m[I 08:32:53 InstallContribNbextensionsApp]\u001b[m - Validating: \u001b[32mOK\u001b[0m\r\n",
      "\u001b[32m[I 08:32:53 InstallContribNbextensionsApp]\u001b[m Installing /Users/sejoon/opt/anaconda3/lib/python3.9/site-packages/jupyter_contrib_nbextensions/nbextensions/highlighter -> highlighter\r\n",
      "\u001b[32m[I 08:32:53 InstallContribNbextensionsApp]\u001b[m Making directory: /Users/sejoon/Library/Jupyter/nbextensions/highlighter/\r\n",
      "\u001b[32m[I 08:32:53 InstallContribNbextensionsApp]\u001b[m Copying: /Users/sejoon/opt/anaconda3/lib/python3.9/site-packages/jupyter_contrib_nbextensions/nbextensions/highlighter/icon.png -> /Users/sejoon/Library/Jupyter/nbextensions/highlighter/icon.png\r\n",
      "\u001b[32m[I 08:32:53 InstallContribNbextensionsApp]\u001b[m Copying: /Users/sejoon/opt/anaconda3/lib/python3.9/site-packages/jupyter_contrib_nbextensions/nbextensions/highlighter/export_highlights.pdf -> /Users/sejoon/Library/Jupyter/nbextensions/highlighter/export_highlights.pdf\r\n",
      "\u001b[32m[I 08:32:53 InstallContribNbextensionsApp]\u001b[m Copying: /Users/sejoon/opt/anaconda3/lib/python3.9/site-packages/jupyter_contrib_nbextensions/nbextensions/highlighter/demo_highlighter.html -> /Users/sejoon/Library/Jupyter/nbextensions/highlighter/demo_highlighter.html\r\n",
      "\u001b[32m[I 08:32:53 InstallContribNbextensionsApp]\u001b[m Copying: /Users/sejoon/opt/anaconda3/lib/python3.9/site-packages/jupyter_contrib_nbextensions/nbextensions/highlighter/demo_highlighter.ipynb -> /Users/sejoon/Library/Jupyter/nbextensions/highlighter/demo_highlighter.ipynb\r\n",
      "\u001b[32m[I 08:32:53 InstallContribNbextensionsApp]\u001b[m Copying: /Users/sejoon/opt/anaconda3/lib/python3.9/site-packages/jupyter_contrib_nbextensions/nbextensions/highlighter/tst_highlights.ipynb -> /Users/sejoon/Library/Jupyter/nbextensions/highlighter/tst_highlights.ipynb\r\n",
      "\u001b[32m[I 08:32:53 InstallContribNbextensionsApp]\u001b[m Copying: /Users/sejoon/opt/anaconda3/lib/python3.9/site-packages/jupyter_contrib_nbextensions/nbextensions/highlighter/export_highlights.ipynb -> /Users/sejoon/Library/Jupyter/nbextensions/highlighter/export_highlights.ipynb\r\n",
      "\u001b[32m[I 08:32:53 InstallContribNbextensionsApp]\u001b[m Copying: /Users/sejoon/opt/anaconda3/lib/python3.9/site-packages/jupyter_contrib_nbextensions/nbextensions/highlighter/tst_highlights.html -> /Users/sejoon/Library/Jupyter/nbextensions/highlighter/tst_highlights.html\r\n"
     ]
    },
    {
     "name": "stdout",
     "output_type": "stream",
     "text": [
      "\u001b[32m[I 08:32:53 InstallContribNbextensionsApp]\u001b[m Copying: /Users/sejoon/opt/anaconda3/lib/python3.9/site-packages/jupyter_contrib_nbextensions/nbextensions/highlighter/export_highlights.tex -> /Users/sejoon/Library/Jupyter/nbextensions/highlighter/export_highlights.tex\r\n",
      "\u001b[32m[I 08:32:53 InstallContribNbextensionsApp]\u001b[m Copying: /Users/sejoon/opt/anaconda3/lib/python3.9/site-packages/jupyter_contrib_nbextensions/nbextensions/highlighter/image.gif -> /Users/sejoon/Library/Jupyter/nbextensions/highlighter/image.gif\r\n",
      "\u001b[32m[I 08:32:53 InstallContribNbextensionsApp]\u001b[m Copying: /Users/sejoon/opt/anaconda3/lib/python3.9/site-packages/jupyter_contrib_nbextensions/nbextensions/highlighter/readme.md -> /Users/sejoon/Library/Jupyter/nbextensions/highlighter/readme.md\r\n",
      "\u001b[32m[I 08:32:53 InstallContribNbextensionsApp]\u001b[m Copying: /Users/sejoon/opt/anaconda3/lib/python3.9/site-packages/jupyter_contrib_nbextensions/nbextensions/highlighter/highlighter.css -> /Users/sejoon/Library/Jupyter/nbextensions/highlighter/highlighter.css\r\n",
      "\u001b[32m[I 08:32:53 InstallContribNbextensionsApp]\u001b[m Copying: /Users/sejoon/opt/anaconda3/lib/python3.9/site-packages/jupyter_contrib_nbextensions/nbextensions/highlighter/tst_highlights.pdf -> /Users/sejoon/Library/Jupyter/nbextensions/highlighter/tst_highlights.pdf\r\n",
      "\u001b[32m[I 08:32:53 InstallContribNbextensionsApp]\u001b[m Copying: /Users/sejoon/opt/anaconda3/lib/python3.9/site-packages/jupyter_contrib_nbextensions/nbextensions/highlighter/export_highlights.html -> /Users/sejoon/Library/Jupyter/nbextensions/highlighter/export_highlights.html\r\n",
      "\u001b[32m[I 08:32:53 InstallContribNbextensionsApp]\u001b[m Copying: /Users/sejoon/opt/anaconda3/lib/python3.9/site-packages/jupyter_contrib_nbextensions/nbextensions/highlighter/tst_highlights.tex -> /Users/sejoon/Library/Jupyter/nbextensions/highlighter/tst_highlights.tex\r\n",
      "\u001b[32m[I 08:32:53 InstallContribNbextensionsApp]\u001b[m Copying: /Users/sejoon/opt/anaconda3/lib/python3.9/site-packages/jupyter_contrib_nbextensions/nbextensions/highlighter/highlighter.yaml -> /Users/sejoon/Library/Jupyter/nbextensions/highlighter/highlighter.yaml\r\n",
      "\u001b[32m[I 08:32:53 InstallContribNbextensionsApp]\u001b[m Copying: /Users/sejoon/opt/anaconda3/lib/python3.9/site-packages/jupyter_contrib_nbextensions/nbextensions/highlighter/highlighter.js -> /Users/sejoon/Library/Jupyter/nbextensions/highlighter/highlighter.js\r\n",
      "\u001b[32m[I 08:32:53 InstallContribNbextensionsApp]\u001b[m - Validating: \u001b[32mOK\u001b[0m\r\n",
      "\u001b[32m[I 08:32:53 InstallContribNbextensionsApp]\u001b[m Installing /Users/sejoon/opt/anaconda3/lib/python3.9/site-packages/jupyter_contrib_nbextensions/nbextensions/comment-uncomment -> comment-uncomment\r\n",
      "\u001b[32m[I 08:32:53 InstallContribNbextensionsApp]\u001b[m Making directory: /Users/sejoon/Library/Jupyter/nbextensions/comment-uncomment/\r\n",
      "\u001b[32m[I 08:32:53 InstallContribNbextensionsApp]\u001b[m Copying: /Users/sejoon/opt/anaconda3/lib/python3.9/site-packages/jupyter_contrib_nbextensions/nbextensions/comment-uncomment/icon.png -> /Users/sejoon/Library/Jupyter/nbextensions/comment-uncomment/icon.png\r\n",
      "\u001b[32m[I 08:32:53 InstallContribNbextensionsApp]\u001b[m Copying: /Users/sejoon/opt/anaconda3/lib/python3.9/site-packages/jupyter_contrib_nbextensions/nbextensions/comment-uncomment/readme.md -> /Users/sejoon/Library/Jupyter/nbextensions/comment-uncomment/readme.md\r\n",
      "\u001b[32m[I 08:32:53 InstallContribNbextensionsApp]\u001b[m Copying: /Users/sejoon/opt/anaconda3/lib/python3.9/site-packages/jupyter_contrib_nbextensions/nbextensions/comment-uncomment/main.js -> /Users/sejoon/Library/Jupyter/nbextensions/comment-uncomment/main.js\r\n",
      "\u001b[32m[I 08:32:53 InstallContribNbextensionsApp]\u001b[m Copying: /Users/sejoon/opt/anaconda3/lib/python3.9/site-packages/jupyter_contrib_nbextensions/nbextensions/comment-uncomment/comment-uncomment.yaml -> /Users/sejoon/Library/Jupyter/nbextensions/comment-uncomment/comment-uncomment.yaml\r\n",
      "\u001b[32m[I 08:32:53 InstallContribNbextensionsApp]\u001b[m - Validating: \u001b[32mOK\u001b[0m\r\n",
      "\u001b[32m[I 08:32:53 InstallContribNbextensionsApp]\u001b[m Installing /Users/sejoon/opt/anaconda3/lib/python3.9/site-packages/jupyter_contrib_nbextensions/nbextensions/code_font_size -> code_font_size\r\n",
      "\u001b[32m[I 08:32:53 InstallContribNbextensionsApp]\u001b[m Making directory: /Users/sejoon/Library/Jupyter/nbextensions/code_font_size/\r\n",
      "\u001b[32m[I 08:32:53 InstallContribNbextensionsApp]\u001b[m Copying: /Users/sejoon/opt/anaconda3/lib/python3.9/site-packages/jupyter_contrib_nbextensions/nbextensions/code_font_size/code_font_size.yaml -> /Users/sejoon/Library/Jupyter/nbextensions/code_font_size/code_font_size.yaml\r\n",
      "\u001b[32m[I 08:32:53 InstallContribNbextensionsApp]\u001b[m Copying: /Users/sejoon/opt/anaconda3/lib/python3.9/site-packages/jupyter_contrib_nbextensions/nbextensions/code_font_size/code_font_size.js -> /Users/sejoon/Library/Jupyter/nbextensions/code_font_size/code_font_size.js\r\n",
      "\u001b[32m[I 08:32:53 InstallContribNbextensionsApp]\u001b[m Copying: /Users/sejoon/opt/anaconda3/lib/python3.9/site-packages/jupyter_contrib_nbextensions/nbextensions/code_font_size/README.md -> /Users/sejoon/Library/Jupyter/nbextensions/code_font_size/README.md\r\n",
      "\u001b[32m[I 08:32:53 InstallContribNbextensionsApp]\u001b[m - Validating: \u001b[32mOK\u001b[0m\r\n",
      "\u001b[32m[I 08:32:53 InstallContribNbextensionsApp]\u001b[m Installing /Users/sejoon/opt/anaconda3/lib/python3.9/site-packages/jupyter_contrib_nbextensions/nbextensions/varInspector -> varInspector\r\n",
      "\u001b[32m[I 08:32:53 InstallContribNbextensionsApp]\u001b[m Making directory: /Users/sejoon/Library/Jupyter/nbextensions/varInspector/\r\n",
      "\u001b[32m[I 08:32:53 InstallContribNbextensionsApp]\u001b[m Copying: /Users/sejoon/opt/anaconda3/lib/python3.9/site-packages/jupyter_contrib_nbextensions/nbextensions/varInspector/icon.png -> /Users/sejoon/Library/Jupyter/nbextensions/varInspector/icon.png\r\n",
      "\u001b[32m[I 08:32:53 InstallContribNbextensionsApp]\u001b[m Copying: /Users/sejoon/opt/anaconda3/lib/python3.9/site-packages/jupyter_contrib_nbextensions/nbextensions/varInspector/jquery.tablesorter.min.js -> /Users/sejoon/Library/Jupyter/nbextensions/varInspector/jquery.tablesorter.min.js\r\n",
      "\u001b[32m[I 08:32:53 InstallContribNbextensionsApp]\u001b[m Copying: /Users/sejoon/opt/anaconda3/lib/python3.9/site-packages/jupyter_contrib_nbextensions/nbextensions/varInspector/varInspector.yaml -> /Users/sejoon/Library/Jupyter/nbextensions/varInspector/varInspector.yaml\r\n",
      "\u001b[32m[I 08:32:53 InstallContribNbextensionsApp]\u001b[m Copying: /Users/sejoon/opt/anaconda3/lib/python3.9/site-packages/jupyter_contrib_nbextensions/nbextensions/varInspector/main.css -> /Users/sejoon/Library/Jupyter/nbextensions/varInspector/main.css\r\n",
      "\u001b[32m[I 08:32:53 InstallContribNbextensionsApp]\u001b[m Copying: /Users/sejoon/opt/anaconda3/lib/python3.9/site-packages/jupyter_contrib_nbextensions/nbextensions/varInspector/var_list.py -> /Users/sejoon/Library/Jupyter/nbextensions/varInspector/var_list.py\r\n",
      "\u001b[32m[I 08:32:53 InstallContribNbextensionsApp]\u001b[m Copying: /Users/sejoon/opt/anaconda3/lib/python3.9/site-packages/jupyter_contrib_nbextensions/nbextensions/varInspector/README.md -> /Users/sejoon/Library/Jupyter/nbextensions/varInspector/README.md\r\n",
      "\u001b[32m[I 08:32:53 InstallContribNbextensionsApp]\u001b[m Copying: /Users/sejoon/opt/anaconda3/lib/python3.9/site-packages/jupyter_contrib_nbextensions/nbextensions/varInspector/main.js -> /Users/sejoon/Library/Jupyter/nbextensions/varInspector/main.js\r\n",
      "\u001b[32m[I 08:32:53 InstallContribNbextensionsApp]\u001b[m Copying: /Users/sejoon/opt/anaconda3/lib/python3.9/site-packages/jupyter_contrib_nbextensions/nbextensions/varInspector/var_list.r -> /Users/sejoon/Library/Jupyter/nbextensions/varInspector/var_list.r\r\n",
      "\u001b[32m[I 08:32:53 InstallContribNbextensionsApp]\u001b[m Copying: /Users/sejoon/opt/anaconda3/lib/python3.9/site-packages/jupyter_contrib_nbextensions/nbextensions/varInspector/tablesorter_LICENSE.txt -> /Users/sejoon/Library/Jupyter/nbextensions/varInspector/tablesorter_LICENSE.txt\r\n",
      "\u001b[32m[I 08:32:53 InstallContribNbextensionsApp]\u001b[m Copying: /Users/sejoon/opt/anaconda3/lib/python3.9/site-packages/jupyter_contrib_nbextensions/nbextensions/varInspector/demo.gif -> /Users/sejoon/Library/Jupyter/nbextensions/varInspector/demo.gif\r\n",
      "\u001b[32m[I 08:32:53 InstallContribNbextensionsApp]\u001b[m Making directory: /Users/sejoon/Library/Jupyter/nbextensions/varInspector/__pycache__\r\n",
      "\u001b[32m[I 08:32:53 InstallContribNbextensionsApp]\u001b[m Copying: /Users/sejoon/opt/anaconda3/lib/python3.9/site-packages/jupyter_contrib_nbextensions/nbextensions/varInspector/__pycache__/var_list.cpython-39.pyc -> /Users/sejoon/Library/Jupyter/nbextensions/varInspector/__pycache__/var_list.cpython-39.pyc\r\n",
      "\u001b[32m[I 08:32:53 InstallContribNbextensionsApp]\u001b[m - Validating: \u001b[32mOK\u001b[0m\r\n",
      "\u001b[32m[I 08:32:53 InstallContribNbextensionsApp]\u001b[m Installing /Users/sejoon/opt/anaconda3/lib/python3.9/site-packages/jupyter_contrib_nbextensions/nbextensions/execute_time -> execute_time\r\n",
      "\u001b[32m[I 08:32:53 InstallContribNbextensionsApp]\u001b[m Making directory: /Users/sejoon/Library/Jupyter/nbextensions/execute_time/\r\n",
      "\u001b[32m[I 08:32:53 InstallContribNbextensionsApp]\u001b[m Copying: /Users/sejoon/opt/anaconda3/lib/python3.9/site-packages/jupyter_contrib_nbextensions/nbextensions/execute_time/ExecuteTime.js -> /Users/sejoon/Library/Jupyter/nbextensions/execute_time/ExecuteTime.js\r\n",
      "\u001b[32m[I 08:32:53 InstallContribNbextensionsApp]\u001b[m Copying: /Users/sejoon/opt/anaconda3/lib/python3.9/site-packages/jupyter_contrib_nbextensions/nbextensions/execute_time/icon.png -> /Users/sejoon/Library/Jupyter/nbextensions/execute_time/icon.png\r\n",
      "\u001b[32m[I 08:32:53 InstallContribNbextensionsApp]\u001b[m Copying: /Users/sejoon/opt/anaconda3/lib/python3.9/site-packages/jupyter_contrib_nbextensions/nbextensions/execute_time/execution-timings-box.png -> /Users/sejoon/Library/Jupyter/nbextensions/execute_time/execution-timings-box.png\r\n",
      "\u001b[32m[I 08:32:53 InstallContribNbextensionsApp]\u001b[m Copying: /Users/sejoon/opt/anaconda3/lib/python3.9/site-packages/jupyter_contrib_nbextensions/nbextensions/execute_time/ExecuteTime.css -> /Users/sejoon/Library/Jupyter/nbextensions/execute_time/ExecuteTime.css\r\n",
      "\u001b[32m[I 08:32:53 InstallContribNbextensionsApp]\u001b[m Copying: /Users/sejoon/opt/anaconda3/lib/python3.9/site-packages/jupyter_contrib_nbextensions/nbextensions/execute_time/ExecuteTime.yaml -> /Users/sejoon/Library/Jupyter/nbextensions/execute_time/ExecuteTime.yaml\r\n",
      "\u001b[32m[I 08:32:53 InstallContribNbextensionsApp]\u001b[m Copying: /Users/sejoon/opt/anaconda3/lib/python3.9/site-packages/jupyter_contrib_nbextensions/nbextensions/execute_time/execution-timings-menu.png -> /Users/sejoon/Library/Jupyter/nbextensions/execute_time/execution-timings-menu.png\r\n",
      "\u001b[32m[I 08:32:53 InstallContribNbextensionsApp]\u001b[m Copying: /Users/sejoon/opt/anaconda3/lib/python3.9/site-packages/jupyter_contrib_nbextensions/nbextensions/execute_time/readme.md -> /Users/sejoon/Library/Jupyter/nbextensions/execute_time/readme.md\r\n",
      "\u001b[32m[I 08:32:53 InstallContribNbextensionsApp]\u001b[m - Validating: \u001b[32mOK\u001b[0m\r\n",
      "\u001b[32m[I 08:32:53 InstallContribNbextensionsApp]\u001b[m Installing /Users/sejoon/opt/anaconda3/lib/python3.9/site-packages/jupyter_contrib_nbextensions/nbextensions/spellchecker -> spellchecker\r\n",
      "\u001b[32m[I 08:32:53 InstallContribNbextensionsApp]\u001b[m Making directory: /Users/sejoon/Library/Jupyter/nbextensions/spellchecker/\r\n",
      "\u001b[32m[I 08:32:53 InstallContribNbextensionsApp]\u001b[m Copying: /Users/sejoon/opt/anaconda3/lib/python3.9/site-packages/jupyter_contrib_nbextensions/nbextensions/spellchecker/download_new_dict.py -> /Users/sejoon/Library/Jupyter/nbextensions/spellchecker/download_new_dict.py\r\n",
      "\u001b[32m[I 08:32:53 InstallContribNbextensionsApp]\u001b[m Copying: /Users/sejoon/opt/anaconda3/lib/python3.9/site-packages/jupyter_contrib_nbextensions/nbextensions/spellchecker/screenshot.png -> /Users/sejoon/Library/Jupyter/nbextensions/spellchecker/screenshot.png\r\n",
      "\u001b[32m[I 08:32:53 InstallContribNbextensionsApp]\u001b[m Copying: /Users/sejoon/opt/anaconda3/lib/python3.9/site-packages/jupyter_contrib_nbextensions/nbextensions/spellchecker/config.yaml -> /Users/sejoon/Library/Jupyter/nbextensions/spellchecker/config.yaml\r\n",
      "\u001b[32m[I 08:32:53 InstallContribNbextensionsApp]\u001b[m Copying: /Users/sejoon/opt/anaconda3/lib/python3.9/site-packages/jupyter_contrib_nbextensions/nbextensions/spellchecker/main.css -> /Users/sejoon/Library/Jupyter/nbextensions/spellchecker/main.css\r\n",
      "\u001b[32m[I 08:32:53 InstallContribNbextensionsApp]\u001b[m Copying: /Users/sejoon/opt/anaconda3/lib/python3.9/site-packages/jupyter_contrib_nbextensions/nbextensions/spellchecker/README.md -> /Users/sejoon/Library/Jupyter/nbextensions/spellchecker/README.md\r\n",
      "\u001b[32m[I 08:32:53 InstallContribNbextensionsApp]\u001b[m Copying: /Users/sejoon/opt/anaconda3/lib/python3.9/site-packages/jupyter_contrib_nbextensions/nbextensions/spellchecker/main.js -> /Users/sejoon/Library/Jupyter/nbextensions/spellchecker/main.js\r\n",
      "\u001b[32m[I 08:32:53 InstallContribNbextensionsApp]\u001b[m Making directory: /Users/sejoon/Library/Jupyter/nbextensions/spellchecker/typo\r\n",
      "\u001b[32m[I 08:32:53 InstallContribNbextensionsApp]\u001b[m Copying: /Users/sejoon/opt/anaconda3/lib/python3.9/site-packages/jupyter_contrib_nbextensions/nbextensions/spellchecker/typo/typo.js -> /Users/sejoon/Library/Jupyter/nbextensions/spellchecker/typo/typo.js\r\n",
      "\u001b[32m[I 08:32:53 InstallContribNbextensionsApp]\u001b[m Copying: /Users/sejoon/opt/anaconda3/lib/python3.9/site-packages/jupyter_contrib_nbextensions/nbextensions/spellchecker/typo/LICENSE.txt -> /Users/sejoon/Library/Jupyter/nbextensions/spellchecker/typo/LICENSE.txt\r\n",
      "\u001b[32m[I 08:32:53 InstallContribNbextensionsApp]\u001b[m Making directory: /Users/sejoon/Library/Jupyter/nbextensions/spellchecker/__pycache__\r\n",
      "\u001b[32m[I 08:32:53 InstallContribNbextensionsApp]\u001b[m Copying: /Users/sejoon/opt/anaconda3/lib/python3.9/site-packages/jupyter_contrib_nbextensions/nbextensions/spellchecker/__pycache__/download_new_dict.cpython-39.pyc -> /Users/sejoon/Library/Jupyter/nbextensions/spellchecker/__pycache__/download_new_dict.cpython-39.pyc\r\n",
      "\u001b[32m[I 08:32:53 InstallContribNbextensionsApp]\u001b[m - Validating: \u001b[32mOK\u001b[0m\r\n",
      "\u001b[32m[I 08:32:53 InstallContribNbextensionsApp]\u001b[m Installing /Users/sejoon/opt/anaconda3/lib/python3.9/site-packages/jupyter_contrib_nbextensions/nbextensions/code_prettify -> code_prettify\r\n",
      "\u001b[32m[I 08:32:53 InstallContribNbextensionsApp]\u001b[m Making directory: /Users/sejoon/Library/Jupyter/nbextensions/code_prettify/\r\n",
      "\u001b[32m[I 08:32:53 InstallContribNbextensionsApp]\u001b[m Copying: /Users/sejoon/opt/anaconda3/lib/python3.9/site-packages/jupyter_contrib_nbextensions/nbextensions/code_prettify/demo-py.gif -> /Users/sejoon/Library/Jupyter/nbextensions/code_prettify/demo-py.gif\r\n",
      "\u001b[32m[I 08:32:53 InstallContribNbextensionsApp]\u001b[m Copying: /Users/sejoon/opt/anaconda3/lib/python3.9/site-packages/jupyter_contrib_nbextensions/nbextensions/code_prettify/kernel_exec_on_cell.js -> /Users/sejoon/Library/Jupyter/nbextensions/code_prettify/kernel_exec_on_cell.js\r\n",
      "\u001b[32m[I 08:32:53 InstallContribNbextensionsApp]\u001b[m Copying: /Users/sejoon/opt/anaconda3/lib/python3.9/site-packages/jupyter_contrib_nbextensions/nbextensions/code_prettify/demo-jv.gif -> /Users/sejoon/Library/Jupyter/nbextensions/code_prettify/demo-jv.gif\r\n"
     ]
    },
    {
     "name": "stdout",
     "output_type": "stream",
     "text": [
      "\u001b[32m[I 08:32:53 InstallContribNbextensionsApp]\u001b[m Copying: /Users/sejoon/opt/anaconda3/lib/python3.9/site-packages/jupyter_contrib_nbextensions/nbextensions/code_prettify/README_2to3.md -> /Users/sejoon/Library/Jupyter/nbextensions/code_prettify/README_2to3.md\r\n",
      "\u001b[32m[I 08:32:53 InstallContribNbextensionsApp]\u001b[m Copying: /Users/sejoon/opt/anaconda3/lib/python3.9/site-packages/jupyter_contrib_nbextensions/nbextensions/code_prettify/2to3.yaml -> /Users/sejoon/Library/Jupyter/nbextensions/code_prettify/2to3.yaml\r\n",
      "\u001b[32m[I 08:32:53 InstallContribNbextensionsApp]\u001b[m Copying: /Users/sejoon/opt/anaconda3/lib/python3.9/site-packages/jupyter_contrib_nbextensions/nbextensions/code_prettify/README_autopep8.md -> /Users/sejoon/Library/Jupyter/nbextensions/code_prettify/README_autopep8.md\r\n",
      "\u001b[32m[I 08:32:53 InstallContribNbextensionsApp]\u001b[m Copying: /Users/sejoon/opt/anaconda3/lib/python3.9/site-packages/jupyter_contrib_nbextensions/nbextensions/code_prettify/demo_2to3.gif -> /Users/sejoon/Library/Jupyter/nbextensions/code_prettify/demo_2to3.gif\r\n",
      "\u001b[32m[I 08:32:53 InstallContribNbextensionsApp]\u001b[m Copying: /Users/sejoon/opt/anaconda3/lib/python3.9/site-packages/jupyter_contrib_nbextensions/nbextensions/code_prettify/README_isort.md -> /Users/sejoon/Library/Jupyter/nbextensions/code_prettify/README_isort.md\r\n",
      "\u001b[32m[I 08:32:53 InstallContribNbextensionsApp]\u001b[m Copying: /Users/sejoon/opt/anaconda3/lib/python3.9/site-packages/jupyter_contrib_nbextensions/nbextensions/code_prettify/README_code_prettify.md -> /Users/sejoon/Library/Jupyter/nbextensions/code_prettify/README_code_prettify.md\r\n",
      "\u001b[32m[I 08:32:53 InstallContribNbextensionsApp]\u001b[m Copying: /Users/sejoon/opt/anaconda3/lib/python3.9/site-packages/jupyter_contrib_nbextensions/nbextensions/code_prettify/README.md -> /Users/sejoon/Library/Jupyter/nbextensions/code_prettify/README.md\r\n",
      "\u001b[32m[I 08:32:53 InstallContribNbextensionsApp]\u001b[m Copying: /Users/sejoon/opt/anaconda3/lib/python3.9/site-packages/jupyter_contrib_nbextensions/nbextensions/code_prettify/code_prettify.js -> /Users/sejoon/Library/Jupyter/nbextensions/code_prettify/code_prettify.js\r\n",
      "\u001b[32m[I 08:32:53 InstallContribNbextensionsApp]\u001b[m Copying: /Users/sejoon/opt/anaconda3/lib/python3.9/site-packages/jupyter_contrib_nbextensions/nbextensions/code_prettify/autopep8.js -> /Users/sejoon/Library/Jupyter/nbextensions/code_prettify/autopep8.js\r\n",
      "\u001b[32m[I 08:32:53 InstallContribNbextensionsApp]\u001b[m Copying: /Users/sejoon/opt/anaconda3/lib/python3.9/site-packages/jupyter_contrib_nbextensions/nbextensions/code_prettify/demo-R.gif -> /Users/sejoon/Library/Jupyter/nbextensions/code_prettify/demo-R.gif\r\n",
      "\u001b[32m[I 08:32:53 InstallContribNbextensionsApp]\u001b[m Copying: /Users/sejoon/opt/anaconda3/lib/python3.9/site-packages/jupyter_contrib_nbextensions/nbextensions/code_prettify/isort.js -> /Users/sejoon/Library/Jupyter/nbextensions/code_prettify/isort.js\r\n",
      "\u001b[32m[I 08:32:53 InstallContribNbextensionsApp]\u001b[m Copying: /Users/sejoon/opt/anaconda3/lib/python3.9/site-packages/jupyter_contrib_nbextensions/nbextensions/code_prettify/code_prettify.yaml -> /Users/sejoon/Library/Jupyter/nbextensions/code_prettify/code_prettify.yaml\r\n",
      "\u001b[32m[I 08:32:53 InstallContribNbextensionsApp]\u001b[m Copying: /Users/sejoon/opt/anaconda3/lib/python3.9/site-packages/jupyter_contrib_nbextensions/nbextensions/code_prettify/2to3.js -> /Users/sejoon/Library/Jupyter/nbextensions/code_prettify/2to3.js\r\n",
      "\u001b[32m[I 08:32:53 InstallContribNbextensionsApp]\u001b[m Copying: /Users/sejoon/opt/anaconda3/lib/python3.9/site-packages/jupyter_contrib_nbextensions/nbextensions/code_prettify/autopep8.yaml -> /Users/sejoon/Library/Jupyter/nbextensions/code_prettify/autopep8.yaml\r\n",
      "\u001b[32m[I 08:32:53 InstallContribNbextensionsApp]\u001b[m Copying: /Users/sejoon/opt/anaconda3/lib/python3.9/site-packages/jupyter_contrib_nbextensions/nbextensions/code_prettify/isort.yaml -> /Users/sejoon/Library/Jupyter/nbextensions/code_prettify/isort.yaml\r\n",
      "\u001b[32m[I 08:32:53 InstallContribNbextensionsApp]\u001b[m - Validating: \u001b[32mOK\u001b[0m\r\n",
      "\u001b[32m[I 08:32:53 InstallContribNbextensionsApp]\u001b[m Installing /Users/sejoon/opt/anaconda3/lib/python3.9/site-packages/jupyter_contrib_nbextensions/nbextensions/code_prettify -> code_prettify\r\n",
      "\u001b[32m[I 08:32:53 InstallContribNbextensionsApp]\u001b[m Up to date: /Users/sejoon/Library/Jupyter/nbextensions/code_prettify/demo-py.gif\r\n",
      "\u001b[32m[I 08:32:53 InstallContribNbextensionsApp]\u001b[m Up to date: /Users/sejoon/Library/Jupyter/nbextensions/code_prettify/kernel_exec_on_cell.js\r\n",
      "\u001b[32m[I 08:32:53 InstallContribNbextensionsApp]\u001b[m Up to date: /Users/sejoon/Library/Jupyter/nbextensions/code_prettify/demo-jv.gif\r\n",
      "\u001b[32m[I 08:32:53 InstallContribNbextensionsApp]\u001b[m Up to date: /Users/sejoon/Library/Jupyter/nbextensions/code_prettify/README_2to3.md\r\n",
      "\u001b[32m[I 08:32:53 InstallContribNbextensionsApp]\u001b[m Up to date: /Users/sejoon/Library/Jupyter/nbextensions/code_prettify/2to3.yaml\r\n",
      "\u001b[32m[I 08:32:53 InstallContribNbextensionsApp]\u001b[m Up to date: /Users/sejoon/Library/Jupyter/nbextensions/code_prettify/README_autopep8.md\r\n",
      "\u001b[32m[I 08:32:53 InstallContribNbextensionsApp]\u001b[m Up to date: /Users/sejoon/Library/Jupyter/nbextensions/code_prettify/demo_2to3.gif\r\n",
      "\u001b[32m[I 08:32:53 InstallContribNbextensionsApp]\u001b[m Up to date: /Users/sejoon/Library/Jupyter/nbextensions/code_prettify/README_isort.md\r\n",
      "\u001b[32m[I 08:32:53 InstallContribNbextensionsApp]\u001b[m Up to date: /Users/sejoon/Library/Jupyter/nbextensions/code_prettify/README_code_prettify.md\r\n",
      "\u001b[32m[I 08:32:53 InstallContribNbextensionsApp]\u001b[m Up to date: /Users/sejoon/Library/Jupyter/nbextensions/code_prettify/README.md\r\n",
      "\u001b[32m[I 08:32:53 InstallContribNbextensionsApp]\u001b[m Up to date: /Users/sejoon/Library/Jupyter/nbextensions/code_prettify/code_prettify.js\r\n",
      "\u001b[32m[I 08:32:53 InstallContribNbextensionsApp]\u001b[m Up to date: /Users/sejoon/Library/Jupyter/nbextensions/code_prettify/autopep8.js\r\n",
      "\u001b[32m[I 08:32:53 InstallContribNbextensionsApp]\u001b[m Up to date: /Users/sejoon/Library/Jupyter/nbextensions/code_prettify/demo-R.gif\r\n",
      "\u001b[32m[I 08:32:53 InstallContribNbextensionsApp]\u001b[m Up to date: /Users/sejoon/Library/Jupyter/nbextensions/code_prettify/isort.js\r\n",
      "\u001b[32m[I 08:32:53 InstallContribNbextensionsApp]\u001b[m Up to date: /Users/sejoon/Library/Jupyter/nbextensions/code_prettify/code_prettify.yaml\r\n",
      "\u001b[32m[I 08:32:53 InstallContribNbextensionsApp]\u001b[m Up to date: /Users/sejoon/Library/Jupyter/nbextensions/code_prettify/2to3.js\r\n",
      "\u001b[32m[I 08:32:53 InstallContribNbextensionsApp]\u001b[m Up to date: /Users/sejoon/Library/Jupyter/nbextensions/code_prettify/autopep8.yaml\r\n",
      "\u001b[32m[I 08:32:53 InstallContribNbextensionsApp]\u001b[m Up to date: /Users/sejoon/Library/Jupyter/nbextensions/code_prettify/isort.yaml\r\n",
      "\u001b[32m[I 08:32:53 InstallContribNbextensionsApp]\u001b[m - Validating: \u001b[32mOK\u001b[0m\r\n",
      "\u001b[32m[I 08:32:53 InstallContribNbextensionsApp]\u001b[m Installing /Users/sejoon/opt/anaconda3/lib/python3.9/site-packages/jupyter_contrib_nbextensions/nbextensions/code_prettify -> code_prettify\r\n",
      "\u001b[32m[I 08:32:53 InstallContribNbextensionsApp]\u001b[m Up to date: /Users/sejoon/Library/Jupyter/nbextensions/code_prettify/demo-py.gif\r\n",
      "\u001b[32m[I 08:32:53 InstallContribNbextensionsApp]\u001b[m Up to date: /Users/sejoon/Library/Jupyter/nbextensions/code_prettify/kernel_exec_on_cell.js\r\n",
      "\u001b[32m[I 08:32:53 InstallContribNbextensionsApp]\u001b[m Up to date: /Users/sejoon/Library/Jupyter/nbextensions/code_prettify/demo-jv.gif\r\n",
      "\u001b[32m[I 08:32:53 InstallContribNbextensionsApp]\u001b[m Up to date: /Users/sejoon/Library/Jupyter/nbextensions/code_prettify/README_2to3.md\r\n",
      "\u001b[32m[I 08:32:53 InstallContribNbextensionsApp]\u001b[m Up to date: /Users/sejoon/Library/Jupyter/nbextensions/code_prettify/2to3.yaml\r\n",
      "\u001b[32m[I 08:32:53 InstallContribNbextensionsApp]\u001b[m Up to date: /Users/sejoon/Library/Jupyter/nbextensions/code_prettify/README_autopep8.md\r\n",
      "\u001b[32m[I 08:32:53 InstallContribNbextensionsApp]\u001b[m Up to date: /Users/sejoon/Library/Jupyter/nbextensions/code_prettify/demo_2to3.gif\r\n",
      "\u001b[32m[I 08:32:53 InstallContribNbextensionsApp]\u001b[m Up to date: /Users/sejoon/Library/Jupyter/nbextensions/code_prettify/README_isort.md\r\n",
      "\u001b[32m[I 08:32:53 InstallContribNbextensionsApp]\u001b[m Up to date: /Users/sejoon/Library/Jupyter/nbextensions/code_prettify/README_code_prettify.md\r\n",
      "\u001b[32m[I 08:32:53 InstallContribNbextensionsApp]\u001b[m Up to date: /Users/sejoon/Library/Jupyter/nbextensions/code_prettify/README.md\r\n",
      "\u001b[32m[I 08:32:53 InstallContribNbextensionsApp]\u001b[m Up to date: /Users/sejoon/Library/Jupyter/nbextensions/code_prettify/code_prettify.js\r\n",
      "\u001b[32m[I 08:32:53 InstallContribNbextensionsApp]\u001b[m Up to date: /Users/sejoon/Library/Jupyter/nbextensions/code_prettify/autopep8.js\r\n",
      "\u001b[32m[I 08:32:53 InstallContribNbextensionsApp]\u001b[m Up to date: /Users/sejoon/Library/Jupyter/nbextensions/code_prettify/demo-R.gif\r\n",
      "\u001b[32m[I 08:32:53 InstallContribNbextensionsApp]\u001b[m Up to date: /Users/sejoon/Library/Jupyter/nbextensions/code_prettify/isort.js\r\n",
      "\u001b[32m[I 08:32:53 InstallContribNbextensionsApp]\u001b[m Up to date: /Users/sejoon/Library/Jupyter/nbextensions/code_prettify/code_prettify.yaml\r\n",
      "\u001b[32m[I 08:32:53 InstallContribNbextensionsApp]\u001b[m Up to date: /Users/sejoon/Library/Jupyter/nbextensions/code_prettify/2to3.js\r\n",
      "\u001b[32m[I 08:32:53 InstallContribNbextensionsApp]\u001b[m Up to date: /Users/sejoon/Library/Jupyter/nbextensions/code_prettify/autopep8.yaml\r\n",
      "\u001b[32m[I 08:32:53 InstallContribNbextensionsApp]\u001b[m Up to date: /Users/sejoon/Library/Jupyter/nbextensions/code_prettify/isort.yaml\r\n",
      "\u001b[32m[I 08:32:53 InstallContribNbextensionsApp]\u001b[m - Validating: \u001b[32mOK\u001b[0m\r\n",
      "\u001b[32m[I 08:32:53 InstallContribNbextensionsApp]\u001b[m Installing /Users/sejoon/opt/anaconda3/lib/python3.9/site-packages/jupyter_contrib_nbextensions/nbextensions/code_prettify -> code_prettify\r\n",
      "\u001b[32m[I 08:32:53 InstallContribNbextensionsApp]\u001b[m Up to date: /Users/sejoon/Library/Jupyter/nbextensions/code_prettify/demo-py.gif\r\n",
      "\u001b[32m[I 08:32:53 InstallContribNbextensionsApp]\u001b[m Up to date: /Users/sejoon/Library/Jupyter/nbextensions/code_prettify/kernel_exec_on_cell.js\r\n",
      "\u001b[32m[I 08:32:53 InstallContribNbextensionsApp]\u001b[m Up to date: /Users/sejoon/Library/Jupyter/nbextensions/code_prettify/demo-jv.gif\r\n",
      "\u001b[32m[I 08:32:53 InstallContribNbextensionsApp]\u001b[m Up to date: /Users/sejoon/Library/Jupyter/nbextensions/code_prettify/README_2to3.md\r\n",
      "\u001b[32m[I 08:32:53 InstallContribNbextensionsApp]\u001b[m Up to date: /Users/sejoon/Library/Jupyter/nbextensions/code_prettify/2to3.yaml\r\n",
      "\u001b[32m[I 08:32:53 InstallContribNbextensionsApp]\u001b[m Up to date: /Users/sejoon/Library/Jupyter/nbextensions/code_prettify/README_autopep8.md\r\n",
      "\u001b[32m[I 08:32:53 InstallContribNbextensionsApp]\u001b[m Up to date: /Users/sejoon/Library/Jupyter/nbextensions/code_prettify/demo_2to3.gif\r\n",
      "\u001b[32m[I 08:32:53 InstallContribNbextensionsApp]\u001b[m Up to date: /Users/sejoon/Library/Jupyter/nbextensions/code_prettify/README_isort.md\r\n",
      "\u001b[32m[I 08:32:53 InstallContribNbextensionsApp]\u001b[m Up to date: /Users/sejoon/Library/Jupyter/nbextensions/code_prettify/README_code_prettify.md\r\n",
      "\u001b[32m[I 08:32:53 InstallContribNbextensionsApp]\u001b[m Up to date: /Users/sejoon/Library/Jupyter/nbextensions/code_prettify/README.md\r\n",
      "\u001b[32m[I 08:32:53 InstallContribNbextensionsApp]\u001b[m Up to date: /Users/sejoon/Library/Jupyter/nbextensions/code_prettify/code_prettify.js\r\n",
      "\u001b[32m[I 08:32:53 InstallContribNbextensionsApp]\u001b[m Up to date: /Users/sejoon/Library/Jupyter/nbextensions/code_prettify/autopep8.js\r\n",
      "\u001b[32m[I 08:32:53 InstallContribNbextensionsApp]\u001b[m Up to date: /Users/sejoon/Library/Jupyter/nbextensions/code_prettify/demo-R.gif\r\n",
      "\u001b[32m[I 08:32:53 InstallContribNbextensionsApp]\u001b[m Up to date: /Users/sejoon/Library/Jupyter/nbextensions/code_prettify/isort.js\r\n",
      "\u001b[32m[I 08:32:53 InstallContribNbextensionsApp]\u001b[m Up to date: /Users/sejoon/Library/Jupyter/nbextensions/code_prettify/code_prettify.yaml\r\n",
      "\u001b[32m[I 08:32:53 InstallContribNbextensionsApp]\u001b[m Up to date: /Users/sejoon/Library/Jupyter/nbextensions/code_prettify/2to3.js\r\n",
      "\u001b[32m[I 08:32:53 InstallContribNbextensionsApp]\u001b[m Up to date: /Users/sejoon/Library/Jupyter/nbextensions/code_prettify/autopep8.yaml\r\n",
      "\u001b[32m[I 08:32:53 InstallContribNbextensionsApp]\u001b[m Up to date: /Users/sejoon/Library/Jupyter/nbextensions/code_prettify/isort.yaml\r\n",
      "\u001b[32m[I 08:32:53 InstallContribNbextensionsApp]\u001b[m - Validating: \u001b[32mOK\u001b[0m\r\n",
      "\u001b[32m[I 08:32:53 InstallContribNbextensionsApp]\u001b[m Installing /Users/sejoon/opt/anaconda3/lib/python3.9/site-packages/jupyter_contrib_nbextensions/nbextensions/load_tex_macros -> load_tex_macros\r\n",
      "\u001b[32m[I 08:32:53 InstallContribNbextensionsApp]\u001b[m Making directory: /Users/sejoon/Library/Jupyter/nbextensions/load_tex_macros/\r\n",
      "\u001b[32m[I 08:32:53 InstallContribNbextensionsApp]\u001b[m Copying: /Users/sejoon/opt/anaconda3/lib/python3.9/site-packages/jupyter_contrib_nbextensions/nbextensions/load_tex_macros/load_tex_macros.yaml -> /Users/sejoon/Library/Jupyter/nbextensions/load_tex_macros/load_tex_macros.yaml\r\n",
      "\u001b[32m[I 08:32:53 InstallContribNbextensionsApp]\u001b[m Copying: /Users/sejoon/opt/anaconda3/lib/python3.9/site-packages/jupyter_contrib_nbextensions/nbextensions/load_tex_macros/icon.png -> /Users/sejoon/Library/Jupyter/nbextensions/load_tex_macros/icon.png\r\n",
      "\u001b[32m[I 08:32:53 InstallContribNbextensionsApp]\u001b[m Copying: /Users/sejoon/opt/anaconda3/lib/python3.9/site-packages/jupyter_contrib_nbextensions/nbextensions/load_tex_macros/readme.md -> /Users/sejoon/Library/Jupyter/nbextensions/load_tex_macros/readme.md\r\n",
      "\u001b[32m[I 08:32:53 InstallContribNbextensionsApp]\u001b[m Copying: /Users/sejoon/opt/anaconda3/lib/python3.9/site-packages/jupyter_contrib_nbextensions/nbextensions/load_tex_macros/main.js -> /Users/sejoon/Library/Jupyter/nbextensions/load_tex_macros/main.js\r\n",
      "\u001b[32m[I 08:32:53 InstallContribNbextensionsApp]\u001b[m - Validating: \u001b[32mOK\u001b[0m\r\n",
      "\u001b[32m[I 08:32:53 InstallContribNbextensionsApp]\u001b[m Installing /Users/sejoon/opt/anaconda3/lib/python3.9/site-packages/jupyter_contrib_nbextensions/nbextensions/hide_header -> hide_header\r\n",
      "\u001b[32m[I 08:32:53 InstallContribNbextensionsApp]\u001b[m Making directory: /Users/sejoon/Library/Jupyter/nbextensions/hide_header/\r\n",
      "\u001b[32m[I 08:32:53 InstallContribNbextensionsApp]\u001b[m Copying: /Users/sejoon/opt/anaconda3/lib/python3.9/site-packages/jupyter_contrib_nbextensions/nbextensions/hide_header/hide_header.yaml -> /Users/sejoon/Library/Jupyter/nbextensions/hide_header/hide_header.yaml\r\n",
      "\u001b[32m[I 08:32:53 InstallContribNbextensionsApp]\u001b[m Copying: /Users/sejoon/opt/anaconda3/lib/python3.9/site-packages/jupyter_contrib_nbextensions/nbextensions/hide_header/README.md -> /Users/sejoon/Library/Jupyter/nbextensions/hide_header/README.md\r\n",
      "\u001b[32m[I 08:32:53 InstallContribNbextensionsApp]\u001b[m Copying: /Users/sejoon/opt/anaconda3/lib/python3.9/site-packages/jupyter_contrib_nbextensions/nbextensions/hide_header/main.js -> /Users/sejoon/Library/Jupyter/nbextensions/hide_header/main.js\r\n",
      "\u001b[32m[I 08:32:53 InstallContribNbextensionsApp]\u001b[m - Validating: \u001b[32mOK\u001b[0m\r\n",
      "\u001b[32m[I 08:32:53 InstallContribNbextensionsApp]\u001b[m Installing /Users/sejoon/opt/anaconda3/lib/python3.9/site-packages/jupyter_highlight_selected_word/static/highlight_selected_word -> highlight_selected_word\r\n",
      "\u001b[32m[I 08:32:53 InstallContribNbextensionsApp]\u001b[m Making directory: /Users/sejoon/Library/Jupyter/nbextensions/highlight_selected_word/\r\n",
      "\u001b[32m[I 08:32:53 InstallContribNbextensionsApp]\u001b[m Copying: /Users/sejoon/opt/anaconda3/lib/python3.9/site-packages/jupyter_highlight_selected_word/static/highlight_selected_word/configurator.yaml -> /Users/sejoon/Library/Jupyter/nbextensions/highlight_selected_word/configurator.yaml\r\n",
      "\u001b[32m[I 08:32:53 InstallContribNbextensionsApp]\u001b[m Copying: /Users/sejoon/opt/anaconda3/lib/python3.9/site-packages/jupyter_highlight_selected_word/static/highlight_selected_word/README.md -> /Users/sejoon/Library/Jupyter/nbextensions/highlight_selected_word/README.md\r\n",
      "\u001b[32m[I 08:32:53 InstallContribNbextensionsApp]\u001b[m Copying: /Users/sejoon/opt/anaconda3/lib/python3.9/site-packages/jupyter_highlight_selected_word/static/highlight_selected_word/main.js -> /Users/sejoon/Library/Jupyter/nbextensions/highlight_selected_word/main.js\r\n",
      "\u001b[32m[I 08:32:53 InstallContribNbextensionsApp]\u001b[m - Validating: \u001b[32mOK\u001b[0m\r\n",
      "\u001b[32m[I 08:32:53 InstallContribNbextensionsApp]\u001b[m Installing jupyter_contrib_nbextensions items to config in /Users/sejoon/.jupyter\r\n",
      "Enabling: jupyter_nbextensions_configurator\r\n",
      "- Writing config: /Users/sejoon/.jupyter\r\n",
      "    - Validating...\r\n",
      "      jupyter_nbextensions_configurator 0.6.1 \u001b[32mOK\u001b[0m\r\n",
      "Enabling notebook nbextension nbextensions_configurator/config_menu/main...\r\n",
      "Enabling tree nbextension nbextensions_configurator/tree_tab/main...\r\n",
      "\u001b[32m[I 08:32:53 InstallContribNbextensionsApp]\u001b[m Enabling notebook extension contrib_nbextensions_help_item/main...\r\n",
      "\u001b[32m[I 08:32:53 InstallContribNbextensionsApp]\u001b[m       - Validating: \u001b[32mOK\u001b[0m\r\n",
      "\u001b[32m[I 08:32:53 InstallContribNbextensionsApp]\u001b[m - Editing config: /Users/sejoon/.jupyter/jupyter_nbconvert_config.json\r\n",
      "\u001b[32m[I 08:32:53 InstallContribNbextensionsApp]\u001b[m --  Configuring nbconvert template path\r\n",
      "\u001b[32m[I 08:32:53 InstallContribNbextensionsApp]\u001b[m --  Configuring nbconvert preprocessors\r\n",
      "\u001b[32m[I 08:32:53 InstallContribNbextensionsApp]\u001b[m - Writing config: /Users/sejoon/.jupyter/jupyter_nbconvert_config.json\r\n",
      "\u001b[32m[I 08:32:53 InstallContribNbextensionsApp]\u001b[m --  Writing updated config file /Users/sejoon/.jupyter/jupyter_nbconvert_config.json\r\n"
     ]
    }
   ],
   "source": [
    "!jupyter contrib nbextension install --user"
   ]
  },
  {
   "cell_type": "code",
   "execution_count": 4,
   "metadata": {},
   "outputs": [
    {
     "name": "stdout",
     "output_type": "stream",
     "text": [
      "Enabling: jupyter_nbextensions_configurator\r\n",
      "- Writing config: /Users/sejoon/.jupyter\r\n",
      "    - Validating...\r\n",
      "      jupyter_nbextensions_configurator 0.6.1 \u001b[32mOK\u001b[0m\r\n",
      "Enabling notebook nbextension nbextensions_configurator/config_menu/main...\r\n",
      "Enabling tree nbextension nbextensions_configurator/tree_tab/main...\r\n"
     ]
    }
   ],
   "source": [
    "!jupyter nbextensions_configurator enable --user"
   ]
  },
  {
   "cell_type": "markdown",
   "metadata": {
    "slideshow": {
     "slide_type": "slide"
    }
   },
   "source": [
    "# 변수 (Variable)\n",
    "- 데이터를 저장하는 메모리 공간\n",
    "- 이 메모리 공간은 이름(변수이름)으로 관리된다.\n",
    "    - 그래서 변수이름은 우리가 사용하는 값의 이름으로 사용된다.\n",
    "    \n",
    "## 변수 선언및 초기화\n",
    "- 변수명 = 값\n",
    "    - 변수는 반드시 선언하면서 값을 대입 해야 한다.\n",
    "    - 선언시 대입할 값이 없으면 None을 대입 (`name = None`)"
   ]
  },
  {
   "cell_type": "markdown",
   "metadata": {
    "slideshow": {
     "slide_type": "subslide"
    }
   },
   "source": [
    "  \n",
    "### 식별자 규칙과 변수이름 주는 관례\n",
    "\n",
    "#### 식별자 규칙\n",
    "- 식별자란 파이썬에서 사용하는 것들을 구분하기 위해 주는 이름을 말한다. \n",
    "- 사용할 수 있는 문자는 **일반 문자**(영어 알파벳 뿐 만 아니라 한글 한자 등 모든 일반 문자를 사용할 수 있다.), **숫자, 특수 문자는  _(underscore) 만** 가능.\n",
    "- 숫자는 **두번째 글자** 부터 사용할 수 있다.\n",
    "- **예약어(keyword, reserved word)**는 사용할 수 없다.\n",
    "- 대소문자를 구별한다.\n",
    "\n",
    "> <b style='font-size:1.2em'>파이썬 키워드</b>\n",
    "> ```python\n",
    "> False      await      else       import     pass\n",
    "> None       break      except     in         raise\n",
    "> True       class      finally    is         return\n",
    "> and        continue   for        lambda     try\n",
    "> as         def        from       nonlocal   while\n",
    "> assert     del        global     not        with\n",
    "> async      elif       if         or         yield\n",
    "> ```"
   ]
  },
  {
   "cell_type": "markdown",
   "metadata": {
    "slideshow": {
     "slide_type": "fragment"
    }
   },
   "source": [
    "#### 변수이름 관례\n",
    "- 모든 글자를 소문자로 한다.\n",
    "- 여러단어를 조합할 경우 `_` 로 구분한다.\n",
    "- 예: `name`, `age`, `customer_name`, `product_id`, `sale_price`"
   ]
  },
  {
   "cell_type": "code",
   "execution_count": null,
   "metadata": {
    "slideshow": {
     "slide_type": "fragment"
    }
   },
   "outputs": [],
   "source": []
  },
  {
   "cell_type": "markdown",
   "metadata": {
    "slideshow": {
     "slide_type": "subslide"
    }
   },
   "source": [
    "> **print()함수**\n",
    "> - ( ) 안에 전달해주는 값(Argument)을 문자열로 변환 후 화면(Teminal)에 출력하는 함수\n",
    ">     - 값에 엔터를 붙인뒤 출력한다.\n",
    "> - 여러개의 값을 출력할 경우 나열해서 전달하면 된다.\n",
    "> - 여러개개의 값을 출력할 경우 구분자는 공백을 기본값으로 한다. 다른 구분자를 사용할 경우 `sep=구분자문자열`를 전달한다.\n",
    "> - 뒤에 엔터 대신 다른 값을 붙일 경우 `end=붙일문자열` 을 전달한다."
   ]
  },
  {
   "cell_type": "code",
   "execution_count": null,
   "metadata": {
    "slideshow": {
     "slide_type": "fragment"
    }
   },
   "outputs": [],
   "source": []
  },
  {
   "cell_type": "markdown",
   "metadata": {
    "slideshow": {
     "slide_type": "slide"
    }
   },
   "source": [
    "## 변수 사용\n",
    "- 변수를 사용하는 것은 변수에 값을 변경(대입)과 변수가 가진 값을 조회하는 두가지가 있다.\n",
    "\n",
    "### 변수에 값 대입/할당 (assignment)\n",
    "1. 변수명 = 값\n",
    "    - `=`을 기준으로 왼쪽은 변수, 오른쪽은 대입할 값\n",
    "    - 대입할 값으로 다음이 올 수 있다.\n",
    "        - Literal 값(값 표현식)\n",
    "        - 다른 변수\n",
    "        - 연산식\n",
    "    - 변수 초기화와 변수값 변경의 파이썬 구문은 동일하다. 변수를 처음 만들고 값을 대입하면 초기화이고 그 이후 할당하는 것들은 변경이 된다.\n",
    " "
   ]
  },
  {
   "cell_type": "markdown",
   "metadata": {
    "slideshow": {
     "slide_type": "fragment"
    }
   },
   "source": [
    "2. 여러 변수에 동일 한 값 대입\n",
    "    - a = b = c = 30"
   ]
  },
  {
   "cell_type": "markdown",
   "metadata": {
    "slideshow": {
     "slide_type": "fragment"
    }
   },
   "source": [
    "3. 여러 변수에 다른 값 대입을 한 구문으로 처리\n",
    "    - `a, b, c = 10, 20, 30`"
   ]
  },
  {
   "cell_type": "code",
   "execution_count": null,
   "metadata": {
    "slideshow": {
     "slide_type": "fragment"
    }
   },
   "outputs": [],
   "source": []
  },
  {
   "cell_type": "markdown",
   "metadata": {
    "slideshow": {
     "slide_type": "subslide"
    }
   },
   "source": [
    "4. 대입(할당) 연산자(Assignment operator)\n",
    "\n",
    "- 변수의 값을 그 변수와 다른 값을 연산한 결과로 변경한다.\n",
    "|연산자|예|동일연산|\n",
    "|:-|-|-|\n",
    "|=|x = 1|x = 5\t\n",
    "|+=|x += 1|x = x + 1|\t\n",
    "|-=|x -= 1|x = x - 1|\t\n",
    "|*=|x *= 1|x = x * 1|\t\n",
    "|/=|x /= 1|x = x / 1|\t\n",
    "|%=|x %= 1|x = x % 1|\t\n",
    "|//=|x //= 1|x = x // 1|\t\n",
    "|\\*\\*=|x \\*\\*= 1|x = x \\*\\* 1|"
   ]
  },
  {
   "cell_type": "code",
   "execution_count": 19,
   "metadata": {
    "ExecuteTime": {
     "end_time": "2022-12-21T20:31:04.720188Z",
     "start_time": "2022-12-21T20:31:04.711186Z"
    },
    "slideshow": {
     "slide_type": "fragment"
    }
   },
   "outputs": [
    {
     "data": {
      "text/plain": [
       "16000000000000.0"
      ]
     },
     "execution_count": 19,
     "metadata": {},
     "output_type": "execute_result"
    }
   ],
   "source": [
    "a = 5\n",
    "a += 3\n",
    "a\n",
    "a -= 4\n",
    "a\n",
    "a *= 1e3\n",
    "int(a)\n",
    "a //= 2\n",
    "a\n",
    "a**= 4\n",
    "a"
   ]
  },
  {
   "cell_type": "markdown",
   "metadata": {
    "slideshow": {
     "slide_type": "subslide"
    }
   },
   "source": [
    "### 변수값 조회\n",
    "- 값을 사용해야 하는 자리에 변수명을 표현하면된다.\n",
    "    - 변수명을 쓰면 그 변수가 가진 값을 조회해 사용한다."
   ]
  },
  {
   "cell_type": "code",
   "execution_count": null,
   "metadata": {
    "slideshow": {
     "slide_type": "fragment"
    }
   },
   "outputs": [],
   "source": []
  },
  {
   "cell_type": "markdown",
   "metadata": {
    "slideshow": {
     "slide_type": "subslide"
    }
   },
   "source": [
    "## 변수를 메모리에서 제거\n",
    "\n",
    "메모리에서 변수(데이터 저장공간)을 제거할 때는 `del 변수명` 명령어를 사용한다."
   ]
  },
  {
   "cell_type": "code",
   "execution_count": null,
   "metadata": {
    "slideshow": {
     "slide_type": "fragment"
    }
   },
   "outputs": [],
   "source": []
  },
  {
   "cell_type": "markdown",
   "metadata": {
    "slideshow": {
     "slide_type": "slide"
    }
   },
   "source": [
    "# 데이터 타입 (Data Type)\n",
    "\n",
    "- 값들의 형태(type)에 따라 종류를 분류한 것\n",
    "- 데이터타입은 값을 표현하는 방식과 관련 연산자들을 익히도록 한다."
   ]
  },
  {
   "cell_type": "markdown",
   "metadata": {
    "slideshow": {
     "slide_type": "subslide"
    }
   },
   "source": [
    "## None 값\n",
    "- 아무 값도 없음을 나타내는 값"
   ]
  },
  {
   "cell_type": "code",
   "execution_count": null,
   "metadata": {
    "slideshow": {
     "slide_type": "fragment"
    }
   },
   "outputs": [],
   "source": []
  },
  {
   "cell_type": "markdown",
   "metadata": {
    "slideshow": {
     "slide_type": "slide"
    }
   },
   "source": [
    "## 숫자형(Numeric) - 정수, 실수\n",
    "\n",
    "- 정수(int)와 실수(float) 형이 있다.\n",
    "    - **정수 표현식**\n",
    "        - 10, 20, -1, -20, 0\n",
    "        - 16진수 표기\n",
    "            - 0x 로 시작 (0xAF29)\n",
    "        - 8진수 표기\n",
    "            - 0O 으로 시작 (071)\n",
    "    - **실수**\n",
    "        - 20.1, 0.123411, 15.2321598\n",
    "        - 지수표기법\n",
    "            - $5e7$ -> $5.0times10^7$\n",
    "            - $3e-7$ -> $3\\times$10^-7$"
   ]
  },
  {
   "cell_type": "code",
   "execution_count": null,
   "metadata": {
    "slideshow": {
     "slide_type": "fragment"
    }
   },
   "outputs": [],
   "source": []
  },
  {
   "cell_type": "markdown",
   "metadata": {
    "slideshow": {
     "slide_type": "subslide"
    }
   },
   "source": [
    "### 연산자\n",
    "<b style='font-size:1.2em'>산술연산자</b>\n",
    "\n",
    "|Operator(연산자)|설명|예|\n",
    "|-|-|-|\n",
    "|+|덧셈|x + y|\n",
    "|-|뺄셈|x - y|\n",
    "|*|곱셈|x * y|\n",
    "|/|나눗셈|x / y|\n",
    "|%|Modulus(나머지 나누기 연산자)|x % y|\n",
    "|//|Floor division(몫 나누기 연산자)|x // y|\n",
    "|**|제곱연산|x ** y|"
   ]
  },
  {
   "cell_type": "code",
   "execution_count": null,
   "metadata": {
    "slideshow": {
     "slide_type": "fragment"
    }
   },
   "outputs": [],
   "source": []
  },
  {
   "cell_type": "markdown",
   "metadata": {
    "slideshow": {
     "slide_type": "slide"
    }
   },
   "source": [
    "## 논리형(bool)\n",
    "- **참(True)과 거짓(False)을** 표현하는 데이터 타입\n",
    "    - 제어문에서 많이 사용된다.\n",
    "- 값 표현식\n",
    "    - True, False\n",
    "- bool 값이 들어가야 하는 구문에 다른 타입의 값을 작성하면 자동적으로 bool 타입으로 변환된다. (묵시적 형변환이라 한다.)\n",
    "    - **0글자의 문자열, 숫자 0, None, 원소가 하나도 없는 자료구조는** False로 변환되고 그 이외는 True로 변환된다."
   ]
  },
  {
   "cell_type": "code",
   "execution_count": null,
   "metadata": {
    "slideshow": {
     "slide_type": "fragment"
    }
   },
   "outputs": [],
   "source": []
  },
  {
   "cell_type": "markdown",
   "metadata": {
    "slideshow": {
     "slide_type": "subslide"
    }
   },
   "source": [
    "- input(\\[label\\]) 함수\n",
    "    - 사용자로 부터 값을 입력받을 때 사용한다.\n",
    "    - 사용자의 입력을 기다렸다 사용자가 값을 입력하고 엔터를 치면 그 입력한 값을 읽어 반환한다.\n",
    "    - 어떤 값을 입력받을 것인지 Label을 문자열로 전달할 수 있다."
   ]
  },
  {
   "cell_type": "code",
   "execution_count": null,
   "metadata": {
    "ExecuteTime": {
     "start_time": "2022-12-21T20:37:55.479Z"
    },
    "slideshow": {
     "slide_type": "fragment"
    }
   },
   "outputs": [],
   "source": [
    "input()"
   ]
  },
  {
   "cell_type": "markdown",
   "metadata": {
    "slideshow": {
     "slide_type": "subslide"
    }
   },
   "source": [
    "### 논리형 관련 연산자\n",
    "<b style='font-size:1.2em'>비교 연산자</b>\n",
    "- 결과가 bool 타입\n",
    "- 기준은 왼쪽의 피연산자이다.\n",
    "|연산자|설명|예|\n",
    "|-|-|-|\n",
    "|==|같은가?|x == y|\t\n",
    "|!=|같지 않은가?|x != y|\t\n",
    "|>|x가 큰가?|x > y|\n",
    "|<|x가 작은가?|x < y|\t\n",
    "|>=|x가 크거나 같은가?|x >= y|\n",
    "|<=|x가 작거나 같은가?|x <= y|"
   ]
  },
  {
   "cell_type": "code",
   "execution_count": null,
   "metadata": {
    "slideshow": {
     "slide_type": "fragment"
    }
   },
   "outputs": [],
   "source": []
  },
  {
   "cell_type": "markdown",
   "metadata": {
    "slideshow": {
     "slide_type": "subslide"
    }
   },
   "source": [
    "<b style='font-size:1.2em'>논리 연산자</b>\n",
    "- 피연산자가 bool 타입이고 결과도 bool 타입이다.\n",
    "- &, |, ^ 기호를 연산자로 사용할 때는 피연산자를 ( )로 묶어 줘야 한다.\n",
    "|연산자|설명|예|\n",
    "|:-|-|-|\n",
    "|and, &|피연산자 모두 True이면 True를 하나라도 False이면 False를 반환.|x < 5 and  x < 10|\t\n",
    "|or, \\||피연산자 둘중 하나만 True이면 True를 둘다 False이면 False를 반환.|x < 5 or x < 4|\n",
    "|^|XOR 연산. 피연산자가 다를 경우 True, 같으면 False를 반환.|(x > 5) ^ (x < 4)|\n",
    "|not|단항연산자. 결과를 뒤바꾸어 반환. True는 False로 False는 True로 반환.|not(x < 5 and x < 10)|"
   ]
  },
  {
   "cell_type": "code",
   "execution_count": null,
   "metadata": {
    "slideshow": {
     "slide_type": "fragment"
    }
   },
   "outputs": [],
   "source": []
  },
  {
   "cell_type": "markdown",
   "metadata": {
    "slideshow": {
     "slide_type": "subslide"
    }
   },
   "source": [
    "<b style='font-size:1.2em'>조건 연산자</b>\n",
    "\n",
    "\n",
    "True일때 결과값 <b style='color:purple'>if</b> 조건식 <b style='color:purple'>else</b> False일때 결과값\n",
    "- 조건식이 True이면 앞의 값을 False이면 뒤의 값을 연산결과로 반환한다."
   ]
  },
  {
   "cell_type": "code",
   "execution_count": null,
   "metadata": {
    "slideshow": {
     "slide_type": "fragment"
    }
   },
   "outputs": [],
   "source": []
  },
  {
   "cell_type": "markdown",
   "metadata": {
    "slideshow": {
     "slide_type": "slide"
    }
   },
   "source": [
    "## 문자열 (string)\n",
    "\n",
    "- 0글자 이상의 문자열을 표현한다.\n",
    "- 파이썬 3.0 부터는 유니코드 문자열을 지원하므로 영문자 뿐 아니라 모든 나라의 철자들을 기본으로 사용할 수 있다.\n",
    "- 문자열 표현식\n",
    "    - **작은 따옴표 또는 큰 따옴표**로 감싼다.\n",
    "    - 여러줄 문자열(Multiline string)은 **3개 짜리 작은따옴표 또는 큰따옴표**로 감싼다.\n",
    "        - 문자열 데이터에 `엔터`가 들어갈 경우 편리하다.\n",
    "    - Escape 문자\n",
    "        - 키보드에는 있지만 글자로 표현할 수 없는 문자들을 표현할 때 사용한다. `예) 엔터, Tab, Back space 등`\n",
    "        - 사용하는 글자가 원래 의미에서 벗어나(escape) 다른 의미로 쓰인다고 해서 escape문자라고 한다.\n",
    "        - 파이썬 뿐 아니라 모든 프로그래밍 언어에서 사용하는 표준이다.\n",
    "        - 표현: `\\문자` \n",
    "  "
   ]
  },
  {
   "cell_type": "markdown",
   "metadata": {
    "slideshow": {
     "slide_type": "fragment"
    }
   },
   "source": [
    "      \n",
    "        \n",
    "<b style='font-size:1.2em'>주요 Excape 문자</b>\n",
    "\n",
    "|Escape문자|설명|\n",
    "|-|-|\n",
    "|\\n|엔터|\n",
    "|\\t|Tab|\n",
    "|\\b|Backspace|\n",
    "|\\\\\\\\|\\|\n",
    "|\\\\\\\"|\"|\n",
    "|\\\\\\'|'|\n",
    "\n",
    "\n",
    ">- r-string (raw string)\n",
    ">  - 문자열 앞에 r 접두어를 붙인다. (raw) \n",
    ">  - escape 문자구분자인 \\를 무시하여 escape 문자로 변환하지 않고 작성한 그대로 사용한다.\n",
    ">  - ex) r\"c:\\test\\example\\a.txt\"\n",
    "        "
   ]
  },
  {
   "cell_type": "code",
   "execution_count": null,
   "metadata": {
    "slideshow": {
     "slide_type": "fragment"
    }
   },
   "outputs": [],
   "source": []
  },
  {
   "cell_type": "markdown",
   "metadata": {
    "slideshow": {
     "slide_type": "subslide"
    }
   },
   "source": [
    "<b style='font-size:1.2em'>문자열 연산자</b>\n",
    "- 문자열 + 문자열\n",
    "    - 두 문자열을 합친다.\n",
    "    - 문자열은 문자열과만 `+` 연산을 할 수 있다. 다른 타입과 합칠 경우 다른 타입을 문자열로 변환한 뒤 연산해야 한다. (str() 함수이용)"
   ]
  },
  {
   "cell_type": "code",
   "execution_count": null,
   "metadata": {
    "slideshow": {
     "slide_type": "fragment"
    }
   },
   "outputs": [],
   "source": []
  },
  {
   "cell_type": "markdown",
   "metadata": {
    "slideshow": {
     "slide_type": "fragment"
    }
   },
   "source": [
    "- 문자열 * 정수\n",
    "    - 문자열을 정수번 반복해서 합친다."
   ]
  },
  {
   "cell_type": "code",
   "execution_count": null,
   "metadata": {
    "slideshow": {
     "slide_type": "fragment"
    }
   },
   "outputs": [],
   "source": []
  },
  {
   "cell_type": "markdown",
   "metadata": {
    "slideshow": {
     "slide_type": "fragment"
    }
   },
   "source": [
    "- `in`, `not in`\n",
    "    - 문자열A in 문자열B\n",
    "        - 문자열A가 문자열B에 **있**으면 True, 없으면 False를 반환\n",
    "    - 문자열A not in 문자열B\n",
    "        - 문자열A가 문자열B에 **없**으면 True, 있으면 False를 반환"
   ]
  },
  {
   "cell_type": "code",
   "execution_count": null,
   "metadata": {
    "slideshow": {
     "slide_type": "fragment"
    }
   },
   "outputs": [],
   "source": []
  },
  {
   "cell_type": "markdown",
   "metadata": {
    "slideshow": {
     "slide_type": "fragment"
    }
   },
   "source": [
    "- len(문자열)\n",
    "    - 글자수를 반환한다."
   ]
  },
  {
   "cell_type": "code",
   "execution_count": null,
   "metadata": {
    "slideshow": {
     "slide_type": "fragment"
    }
   },
   "outputs": [],
   "source": []
  },
  {
   "cell_type": "markdown",
   "metadata": {
    "slideshow": {
     "slide_type": "subslide"
    }
   },
   "source": [
    "### Indexing과 Slicing\n",
    "\n",
    "- Indexer 연산자\n",
    "    - `집합형태[식별자]`\n",
    "        - 여러개의 값이 모여있는 집합 형태의 데이터에서 그 중 일부를 조회할 때 사용하는 연산자.\n",
    "            - 문자열, 자료구조 등 다양한 데이터타입에 사용한다.\n",
    "        - 조회하고자 하는 일부를 식별할 수 있는 `식별자`를 \\[\\] 안에 넣어 조회한다.\n",
    "- indexing과 slicing\n",
    "    - **indexing**: 집합내에서 하나의 값을 조회하는 방법\n",
    "    - **slicing**: 집합내에서 여러개의 값들을 범위로 지정해 조회하는 방법"
   ]
  },
  {
   "cell_type": "markdown",
   "metadata": {
    "slideshow": {
     "slide_type": "subslide"
    }
   },
   "source": [
    "### Indexing과 Slicing을 이용해 문자열내의 일부 문자들(sub string) 조회\n",
    "- **문자열 내의 각 문자들은 식별자로 index를 가진다.**\n",
    "    - 양수 index\n",
    "        - 문자열 앞에서 부터 붙여주는 index\n",
    "        - 0부터 1씩 증가하는 값을 붙여준다.\n",
    "        - **앞에서 몇번째 글자 식**으로 조회할 때 사용한다.\n",
    "    - 음수 index\n",
    "        - 문자열 맨 뒤에서 부터 붙여주는 index\n",
    "        - -1 에서 1씩 감소하는 값을 붙여준다.\n",
    "        - **뒤에서 몇번째 글자 식**으로 조회할 때 사용한다.\n",
    "    - 모든 문자는 양수/음수 index 두개를 가진다.\n",
    "    ![index](images/ch02_01.png)"
   ]
  },
  {
   "cell_type": "markdown",
   "metadata": {
    "slideshow": {
     "slide_type": "subslide"
    }
   },
   "source": [
    "#### Indexing\n",
    "- 문자열\\[index\\]\n",
    "    - index의 문자를 조회\n",
    "    - 변경은 안된다.\n",
    "        - 문자열 값 안의 일부를 변경할 수 없다.\n",
    "        - 문자열처럼 내부의 값을 변경할 수 없는 데이터 타입을 불변(Immutable)이라고 한다. "
   ]
  },
  {
   "cell_type": "code",
   "execution_count": null,
   "metadata": {
    "slideshow": {
     "slide_type": "fragment"
    }
   },
   "outputs": [],
   "source": []
  },
  {
   "cell_type": "markdown",
   "metadata": {
    "slideshow": {
     "slide_type": "fragment"
    }
   },
   "source": [
    "#### Slicing\n",
    "- 기본구문: **문자열 \\[ 시작 index : 종료 index : 간격\\]**\n",
    "    - 시작 index ~ (종료 index – 1)\n",
    "    - 간격을 지정하면 간격만큼 index를 증/감한다. (생략 시 1이 기본 간격)\n",
    "- **0번 index 부터 조회 할 경우 시작 index는 생략가능**\n",
    "    - str_value \\[ : 5\\] => 0 ~ 4 까지 조회\n",
    "- **마지막 index까지 (끝까지) 조회 할 경우 종료 index는 생략 가능**\n",
    "    - str_value\\[2 : \\] => 2번 index 에서 끝까지\n",
    "- **명시적으로 간격을 줄 경우**\n",
    "    - str_value\\[ : : 3 \\] => 0, 3, 6, 9.. index의 값 조회\n",
    "    - str_value\\[1 : 9 : 2\\] => 1, 3, 5, 7 index의 값 조회\n",
    "- **시작 index > 종료 index, 간격을 음수로 하면 역으로 반환한다.(Reverse)**\n",
    "    - str_value\\[5: 1: -1\\] => 5, 4, 3, 2 index의 값 조회\n",
    "    - str_value\\[: : -1\\]  => 마지막 index ~ 0번 index 까지 의미. Reverse 한다."
   ]
  },
  {
   "cell_type": "code",
   "execution_count": null,
   "metadata": {
    "slideshow": {
     "slide_type": "fragment"
    }
   },
   "outputs": [],
   "source": []
  },
  {
   "cell_type": "markdown",
   "metadata": {
    "slideshow": {
     "slide_type": "slide"
    }
   },
   "source": [
    "### Format string (형식문자열) 생성\n",
    "- 문자열에 문장 형식/구성/Layout을  미리 만들어 놓고 값은 나중에 대입하는 방식으로 문자열을 만드는 것\n",
    "    - 여러 문자열이 같은 Layer에 특정 값들만 바뀌는 경우 사용한다.\n",
    "        - 이름 : XXX 나이 : XXX 성별 : XXX  \n",
    "        - 기본 형식은 같은데 XXX에 들어갈 값들은 그때 그때 다를 경우 사용\n",
    "1. format() 함수 이용\n",
    "    - 문자열을 만들 때 값을 나중에 넣을 위치 { } 로 표시하고 format() 메소드에서 { }에 들어갈 값을 순서대로 넣는다.\n",
    "\n",
    "> 값을 넣어줄 자리를 지정하는 것을 **placeholder** 라고 한다."
   ]
  },
  {
   "cell_type": "code",
   "execution_count": null,
   "metadata": {
    "slideshow": {
     "slide_type": "fragment"
    }
   },
   "outputs": [],
   "source": []
  },
  {
   "cell_type": "markdown",
   "metadata": {
    "slideshow": {
     "slide_type": "subslide"
    }
   },
   "source": [
    "2. % value 사용\n",
    "    - 타입을 지정하는 % value를 이용해 값을 넣어줄 자리를 지정한다.\n",
    "    - format 문자열과 넣어줄 값은 % 로 구분한다.\n",
    "    \n",
    "|% value|설명|\n",
    "|-|-|\n",
    "|%s|string|\n",
    "|%d|int-정수|\n",
    "|%f|float-실수|\n",
    "|%%|%|\n",
    "\n",
    "실수는 소수점자릿수를 6자리로 맞추기 때문에 정밀도를 표현하는 표현식을 지정하는 것이 좋다. `ex) %.2f`"
   ]
  },
  {
   "cell_type": "code",
   "execution_count": 10,
   "metadata": {
    "ExecuteTime": {
     "end_time": "2022-12-25T22:41:22.181726Z",
     "start_time": "2022-12-25T22:41:22.175246Z"
    },
    "slideshow": {
     "slide_type": "fragment"
    }
   },
   "outputs": [
    {
     "ename": "SyntaxError",
     "evalue": "invalid syntax (38096986.py, line 1)",
     "output_type": "error",
     "traceback": [
      "\u001b[0;36m  File \u001b[0;32m\"/var/folders/rk/978ch31x1lq5_fg7bzyhrtbr0000gn/T/ipykernel_2553/38096986.py\"\u001b[0;36m, line \u001b[0;32m1\u001b[0m\n\u001b[0;31m    v = int(input('정수': ))\u001b[0m\n\u001b[0m                      ^\u001b[0m\n\u001b[0;31mSyntaxError\u001b[0m\u001b[0;31m:\u001b[0m invalid syntax\n"
     ]
    }
   ],
   "source": [
    "v = int(input('정수': ))\n",
    "info = {v : %.2f}\n",
    "print(info)"
   ]
  },
  {
   "cell_type": "markdown",
   "metadata": {
    "slideshow": {
     "slide_type": "subslide"
    }
   },
   "source": [
    "3. f-string (format string)\n",
    "    - 파이썬 3.6에서 추가된 형식\n",
    "    - 문자열 앞에 접두어 `f`를 사용한다.\n",
    "    - 값을 넣을 자리에 {변수명} 을 이용해 변수가 가진 값을 문자열에 추가한다."
   ]
  },
  {
   "cell_type": "code",
   "execution_count": null,
   "metadata": {
    "slideshow": {
     "slide_type": "fragment"
    }
   },
   "outputs": [],
   "source": []
  },
  {
   "cell_type": "markdown",
   "metadata": {
    "slideshow": {
     "slide_type": "slide"
    }
   },
   "source": [
    "### string 주요 메소드\n",
    "\n",
    "|메소드|설명|\n",
    "|-|-|\n",
    "|split(구분문자열)|구분 문자열을 기준으로 나눈다.|\n",
    "|strip(), lstrip(), rstrip()|앞뒤(strip) 앞(lstrip) 뒤(rstrip) 공백 제거|\n",
    "|replace('바꿀 문자열', '새문자열')|바꿀 문자열을 새문자열로 변경|\n",
    "|count('세려는 문자열')|string안에 세려는 문자열이 몇개 있는지 반환|\n",
    "|index(문자열), find(문자열)|문자열이 몇번째 index에 있는지 반환|\n",
    "|upper(), lower()|모든 글자를 대문자(upper), 소문자(lower)로 변환|\n",
    "|capitalize(문자열)|문자열내 각 단어의 첫글자를 대문자로 변환|\n",
    "|islower(), isupper()|문자열이 모두 소문자(islower), 대문자(isupper)이면 True 아니면 False를 반환|\n",
    "|startswith(\"문자열\"), endswith(\"문자열\")|문자열로 시작하는지/끝나는지 여부 반환|"
   ]
  },
  {
   "cell_type": "code",
   "execution_count": null,
   "metadata": {
    "slideshow": {
     "slide_type": "fragment"
    }
   },
   "outputs": [],
   "source": []
  },
  {
   "cell_type": "markdown",
   "metadata": {
    "slideshow": {
     "slide_type": "slide"
    }
   },
   "source": [
    "## 데이터 타입 변환 (형변환) 함수\n",
    "- 정수로 변환\n",
    "    - int(value)\n",
    "- 실수로 변환\n",
    "    - float(value)\n",
    "- 문자열로 변환\n",
    "    - str(value)\n",
    "- 논리형으로 변환\n",
    "    - bool(value)"
   ]
  },
  {
   "cell_type": "code",
   "execution_count": null,
   "metadata": {
    "slideshow": {
     "slide_type": "fragment"
    }
   },
   "outputs": [],
   "source": []
  },
  {
   "cell_type": "markdown",
   "metadata": {
    "slideshow": {
     "slide_type": "skip"
    }
   },
   "source": [
    "# TODO"
   ]
  },
  {
   "cell_type": "code",
   "execution_count": null,
   "metadata": {
    "slideshow": {
     "slide_type": "skip"
    }
   },
   "outputs": [],
   "source": [
    "#1. 주민번호 \"901211-1027213\"의 앞 6자리만 조회해서 출력하시오.\n",
    "\n",
    "\n",
    "#2. \"안녕하세요\" 를 10번 출력하시오.\n",
    "\n",
    "\n",
    "#3. 다음 문자열의 글자수를 출력하시오.\n",
    "str_value = \"akdlclkdkdlelql39du7마구0ㅌ\" \n",
    "\n",
    "\n",
    "#4.\n",
    "name=\"TV\"\n",
    "price=300000\n",
    "maker = \"LG\"\n",
    "# 위 변수의 값을 다음과 같은 형태로 출력하시오.\n",
    "#\"제품명 : TV, 가격 : 300000, 제조사 : LG\"\n",
    "\n",
    "\n",
    "#5.\n",
    "fruits = \"사과 복숭아 귤 배\"\n",
    "# 위 fruits에 \"수박\"이 있는지 확인하는 코드를 작성하시오.\n",
    "\n",
    "\n",
    "#6.\n",
    "str_value=\"aldkjaldjfalfjlksajfladlkaalalkdjfa\"\n",
    "# str_value 문자열안에 a가 몇개 있는지 출력하시오."
   ]
  },
  {
   "cell_type": "code",
   "execution_count": null,
   "metadata": {},
   "outputs": [],
   "source": []
  }
 ],
 "metadata": {
  "kernelspec": {
   "display_name": "Python 3 (ipykernel)",
   "language": "python",
   "name": "python3"
  },
  "language_info": {
   "codemirror_mode": {
    "name": "ipython",
    "version": 3
   },
   "file_extension": ".py",
   "mimetype": "text/x-python",
   "name": "python",
   "nbconvert_exporter": "python",
   "pygments_lexer": "ipython3",
   "version": "3.9.13"
  },
  "toc": {
   "base_numbering": 1,
   "nav_menu": {},
   "number_sections": true,
   "sideBar": true,
   "skip_h1_title": false,
   "title_cell": "Table of Contents",
   "title_sidebar": "Contents",
   "toc_cell": false,
   "toc_position": {},
   "toc_section_display": true,
   "toc_window_display": true
  },
  "varInspector": {
   "cols": {
    "lenName": 16,
    "lenType": 16,
    "lenVar": 40
   },
   "kernels_config": {
    "python": {
     "delete_cmd_postfix": "",
     "delete_cmd_prefix": "del ",
     "library": "var_list.py",
     "varRefreshCmd": "print(var_dic_list())"
    },
    "r": {
     "delete_cmd_postfix": ") ",
     "delete_cmd_prefix": "rm(",
     "library": "var_list.r",
     "varRefreshCmd": "cat(var_dic_list()) "
    }
   },
   "types_to_exclude": [
    "module",
    "function",
    "builtin_function_or_method",
    "instance",
    "_Feature"
   ],
   "window_display": false
  }
 },
 "nbformat": 4,
 "nbformat_minor": 2
}
