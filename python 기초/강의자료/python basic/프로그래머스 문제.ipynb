{
 "cells": [
  {
   "cell_type": "code",
   "execution_count": 118,
   "id": "d6090588",
   "metadata": {
    "ExecuteTime": {
     "end_time": "2023-01-15T09:28:11.169918Z",
     "start_time": "2023-01-15T09:28:08.538642Z"
    }
   },
   "outputs": [
    {
     "name": "stdout",
     "output_type": "stream",
     "text": [
      "1 3\n",
      "6\n"
     ]
    }
   ],
   "source": [
    "# 문제 설명\n",
    "# 두 정수 a, b가 주어졌을 때 a와 b 사이에 속한 모든 정수의 합을 리턴하는 함수, solution을 완성하세요.\n",
    "# 예를 들어 a = 3, b = 5인 경우, 3 + 4 + 5 = 12이므로 12를 리턴합니다.\n",
    "\n",
    "# 제한 조건\n",
    "# a와 b가 같은 경우는 둘 중 아무 수나 리턴하세요.\n",
    "# a와 b는 -10,000,000 이상 10,000,000 이하인 정수입니다.\n",
    "# a와 b의 대소관계는 정해져있지 않습니다.\n",
    "# nums = list(range(-10000000,10000000))\n",
    "# def solution(*nums):\n",
    "\n",
    "a, b = map(int, input().split())\n",
    "lst = []\n",
    "if a > b:\n",
    "    c = b\n",
    "    d = a\n",
    "    while (c <= d):\n",
    "        lst.append(c)\n",
    "        c += 1\n",
    "    print(sum(lst))\n",
    "elif a == b:\n",
    "    print(a)\n",
    "else:\n",
    "    while (a <= b):\n",
    "        lst.append(a)\n",
    "        a += 1\n",
    "    print(sum(lst))"
   ]
  },
  {
   "cell_type": "code",
   "execution_count": 124,
   "id": "2e997685",
   "metadata": {
    "ExecuteTime": {
     "end_time": "2023-01-15T09:34:17.150867Z",
     "start_time": "2023-01-15T09:34:17.145263Z"
    }
   },
   "outputs": [
    {
     "name": "stdout",
     "output_type": "stream",
     "text": [
      "6\n"
     ]
    }
   ],
   "source": [
    "def adder(a, b):\n",
    "    # 함수를 완성하세요\n",
    "    if a > b: a, b = b, a\n",
    "\n",
    "    return sum(range(a,b+1))\n",
    "\n",
    "# 아래는 테스트로 출력해 보기 위한 코드입니다.\n",
    "print( adder(1, 3))"
   ]
  },
  {
   "cell_type": "code",
   "execution_count": 119,
   "id": "4ce1cdb3",
   "metadata": {
    "ExecuteTime": {
     "end_time": "2023-01-15T09:29:33.159662Z",
     "start_time": "2023-01-15T09:29:33.153925Z"
    }
   },
   "outputs": [],
   "source": [
    "def solution(a,b):\n",
    "    lst = []\n",
    "    if a > b:\n",
    "        c = b\n",
    "        d = a\n",
    "        while (c <= d):\n",
    "            lst.append(c)\n",
    "            c += 1\n",
    "        return(sum(lst))\n",
    "    elif a == b:\n",
    "        return(a)\n",
    "    else:\n",
    "        while (a <= b):\n",
    "            lst.append(a)\n",
    "            a += 1\n",
    "        return(sum(lst)) "
   ]
  },
  {
   "cell_type": "code",
   "execution_count": 122,
   "id": "1603bcde",
   "metadata": {
    "ExecuteTime": {
     "end_time": "2023-01-15T09:29:59.686759Z",
     "start_time": "2023-01-15T09:29:59.679576Z"
    },
    "scrolled": true
   },
   "outputs": [
    {
     "name": "stdout",
     "output_type": "stream",
     "text": [
      "6\n"
     ]
    }
   ],
   "source": [
    "solution(1,3)"
   ]
  },
  {
   "cell_type": "code",
   "execution_count": 87,
   "id": "615b8920",
   "metadata": {
    "ExecuteTime": {
     "end_time": "2023-01-15T08:29:04.160360Z",
     "start_time": "2023-01-15T08:29:04.155355Z"
    }
   },
   "outputs": [],
   "source": [
    "# 함수 solution은 정수 x와 자연수 n을 입력 받아, x부터 시작해 x씩 증가하는 숫자를 n개 지니는 리스트를 리턴해야 합니다. \n",
    "# 다음 제한 조건을 보고, 조건을 만족하는 함수, solution을 완성해주세요.\n",
    "# x는 -10000000 이상, 10000000 이하인 정수입니다.\n",
    "# n은 1000 이하인 자연수입니다.\n",
    "\n",
    "\n",
    "def solution(x, n):\n",
    "    x = int(x)\n",
    "    n = int(n) \n",
    "    x_1st = x\n",
    "    answer=[]\n",
    "    while (x>=-10000000 and x <= 10000000 and n > 0 and n < 100):\n",
    "        answer.append(x)\n",
    "        x = x + x_1st\n",
    "        if len(answer) == n:\n",
    "            break\n",
    "    return(answer)\n",
    "\n"
   ]
  },
  {
   "cell_type": "code",
   "execution_count": 88,
   "id": "10fd60dd",
   "metadata": {
    "ExecuteTime": {
     "end_time": "2023-01-15T08:29:06.162339Z",
     "start_time": "2023-01-15T08:29:06.150192Z"
    }
   },
   "outputs": [
    {
     "data": {
      "text/plain": [
       "[-4, -8]"
      ]
     },
     "execution_count": 88,
     "metadata": {},
     "output_type": "execute_result"
    }
   ],
   "source": [
    "solution(-4,2)"
   ]
  },
  {
   "cell_type": "code",
   "execution_count": null,
   "id": "de235ef1",
   "metadata": {},
   "outputs": [],
   "source": [
    "def solution(x, n):\n",
    "    answer = []\n",
    "    return answer"
   ]
  },
  {
   "cell_type": "code",
   "execution_count": 93,
   "id": "69e0f1f9",
   "metadata": {
    "ExecuteTime": {
     "end_time": "2023-01-15T08:42:16.955352Z",
     "start_time": "2023-01-15T08:42:16.950364Z"
    }
   },
   "outputs": [],
   "source": [
    "def solution(x, n):\n",
    "    \n",
    "    answer = [  ]\n",
    "    for i in range (1,n+1):\n",
    "        answer.append(x*i)  \n",
    "    return answer"
   ]
  },
  {
   "cell_type": "code",
   "execution_count": 94,
   "id": "445acd81",
   "metadata": {
    "ExecuteTime": {
     "end_time": "2023-01-15T08:42:18.775606Z",
     "start_time": "2023-01-15T08:42:18.765729Z"
    }
   },
   "outputs": [
    {
     "data": {
      "text/plain": [
       "[2, 4, 6, 8, 10]"
      ]
     },
     "execution_count": 94,
     "metadata": {},
     "output_type": "execute_result"
    }
   ],
   "source": [
    "solution(2, 5)"
   ]
  },
  {
   "cell_type": "code",
   "execution_count": 96,
   "id": "958af887",
   "metadata": {
    "ExecuteTime": {
     "end_time": "2023-01-15T08:57:09.525397Z",
     "start_time": "2023-01-15T08:57:09.518386Z"
    }
   },
   "outputs": [
    {
     "name": "stdout",
     "output_type": "stream",
     "text": [
      "[1, 2, 3]\n"
     ]
    }
   ],
   "source": [
    "def number_generator(x, n): \n",
    "    # 함수를 완성하세요  n=5 , 0,1,2,3,4\n",
    "    return [i * x + x for i in range(n)]\n",
    "print(number_generator(1, 3))"
   ]
  },
  {
   "cell_type": "code",
   "execution_count": null,
   "id": "5fe1b2b8",
   "metadata": {},
   "outputs": [],
   "source": [
    "정수 num이 짝수일 경우 \"Even\"을 반환하고 홀수인 경우 \"Odd\"를 반환하는 함수, solution을 완성해주세요.\n",
    "\n",
    "제한 조건\n",
    "num은 int 범위의 정수입니다.\n",
    "0은 짝수입니다."
   ]
  },
  {
   "cell_type": "code",
   "execution_count": 115,
   "id": "2414a54d",
   "metadata": {
    "ExecuteTime": {
     "end_time": "2023-01-15T09:26:32.115157Z",
     "start_time": "2023-01-15T09:26:32.110578Z"
    }
   },
   "outputs": [],
   "source": [
    "def solution(num):\n",
    "    if int(num) % 2 == 0:\n",
    "        return(\"Even\")\n",
    "    else:\n",
    "        return(\"Odd\")"
   ]
  },
  {
   "cell_type": "code",
   "execution_count": 116,
   "id": "52590524",
   "metadata": {
    "ExecuteTime": {
     "end_time": "2023-01-15T09:26:33.530715Z",
     "start_time": "2023-01-15T09:26:33.524304Z"
    }
   },
   "outputs": [
    {
     "data": {
      "text/plain": [
       "'Even'"
      ]
     },
     "execution_count": 116,
     "metadata": {},
     "output_type": "execute_result"
    }
   ],
   "source": [
    "solution(-4)"
   ]
  },
  {
   "cell_type": "code",
   "execution_count": null,
   "id": "b63527b8",
   "metadata": {},
   "outputs": [],
   "source": [
    "# 정수 n을 입력받아 n의 약수를 모두 더한 값을 리턴하는 함수, solution을 완성해주세요.\n",
    "\n",
    "def solution(n):\n",
    "    \n"
   ]
  },
  {
   "cell_type": "code",
   "execution_count": 129,
   "id": "45bdaf4c",
   "metadata": {
    "ExecuteTime": {
     "end_time": "2023-01-15T12:32:20.101284Z",
     "start_time": "2023-01-15T12:32:20.094864Z"
    }
   },
   "outputs": [],
   "source": [
    "def solution(n):\n",
    "    answer = []\n",
    "    for i in range(1, n+1):\n",
    "        if n % abs(i) == 0:\n",
    "            answer.append(i)\n",
    "    return sum(answer)"
   ]
  },
  {
   "cell_type": "code",
   "execution_count": 132,
   "id": "e4567666",
   "metadata": {
    "ExecuteTime": {
     "end_time": "2023-01-15T12:33:01.149556Z",
     "start_time": "2023-01-15T12:33:01.141722Z"
    }
   },
   "outputs": [
    {
     "data": {
      "text/plain": [
       "6"
      ]
     },
     "execution_count": 132,
     "metadata": {},
     "output_type": "execute_result"
    }
   ],
   "source": [
    "solution(5)"
   ]
  },
  {
   "cell_type": "code",
   "execution_count": null,
   "id": "a637b058",
   "metadata": {},
   "outputs": [],
   "source": [
    "def sumDivisor(num):\n",
    "    # num / 2 의 수들만 검사하면 성능 약 2배 향상잼 num = 12 1,2,3,4,6,12\n",
    "    return num + sum([i for i in range(1, (num // 2) + 1) if num % i == 0])"
   ]
  },
  {
   "cell_type": "code",
   "execution_count": 193,
   "id": "ba70a006",
   "metadata": {
    "ExecuteTime": {
     "end_time": "2023-01-15T14:05:42.718980Z",
     "start_time": "2023-01-15T14:05:42.714629Z"
    }
   },
   "outputs": [],
   "source": [
    "# 단어 s의 가운데 글자를 반환하는 함수, solution을 만들어 보세요. 단어의 길이가 짝수라면 가운데 두글자를 반환하면 됩니다.\n",
    "\n",
    "# 재한사항\n",
    "# # s는 길이가 1 이상, 100이하인 스트링입니다.\n",
    "\n",
    "def middle_letter(s):\n",
    "    if len(s) % 2 == 0:\n",
    "        a = (len(s)//2)-1\n",
    "        b = len(s)//2+1\n",
    "        return(s[a:b])\n",
    "    else:\n",
    "        return s[len(s)//2]"
   ]
  },
  {
   "cell_type": "code",
   "execution_count": 194,
   "id": "d236e73e",
   "metadata": {
    "ExecuteTime": {
     "end_time": "2023-01-15T14:05:44.163730Z",
     "start_time": "2023-01-15T14:05:44.157031Z"
    }
   },
   "outputs": [
    {
     "data": {
      "text/plain": [
       "'ov'"
      ]
     },
     "execution_count": 194,
     "metadata": {},
     "output_type": "execute_result"
    }
   ],
   "source": [
    "middle_letter(\"love\")"
   ]
  },
  {
   "cell_type": "code",
   "execution_count": null,
   "id": "111ecdfa",
   "metadata": {},
   "outputs": [],
   "source": [
    "\n",
    "# 문제가 개편되었습니다. 이로 인해 함수 구성이나 테스트케이스가 변경되어, 과거의 코드는 동작하지 않을 수 있습니다.\n",
    "# 새로운 함수 구성을 적용하려면 [코드 초기화] 버튼을 누르세요. 단, [코드 초기화] 버튼을 누르면 작성 중인 코드는 사라집니다.\n",
    "def string_middle(str):\n",
    "    # 함수를 완성하세요\n",
    "\n",
    "    return str[(len(str)-1)//2:len(str)//2+1]\n",
    "\n",
    "# 아래는 테스트로 출력해 보기 위한 코드입니다.\n",
    "# (len(str)-1)//2 이부분이 짝수냐 홀수냐에 상관없이 만드네요. 인덱스는 항상 0 번째부터 출발하니까, \n",
    "# length를 아에 1을 빼버리고 //2를 한다면 짝수는 1을 하나 더빼서 그전의 인덱스부터 가져올 수 있군요. "
   ]
  },
  {
   "cell_type": "code",
   "execution_count": null,
   "id": "d3369a2e",
   "metadata": {},
   "outputs": [],
   "source": [
    "# String형 배열 seoul의 element중 \"Kim\"의 위치 x를 찾아, \n",
    "# \"김서방은 x에 있다\"는 String을 반환하는 함수, solution을 완성하세요. \n",
    "# seoul에 \"Kim\"은 오직 한 번만 나타나며 잘못된 값이 입력되는 경우는 없습니다.\n",
    "\n",
    "# 제한 사항\n",
    "# seoul은 길이 1 이상, 1000 이하인 배열입니다.\n",
    "# seoul의 원소는 길이 1 이상, 20 이하인 문자열입니다.\n",
    "# \"Kim\"은 반드시 seoul 안에 포함되어 있습니다.\n"
   ]
  },
  {
   "cell_type": "code",
   "execution_count": null,
   "id": "7016e0b9",
   "metadata": {},
   "outputs": [],
   "source": [
    "# result_dict = {}\n",
    "# for index, value  in enumerate(l1):\n",
    "# {f\"key-{index}\":value*10   for index, value in enumerate(l1)} \n",
    "lst=[]\n",
    "for v in lst enumerate(nums)\n",
    "    return(f'김서방은 {}에 있다')\n"
   ]
  },
  {
   "cell_type": "code",
   "execution_count": 210,
   "id": "de9b599a",
   "metadata": {
    "ExecuteTime": {
     "end_time": "2023-01-15T16:05:00.065060Z",
     "start_time": "2023-01-15T16:05:00.053020Z"
    }
   },
   "outputs": [
    {
     "ename": "TypeError",
     "evalue": "'str' object cannot be interpreted as an integer",
     "output_type": "error",
     "traceback": [
      "\u001b[0;31m---------------------------------------------------------------------------\u001b[0m",
      "\u001b[0;31mTypeError\u001b[0m                                 Traceback (most recent call last)",
      "\u001b[0;32m/var/folders/rk/978ch31x1lq5_fg7bzyhrtbr0000gn/T/ipykernel_25741/2719857267.py\u001b[0m in \u001b[0;36m<module>\u001b[0;34m\u001b[0m\n\u001b[1;32m      2\u001b[0m \u001b[0ma\u001b[0m \u001b[0;34m=\u001b[0m \u001b[0;34m\"수\"\u001b[0m\u001b[0;34m\u001b[0m\u001b[0;34m\u001b[0m\u001b[0m\n\u001b[1;32m      3\u001b[0m \u001b[0mb\u001b[0m \u001b[0;34m=\u001b[0m \u001b[0;34m\"박\"\u001b[0m\u001b[0;34m\u001b[0m\u001b[0;34m\u001b[0m\u001b[0m\n\u001b[0;32m----> 4\u001b[0;31m \u001b[0;32mfor\u001b[0m \u001b[0mindex\u001b[0m \u001b[0;32min\u001b[0m \u001b[0menumerate\u001b[0m\u001b[0;34m(\u001b[0m\u001b[0ma\u001b[0m\u001b[0;34m,\u001b[0m\u001b[0mb\u001b[0m\u001b[0;34m)\u001b[0m\u001b[0;34m:\u001b[0m\u001b[0;34m\u001b[0m\u001b[0;34m\u001b[0m\u001b[0m\n\u001b[0m\u001b[1;32m      5\u001b[0m \u001b[0;31m#     처리\u001b[0m\u001b[0;34m\u001b[0m\u001b[0;34m\u001b[0m\u001b[0m\n\u001b[1;32m      6\u001b[0m \u001b[0;31m#     처리에대한 기록(log)을 저장 => 1000번에 한번씩\u001b[0m\u001b[0;34m\u001b[0m\u001b[0;34m\u001b[0m\u001b[0m\n",
      "\u001b[0;31mTypeError\u001b[0m: 'str' object cannot be interpreted as an integer"
     ]
    }
   ],
   "source": []
  },
  {
   "cell_type": "code",
   "execution_count": 261,
   "id": "ed87a5cb",
   "metadata": {
    "ExecuteTime": {
     "end_time": "2023-01-15T16:55:48.995624Z",
     "start_time": "2023-01-15T16:55:48.990459Z"
    }
   },
   "outputs": [],
   "source": [
    "# 길이가 n이고, \"수박수박수박수....\"와 같은 패턴을 유지하는 문자열을 리턴하는 함수, solution을 완성하세요. \n",
    "# 예를들어 n이 4이면 \"수박수박\"을 리턴하고 3이라면 \"수박수\"를 리턴하면 됩니다.\n",
    "\n",
    "# 제한 조건\n",
    "# n은 길이 10,000이하인 자연수입니다.\n",
    "\n",
    "def soobak(n):\n",
    "    lst = []\n",
    "    a = \"수\"\n",
    "    b = \"박\"\n",
    "    for index in range(1,n+1): \n",
    "        if index % 2 != 0:\n",
    "            lst.append(a)\n",
    "        else:\n",
    "            lst.append(b)\n",
    "    return(lst[:n])\n",
    "    "
   ]
  },
  {
   "cell_type": "code",
   "execution_count": null,
   "id": "84d73e1e",
   "metadata": {},
   "outputs": [],
   "source": []
  },
  {
   "cell_type": "code",
   "execution_count": 262,
   "id": "b322588e",
   "metadata": {
    "ExecuteTime": {
     "end_time": "2023-01-15T16:55:51.508285Z",
     "start_time": "2023-01-15T16:55:51.498001Z"
    }
   },
   "outputs": [
    {
     "data": {
      "text/plain": [
       "['수', '박', '수']"
      ]
     },
     "execution_count": 262,
     "metadata": {},
     "output_type": "execute_result"
    }
   ],
   "source": [
    "soobak(3)"
   ]
  },
  {
   "cell_type": "code",
   "execution_count": 242,
   "id": "0d6b59f7",
   "metadata": {
    "ExecuteTime": {
     "end_time": "2023-01-15T16:26:29.433772Z",
     "start_time": "2023-01-15T16:26:29.427942Z"
    }
   },
   "outputs": [],
   "source": [
    "# 정수를 담고 있는 배열 arr의 평균값을 return하는 함수, solution을 완성해보세요.\n",
    "\n",
    "# 제한사항\n",
    "# arr은 길이 1 이상, 100 이하인 배열입니다.\n",
    "# arr의 원소는 -10,000 이상 10,000 이하인 정수입니다.\n",
    "def solution(lst):\n",
    "    b = sum(lst) / len(lst)\n",
    "    return(b)"
   ]
  },
  {
   "cell_type": "code",
   "execution_count": 245,
   "id": "bdc185d1",
   "metadata": {
    "ExecuteTime": {
     "end_time": "2023-01-15T16:29:45.225185Z",
     "start_time": "2023-01-15T16:29:45.219355Z"
    }
   },
   "outputs": [
    {
     "data": {
      "text/plain": [
       "2.5"
      ]
     },
     "execution_count": 245,
     "metadata": {},
     "output_type": "execute_result"
    }
   ],
   "source": [
    "solution([1,2,3,4])"
   ]
  }
 ],
 "metadata": {
  "kernelspec": {
   "display_name": "Python 3 (ipykernel)",
   "language": "python",
   "name": "python3"
  },
  "language_info": {
   "codemirror_mode": {
    "name": "ipython",
    "version": 3
   },
   "file_extension": ".py",
   "mimetype": "text/x-python",
   "name": "python",
   "nbconvert_exporter": "python",
   "pygments_lexer": "ipython3",
   "version": "3.9.13"
  },
  "toc": {
   "base_numbering": 1,
   "nav_menu": {},
   "number_sections": true,
   "sideBar": true,
   "skip_h1_title": false,
   "title_cell": "Table of Contents",
   "title_sidebar": "Contents",
   "toc_cell": false,
   "toc_position": {},
   "toc_section_display": true,
   "toc_window_display": false
  },
  "varInspector": {
   "cols": {
    "lenName": 16,
    "lenType": 16,
    "lenVar": 40
   },
   "kernels_config": {
    "python": {
     "delete_cmd_postfix": "",
     "delete_cmd_prefix": "del ",
     "library": "var_list.py",
     "varRefreshCmd": "print(var_dic_list())"
    },
    "r": {
     "delete_cmd_postfix": ") ",
     "delete_cmd_prefix": "rm(",
     "library": "var_list.r",
     "varRefreshCmd": "cat(var_dic_list()) "
    }
   },
   "types_to_exclude": [
    "module",
    "function",
    "builtin_function_or_method",
    "instance",
    "_Feature"
   ],
   "window_display": false
  }
 },
 "nbformat": 4,
 "nbformat_minor": 5
}
