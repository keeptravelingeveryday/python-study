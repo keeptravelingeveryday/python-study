{
 "cells": [
  {
   "cell_type": "markdown",
   "id": "da193321",
   "metadata": {
    "slideshow": {
     "slide_type": "slide"
    }
   },
   "source": [
    "# 자료구조란\n",
    "\n",
    "- 여러 개의 값들을 모아서 관리하는 데이터 타입.\n",
    "    - 한 개의 변수는 한 개의 값 밖에는 가지지 못한다. 그러나 하나의 변수로 여러 개의 값 묶어서 저장해 관리해야 할 경우가 있다. \n",
    "    - 예) 고객의 정보의 경우 이름, 나이, 주소, 전화번호 등 여러개의 값이 모여서 하나의 값이 된다. \n",
    "- 파이썬은 데이터를 모으는 방식에 따라 다음과 같이 4개의 타입을 제공한다.\n",
    "    - List: 순서가 있으며 중복된 값들을 모으는 것을 허용하고 구성하는 값들(원소)을 변경할 수 있다.\n",
    "    - Tuple: 순서가 있으며 중복된 값들을 모으는 것을 허용하는데 구성하는 값들을 변경할 수 없다.\n",
    "    - Dictionary: key-value 형태로 값들을 저장해 관리한다.\n",
    "    - Set: 중복을 허용하지 않고 값들의 순서가 없다.\n",
    "- 원소, 성분, 요소, element\n",
    "    - 자료구조의 값들을 구성하는 개별 값들을 말한다.\n",
    "    - len(자료구조) 함수\n",
    "        - 자료구조 내의 원소의 개수를 반환한다."
   ]
  },
  {
   "cell_type": "markdown",
   "id": "84431cfd",
   "metadata": {
    "slideshow": {
     "slide_type": "slide"
    }
   },
   "source": [
    "# List (리스트)\n",
    "\n",
    "- 값을 순서대로 모아서 관리하는 자료구조. 원소(element)들을 순번을 이용해 식별한다.\n",
    "    - 각각의 원소가 어떤 값인지를 순번을 가지고 식별하기 때문에 순서가 매우 중요하다. 즉 같은 값에 대해 순서가 바뀌면 안된다.\n",
    "- 각 원소들은 순번을 index라고 하며 값을 조회하거나 변경할 때 index를 이용해 식별한다.\n",
    "    - index는 문자열과 마찮가지로 양수 index와 음수 index 두개가 각 값에 생긴다.\n",
    "    - 양수 index는 앞에서부터 음수 index는 뒤에서 부터 값을 식별할 때 사용하는 것이 편리하다.\n",
    "- 중복된 값들을 저장할 수 있다.\n",
    "- 각 원소들의 데이터 타입은 달라도 상관없다.\n",
    "    - 보통은 같은 타입의 데이터를 모은다.\n",
    "- 리스트를 구성하는 원소들을 변경할 수 있다. (추가, 삭제, 변경이 가능)\n",
    "\n",
    "## List 생성 구문\n",
    "```python\n",
    "[값, 값, 값, ..]\n",
    "```"
   ]
  },
  {
   "cell_type": "code",
   "execution_count": null,
   "id": "efc59691",
   "metadata": {
    "ExecuteTime": {
     "end_time": "2022-12-18T00:22:24.071490Z",
     "start_time": "2022-12-18T00:22:23.651455Z"
    },
    "slideshow": {
     "slide_type": "fragment"
    }
   },
   "outputs": [],
   "source": []
  },
  {
   "cell_type": "markdown",
   "id": "08d634bf",
   "metadata": {
    "slideshow": {
     "slide_type": "subslide"
    }
   },
   "source": [
    "## Indexing과 Slicing을 이용한 원소(element) 조회 및 변경\n",
    "\n",
    "### Indexing\n",
    "- 하나의 원소를 조회하거나 변경할 때 사용\n",
    "- 리스트\\[index\\] \n",
    "    - index의 원소를 조회\n",
    "- 리스트\\[index\\] = 값\n",
    "    - index의 원소를 변경"
   ]
  },
  {
   "cell_type": "markdown",
   "id": "ab5a40cb",
   "metadata": {
    "slideshow": {
     "slide_type": "fragment"
    }
   },
   "source": [
    "### Slicing\n",
    "- 범위로 조회하거나 그 범위의 값들을 변경한다.\n",
    "- 기본구문: **리스트\\[ 시작 index : 종료 index : 간격\\]**\n",
    "    - 시작 index ~ (종료 index – 1)\n",
    "    - 간격을 지정하면 간격만큼 index를 증/감한다. (생략 시 1이 기본 간격)\n",
    "- **0번 index 부터 조회 할 경우 시작 index는 생략가능**\n",
    "    - 리스트 \\[ : 5\\] => 0 ~ 4 까지 조회\n",
    "- **마지막 index까지 (끝까지) 조회 할 경우 종료 index는 생략 가능**\n",
    "    - 리스트\\[2 : \\] => 2번 index 에서 끝까지\n",
    "- **명시적으로 간격을 줄 경우**\n",
    "    - 리스트\\[ : : 3 \\] => 0, 3, 6, 9.. index의 값 조회\n",
    "    - 리스트\\[1 : 9 : 2\\] => 1, 3, 5, 7 index의 값 조회\n",
    "- **시작 index > 종료 index, 간격을 음수로 하면 역으로 반환한다.(Reverse)**\n",
    "    - 리스트\\[5: 1: -1\\] => 5, 4, 3, 2 index의 값 조회\n",
    "    - 리스트\\[: : -1\\]  => 마지막 index ~ 0번 index 까지 의미. Reverse 한다.\n",
    "\n",
    "#### slicing을 이용한 값 변경\n",
    "- slicing 을 이용할 경우 slicing된 원소 개수와 동일한 개수의 값들을 대입한다.\n",
    "    - `리스트[1:5] = 10,20,30,40` : index 1, 2, 3, 4의 값을 20으로 변경"
   ]
  },
  {
   "cell_type": "code",
   "execution_count": 4,
   "id": "5d462776",
   "metadata": {
    "ExecuteTime": {
     "end_time": "2022-12-21T22:39:55.102753Z",
     "start_time": "2022-12-21T22:39:55.095180Z"
    },
    "slideshow": {
     "slide_type": "fragment"
    }
   },
   "outputs": [
    {
     "data": {
      "text/plain": [
       "[3, 6]"
      ]
     },
     "execution_count": 4,
     "metadata": {},
     "output_type": "execute_result"
    }
   ],
   "source": [
    "l1 = [0, 1, 2, 3, 4, 5, 6, 7, 8]\n",
    "l1[3:9:3]\n"
   ]
  },
  {
   "cell_type": "code",
   "execution_count": 3,
   "id": "38d611c8",
   "metadata": {
    "ExecuteTime": {
     "end_time": "2022-12-21T02:55:20.141861Z",
     "start_time": "2022-12-21T02:55:20.134887Z"
    }
   },
   "outputs": [
    {
     "data": {
      "text/plain": [
       "[1, 2, 3, 4, 5]"
      ]
     },
     "execution_count": 3,
     "metadata": {},
     "output_type": "execute_result"
    }
   ],
   "source": [
    "l1[:5]"
   ]
  },
  {
   "cell_type": "code",
   "execution_count": 6,
   "id": "47ad9d28",
   "metadata": {
    "ExecuteTime": {
     "end_time": "2022-12-21T03:00:01.348642Z",
     "start_time": "2022-12-21T03:00:01.341395Z"
    }
   },
   "outputs": [
    {
     "data": {
      "text/plain": [
       "[4, 5, 6, 7, 8]"
      ]
     },
     "execution_count": 6,
     "metadata": {},
     "output_type": "execute_result"
    }
   ],
   "source": [
    "l1[4:]"
   ]
  },
  {
   "cell_type": "code",
   "execution_count": 7,
   "id": "287c1cef",
   "metadata": {
    "ExecuteTime": {
     "end_time": "2022-12-21T03:00:55.714429Z",
     "start_time": "2022-12-21T03:00:55.706177Z"
    }
   },
   "outputs": [
    {
     "data": {
      "text/plain": [
       "[8, 6, 4, 2]"
      ]
     },
     "execution_count": 7,
     "metadata": {},
     "output_type": "execute_result"
    }
   ],
   "source": [
    "l1[9:1:-2]"
   ]
  },
  {
   "cell_type": "code",
   "execution_count": 8,
   "id": "f750e5a5",
   "metadata": {
    "ExecuteTime": {
     "end_time": "2022-12-21T03:01:28.088915Z",
     "start_time": "2022-12-21T03:01:28.077212Z"
    }
   },
   "outputs": [
    {
     "data": {
      "text/plain": [
       "[8, 7, 6, 5, 4, 3, 2, 1, 0]"
      ]
     },
     "execution_count": 8,
     "metadata": {},
     "output_type": "execute_result"
    }
   ],
   "source": [
    "l1[::-1]"
   ]
  },
  {
   "cell_type": "markdown",
   "id": "a4f9fe12",
   "metadata": {
    "slideshow": {
     "slide_type": "slide"
    }
   },
   "source": [
    "## List 연산자\n",
    "- 리스트 + 리스트\n",
    "    - 두 리스트의 원소들을 합친 리스트를 반환한다.\n",
    "- 리스트 * 정수\n",
    "    - 같은 리스트의 원소들을 정수번 합친 리스트를 반환한다.   \n",
    "- in, not in 연산자\n",
    "    - 값 in 리스트\n",
    "        - 리스트의 원소로 값이 **있으면** True, 없으면 False 반환\n",
    "    - 값 not in 리스트\n",
    "        - 리스트의 원소로 값이 **없으면** True, 있으면 False 반환  \n",
    "- len(리스트)\n",
    "    - 리스트 내의 원소수를 반환.        "
   ]
  },
  {
   "cell_type": "code",
   "execution_count": 65,
   "id": "f085e817",
   "metadata": {
    "ExecuteTime": {
     "end_time": "2022-12-21T04:57:59.142307Z",
     "start_time": "2022-12-21T04:57:59.135740Z"
    },
    "slideshow": {
     "slide_type": "fragment"
    }
   },
   "outputs": [
    {
     "name": "stdout",
     "output_type": "stream",
     "text": [
      "[0, 1, 2, 3, 4, 5, 6, 7, 8, 'a', 'b', 'c', 'd', 'e']\n"
     ]
    }
   ],
   "source": [
    "l1 = [0, 1, 2, 3, 4, 5, 6, 7, 8]\n",
    "l2 = ['a','b','c','d','e']\n",
    "print(l1+l2)"
   ]
  },
  {
   "cell_type": "code",
   "execution_count": 66,
   "id": "d745dd73",
   "metadata": {
    "ExecuteTime": {
     "end_time": "2022-12-21T04:58:27.800607Z",
     "start_time": "2022-12-21T04:58:27.796552Z"
    }
   },
   "outputs": [
    {
     "name": "stdout",
     "output_type": "stream",
     "text": [
      "['a', 'b', 'c', 'd', 'e', 'a', 'b', 'c', 'd', 'e', 'a', 'b', 'c', 'd', 'e']\n"
     ]
    }
   ],
   "source": [
    "print(l2*3)"
   ]
  },
  {
   "cell_type": "code",
   "execution_count": 70,
   "id": "1b89c30e",
   "metadata": {
    "ExecuteTime": {
     "end_time": "2022-12-21T05:01:32.518186Z",
     "start_time": "2022-12-21T05:01:32.513307Z"
    }
   },
   "outputs": [
    {
     "name": "stdout",
     "output_type": "stream",
     "text": [
      "True\n",
      "True\n"
     ]
    }
   ],
   "source": [
    "result = 'a' in l2\n",
    "print(result)\n",
    "result2 = 3 not in l2\n",
    "print(result2) "
   ]
  },
  {
   "cell_type": "markdown",
   "id": "f90af754",
   "metadata": {
    "slideshow": {
     "slide_type": "slide"
    }
   },
   "source": [
    "## 중첩 리스트 (Nested List)\n",
    "- List가 원소로 List를 가지는 것을 말한다.\n",
    "    - List를 포함한 모든 자료구조 타입들도 다 값이므로 다른 자료구조의 원소로 들어갈 수 있다.    "
   ]
  },
  {
   "cell_type": "code",
   "execution_count": null,
   "id": "01bede57",
   "metadata": {
    "slideshow": {
     "slide_type": "fragment"
    }
   },
   "outputs": [],
   "source": []
  },
  {
   "cell_type": "markdown",
   "id": "29ff0e07",
   "metadata": {
    "slideshow": {
     "slide_type": "slide"
    }
   },
   "source": [
    "## List 대입\n",
    "리스트의 원소들을 각각 다른 변수에 대입하는 표현식"
   ]
  },
  {
   "cell_type": "code",
   "execution_count": null,
   "id": "2dfd6c46",
   "metadata": {
    "slideshow": {
     "slide_type": "fragment"
    }
   },
   "outputs": [],
   "source": []
  },
  {
   "cell_type": "markdown",
   "id": "826b8780",
   "metadata": {
    "slideshow": {
     "slide_type": "slide"
    }
   },
   "source": [
    "## List 주요 메소드\n",
    "|메소드|설명|\n",
    "|:-|-|\n",
    "|append(value)|value를  추가한다.|\n",
    "|extend(List)|List의 원소들을 추가한다.|\n",
    "|sort(\\[reverse=False\\])|원소들을 오름차순 정렬한다. reverse=True로 하면 내림차순정렬 한다.|\n",
    "|insert(index, 삽입할값)|지정한 index에 '삽입할값'을 삽입한다.|\n",
    "|remove(삭제할값)|'삭제할값' 값과 같은 원소를 삭제한다.|\n",
    "|index(찾을값\\[, 시작index\\])|'찾을값'의 index를 반환한다.|\n",
    "|pop(\\[index\\])|index의 값을 반환하면서 삭제한다. index 생략하면 가장 마지막 값을 반환하며 삭제한다.|\n",
    "|count(값)|'값'이 리스트의 원소로 몇개 있는지 반환한다.|\n",
    "|clear()|리스트 안의 모든 원소들을 삭제한다.|\n",
    "\n"
   ]
  },
  {
   "cell_type": "code",
   "execution_count": null,
   "id": "310a5538",
   "metadata": {
    "ExecuteTime": {
     "end_time": "2022-12-21T08:00:23.171462Z",
     "start_time": "2022-12-21T08:00:23.165090Z"
    },
    "slideshow": {
     "slide_type": "fragment"
    }
   },
   "outputs": [],
   "source": [
    "l3 = [1, 1, 1, 1, 1, 1]\n",
    "l3.count(1)\n",
    "type(l3)"
   ]
  },
  {
   "cell_type": "code",
   "execution_count": 200,
   "id": "d642f00c",
   "metadata": {
    "ExecuteTime": {
     "end_time": "2022-12-21T08:00:58.302392Z",
     "start_time": "2022-12-21T08:00:58.292418Z"
    }
   },
   "outputs": [
    {
     "ename": "TypeError",
     "evalue": "'int' object is not iterable",
     "output_type": "error",
     "traceback": [
      "\u001b[0;31m---------------------------------------------------------------------------\u001b[0m",
      "\u001b[0;31mTypeError\u001b[0m                                 Traceback (most recent call last)",
      "\u001b[0;32m/var/folders/rk/978ch31x1lq5_fg7bzyhrtbr0000gn/T/ipykernel_13719/576904803.py\u001b[0m in \u001b[0;36m<module>\u001b[0;34m\u001b[0m\n\u001b[0;32m----> 1\u001b[0;31m \u001b[0ml4\u001b[0m \u001b[0;34m=\u001b[0m \u001b[0ml3\u001b[0m\u001b[0;34m.\u001b[0m\u001b[0mextend\u001b[0m\u001b[0;34m(\u001b[0m\u001b[0;36m2\u001b[0m\u001b[0;34m)\u001b[0m\u001b[0;34m\u001b[0m\u001b[0;34m\u001b[0m\u001b[0m\n\u001b[0m\u001b[1;32m      2\u001b[0m \u001b[0mprint\u001b[0m\u001b[0;34m(\u001b[0m\u001b[0ml4\u001b[0m\u001b[0;34m)\u001b[0m\u001b[0;34m\u001b[0m\u001b[0;34m\u001b[0m\u001b[0m\n",
      "\u001b[0;31mTypeError\u001b[0m: 'int' object is not iterable"
     ]
    }
   ],
   "source": []
  },
  {
   "cell_type": "markdown",
   "id": "5b28f033",
   "metadata": {
    "slideshow": {
     "slide_type": "slide"
    }
   },
   "source": [
    "# Tuple (튜플)\n",
    "- List와 같이 순서대로 원소들을 관리한다. 단 저장된 원소를 변경할 수 없다.\n",
    "- Tuple 은 각 위치(Index) 마다 정해진 의미가 있고 그 값이 한번 설정되면 바뀌지 않는 경우에 사용한다. \n",
    "    - Tuple은 값의 변경되지 않으므로 안전하다.\n",
    "    \n",
    "## Tuple 생성\n",
    "- `(value, value, value, ...)`\n",
    "- 소괄호를 생략할 수 있다.\n",
    "- 원소가 하나인 Tuple 표현식\n",
    "    - `(value,)` 또는 `value,` \n",
    "        - 값 뒤에 `,` 를 붙여준다. `,`를 붙이지 않으면 ( )가 연산자 우선순위 괄호가 된다. "
   ]
  },
  {
   "cell_type": "code",
   "execution_count": 10,
   "id": "17099a9e",
   "metadata": {
    "ExecuteTime": {
     "end_time": "2022-12-21T03:13:30.959176Z",
     "start_time": "2022-12-21T03:13:30.952619Z"
    },
    "slideshow": {
     "slide_type": "fragment"
    }
   },
   "outputs": [
    {
     "name": "stdout",
     "output_type": "stream",
     "text": [
      "(1, 2, 3, 4, 5)\n",
      "('a', 'b', 'c')\n",
      "('a', 20, True)\n"
     ]
    }
   ],
   "source": [
    "t1 = (1,2,3,4,5)\n",
    "t2 = ('a','b','c')\n",
    "t3 = ('a',20,True)\n",
    "print(t1)\n",
    "print(t2)\n",
    "print(t3)"
   ]
  },
  {
   "cell_type": "code",
   "execution_count": 11,
   "id": "ca6ee2a1",
   "metadata": {
    "ExecuteTime": {
     "end_time": "2022-12-21T03:13:57.070418Z",
     "start_time": "2022-12-21T03:13:57.061935Z"
    }
   },
   "outputs": [
    {
     "name": "stdout",
     "output_type": "stream",
     "text": [
      "<class 'tuple'>\n"
     ]
    },
    {
     "data": {
      "text/plain": [
       "tuple"
      ]
     },
     "execution_count": 11,
     "metadata": {},
     "output_type": "execute_result"
    }
   ],
   "source": [
    "print(type(t1))\n",
    "type(t1)"
   ]
  },
  {
   "cell_type": "code",
   "execution_count": 13,
   "id": "fe984906",
   "metadata": {
    "ExecuteTime": {
     "end_time": "2022-12-21T03:14:47.262946Z",
     "start_time": "2022-12-21T03:14:47.257004Z"
    }
   },
   "outputs": [
    {
     "name": "stdout",
     "output_type": "stream",
     "text": [
      "True\n",
      "False\n"
     ]
    }
   ],
   "source": [
    "print(type(t1) == tuple)\n",
    "print(type(t1) == list)"
   ]
  },
  {
   "cell_type": "markdown",
   "id": "16954356",
   "metadata": {
    "slideshow": {
     "slide_type": "slide"
    }
   },
   "source": [
    "## Indexing과 Slicing을 이용한 원소(element) 조회\n",
    "- 리스트와 동일하다.\n",
    "- 단 튜플은 조회만 가능하고 원소를 변경할 수 없다."
   ]
  },
  {
   "cell_type": "code",
   "execution_count": 17,
   "id": "5d3e06fc",
   "metadata": {
    "ExecuteTime": {
     "end_time": "2022-12-21T03:18:23.044212Z",
     "start_time": "2022-12-21T03:18:23.037023Z"
    }
   },
   "outputs": [
    {
     "data": {
      "text/plain": [
       "(1, 2, 3, 4, 5)"
      ]
     },
     "execution_count": 17,
     "metadata": {},
     "output_type": "execute_result"
    }
   ],
   "source": [
    "t5 = 1,2,3,4,5\n",
    "t5"
   ]
  },
  {
   "cell_type": "code",
   "execution_count": 19,
   "id": "91e3e85a",
   "metadata": {
    "ExecuteTime": {
     "end_time": "2022-12-21T03:19:06.139075Z",
     "start_time": "2022-12-21T03:19:06.132213Z"
    }
   },
   "outputs": [
    {
     "data": {
      "text/plain": [
       "tuple"
      ]
     },
     "execution_count": 19,
     "metadata": {},
     "output_type": "execute_result"
    }
   ],
   "source": [
    "t5 = 1,#원소가 1개인 튜플\n",
    "type(t5)"
   ]
  },
  {
   "cell_type": "code",
   "execution_count": 22,
   "id": "39021173",
   "metadata": {
    "ExecuteTime": {
     "end_time": "2022-12-21T03:19:40.681942Z",
     "start_time": "2022-12-21T03:19:40.674625Z"
    }
   },
   "outputs": [
    {
     "data": {
      "text/plain": [
       "(tuple, 1)"
      ]
     },
     "execution_count": 22,
     "metadata": {},
     "output_type": "execute_result"
    }
   ],
   "source": [
    "t6 = 1.5,\n",
    "type(t6), len(t6)"
   ]
  },
  {
   "cell_type": "code",
   "execution_count": 14,
   "id": "6c5b9b2c",
   "metadata": {
    "ExecuteTime": {
     "end_time": "2022-12-21T03:16:41.519208Z",
     "start_time": "2022-12-21T03:16:41.507646Z"
    },
    "slideshow": {
     "slide_type": "fragment"
    }
   },
   "outputs": [
    {
     "data": {
      "text/plain": [
       "(0, 1, 2, 3, 4, 5, 6, 7, 8, 9)"
      ]
     },
     "execution_count": 14,
     "metadata": {},
     "output_type": "execute_result"
    }
   ],
   "source": [
    "t = (0,1,2,3,4,5,6,7,8,9)\n",
    "t"
   ]
  },
  {
   "cell_type": "code",
   "execution_count": 15,
   "id": "63799aa7",
   "metadata": {
    "ExecuteTime": {
     "end_time": "2022-12-21T03:17:23.738461Z",
     "start_time": "2022-12-21T03:17:23.731623Z"
    }
   },
   "outputs": [
    {
     "data": {
      "text/plain": [
       "(0, 5, 8)"
      ]
     },
     "execution_count": 15,
     "metadata": {},
     "output_type": "execute_result"
    }
   ],
   "source": [
    "t[0], t[5], t[8]"
   ]
  },
  {
   "cell_type": "code",
   "execution_count": 23,
   "id": "d4528b07",
   "metadata": {
    "ExecuteTime": {
     "end_time": "2022-12-21T03:22:06.261692Z",
     "start_time": "2022-12-21T03:22:06.249369Z"
    }
   },
   "outputs": [
    {
     "ename": "TypeError",
     "evalue": "'tuple' object does not support item assignment",
     "output_type": "error",
     "traceback": [
      "\u001b[0;31m---------------------------------------------------------------------------\u001b[0m",
      "\u001b[0;31mTypeError\u001b[0m                                 Traceback (most recent call last)",
      "\u001b[0;32m/var/folders/rk/978ch31x1lq5_fg7bzyhrtbr0000gn/T/ipykernel_13719/816329950.py\u001b[0m in \u001b[0;36m<module>\u001b[0;34m\u001b[0m\n\u001b[0;32m----> 1\u001b[0;31m \u001b[0mt\u001b[0m\u001b[0;34m[\u001b[0m\u001b[0;36m0\u001b[0m\u001b[0;34m]\u001b[0m \u001b[0;34m=\u001b[0m \u001b[0;36m100\u001b[0m\u001b[0;34m\u001b[0m\u001b[0;34m\u001b[0m\u001b[0m\n\u001b[0m",
      "\u001b[0;31mTypeError\u001b[0m: 'tuple' object does not support item assignment"
     ]
    }
   ],
   "source": [
    "t[0] = 100 #튜플은 값을 변경 안됨"
   ]
  },
  {
   "cell_type": "code",
   "execution_count": 24,
   "id": "88a673bd",
   "metadata": {
    "ExecuteTime": {
     "end_time": "2022-12-21T03:22:35.549815Z",
     "start_time": "2022-12-21T03:22:35.542818Z"
    }
   },
   "outputs": [
    {
     "data": {
      "text/plain": [
       "(2, 4, 6)"
      ]
     },
     "execution_count": 24,
     "metadata": {},
     "output_type": "execute_result"
    }
   ],
   "source": [
    "#slicing\n",
    "t[2:8:2]"
   ]
  },
  {
   "cell_type": "code",
   "execution_count": 26,
   "id": "98284280",
   "metadata": {
    "ExecuteTime": {
     "end_time": "2022-12-21T03:22:58.040057Z",
     "start_time": "2022-12-21T03:22:58.033083Z"
    }
   },
   "outputs": [
    {
     "data": {
      "text/plain": [
       "(0, 2, 4, 6)"
      ]
     },
     "execution_count": 26,
     "metadata": {},
     "output_type": "execute_result"
    }
   ],
   "source": [
    "t[:8:2]"
   ]
  },
  {
   "cell_type": "code",
   "execution_count": 27,
   "id": "61a48e99",
   "metadata": {
    "ExecuteTime": {
     "end_time": "2022-12-21T03:23:10.632844Z",
     "start_time": "2022-12-21T03:23:10.625725Z"
    }
   },
   "outputs": [
    {
     "data": {
      "text/plain": [
       "(0, 2, 4, 6, 8)"
      ]
     },
     "execution_count": 27,
     "metadata": {},
     "output_type": "execute_result"
    }
   ],
   "source": [
    "t[::2]"
   ]
  },
  {
   "cell_type": "code",
   "execution_count": 28,
   "id": "f1268de8",
   "metadata": {
    "ExecuteTime": {
     "end_time": "2022-12-21T03:23:59.243129Z",
     "start_time": "2022-12-21T03:23:59.235801Z"
    }
   },
   "outputs": [
    {
     "data": {
      "text/plain": [
       "(2, 3, 4)"
      ]
     },
     "execution_count": 28,
     "metadata": {},
     "output_type": "execute_result"
    }
   ],
   "source": [
    "t[2:5]"
   ]
  },
  {
   "cell_type": "code",
   "execution_count": 29,
   "id": "740fd0f9",
   "metadata": {
    "ExecuteTime": {
     "end_time": "2022-12-21T03:24:38.702436Z",
     "start_time": "2022-12-21T03:24:38.689032Z"
    }
   },
   "outputs": [
    {
     "data": {
      "text/plain": [
       "(7, 5, 3)"
      ]
     },
     "execution_count": 29,
     "metadata": {},
     "output_type": "execute_result"
    }
   ],
   "source": [
    "t[7:2:-2]"
   ]
  },
  {
   "cell_type": "code",
   "execution_count": 30,
   "id": "a29d2916",
   "metadata": {
    "ExecuteTime": {
     "end_time": "2022-12-21T03:24:53.850116Z",
     "start_time": "2022-12-21T03:24:53.843735Z"
    }
   },
   "outputs": [
    {
     "data": {
      "text/plain": [
       "(9, 8, 7, 6, 5, 4, 3, 2, 1, 0)"
      ]
     },
     "execution_count": 30,
     "metadata": {},
     "output_type": "execute_result"
    }
   ],
   "source": [
    "t[::-1]"
   ]
  },
  {
   "cell_type": "markdown",
   "id": "135101f3",
   "metadata": {
    "slideshow": {
     "slide_type": "slide"
    }
   },
   "source": [
    "## Tuple 연산자\n",
    "- tuple + tuple\n",
    "    - 두 tuple의 원소들을 합친 tuple을 반환한다.\n",
    "- tuple * 정수\n",
    "    - 같은 tuple의 원소들을 정수번 합친 tuple를 반환한다.  \n",
    "- in, not in 연산자\n",
    "    - 값 in tuple\n",
    "        - tuple의 원소로 값이 **있으면** True, 없으면 False 반환\n",
    "    - 값 not in tuple\n",
    "        - tuple의 원소로 값이 **없으면** True, 있으면 False 반환    \n",
    "- len(tuple)\n",
    "    - tuple의 원소 개수 반환        "
   ]
  },
  {
   "cell_type": "code",
   "execution_count": 35,
   "id": "5903e00f",
   "metadata": {
    "ExecuteTime": {
     "end_time": "2022-12-21T03:28:18.760819Z",
     "start_time": "2022-12-21T03:28:18.755793Z"
    },
    "slideshow": {
     "slide_type": "fragment"
    }
   },
   "outputs": [
    {
     "name": "stdout",
     "output_type": "stream",
     "text": [
      "(1, 2, 3, 4, 5)\n",
      "('a', 'b', 'c')\n",
      "(1, 2, 3, 4, 5, 'a', 'b', 'c')\n",
      "(1, 2, 3, 4, 5)\n",
      "('a', 'b', 'c')\n"
     ]
    }
   ],
   "source": [
    "print(t1)\n",
    "print(t2)\n",
    "result = t1 + t2\n",
    "print(result)\n",
    "print(t1)\n",
    "print(t2)"
   ]
  },
  {
   "cell_type": "code",
   "execution_count": 37,
   "id": "80f7947e",
   "metadata": {
    "ExecuteTime": {
     "end_time": "2022-12-21T03:29:14.054190Z",
     "start_time": "2022-12-21T03:29:14.048866Z"
    }
   },
   "outputs": [
    {
     "name": "stdout",
     "output_type": "stream",
     "text": [
      "(1, 2, 3, 4, 5, 1, 2, 3, 4, 5, 1, 2, 3, 4, 5)\n",
      "(1, 2, 3, 4, 5)\n"
     ]
    }
   ],
   "source": [
    "result2 = t1 *3 #t1 + t1 +t1\n",
    "print(result2)\n",
    "print(t1)"
   ]
  },
  {
   "cell_type": "code",
   "execution_count": 42,
   "id": "457d95bc",
   "metadata": {
    "ExecuteTime": {
     "end_time": "2022-12-21T03:30:44.173958Z",
     "start_time": "2022-12-21T03:30:44.168442Z"
    }
   },
   "outputs": [
    {
     "name": "stdout",
     "output_type": "stream",
     "text": [
      "True\n",
      "False\n"
     ]
    }
   ],
   "source": [
    "print('b'in result)\n",
    "print('b' not in result)"
   ]
  },
  {
   "cell_type": "code",
   "execution_count": 43,
   "id": "9a021713",
   "metadata": {
    "ExecuteTime": {
     "end_time": "2022-12-21T03:30:56.233230Z",
     "start_time": "2022-12-21T03:30:56.228358Z"
    }
   },
   "outputs": [
    {
     "name": "stdout",
     "output_type": "stream",
     "text": [
      "False\n",
      "True\n"
     ]
    }
   ],
   "source": [
    "print('s' in result)\n",
    "print('s'not in result)"
   ]
  },
  {
   "cell_type": "code",
   "execution_count": 46,
   "id": "f80dad03",
   "metadata": {
    "ExecuteTime": {
     "end_time": "2022-12-21T03:32:41.423447Z",
     "start_time": "2022-12-21T03:32:41.415657Z"
    }
   },
   "outputs": [
    {
     "data": {
      "text/plain": [
       "tuple"
      ]
     },
     "execution_count": 46,
     "metadata": {},
     "output_type": "execute_result"
    }
   ],
   "source": [
    "length = len(t), len(t2), len(result)\n",
    "type(length)"
   ]
  },
  {
   "cell_type": "code",
   "execution_count": 47,
   "id": "caa34fff",
   "metadata": {
    "ExecuteTime": {
     "end_time": "2022-12-21T03:33:19.078849Z",
     "start_time": "2022-12-21T03:33:19.073747Z"
    }
   },
   "outputs": [
    {
     "name": "stdout",
     "output_type": "stream",
     "text": [
      "10 3 8\n"
     ]
    }
   ],
   "source": [
    "#튜플대입\n",
    "len1,len2,len3 = length = len(t), len(t2), len(result)\n",
    "print(len1, len2, len3)"
   ]
  },
  {
   "cell_type": "code",
   "execution_count": null,
   "id": "c50ad7ad",
   "metadata": {},
   "outputs": [],
   "source": []
  },
  {
   "cell_type": "markdown",
   "id": "89803fdd",
   "metadata": {
    "slideshow": {
     "slide_type": "subslide"
    }
   },
   "source": [
    "## Tuple의 주요 메소드\n",
    "|메소드|설명|\n",
    "|:-|-|\n",
    "|index(찾을값 \\[, 시작index\\])|'찾을값'이 몇번 index인지 반환한다.|\n",
    "|count(값)|원소로 '값'이 몇개 있는지 반환한다.|"
   ]
  },
  {
   "cell_type": "code",
   "execution_count": 51,
   "id": "698830d8",
   "metadata": {
    "ExecuteTime": {
     "end_time": "2022-12-21T03:36:47.784097Z",
     "start_time": "2022-12-21T03:36:47.777374Z"
    }
   },
   "outputs": [
    {
     "data": {
      "text/plain": [
       "(1, 2, 3, 4, 5, 'a', 'b', 'c')"
      ]
     },
     "execution_count": 51,
     "metadata": {},
     "output_type": "execute_result"
    }
   ],
   "source": [
    "result"
   ]
  },
  {
   "cell_type": "code",
   "execution_count": 52,
   "id": "93a527af",
   "metadata": {
    "ExecuteTime": {
     "end_time": "2022-12-21T03:37:16.479054Z",
     "start_time": "2022-12-21T03:37:16.470315Z"
    },
    "scrolled": true,
    "slideshow": {
     "slide_type": "fragment"
    }
   },
   "outputs": [
    {
     "ename": "ValueError",
     "evalue": "tuple.index(x): x not in tuple",
     "output_type": "error",
     "traceback": [
      "\u001b[0;31m---------------------------------------------------------------------------\u001b[0m",
      "\u001b[0;31mValueError\u001b[0m                                Traceback (most recent call last)",
      "\u001b[0;32m/var/folders/rk/978ch31x1lq5_fg7bzyhrtbr0000gn/T/ipykernel_13719/3882261074.py\u001b[0m in \u001b[0;36m<module>\u001b[0;34m\u001b[0m\n\u001b[1;32m      1\u001b[0m \u001b[0mresult\u001b[0m\u001b[0;34m.\u001b[0m\u001b[0mindex\u001b[0m\u001b[0;34m(\u001b[0m\u001b[0;34m'a'\u001b[0m\u001b[0;34m)\u001b[0m\u001b[0;34m\u001b[0m\u001b[0;34m\u001b[0m\u001b[0m\n\u001b[0;32m----> 2\u001b[0;31m \u001b[0mresult\u001b[0m\u001b[0;34m.\u001b[0m\u001b[0mindex\u001b[0m\u001b[0;34m(\u001b[0m\u001b[0;34m'a'\u001b[0m\u001b[0;34m,\u001b[0m \u001b[0;36m6\u001b[0m\u001b[0;34m)\u001b[0m\u001b[0;34m\u001b[0m\u001b[0;34m\u001b[0m\u001b[0m\n\u001b[0m",
      "\u001b[0;31mValueError\u001b[0m: tuple.index(x): x not in tuple"
     ]
    }
   ],
   "source": [
    "result.index('a')\n",
    "result.index('a', 6) #index 6에서부터 'a'찾기\n",
    "#없는 값을 찾을 경우 exception (예외-에러)가 발생."
   ]
  },
  {
   "cell_type": "code",
   "execution_count": 56,
   "id": "39c4611c",
   "metadata": {
    "ExecuteTime": {
     "end_time": "2022-12-21T03:40:15.202398Z",
     "start_time": "2022-12-21T03:40:15.196153Z"
    }
   },
   "outputs": [
    {
     "data": {
      "text/plain": [
       "2"
      ]
     },
     "execution_count": 56,
     "metadata": {},
     "output_type": "execute_result"
    }
   ],
   "source": [
    "t = (1,2,3,3,4,5,56,1,3,4,2)\n",
    "t.count(2)"
   ]
  },
  {
   "cell_type": "markdown",
   "id": "e6c196f5",
   "metadata": {
    "slideshow": {
     "slide_type": "slide"
    }
   },
   "source": [
    "# Dictionary\n",
    "- 값을 키(key)-값(value) 쌍으로 묶어서 저장하는 자료구조이다.\n",
    "    - 리스트나 튜플의 index의 역할을 하는 key를 직접 지정한다.\n",
    "    - 서로 의미가 다른 값들을 하나로 묶을 때 그 값의 의미를 key로 가질 수 있는 dictionary를 사용한다.\n",
    "        - cf) 값의 의미가 같을 경우 List나 Tuple을 사용한다.\n",
    "    - key-value 쌍으로 묶은 데이터 한개를 **item 또는 entry**라고 한다.\n",
    "    \n",
    "## Dictionary 생성\n",
    "- 구문\n",
    "    1. `{ 키 : 값, 키 : 값, 키 : 값 }`\n",
    "    2. dict(key=value, key=value) 함수 이용\n",
    "    - 키(key)는 불변(Immutable)의 값들만 사용 가능하다. (숫자, 문자열, 튜플) 일반적으로 문자열을 사용한다.\n",
    "    - dict() 함수를 사용할 경우 key는 변수로 정의한다"
   ]
  },
  {
   "cell_type": "code",
   "execution_count": 86,
   "id": "d9d37f28",
   "metadata": {
    "ExecuteTime": {
     "end_time": "2022-12-21T05:34:55.041606Z",
     "start_time": "2022-12-21T05:34:55.035698Z"
    },
    "slideshow": {
     "slide_type": "fragment"
    }
   },
   "outputs": [
    {
     "name": "stdout",
     "output_type": "stream",
     "text": [
      "[10, 20, 50, 70, 90, 5]\n",
      "--------------------\n",
      "{'이름': '홍길동', '나이': 20, '주소': '서울', '직업': '학생'}\n"
     ]
    }
   ],
   "source": [
    "#사과 10개, 귤이 20, .....\n",
    "#fruit_counts = [10, 20, 50, 70, 90, 5]\n",
    "#fruit_counts[0]\n",
    "#한사람의 고객정보: 이름, 나이, 주소, 직업\n",
    "#customer_1 = ['홍길동',20,'서울','학생]\n",
    "customer = {'이름':'홍길동','나이':20,'주소':'서울','직업':'학생'}\n",
    "print(fruit_counts)\n",
    "print('-'*20)\n",
    "print(customer)              \n"
   ]
  },
  {
   "cell_type": "code",
   "execution_count": null,
   "id": "177151f1",
   "metadata": {},
   "outputs": [],
   "source": []
  },
  {
   "cell_type": "code",
   "execution_count": 76,
   "id": "978ad0b3",
   "metadata": {
    "ExecuteTime": {
     "end_time": "2022-12-21T05:26:12.167547Z",
     "start_time": "2022-12-21T05:26:12.161765Z"
    }
   },
   "outputs": [
    {
     "name": "stdout",
     "output_type": "stream",
     "text": [
      "{'name': '유관순'}\n"
     ]
    }
   ],
   "source": [
    "d2 = {'name':'홍길동','name':'이순신', 'name':'유관순'}\n",
    "print(d2)"
   ]
  },
  {
   "cell_type": "code",
   "execution_count": 77,
   "id": "c51b0707",
   "metadata": {
    "ExecuteTime": {
     "end_time": "2022-12-21T05:27:28.796769Z",
     "start_time": "2022-12-21T05:27:28.789578Z"
    }
   },
   "outputs": [
    {
     "name": "stdout",
     "output_type": "stream",
     "text": [
      "{'name': '홍길동', 'age': 30, 'adddress': '부산'}\n"
     ]
    }
   ],
   "source": [
    "customer2 = dict(name='홍길동',age=30,adddress='부산')\n",
    "print(customer2)"
   ]
  },
  {
   "cell_type": "code",
   "execution_count": null,
   "id": "83354972",
   "metadata": {},
   "outputs": [],
   "source": []
  },
  {
   "cell_type": "code",
   "execution_count": null,
   "id": "5c1585b7",
   "metadata": {},
   "outputs": [],
   "source": []
  },
  {
   "cell_type": "code",
   "execution_count": null,
   "id": "ad377ce0",
   "metadata": {},
   "outputs": [],
   "source": []
  },
  {
   "cell_type": "markdown",
   "id": "f8c87bd3",
   "metadata": {
    "slideshow": {
     "slide_type": "subslide"
    }
   },
   "source": [
    "## Dictionary 원소 조회 및 변경\n",
    "- 조회: index에 key값을 식별자로 지정한다.\n",
    "    - dictionary\\[ key \\]\n",
    "    - 없는 키로 조회 시 KeyError 발생\n",
    "- 변경\n",
    "    - dictionary\\[ key \\] = 값\n",
    "    - 있는 key값에 값을 대입하면 변경이고 없는 key 일 경우는 새로운 item을 추가하는 것이다."
   ]
  },
  {
   "cell_type": "code",
   "execution_count": 184,
   "id": "459db630",
   "metadata": {
    "ExecuteTime": {
     "end_time": "2022-12-21T07:46:34.894664Z",
     "start_time": "2022-12-21T07:46:34.888298Z"
    },
    "slideshow": {
     "slide_type": "fragment"
    }
   },
   "outputs": [
    {
     "data": {
      "text/plain": [
       "{'이름': '홍길동', '주소': '서울', '직업': '학생'}"
      ]
     },
     "execution_count": 184,
     "metadata": {},
     "output_type": "execute_result"
    }
   ],
   "source": [
    "customer"
   ]
  },
  {
   "cell_type": "code",
   "execution_count": 185,
   "id": "86a96725",
   "metadata": {
    "ExecuteTime": {
     "end_time": "2022-12-21T07:46:38.929585Z",
     "start_time": "2022-12-21T07:46:38.919896Z"
    }
   },
   "outputs": [
    {
     "data": {
      "text/plain": [
       "{'이름': '홍길동', '주소': '서울', '직업': '학생', '몸무게': 70.58}"
      ]
     },
     "execution_count": 185,
     "metadata": {},
     "output_type": "execute_result"
    }
   ],
   "source": [
    "customer['몸무게'] = 70.58\n",
    "customer"
   ]
  },
  {
   "cell_type": "code",
   "execution_count": null,
   "id": "16f02aaa",
   "metadata": {},
   "outputs": [],
   "source": []
  },
  {
   "cell_type": "code",
   "execution_count": null,
   "id": "1b627ad5",
   "metadata": {},
   "outputs": [],
   "source": []
  },
  {
   "cell_type": "code",
   "execution_count": null,
   "id": "f4f8053d",
   "metadata": {},
   "outputs": [],
   "source": []
  },
  {
   "cell_type": "code",
   "execution_count": null,
   "id": "a308d1f7",
   "metadata": {},
   "outputs": [],
   "source": []
  },
  {
   "cell_type": "markdown",
   "id": "d5aade1e",
   "metadata": {
    "slideshow": {
     "slide_type": "slide"
    }
   },
   "source": [
    "## Dictionary 연산자\n",
    "\n",
    "- in, not in 연산자\n",
    "    - 값 in dictionary\n",
    "        - dictionary의 **Key**로 값이 **있으면** True, 없으면 False 반환\n",
    "    - 값 not in tuple\n",
    "        - dictionary의 **Key**로 값이 **없으면** True, 있으면 False 반환    \n",
    "- len(dictionary)\n",
    "    - dictionary의 **Item의 개수** 반환        "
   ]
  },
  {
   "cell_type": "code",
   "execution_count": 88,
   "id": "4a7c9061",
   "metadata": {
    "ExecuteTime": {
     "end_time": "2022-12-21T05:37:45.219078Z",
     "start_time": "2022-12-21T05:37:45.212412Z"
    },
    "slideshow": {
     "slide_type": "fragment"
    }
   },
   "outputs": [
    {
     "data": {
      "text/plain": [
       "True"
      ]
     },
     "execution_count": 88,
     "metadata": {},
     "output_type": "execute_result"
    }
   ],
   "source": [
    "'나이'in customer #딕셔너리에 '나이'키가 있는지 여부'\n"
   ]
  },
  {
   "cell_type": "code",
   "execution_count": 89,
   "id": "b0b018e8",
   "metadata": {
    "ExecuteTime": {
     "end_time": "2022-12-21T05:38:34.255042Z",
     "start_time": "2022-12-21T05:38:34.247891Z"
    }
   },
   "outputs": [
    {
     "data": {
      "text/plain": [
       "False"
      ]
     },
     "execution_count": 89,
     "metadata": {},
     "output_type": "execute_result"
    }
   ],
   "source": [
    "'나이'not in customer #딕셔너리에 '나이'키가 없는지 여부'"
   ]
  },
  {
   "cell_type": "code",
   "execution_count": 90,
   "id": "a39dad90",
   "metadata": {
    "ExecuteTime": {
     "end_time": "2022-12-21T05:39:14.061899Z",
     "start_time": "2022-12-21T05:39:14.053358Z"
    }
   },
   "outputs": [
    {
     "data": {
      "text/plain": [
       "False"
      ]
     },
     "execution_count": 90,
     "metadata": {},
     "output_type": "execute_result"
    }
   ],
   "source": [
    "10 in customer #10이란 key 가 있나?"
   ]
  },
  {
   "cell_type": "code",
   "execution_count": 92,
   "id": "178dd1e0",
   "metadata": {
    "ExecuteTime": {
     "end_time": "2022-12-21T05:39:39.468222Z",
     "start_time": "2022-12-21T05:39:39.461250Z"
    }
   },
   "outputs": [
    {
     "data": {
      "text/plain": [
       "5"
      ]
     },
     "execution_count": 92,
     "metadata": {},
     "output_type": "execute_result"
    }
   ],
   "source": [
    "len(customer) #item의 개수"
   ]
  },
  {
   "cell_type": "markdown",
   "id": "9f620ec1",
   "metadata": {
    "slideshow": {
     "slide_type": "slide"
    }
   },
   "source": [
    "## Dictionary 주요 메소드\n",
    "\n",
    "|메소드|설명|\n",
    "|:-|-|\n",
    "|get(ke\\[, 기본값\\])|key의 item의 값을 반환한다. 단 key가 없을 경우 None또는 기본값을 반환한다.|\n",
    "|pop(key)|key의 item의 값을 반환하면서 dictionary에서 삭제한다. 없는 key일 경우 KeyError발생|\n",
    "|clear()|dictionary의 모든 item들을 삭제한다.|\n",
    "|del dict\\[key\\]|key의 item을 제거한다.|\n",
    "|items()|item의 key, value를 튜플로 묶어 모아 반환한다.|\n",
    "|keys()|key값들만 모아 반환한다.|\n",
    "|values()|value값들만 모아 반환한다.|"
   ]
  },
  {
   "cell_type": "code",
   "execution_count": 93,
   "id": "350e7ad5",
   "metadata": {
    "ExecuteTime": {
     "end_time": "2022-12-21T05:45:21.292900Z",
     "start_time": "2022-12-21T05:45:21.287421Z"
    },
    "slideshow": {
     "slide_type": "fragment"
    }
   },
   "outputs": [
    {
     "name": "stdout",
     "output_type": "stream",
     "text": [
      "None\n"
     ]
    }
   ],
   "source": [
    "#customer['키']\n",
    "v = customer.get('키')\n",
    "print(v)"
   ]
  },
  {
   "cell_type": "code",
   "execution_count": 94,
   "id": "d29ad548",
   "metadata": {
    "ExecuteTime": {
     "end_time": "2022-12-21T05:45:49.803053Z",
     "start_time": "2022-12-21T05:45:49.798032Z"
    }
   },
   "outputs": [
    {
     "name": "stdout",
     "output_type": "stream",
     "text": [
      "70.58\n"
     ]
    }
   ],
   "source": [
    "v = customer.get('몸무게')\n",
    "print(v)"
   ]
  },
  {
   "cell_type": "code",
   "execution_count": 95,
   "id": "3184bb12",
   "metadata": {
    "ExecuteTime": {
     "end_time": "2022-12-21T05:46:32.343561Z",
     "start_time": "2022-12-21T05:46:32.339030Z"
    }
   },
   "outputs": [
    {
     "name": "stdout",
     "output_type": "stream",
     "text": [
      "키는 수집 못함\n"
     ]
    }
   ],
   "source": [
    "v = customer.get('키', '키는 수집 못함')\n",
    "print(v)"
   ]
  },
  {
   "cell_type": "code",
   "execution_count": 96,
   "id": "c055e459",
   "metadata": {
    "ExecuteTime": {
     "end_time": "2022-12-21T05:47:20.004837Z",
     "start_time": "2022-12-21T05:47:19.999130Z"
    }
   },
   "outputs": [
    {
     "name": "stdout",
     "output_type": "stream",
     "text": [
      "70.58\n"
     ]
    }
   ],
   "source": [
    "v = customer.get('몸무게', '몸무게는 수집 못함')\n",
    "print(v) #value가 있기 때문에 반환 가능"
   ]
  },
  {
   "cell_type": "code",
   "execution_count": 99,
   "id": "219b51b7",
   "metadata": {
    "ExecuteTime": {
     "end_time": "2022-12-21T05:48:54.722413Z",
     "start_time": "2022-12-21T05:48:54.718471Z"
    }
   },
   "outputs": [
    {
     "name": "stdout",
     "output_type": "stream",
     "text": [
      "{'이름': '홍길동', '나이': 20, '주소': '서울', '직업': '학생', '몸무게': 70.58}\n",
      "20\n",
      "{'이름': '홍길동', '주소': '서울', '직업': '학생', '몸무게': 70.58}\n"
     ]
    }
   ],
   "source": [
    "print(customer)\n",
    "age = customer.pop('나이')\n",
    "print(age)\n",
    "print(customer)"
   ]
  },
  {
   "cell_type": "code",
   "execution_count": 102,
   "id": "2b4c961e",
   "metadata": {
    "ExecuteTime": {
     "end_time": "2022-12-21T05:49:48.899714Z",
     "start_time": "2022-12-21T05:49:48.889971Z"
    }
   },
   "outputs": [
    {
     "name": "stdout",
     "output_type": "stream",
     "text": [
      "{'이름': '홍길동', '주소': '서울', '직업': '학생', '몸무게': 70.58}\n"
     ]
    }
   ],
   "source": [
    "print(customer)\n",
    "del customer['몸무게']"
   ]
  },
  {
   "cell_type": "code",
   "execution_count": 103,
   "id": "887a7557",
   "metadata": {
    "ExecuteTime": {
     "end_time": "2022-12-21T05:50:07.107004Z",
     "start_time": "2022-12-21T05:50:07.099088Z"
    }
   },
   "outputs": [
    {
     "data": {
      "text/plain": [
       "{'이름': '홍길동', '주소': '서울', '직업': '학생'}"
      ]
     },
     "execution_count": 103,
     "metadata": {},
     "output_type": "execute_result"
    }
   ],
   "source": [
    "customer"
   ]
  },
  {
   "cell_type": "code",
   "execution_count": 105,
   "id": "6112f21c",
   "metadata": {
    "ExecuteTime": {
     "end_time": "2022-12-21T05:50:53.023732Z",
     "start_time": "2022-12-21T05:50:53.017140Z"
    }
   },
   "outputs": [
    {
     "data": {
      "text/plain": [
       "dict_items([('이름', '홍길동'), ('주소', '서울'), ('직업', '학생')])"
      ]
     },
     "execution_count": 105,
     "metadata": {},
     "output_type": "execute_result"
    }
   ],
   "source": [
    "customer.items()"
   ]
  },
  {
   "cell_type": "code",
   "execution_count": 106,
   "id": "482cdb1a",
   "metadata": {
    "ExecuteTime": {
     "end_time": "2022-12-21T05:51:34.152584Z",
     "start_time": "2022-12-21T05:51:34.146024Z"
    }
   },
   "outputs": [
    {
     "data": {
      "text/plain": [
       "dict_keys(['이름', '주소', '직업'])"
      ]
     },
     "execution_count": 106,
     "metadata": {},
     "output_type": "execute_result"
    }
   ],
   "source": [
    "customer.keys()"
   ]
  },
  {
   "cell_type": "code",
   "execution_count": 107,
   "id": "4c6fc618",
   "metadata": {
    "ExecuteTime": {
     "end_time": "2022-12-21T05:51:49.472164Z",
     "start_time": "2022-12-21T05:51:49.466107Z"
    }
   },
   "outputs": [
    {
     "data": {
      "text/plain": [
       "dict_values(['홍길동', '서울', '학생'])"
      ]
     },
     "execution_count": 107,
     "metadata": {},
     "output_type": "execute_result"
    }
   ],
   "source": [
    "customer.values()"
   ]
  },
  {
   "cell_type": "code",
   "execution_count": 108,
   "id": "f5fb1990",
   "metadata": {
    "ExecuteTime": {
     "end_time": "2022-12-21T06:13:14.637405Z",
     "start_time": "2022-12-21T06:13:14.632409Z"
    }
   },
   "outputs": [
    {
     "name": "stdout",
     "output_type": "stream",
     "text": [
      "이름,홍길동\n",
      "주소,서울\n",
      "직업,학생\n"
     ]
    }
   ],
   "source": [
    "for k, v in customer.items(): #키랑 벨류 따로 보고싶을 경우 쓰임\n",
    "    print(k, v, sep=',')"
   ]
  },
  {
   "cell_type": "code",
   "execution_count": 109,
   "id": "6488bc82",
   "metadata": {
    "ExecuteTime": {
     "end_time": "2022-12-21T06:14:07.432019Z",
     "start_time": "2022-12-21T06:14:07.427566Z"
    }
   },
   "outputs": [
    {
     "name": "stdout",
     "output_type": "stream",
     "text": [
      "10\n",
      "11\n"
     ]
    }
   ],
   "source": [
    "print(10);print(11)#추천하지 않음, 한줄에 명령문 하나씩 쓰는 것 추천 어차피 엔터도 한 문자라 동일함."
   ]
  },
  {
   "cell_type": "markdown",
   "id": "d97869af",
   "metadata": {
    "slideshow": {
     "slide_type": "slide"
    }
   },
   "source": [
    "# Set \n",
    "\n",
    "- Set은 중복되는 값을 허용하지 않고 순서를 신경 쓰지 않는다.\n",
    "    - 원소를 식별할 수 있는 식별자가 없기 때문에 Set은 indexing과 slicing을 지원하지 않는다\n",
    "\n",
    "## Set 생성\n",
    "- 구문\n",
    "    - {값, 값, 값 }\n",
    "\n",
    "> -빈 Dictionary 만들기\n",
    ">    - info = {}\n",
    ">    - 중괄호만 사용하면 빈 set이 아니라 빈 dictionary를 생성하는 것임.\n"
   ]
  },
  {
   "cell_type": "code",
   "execution_count": 110,
   "id": "5c88480a",
   "metadata": {
    "ExecuteTime": {
     "end_time": "2022-12-21T06:19:55.820991Z",
     "start_time": "2022-12-21T06:19:55.815234Z"
    },
    "slideshow": {
     "slide_type": "fragment"
    }
   },
   "outputs": [
    {
     "name": "stdout",
     "output_type": "stream",
     "text": [
      "{1, 2, 3, 4}\n"
     ]
    }
   ],
   "source": [
    "s = {1, 2, 3, 4}\n",
    "print(s)"
   ]
  },
  {
   "cell_type": "code",
   "execution_count": 114,
   "id": "f663023b",
   "metadata": {
    "ExecuteTime": {
     "end_time": "2022-12-21T06:22:41.065866Z",
     "start_time": "2022-12-21T06:22:41.058273Z"
    }
   },
   "outputs": [
    {
     "data": {
      "text/plain": [
       "{1, 2, 3, 4, 5, 6, 7, 8, 9}"
      ]
     },
     "execution_count": 114,
     "metadata": {},
     "output_type": "execute_result"
    }
   ],
   "source": [
    "s2 = {1,1,1,2,2,2,3,3,3,4,5,4,5,6,7,8,9,3}\n",
    "s2"
   ]
  },
  {
   "cell_type": "code",
   "execution_count": 115,
   "id": "cfc2361f",
   "metadata": {
    "ExecuteTime": {
     "end_time": "2022-12-21T06:22:44.283134Z",
     "start_time": "2022-12-21T06:22:44.273447Z"
    }
   },
   "outputs": [
    {
     "ename": "TypeError",
     "evalue": "'set' object is not subscriptable",
     "output_type": "error",
     "traceback": [
      "\u001b[0;31m---------------------------------------------------------------------------\u001b[0m",
      "\u001b[0;31mTypeError\u001b[0m                                 Traceback (most recent call last)",
      "\u001b[0;32m/var/folders/rk/978ch31x1lq5_fg7bzyhrtbr0000gn/T/ipykernel_13719/2344841457.py\u001b[0m in \u001b[0;36m<module>\u001b[0;34m\u001b[0m\n\u001b[0;32m----> 1\u001b[0;31m \u001b[0ms2\u001b[0m\u001b[0;34m[\u001b[0m\u001b[0;36m0\u001b[0m\u001b[0;34m]\u001b[0m\u001b[0;34m\u001b[0m\u001b[0;34m\u001b[0m\u001b[0m\n\u001b[0m",
      "\u001b[0;31mTypeError\u001b[0m: 'set' object is not subscriptable"
     ]
    }
   ],
   "source": [
    "s2[0] #개별 원소를 조회할 수 없다."
   ]
  },
  {
   "cell_type": "code",
   "execution_count": 120,
   "id": "2a195b3f",
   "metadata": {
    "ExecuteTime": {
     "end_time": "2022-12-21T06:24:21.811411Z",
     "start_time": "2022-12-21T06:24:21.806145Z"
    }
   },
   "outputs": [
    {
     "name": "stdout",
     "output_type": "stream",
     "text": [
      "1\n",
      "2\n",
      "3\n",
      "4\n",
      "5\n",
      "6\n",
      "7\n",
      "8\n",
      "9\n"
     ]
    }
   ],
   "source": [
    "for v in s2:\n",
    "    print(v)"
   ]
  },
  {
   "cell_type": "markdown",
   "id": "79cf0f20",
   "metadata": {
    "slideshow": {
     "slide_type": "slide"
    }
   },
   "source": [
    "## Set 연산자\n",
    "\n",
    "- in, not in 연산자\n",
    "    - 값 in Set\n",
    "        - Set의 원소로 값이 **있으면** True, 없으면 False 반환\n",
    "    - 값 not in set\n",
    "        - Set의 원소로 값이 **없으면** True, 있으면 False 반환    \n",
    "- len(Set)\n",
    "    - Set의 **원소의 개수** 반환        "
   ]
  },
  {
   "cell_type": "code",
   "execution_count": 122,
   "id": "69b4739a",
   "metadata": {
    "ExecuteTime": {
     "end_time": "2022-12-21T06:25:59.610693Z",
     "start_time": "2022-12-21T06:25:59.602492Z"
    }
   },
   "outputs": [
    {
     "data": {
      "text/plain": [
       "False"
      ]
     },
     "execution_count": 122,
     "metadata": {},
     "output_type": "execute_result"
    }
   ],
   "source": [
    "10 in s2 #s2에 10이 있는지 여부\n",
    "10 not in s2\n",
    "2 in s2\n",
    "2 not in s2"
   ]
  },
  {
   "cell_type": "code",
   "execution_count": 123,
   "id": "4f38be8d",
   "metadata": {
    "ExecuteTime": {
     "end_time": "2022-12-21T06:26:23.753858Z",
     "start_time": "2022-12-21T06:26:23.746855Z"
    }
   },
   "outputs": [
    {
     "data": {
      "text/plain": [
       "{1, 2, 3, 4, 5, 6, 7, 8, 9}"
      ]
     },
     "execution_count": 123,
     "metadata": {},
     "output_type": "execute_result"
    }
   ],
   "source": [
    "s2"
   ]
  },
  {
   "cell_type": "code",
   "execution_count": 124,
   "id": "cec767be",
   "metadata": {
    "ExecuteTime": {
     "end_time": "2022-12-21T06:26:29.536586Z",
     "start_time": "2022-12-21T06:26:29.529906Z"
    }
   },
   "outputs": [
    {
     "data": {
      "text/plain": [
       "9"
      ]
     },
     "execution_count": 124,
     "metadata": {},
     "output_type": "execute_result"
    }
   ],
   "source": [
    "len(s2)"
   ]
  },
  {
   "cell_type": "markdown",
   "id": "080c2a17",
   "metadata": {
    "slideshow": {
     "slide_type": "slide"
    }
   },
   "source": [
    "## Set의 주요 메소드\n",
    "\n",
    "|메소드|설명|\n",
    "|-|-|\n",
    "|add(값)|집합에 값 추가|\n",
    "|update(자료구조)|자료구조내의 원소들을 모두 집합에 추가|\n",
    "|pop()|원소를 반환하고 Set에서 삭제한다.|\n",
    "|remove(값)|값을 찾아서 Set에서 삭제한다.|"
   ]
  },
  {
   "cell_type": "code",
   "execution_count": 125,
   "id": "b12f08b0",
   "metadata": {
    "ExecuteTime": {
     "end_time": "2022-12-21T06:28:47.927465Z",
     "start_time": "2022-12-21T06:28:47.919078Z"
    },
    "slideshow": {
     "slide_type": "fragment"
    }
   },
   "outputs": [
    {
     "data": {
      "text/plain": [
       "{1, 2, 3, 4, 5, 6, 7, 8, 9}"
      ]
     },
     "execution_count": 125,
     "metadata": {},
     "output_type": "execute_result"
    }
   ],
   "source": [
    "s2"
   ]
  },
  {
   "cell_type": "code",
   "execution_count": 127,
   "id": "3e83bf18",
   "metadata": {
    "ExecuteTime": {
     "end_time": "2022-12-21T06:29:04.520513Z",
     "start_time": "2022-12-21T06:29:04.515407Z"
    }
   },
   "outputs": [
    {
     "name": "stdout",
     "output_type": "stream",
     "text": [
      "{1, 2, 3, 4, 5, 6, 7, 8, 9, 10}\n"
     ]
    }
   ],
   "source": [
    "s2.add(10)\n",
    "print(s2)"
   ]
  },
  {
   "cell_type": "code",
   "execution_count": 128,
   "id": "3c29118f",
   "metadata": {
    "ExecuteTime": {
     "end_time": "2022-12-21T06:29:18.154390Z",
     "start_time": "2022-12-21T06:29:18.149547Z"
    }
   },
   "outputs": [
    {
     "name": "stdout",
     "output_type": "stream",
     "text": [
      "{1, 2, 3, 4, 5, 6, 7, 8, 9, 10, -20}\n"
     ]
    }
   ],
   "source": [
    "s2.add(-20)\n",
    "print(s2)"
   ]
  },
  {
   "cell_type": "code",
   "execution_count": 129,
   "id": "bf3a97af",
   "metadata": {
    "ExecuteTime": {
     "end_time": "2022-12-21T06:29:51.830056Z",
     "start_time": "2022-12-21T06:29:51.824719Z"
    }
   },
   "outputs": [
    {
     "name": "stdout",
     "output_type": "stream",
     "text": [
      "{1, 2, 3, 4, 5, 6, 7, 8, 9, 10, -20}\n"
     ]
    }
   ],
   "source": [
    "s2.add(-20) #중복된 것은 걸러낸다.\n",
    "print(s2)"
   ]
  },
  {
   "cell_type": "code",
   "execution_count": 130,
   "id": "cba2fd78",
   "metadata": {
    "ExecuteTime": {
     "end_time": "2022-12-21T06:30:46.474137Z",
     "start_time": "2022-12-21T06:30:46.468616Z"
    }
   },
   "outputs": [
    {
     "name": "stdout",
     "output_type": "stream",
     "text": [
      "{1, 2, 3, 4, 5, 6, 7, 8, 9, 10, 100, -20, 200, 300, 290200}\n"
     ]
    }
   ],
   "source": [
    "s2.update([1,1,1,2,100,200,290200,300])\n",
    "print(s2)"
   ]
  },
  {
   "cell_type": "code",
   "execution_count": 131,
   "id": "55f41a52",
   "metadata": {
    "ExecuteTime": {
     "end_time": "2022-12-21T06:31:41.140256Z",
     "start_time": "2022-12-21T06:31:41.135896Z"
    }
   },
   "outputs": [
    {
     "name": "stdout",
     "output_type": "stream",
     "text": [
      "{1, 2, 3, 4, 5, 6, 7, 8, 9, 10, 100, -20, 200, 300, 'a', 'b', 290200}\n"
     ]
    }
   ],
   "source": [
    "s2.update({'a':100,'b':200})\n",
    "print(s2)"
   ]
  },
  {
   "cell_type": "code",
   "execution_count": 132,
   "id": "7be3d4c5",
   "metadata": {
    "ExecuteTime": {
     "end_time": "2022-12-21T06:32:15.184207Z",
     "start_time": "2022-12-21T06:32:15.179029Z"
    }
   },
   "outputs": [
    {
     "name": "stdout",
     "output_type": "stream",
     "text": [
      "1\n",
      "{2, 3, 4, 5, 6, 7, 8, 9, 10, 100, -20, 200, 300, 'a', 'b', 290200}\n"
     ]
    }
   ],
   "source": [
    "v = s2.pop()\n",
    "print(v)\n",
    "print(s2)"
   ]
  },
  {
   "cell_type": "code",
   "execution_count": 133,
   "id": "7fbc3201",
   "metadata": {
    "ExecuteTime": {
     "end_time": "2022-12-21T06:32:57.180685Z",
     "start_time": "2022-12-21T06:32:57.176050Z"
    }
   },
   "outputs": [
    {
     "name": "stdout",
     "output_type": "stream",
     "text": [
      "{2, 3, 4, 5, 6, 8, 9, 10, 100, -20, 200, 300, 'a', 'b', 290200}\n"
     ]
    }
   ],
   "source": [
    "s2.remove(7)\n",
    "print(s2)"
   ]
  },
  {
   "cell_type": "code",
   "execution_count": 134,
   "id": "e3b67dc4",
   "metadata": {
    "ExecuteTime": {
     "end_time": "2022-12-21T06:33:33.375269Z",
     "start_time": "2022-12-21T06:33:33.365413Z"
    }
   },
   "outputs": [
    {
     "ename": "KeyError",
     "evalue": "500",
     "output_type": "error",
     "traceback": [
      "\u001b[0;31m---------------------------------------------------------------------------\u001b[0m",
      "\u001b[0;31mKeyError\u001b[0m                                  Traceback (most recent call last)",
      "\u001b[0;32m/var/folders/rk/978ch31x1lq5_fg7bzyhrtbr0000gn/T/ipykernel_13719/1261999385.py\u001b[0m in \u001b[0;36m<module>\u001b[0;34m\u001b[0m\n\u001b[0;32m----> 1\u001b[0;31m \u001b[0ms2\u001b[0m\u001b[0;34m.\u001b[0m\u001b[0mremove\u001b[0m\u001b[0;34m(\u001b[0m\u001b[0;36m500\u001b[0m\u001b[0;34m)\u001b[0m \u001b[0;31m#없는 값 삭제 시 exception 발생.\u001b[0m\u001b[0;34m\u001b[0m\u001b[0;34m\u001b[0m\u001b[0m\n\u001b[0m",
      "\u001b[0;31mKeyError\u001b[0m: 500"
     ]
    }
   ],
   "source": [
    "s2.remove(500) #없는 값 삭제 시 exception 발생."
   ]
  },
  {
   "cell_type": "markdown",
   "id": "33d115cd",
   "metadata": {
    "slideshow": {
     "slide_type": "subslide"
    }
   },
   "source": [
    "## Set의 집합연산 연산자 및 메소드\n",
    "\n",
    "- 합집합\n",
    "    - 집합A | 집합B\n",
    "    - 집합A.union(집합B)\n",
    "- 교집합\n",
    "    - 집합A & 집합B\n",
    "    - 집합A.intersection(집합B)\n",
    "- 차집합\n",
    "    - 집합A - 집합B\n",
    "    - 집합A.difference(집합B)"
   ]
  },
  {
   "cell_type": "code",
   "execution_count": 135,
   "id": "64bf5839",
   "metadata": {
    "ExecuteTime": {
     "end_time": "2022-12-21T06:36:54.066847Z",
     "start_time": "2022-12-21T06:36:54.061238Z"
    },
    "slideshow": {
     "slide_type": "fragment"
    }
   },
   "outputs": [
    {
     "name": "stdout",
     "output_type": "stream",
     "text": [
      "{1, 2, 3, 4, 5}\n",
      "{3, 4, 5, 6, 7}\n",
      "{1, 2, 3, 4, 5, 6, 7}\n"
     ]
    }
   ],
   "source": [
    "s1 = {1,2,3,4,5}\n",
    "s2 = {3,4,5,6,7}\n",
    "s3 = s1 | s2\n",
    "print(s1)\n",
    "print(s2)\n",
    "print(s3)"
   ]
  },
  {
   "cell_type": "code",
   "execution_count": 136,
   "id": "e9d2a4ea",
   "metadata": {
    "ExecuteTime": {
     "end_time": "2022-12-21T06:37:23.528786Z",
     "start_time": "2022-12-21T06:37:23.524802Z"
    }
   },
   "outputs": [
    {
     "name": "stdout",
     "output_type": "stream",
     "text": [
      "{1, 2, 3, 4, 5, 6, 7}\n"
     ]
    }
   ],
   "source": [
    "print(s1.union(s2))"
   ]
  },
  {
   "cell_type": "code",
   "execution_count": 139,
   "id": "8645547e",
   "metadata": {
    "ExecuteTime": {
     "end_time": "2022-12-21T06:38:29.850144Z",
     "start_time": "2022-12-21T06:38:29.844313Z"
    }
   },
   "outputs": [
    {
     "name": "stdout",
     "output_type": "stream",
     "text": [
      "{3, 4, 5}\n",
      "{3, 4, 5}\n"
     ]
    }
   ],
   "source": [
    "#교집합\n",
    "s4 = s1&s2\n",
    "print(s4)\n",
    "print(s1.intersection(s2))"
   ]
  },
  {
   "cell_type": "code",
   "execution_count": 140,
   "id": "9e65e73b",
   "metadata": {
    "ExecuteTime": {
     "end_time": "2022-12-21T06:38:53.941619Z",
     "start_time": "2022-12-21T06:38:53.937100Z"
    }
   },
   "outputs": [
    {
     "name": "stdout",
     "output_type": "stream",
     "text": [
      "{1, 2}\n",
      "{1, 2}\n"
     ]
    }
   ],
   "source": [
    "#차집합\n",
    "print(s1 - s2)\n",
    "print(s1.difference(s2))"
   ]
  },
  {
   "cell_type": "code",
   "execution_count": null,
   "id": "bf795fe1",
   "metadata": {},
   "outputs": [],
   "source": []
  },
  {
   "cell_type": "code",
   "execution_count": null,
   "id": "0c2a9dff",
   "metadata": {},
   "outputs": [],
   "source": []
  },
  {
   "cell_type": "code",
   "execution_count": null,
   "id": "aa4458ea",
   "metadata": {},
   "outputs": [],
   "source": []
  },
  {
   "cell_type": "markdown",
   "id": "a3778f41",
   "metadata": {
    "slideshow": {
     "slide_type": "slide"
    }
   },
   "source": [
    "# 자료구조 변환 함수\n",
    "\n",
    "- list(자료구조)\n",
    "    - 대상 자료구조/Iterable을 List로 변환한다.\n",
    "- tuple(자료구조)\n",
    "    - 대상 자료구조/Iterable을 Tuple로 변환\n",
    "- set(자료구조)\n",
    "    - 대상 자료구조/Iterable을 Set으로 변환\n",
    "    - 다른 자료구조의 원소 중 중복을 빼고 조회할 때 set()를 이용해 Set으로 변환한다.\n",
    "- Dictionary로 변환하는 함수는 없다.\n",
    "- 변경할 대상이 Dictionary 일 경우에는 key값들만 모아서 변환한다.\n",
    "\n",
    "> - Iterable\n",
    ">    - 반복가능한 객체. 반복문(for in)을 이용해 일련의 값들을 반복적으로 각각 제공하는 객체를 말한다. \n",
    ">    - 대표적으로 자료구조, 문자열 등이 있다."
   ]
  },
  {
   "cell_type": "code",
   "execution_count": 141,
   "id": "07fd6373",
   "metadata": {
    "ExecuteTime": {
     "end_time": "2022-12-21T06:46:18.562745Z",
     "start_time": "2022-12-21T06:46:18.557424Z"
    },
    "slideshow": {
     "slide_type": "fragment"
    }
   },
   "outputs": [
    {
     "name": "stdout",
     "output_type": "stream",
     "text": [
      "{1, 2, 3, 5, 9, 10}\n"
     ]
    }
   ],
   "source": [
    "l = [1,2,2,2,3,3,3,2,1,2,3,10,5,9]\n",
    "고유값 = set(l)\n",
    "print(고유값)"
   ]
  },
  {
   "cell_type": "code",
   "execution_count": 143,
   "id": "c0f91a47",
   "metadata": {
    "ExecuteTime": {
     "end_time": "2022-12-21T06:47:00.743419Z",
     "start_time": "2022-12-21T06:47:00.737831Z"
    }
   },
   "outputs": [
    {
     "name": "stdout",
     "output_type": "stream",
     "text": [
      "{1, 2, 3}\n"
     ]
    }
   ],
   "source": [
    "t = (1,1,1,2,2,2,3,3,3,3)\n",
    "print(set(t))"
   ]
  },
  {
   "cell_type": "code",
   "execution_count": 144,
   "id": "bd190c08",
   "metadata": {
    "ExecuteTime": {
     "end_time": "2022-12-21T06:47:49.992827Z",
     "start_time": "2022-12-21T06:47:49.987259Z"
    }
   },
   "outputs": [
    {
     "name": "stdout",
     "output_type": "stream",
     "text": [
      "{'a', 'c', 'b'}\n"
     ]
    }
   ],
   "source": [
    "d = {'a':1, 'b':2, 'c':3}\n",
    "print(set(d))"
   ]
  },
  {
   "cell_type": "code",
   "execution_count": 145,
   "id": "bfe4113c",
   "metadata": {
    "ExecuteTime": {
     "end_time": "2022-12-21T06:48:39.790347Z",
     "start_time": "2022-12-21T06:48:39.783121Z"
    }
   },
   "outputs": [
    {
     "data": {
      "text/plain": [
       "(1, 2, 30)"
      ]
     },
     "execution_count": 145,
     "metadata": {},
     "output_type": "execute_result"
    }
   ],
   "source": [
    "t = (1,2,3) #3- > 30\n",
    "l = list(t)\n",
    "l[2] = 30\n",
    "t = tuple(l)\n",
    "t"
   ]
  },
  {
   "cell_type": "code",
   "execution_count": 146,
   "id": "ceb93543",
   "metadata": {
    "ExecuteTime": {
     "end_time": "2022-12-21T06:50:41.992774Z",
     "start_time": "2022-12-21T06:50:41.985006Z"
    }
   },
   "outputs": [
    {
     "data": {
      "text/plain": [
       "['a',\n",
       " 'b',\n",
       " 'c',\n",
       " 'd',\n",
       " 'e',\n",
       " 'f',\n",
       " 'r',\n",
       " 'k',\n",
       " 's',\n",
       " 'k',\n",
       " 'e',\n",
       " 'k',\n",
       " '1',\n",
       " '2',\n",
       " '3',\n",
       " '4']"
      ]
     },
     "execution_count": 146,
     "metadata": {},
     "output_type": "execute_result"
    }
   ],
   "source": [
    "a = list(\"abcdefrkskek1234\") #문자열 -> 리스트\n",
    "a"
   ]
  },
  {
   "cell_type": "code",
   "execution_count": 147,
   "id": "c32235de",
   "metadata": {
    "ExecuteTime": {
     "end_time": "2022-12-21T06:51:25.041357Z",
     "start_time": "2022-12-21T06:51:25.034869Z"
    }
   },
   "outputs": [
    {
     "data": {
      "text/plain": [
       "('a', 'b', 'c', 'd', 'e')"
      ]
     },
     "execution_count": 147,
     "metadata": {},
     "output_type": "execute_result"
    }
   ],
   "source": [
    "tuple('abcde')"
   ]
  },
  {
   "cell_type": "code",
   "execution_count": 148,
   "id": "8574cd55",
   "metadata": {
    "ExecuteTime": {
     "end_time": "2022-12-21T06:51:49.208841Z",
     "start_time": "2022-12-21T06:51:49.199850Z"
    }
   },
   "outputs": [
    {
     "data": {
      "text/plain": [
       "{'a', 'b', 'c', 'd', 'e'}"
      ]
     },
     "execution_count": 148,
     "metadata": {},
     "output_type": "execute_result"
    }
   ],
   "source": [
    "set('abcdeb')"
   ]
  },
  {
   "cell_type": "markdown",
   "id": "b4671a5d",
   "metadata": {
    "slideshow": {
     "slide_type": "skip"
    }
   },
   "source": [
    "# TODO"
   ]
  },
  {
   "cell_type": "code",
   "execution_count": 204,
   "id": "d49597c2",
   "metadata": {
    "ExecuteTime": {
     "end_time": "2022-12-21T08:03:26.520527Z",
     "start_time": "2022-12-21T08:03:26.515034Z"
    },
    "slideshow": {
     "slide_type": "skip"
    }
   },
   "outputs": [
    {
     "name": "stdout",
     "output_type": "stream",
     "text": [
      "90\n",
      "80\n"
     ]
    }
   ],
   "source": [
    "# 문제 1 ~ 7\n",
    "jumsu = [100, 90, 100, 80, 70, 100, 80, 90, 95, 85] \n",
    "# 위 리스트는 학생번호 1번 ~ 10번까지 10명의 시험 점수이다. \n",
    "\n",
    "#(1)  7번의 점수를 출력하세요\n",
    "print(jumsu[7]) #8\n",
    "print(jumsu[7-1])"
   ]
  },
  {
   "cell_type": "code",
   "execution_count": 205,
   "id": "931f7c45",
   "metadata": {
    "ExecuteTime": {
     "end_time": "2022-12-21T08:03:41.846020Z",
     "start_time": "2022-12-21T08:03:41.839204Z"
    },
    "slideshow": {
     "slide_type": "skip"
    }
   },
   "outputs": [
    {
     "name": "stdout",
     "output_type": "stream",
     "text": [
      "[100, 90, 100, 80, 70, 100]\n"
     ]
    }
   ],
   "source": [
    "#(2)  1번부터 5번까지의 점수를 출력하세요.\n",
    "print(jumsu[0:6])"
   ]
  },
  {
   "cell_type": "code",
   "execution_count": 210,
   "id": "5d60c991",
   "metadata": {
    "ExecuteTime": {
     "end_time": "2022-12-21T08:05:13.358584Z",
     "start_time": "2022-12-21T08:05:13.354460Z"
    },
    "slideshow": {
     "slide_type": "skip"
    }
   },
   "outputs": [
    {
     "name": "stdout",
     "output_type": "stream",
     "text": [
      "[80, 70, 100, 80]\n",
      "80 70 100 80\n"
     ]
    }
   ],
   "source": [
    "#(3)  4, 5, 6, 7번의 점수를 출력하세요.\n",
    "print(jumsu[3:7])\n",
    "print(jumsu[3],jumsu[4],jumsu[5],jumsu[6])"
   ]
  },
  {
   "cell_type": "code",
   "execution_count": 156,
   "id": "bc686276",
   "metadata": {
    "ExecuteTime": {
     "end_time": "2022-12-21T06:57:49.601421Z",
     "start_time": "2022-12-21T06:57:49.597099Z"
    },
    "slideshow": {
     "slide_type": "skip"
    }
   },
   "outputs": [
    {
     "name": "stdout",
     "output_type": "stream",
     "text": [
      "[90, 80, 100, 90, 85]\n"
     ]
    }
   ],
   "source": [
    "#(4) 짝수번째 점수를 출력하세요.\n",
    "print(jumsu[1::2])"
   ]
  },
  {
   "cell_type": "code",
   "execution_count": 157,
   "id": "508ac1aa",
   "metadata": {
    "ExecuteTime": {
     "end_time": "2022-12-21T06:58:24.548364Z",
     "start_time": "2022-12-21T06:58:24.536649Z"
    },
    "slideshow": {
     "slide_type": "skip"
    }
   },
   "outputs": [
    {
     "name": "stdout",
     "output_type": "stream",
     "text": [
      "[100, 100, 70, 80, 95]\n"
     ]
    }
   ],
   "source": [
    "#(5) 홀수번째 점수를 출력하세요.\n",
    "print(jumsu[0::2])"
   ]
  },
  {
   "cell_type": "code",
   "execution_count": 212,
   "id": "b45be59e",
   "metadata": {
    "ExecuteTime": {
     "end_time": "2022-12-21T08:08:14.786089Z",
     "start_time": "2022-12-21T08:08:14.780792Z"
    },
    "slideshow": {
     "slide_type": "skip"
    }
   },
   "outputs": [
    {
     "name": "stdout",
     "output_type": "stream",
     "text": [
      "[100, 90, 100, 80, 70, 100, 80, 90, 95, 20]\n"
     ]
    }
   ],
   "source": [
    "#(6) 9번의 점수를 20으로 변경하고 전체 출력하세요.\n",
    "jumsu[9] = 20\n",
    "print(jumsu)\n",
    "jumsu[-2] = 20"
   ]
  },
  {
   "cell_type": "code",
   "execution_count": 213,
   "id": "70ac81ea",
   "metadata": {
    "ExecuteTime": {
     "end_time": "2022-12-21T08:10:13.023982Z",
     "start_time": "2022-12-21T08:10:13.018244Z"
    }
   },
   "outputs": [
    {
     "name": "stdout",
     "output_type": "stream",
     "text": [
      "[100, 90, 100, 80, 70, 100, 80, 90, 20, 20]\n",
      "[100, 90, 100, 80, 70, 100, 80, 90, 20, 20]\n",
      "[100, 90, 100, 80, 70, 100, 80, 60, 20, 20]\n",
      "[100, 90, 100, 80, 70, 100, 80, 60, 20, 20]\n"
     ]
    }
   ],
   "source": [
    "jumsu2 = jumsu\n",
    "print(jumsu)\n",
    "print(jumsu2)\n",
    "jumsu2[7] = 60 #shallow copy\n",
    "print(jumsu)\n",
    "print(jumsu2)"
   ]
  },
  {
   "cell_type": "code",
   "execution_count": 214,
   "id": "bdb4227e",
   "metadata": {
    "ExecuteTime": {
     "end_time": "2022-12-21T08:10:48.904924Z",
     "start_time": "2022-12-21T08:10:48.899601Z"
    }
   },
   "outputs": [
    {
     "name": "stdout",
     "output_type": "stream",
     "text": [
      "10 500\n"
     ]
    }
   ],
   "source": [
    "a = 10\n",
    "b = a\n",
    "b= 500\n",
    "print(a, b) #immutable: 변경안됨>(string, 정수, 실수, 논리, 튜플) mutable: 원본도 같이 변경됨.\n",
    "#변수를 이용해서 다른 변수에 대입한 다음에 다른 변수ㅜ에서 값을 바꿔도 원본은 안바뀐다.\n",
    "#mutable한 값(리스트, 셋, 딕셔너리) \n",
    "#변수를 이용해서 다른 변수에 대입한 다음에 다른 변수에서 값을 바꾸면 원본도 바뀐다."
   ]
  },
  {
   "cell_type": "code",
   "execution_count": 217,
   "id": "32955bc0",
   "metadata": {
    "ExecuteTime": {
     "end_time": "2022-12-21T08:18:27.947220Z",
     "start_time": "2022-12-21T08:18:27.940548Z"
    }
   },
   "outputs": [
    {
     "name": "stdout",
     "output_type": "stream",
     "text": [
      "[100, 90, 100, 80, 70, 100, 80, 60, 20, 20]\n",
      "[100, 90, 100, 80, 70, 100, 80, 60, 20, 20]\n",
      "--------------------------------------------------\n",
      "[100, 90, 100, 80, 70, 100, 80, 60, 20, 20]\n",
      "[0, 90, 100, 80, 70, 100, 80, 60, 20, 20]\n"
     ]
    }
   ],
   "source": [
    "import copy\n",
    "print(jumsu)\n",
    "jumsu2 = copy.deepcopy(jumsu)\n",
    "print(jumsu2)\n",
    "jumsu2[0] = 0\n",
    "print('-'*50)\n",
    "print(jumsu)\n",
    "print(jumsu2)"
   ]
  },
  {
   "cell_type": "code",
   "execution_count": 219,
   "id": "1bcc5bba",
   "metadata": {
    "ExecuteTime": {
     "end_time": "2022-12-21T08:20:58.171713Z",
     "start_time": "2022-12-21T08:20:58.164084Z"
    },
    "slideshow": {
     "slide_type": "skip"
    }
   },
   "outputs": [
    {
     "ename": "SyntaxError",
     "evalue": "invalid syntax (1178433586.py, line 3)",
     "output_type": "error",
     "traceback": [
      "\u001b[0;36m  File \u001b[0;32m\"/var/folders/rk/978ch31x1lq5_fg7bzyhrtbr0000gn/T/ipykernel_13719/1178433586.py\"\u001b[0;36m, line \u001b[0;32m3\u001b[0m\n\u001b[0;31m    print(u_jumsu)\u001b[0m\n\u001b[0m    ^\u001b[0m\n\u001b[0;31mSyntaxError\u001b[0m\u001b[0;31m:\u001b[0m invalid syntax\n"
     ]
    }
   ],
   "source": [
    "#(7) 중복된 점수는 제거하고 하나씩만 나오도록 출력하세요.\n",
    "u_jumsu = list((set(jumsu))\n"
   ]
  },
  {
   "cell_type": "code",
   "execution_count": 222,
   "id": "47e316c7",
   "metadata": {
    "ExecuteTime": {
     "end_time": "2022-12-21T08:21:57.806940Z",
     "start_time": "2022-12-21T08:21:57.800124Z"
    },
    "slideshow": {
     "slide_type": "skip"
    }
   },
   "outputs": [
    {
     "data": {
      "text/plain": [
       "['복숭아', '수박', '딸기', '사과', '귤']"
      ]
     },
     "execution_count": 222,
     "metadata": {},
     "output_type": "execute_result"
    }
   ],
   "source": [
    "# 문제 8 ~ 9\n",
    "fruits = [\"복숭아\", \"수박\", \"딸기\"]\n",
    "\n",
    "#(8) fruits 리스트에 마지막 원소로 \"사과\", \"귤\"을 추가하세요.\n",
    "fruits.extend(['사과','귤'])\n",
    "fruits"
   ]
  },
  {
   "cell_type": "code",
   "execution_count": 243,
   "id": "82523d41",
   "metadata": {
    "ExecuteTime": {
     "end_time": "2022-12-21T08:42:37.894629Z",
     "start_time": "2022-12-21T08:42:37.885042Z"
    },
    "slideshow": {
     "slide_type": "skip"
    }
   },
   "outputs": [
    {
     "ename": "IndexError",
     "evalue": "list assignment index out of range",
     "output_type": "error",
     "traceback": [
      "\u001b[0;31m---------------------------------------------------------------------------\u001b[0m",
      "\u001b[0;31mIndexError\u001b[0m                                Traceback (most recent call last)",
      "\u001b[0;32m/var/folders/rk/978ch31x1lq5_fg7bzyhrtbr0000gn/T/ipykernel_13719/4139196969.py\u001b[0m in \u001b[0;36m<module>\u001b[0;34m\u001b[0m\n\u001b[1;32m      1\u001b[0m \u001b[0;31m#(9) fruits 리스트에서 \"복숭아\"를 제거하세요.\u001b[0m\u001b[0;34m\u001b[0m\u001b[0;34m\u001b[0m\u001b[0m\n\u001b[1;32m      2\u001b[0m \u001b[0;34m\u001b[0m\u001b[0m\n\u001b[0;32m----> 3\u001b[0;31m \u001b[0;32mdel\u001b[0m \u001b[0mfruits\u001b[0m\u001b[0;34m[\u001b[0m\u001b[0;36m0\u001b[0m\u001b[0;34m]\u001b[0m\u001b[0;34m\u001b[0m\u001b[0;34m\u001b[0m\u001b[0m\n\u001b[0m",
      "\u001b[0;31mIndexError\u001b[0m: list assignment index out of range"
     ]
    }
   ],
   "source": [
    "#(9) fruits 리스트에서 \"복숭아\"를 제거하세요.\n",
    "\n",
    "del fruits[0]"
   ]
  },
  {
   "cell_type": "code",
   "execution_count": 231,
   "id": "06d67314",
   "metadata": {
    "ExecuteTime": {
     "end_time": "2022-12-21T08:26:51.249074Z",
     "start_time": "2022-12-21T08:26:51.239211Z"
    }
   },
   "outputs": [
    {
     "ename": "ValueError",
     "evalue": "'복숭아' is not in list",
     "output_type": "error",
     "traceback": [
      "\u001b[0;31m---------------------------------------------------------------------------\u001b[0m",
      "\u001b[0;31mValueError\u001b[0m                                Traceback (most recent call last)",
      "\u001b[0;32m/var/folders/rk/978ch31x1lq5_fg7bzyhrtbr0000gn/T/ipykernel_13719/1141942406.py\u001b[0m in \u001b[0;36m<module>\u001b[0;34m\u001b[0m\n\u001b[0;32m----> 1\u001b[0;31m \u001b[0midx\u001b[0m \u001b[0;34m=\u001b[0m \u001b[0mfruits\u001b[0m\u001b[0;34m.\u001b[0m\u001b[0mindex\u001b[0m\u001b[0;34m(\u001b[0m\u001b[0;34m'복숭아'\u001b[0m\u001b[0;34m)\u001b[0m\u001b[0;34m\u001b[0m\u001b[0;34m\u001b[0m\u001b[0m\n\u001b[0m\u001b[1;32m      2\u001b[0m \u001b[0;32mdel\u001b[0m \u001b[0mfruits\u001b[0m\u001b[0;34m[\u001b[0m\u001b[0midx\u001b[0m\u001b[0;34m]\u001b[0m\u001b[0;34m\u001b[0m\u001b[0;34m\u001b[0m\u001b[0m\n",
      "\u001b[0;31mValueError\u001b[0m: '복숭아' is not in list"
     ]
    }
   ],
   "source": [
    "idx = fruits.index('복숭아')\n",
    "del fruits[idx]"
   ]
  },
  {
   "cell_type": "code",
   "execution_count": 230,
   "id": "2c282457",
   "metadata": {
    "ExecuteTime": {
     "end_time": "2022-12-21T08:26:11.075364Z",
     "start_time": "2022-12-21T08:26:11.065500Z"
    }
   },
   "outputs": [
    {
     "ename": "ValueError",
     "evalue": "list.remove(x): x not in list",
     "output_type": "error",
     "traceback": [
      "\u001b[0;31m---------------------------------------------------------------------------\u001b[0m",
      "\u001b[0;31mValueError\u001b[0m                                Traceback (most recent call last)",
      "\u001b[0;32m/var/folders/rk/978ch31x1lq5_fg7bzyhrtbr0000gn/T/ipykernel_13719/954756110.py\u001b[0m in \u001b[0;36m<module>\u001b[0;34m\u001b[0m\n\u001b[0;32m----> 1\u001b[0;31m \u001b[0mfruits\u001b[0m\u001b[0;34m.\u001b[0m\u001b[0mremove\u001b[0m\u001b[0;34m(\u001b[0m\u001b[0;34m'딸기'\u001b[0m\u001b[0;34m)\u001b[0m\u001b[0;34m\u001b[0m\u001b[0;34m\u001b[0m\u001b[0m\n\u001b[0m",
      "\u001b[0;31mValueError\u001b[0m: list.remove(x): x not in list"
     ]
    }
   ],
   "source": [
    "fruits.remove('딸기')"
   ]
  },
  {
   "cell_type": "code",
   "execution_count": 241,
   "id": "5f64e7b7",
   "metadata": {
    "ExecuteTime": {
     "end_time": "2022-12-21T08:39:29.477969Z",
     "start_time": "2022-12-21T08:39:29.471803Z"
    },
    "slideshow": {
     "slide_type": "skip"
    }
   },
   "outputs": [
    {
     "name": "stdout",
     "output_type": "stream",
     "text": [
      "{'이름': '박세준', '나이': 33, 'email': 'bsjbm914@naver.com', '취미': ['사진', '블로그'], '결혼유무': '미혼'}\n"
     ]
    }
   ],
   "source": [
    "# 문제 10 ~ 15\n",
    "#(10)본인의 이름, 나이, email주소, 취미, 결혼유무를 사전(딕셔너리)으로 생성. \n",
    "# 취미는 2개 이상의 값을 넣는다..\n",
    "d = {'이름':'박세준', '나이':33, 'email':'bsjbm914@naver.com', '취미':['사진','블로그'],'결혼유무':'미혼'}\n",
    "print(d)\n",
    "d2 = dict(이름='박세준', 나이=33, email='bsjbm914@naver.com', 취미=['사진','블로그'], 결혼유무=True)"
   ]
  },
  {
   "cell_type": "code",
   "execution_count": 242,
   "id": "072ef922",
   "metadata": {
    "ExecuteTime": {
     "end_time": "2022-12-21T08:39:53.588022Z",
     "start_time": "2022-12-21T08:39:53.580011Z"
    }
   },
   "outputs": [
    {
     "data": {
      "text/plain": [
       "{'이름': '박세준',\n",
       " '나이': 33,\n",
       " 'email': 'bsjbm914@naver.com',\n",
       " '취미': ['사진', '블로그'],\n",
       " '결혼유무': True}"
      ]
     },
     "execution_count": 242,
     "metadata": {},
     "output_type": "execute_result"
    }
   ],
   "source": [
    "d2"
   ]
  },
  {
   "cell_type": "code",
   "execution_count": 236,
   "id": "f0be8537",
   "metadata": {
    "ExecuteTime": {
     "end_time": "2022-12-21T08:31:21.527880Z",
     "start_time": "2022-12-21T08:31:21.520255Z"
    },
    "slideshow": {
     "slide_type": "skip"
    }
   },
   "outputs": [
    {
     "name": "stdout",
     "output_type": "stream",
     "text": [
      "박세준\n",
      "bsjbm914@naver.com\n"
     ]
    }
   ],
   "source": [
    "#(11) 위 딕셔너리에서 이름과 email주소를 조회해서 출력하세요.\n",
    "print(d['이름'])\n",
    "print(d['email'])"
   ]
  },
  {
   "cell_type": "code",
   "execution_count": 237,
   "id": "cfa480e9",
   "metadata": {
    "ExecuteTime": {
     "end_time": "2022-12-21T08:32:10.928913Z",
     "start_time": "2022-12-21T08:32:10.923456Z"
    },
    "slideshow": {
     "slide_type": "skip"
    }
   },
   "outputs": [
    {
     "name": "stdout",
     "output_type": "stream",
     "text": [
      "블로그\n",
      "{'이름': '박세준', '나이': 33, 'email': 'bsjbm914@naver.com', '취미': ['사진', '블로그'], '결혼유무': '미혼', '몸무게': 75, '키': 183}\n"
     ]
    }
   ],
   "source": [
    "#(12) 위 딕셔너리에서 취미중 두번째 취미를 조회해서 출력하세요.\n",
    "print(d['취미'][1])\n",
    "\n",
    "#(13) 위 딕셔너리에 몸무게와 키 항목을 추가하세요.\n",
    "d['몸무게'] = 75\n",
    "d['키'] = 183\n",
    "print(d)"
   ]
  },
  {
   "cell_type": "code",
   "execution_count": 238,
   "id": "12398809",
   "metadata": {
    "ExecuteTime": {
     "end_time": "2022-12-21T08:33:36.368127Z",
     "start_time": "2022-12-21T08:33:36.357303Z"
    },
    "slideshow": {
     "slide_type": "skip"
    }
   },
   "outputs": [
    {
     "name": "stdout",
     "output_type": "stream",
     "text": [
      "{'이름': '박세준', 'email': 'bsjbm914@naver.com', '취미': ['사진', '블로그'], '결혼유무': '미혼', '몸무게': 75, '키': 183}\n",
      "{'이름': '박세준', 'email': 'avdc@naver.com', '취미': ['사진', '블로그'], '결혼유무': '미혼', '몸무게': 75, '키': 183}\n"
     ]
    }
   ],
   "source": [
    "#(14) 위 딕셔너리에서 나이를 제거하세요.\n",
    "del d['나이']\n",
    "print(d)\n",
    "\n",
    "\n",
    "#(15) 위 딕셔너리에서 email 주소를 다른 값으로 변경하세요.\n",
    "d['email'] = 'avdc@naver.com'\n",
    "print(d)"
   ]
  }
 ],
 "metadata": {
  "kernelspec": {
   "display_name": "Python 3 (ipykernel)",
   "language": "python",
   "name": "python3"
  },
  "language_info": {
   "codemirror_mode": {
    "name": "ipython",
    "version": 3
   },
   "file_extension": ".py",
   "mimetype": "text/x-python",
   "name": "python",
   "nbconvert_exporter": "python",
   "pygments_lexer": "ipython3",
   "version": "3.9.13"
  },
  "toc": {
   "base_numbering": 1,
   "nav_menu": {},
   "number_sections": true,
   "sideBar": true,
   "skip_h1_title": false,
   "title_cell": "Table of Contents",
   "title_sidebar": "Contents",
   "toc_cell": false,
   "toc_position": {},
   "toc_section_display": true,
   "toc_window_display": false
  },
  "varInspector": {
   "cols": {
    "lenName": 16,
    "lenType": 16,
    "lenVar": 40
   },
   "kernels_config": {
    "python": {
     "delete_cmd_postfix": "",
     "delete_cmd_prefix": "del ",
     "library": "var_list.py",
     "varRefreshCmd": "print(var_dic_list())"
    },
    "r": {
     "delete_cmd_postfix": ") ",
     "delete_cmd_prefix": "rm(",
     "library": "var_list.r",
     "varRefreshCmd": "cat(var_dic_list()) "
    }
   },
   "types_to_exclude": [
    "module",
    "function",
    "builtin_function_or_method",
    "instance",
    "_Feature"
   ],
   "window_display": false
  }
 },
 "nbformat": 4,
 "nbformat_minor": 5
}
